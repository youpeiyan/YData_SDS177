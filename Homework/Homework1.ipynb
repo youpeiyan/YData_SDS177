{
 "cells": [
  {
   "cell_type": "markdown",
   "metadata": {},
   "source": [
    "# Homework Project 1: COVID-19 Trend\n",
    "\n",
    "Each of our homework project covers three lecture materials.\n",
    "\n",
    "Every homework project will contain 3 major questions and multiple minor questions. Please read through carefully and fill the cells.\n",
    "\n",
    "Don't share your code with anybody. You are welcome to discuss questions with other students, but don't share the answers. You are also very welcome to come to my office hours or post questions on Piazza (but not full answers) to discuss.\n",
    "\n",
    "Please complete this notebook by yourself. Always remember to save the file locally. Once you are finished, submit your assignment as a .ipynb (Jupyter Notebook) and .pdf (download as .html, then print to save as a .pdf) and email them to me.\n",
    "\n",
    "When you complete the questions, please use intermediate variables and multiple lines as much as you would like. Please do not confuse yourself by using repeated names. \n",
    "\n",
    "**Deadline.** This project is due at 11:59pm on Feb 25 (Thursday). Projects will be accepted up to 3 days late; a project submitted on Friday (less than 24 hours after the deadline) will receive 70% of the credit, a project submitted during the weekend after the deadline will receive 40% of the credit."
   ]
  },
  {
   "cell_type": "markdown",
   "metadata": {},
   "source": [
    "**Your first and last name:**  ..."
   ]
  },
  {
   "cell_type": "markdown",
   "metadata": {},
   "source": [
    "## (50 PT) Question 1. Trip counts to places \n",
    "\n",
    "**(5 PT)Q1.1.1** Let's first import the dataset: number of visits in a county (poi_vpc.csv) in a dataframe."
   ]
  },
  {
   "cell_type": "code",
   "execution_count": 1,
   "metadata": {},
   "outputs": [],
   "source": [
    "import sys\n",
    "\n",
    "if not sys.warnoptions:\n",
    "    import warnings\n",
    "    warnings.simplefilter(\"ignore\")\n",
    "    \n",
    "import numpy as np\n",
    "import pandas as pd\n",
    "%matplotlib inline\n",
    "import matplotlib.pyplot as plt \n",
    "\n",
    "poidata = ...\n",
    "poidata"
   ]
  },
  {
   "cell_type": "markdown",
   "metadata": {},
   "source": [
    "### 1.1 Data Cleaning\n",
    "\n",
    "**(5 PT)Q1.1.2** with `geoid` changed to a 5-digit string with a name `fips`. If `geoid` is 4 digits, use 0 to fill at front. Also change `date` from string to date. Create a `state` variable that equals to the first two digits of `geoid`."
   ]
  },
  {
   "cell_type": "code",
   "execution_count": null,
   "metadata": {},
   "outputs": [],
   "source": [
    "## Add a state variable\n",
    "poidata['state'] = ...\n",
    "\n",
    "## Change to fips\n",
    "poidata['fips'] = ...\n",
    "\n",
    "## Change date format\n",
    "poidata.date = ...\n",
    "poidata"
   ]
  },
  {
   "cell_type": "markdown",
   "metadata": {},
   "source": [
    "**(5 PT)Q1.1.3** Get a new dataset named `poi5`. In `poi5`, select the columns of poidata with `date`, `fips`,`state`, `dvc4451`, `dvc4461`, `dvc4471`, `dvc4522`, and `dvc7121`, and rename each dvc variable based on the following codebook. \n",
    "\n",
    "\n",
    "| NAICS | Industry    |\n",
    "|------ |-------------|\n",
    "| 4451 | grocery |\n",
    "| 4461 | healthcare  |\n",
    "| 4471 | gasoline   |\n",
    "| 4522 | department |\n",
    "| 7121 | museums |\n",
    "\n",
    "Hint: use `data[[\"var1\",\"var2\",...]]` to select columns."
   ]
  },
  {
   "cell_type": "code",
   "execution_count": 3,
   "metadata": {},
   "outputs": [],
   "source": [
    "## Get the new dataset\n",
    "poi5 = ..."
   ]
  },
  {
   "cell_type": "code",
   "execution_count": 4,
   "metadata": {},
   "outputs": [],
   "source": [
    "## Rename variables\n",
    "poi5 =...\n",
    "\n",
    "poi5"
   ]
  },
  {
   "cell_type": "markdown",
   "metadata": {},
   "source": [
    "### 1.2 Sorting and Grouping\n",
    "\n",
    "**(5 PT)Q1.2.1** Find the first 5 states that have the highest trips to grocery stores per device count during the whole study period? Also find the first 10 dates that have the highest trips per device count over the whole country. \n",
    "\n",
    "Hint: first grouping data, then sort with `ascending = False`."
   ]
  },
  {
   "cell_type": "code",
   "execution_count": 2,
   "metadata": {
    "scrolled": true
   },
   "outputs": [],
   "source": [
    "## Find the top 5 states\n",
    "\n",
    "## Find the top 10 dates\n"
   ]
  },
  {
   "cell_type": "markdown",
   "metadata": {},
   "source": [
    "**(5 PT)Q1.2.2** Based on the pandemic background that we covered in class. Name 3 possible reasonable explanations that we may observe these 5 states and these 10 dates, respectively. "
   ]
  },
  {
   "cell_type": "code",
   "execution_count": 3,
   "metadata": {},
   "outputs": [],
   "source": [
    "## Type your answer here:\n"
   ]
  },
  {
   "cell_type": "markdown",
   "metadata": {},
   "source": [
    "**(5 PT)Q1.2.3** We have 4 more trip columns (healthcare, gasoline, department store, and museums) in `poi5`. Use one single line to find the correlation across those trips."
   ]
  },
  {
   "cell_type": "code",
   "execution_count": 4,
   "metadata": {},
   "outputs": [],
   "source": [
    "## Type it here:\n"
   ]
  },
  {
   "cell_type": "markdown",
   "metadata": {},
   "source": [
    "**(5 PT)Q1.2.4** You should find a negative correlation between visits to gasoline stataion with health & care stores, and with department stores. Why do you think that this may happen?"
   ]
  },
  {
   "cell_type": "code",
   "execution_count": 5,
   "metadata": {},
   "outputs": [],
   "source": [
    "## Type your answer here\n"
   ]
  },
  {
   "cell_type": "markdown",
   "metadata": {},
   "source": [
    "### 1.3 Plotting Trips\n",
    "\n",
    "We have used line, bar, histogram, and other plotting techniques in class. Each of them has a different focus. Now let's try to explore the data more by visualizing it.\n",
    "\n",
    "**(5 PT)Q1.3.1** Compare the histogram with aggregated data and the raw data. We've seen that histrogram is a diagram consisting of rectangles whose area is proportional to the frequency of a variable and whose width is equal to the class interval. Make two plots of trips to museums, one using `poi5` directly, the other one using a daily average (group by date). What are the difference between the two diagrams?"
   ]
  },
  {
   "cell_type": "code",
   "execution_count": 6,
   "metadata": {},
   "outputs": [],
   "source": [
    "## Plot 1\n"
   ]
  },
  {
   "cell_type": "code",
   "execution_count": 7,
   "metadata": {},
   "outputs": [],
   "source": [
    "## Plot 2\n",
    "## Group the data \n",
    "\n",
    "## Make the plot"
   ]
  },
  {
   "cell_type": "code",
   "execution_count": 8,
   "metadata": {},
   "outputs": [],
   "source": [
    "## What differences do you find?\n"
   ]
  },
  {
   "cell_type": "markdown",
   "metadata": {},
   "source": [
    "**(5 PT)Q1.3.2** Use the horizontal bar plot to find the state aggregated trips per device count to department stores. Sort the state so the longest bar shows first and the shortest bar shows at the bottom."
   ]
  },
  {
   "cell_type": "code",
   "execution_count": 9,
   "metadata": {},
   "outputs": [],
   "source": [
    "## Type your answer here:\n"
   ]
  },
  {
   "cell_type": "markdown",
   "metadata": {},
   "source": [
    "**(5 PT)Q1.3.3** Select the state that shows first and construct a new dataset named poi_XX, where XX is this state's name. Find this state's daily average trips per device count, and make a line plot with x-axis as `date`."
   ]
  },
  {
   "cell_type": "code",
   "execution_count": null,
   "metadata": {},
   "outputs": [],
   "source": [
    "## Select the state and create a new dataset\n",
    "\n",
    "poi_XX = ..."
   ]
  },
  {
   "cell_type": "code",
   "execution_count": null,
   "metadata": {},
   "outputs": [],
   "source": [
    "## Make the plot\n",
    "\n"
   ]
  },
  {
   "cell_type": "markdown",
   "metadata": {},
   "source": [
    "**(5 PT)Q1.3.4** Construct the boxplot of visits to gasoline station by state. Pick one state to explain the range of IQR and why it has/doesn't have outliers. "
   ]
  },
  {
   "cell_type": "code",
   "execution_count": null,
   "metadata": {},
   "outputs": [],
   "source": [
    "## boxplot\n"
   ]
  },
  {
   "cell_type": "code",
   "execution_count": null,
   "metadata": {},
   "outputs": [],
   "source": [
    "## Type your finding here.\n"
   ]
  },
  {
   "cell_type": "markdown",
   "metadata": {},
   "source": [
    "## (35 PT) Question 2. Seek explanation of trips from other datasets"
   ]
  },
  {
   "cell_type": "markdown",
   "metadata": {},
   "source": [
    "For question 1.2.1 above, the first and the second states should be Iowa and Delaware (If you got a different results, please re-check your code; If you didn't figure that question out, please use these two names as given.) \n",
    "\n",
    "In this question, we would like to know more about the reasons that may cause high trips to grocery stores for those two states. \n",
    "\n",
    "We've seen case and death reports data, home dwelling time data, and weather data. Let's import those csv files here to try to draw some reasonable conclusion.\n",
    "\n",
    "### 2.1 COVID-19 case reports \n",
    "\n",
    "**(5 PT) Q2.1.1** Plot the curve of Iowa's daily aggregate log(cases + 1) and log(death + 1), with date as the x-axis. Plot a second graph to show Delaware's."
   ]
  },
  {
   "cell_type": "code",
   "execution_count": null,
   "metadata": {},
   "outputs": [],
   "source": [
    "nytpd = pd.read_csv('YData_SDS177/nyt_cases_no_name.csv')\n",
    "\n",
    "nytpd.date = ...\n",
    "\n",
    "\n",
    "\n",
    "\n",
    "\n",
    "\n",
    "## Plot 1\n",
    "## Generate a state ID using geoid \n",
    "nytpd_IA = ...\n",
    "\n",
    "## Select State that equals to 19 (Iowa)\n",
    "\n",
    "## Group case and death reports by date (convert date from string to date if you haven't done so.)\n",
    "nytpd_avgIA = ...\n",
    "\n",
    "nytpd_avgIA['logcase'] = ...\n",
    "nytpd_avgIA['logdeath'] = ...\n",
    "\n",
    "## Plot\n",
    "\n"
   ]
  },
  {
   "cell_type": "code",
   "execution_count": 10,
   "metadata": {},
   "outputs": [],
   "source": [
    "## Plot 2\n",
    "## Generate a state ID using geoid \n",
    "\n",
    "## Select State that equals to 10 (Delaware)\n",
    "\n",
    "## Group case and death reports by date (convert date from string to date if you haven't done so.)\n",
    "\n",
    "## Plot"
   ]
  },
  {
   "cell_type": "markdown",
   "metadata": {},
   "source": [
    "**(5 PT)Q2.1.2** Generate the new state cases using diff() for the above two states. Plot the figures with the new cases by date."
   ]
  },
  {
   "cell_type": "code",
   "execution_count": null,
   "metadata": {},
   "outputs": [],
   "source": [
    "## Type your answer here\n",
    "\n",
    "nytpd_avgDE = ...\n",
    "nytpd_avgDE['newcase'] = ...\n",
    "\n",
    "## Plot\n",
    "\n"
   ]
  },
  {
   "cell_type": "markdown",
   "metadata": {},
   "source": [
    "### 2.2 Weather impacts and Home Dwelling Time in minutes\n",
    "\n",
    "**(5 PT)Q2.2.1** Import the weather data and extract the precipitation and temperature data for Iowa. Plot the trends of it."
   ]
  },
  {
   "cell_type": "code",
   "execution_count": null,
   "metadata": {},
   "outputs": [],
   "source": [
    "## Type your answer here\n",
    "\n",
    "## Plot 1\n",
    "## Generate a state ID using geoid \n",
    "\n",
    "## Select State that equals to 10\n",
    "\n",
    "## Group precipitation and temperature reports by date (convert date from string to date if you haven't done so.)\n",
    "\n",
    "## Plot\n",
    "\n"
   ]
  },
  {
   "cell_type": "markdown",
   "metadata": {},
   "source": [
    "**(5 PT)Q2.2.2** Re-visit the home dwelling time information. Again, let's find the daily average for Iowa, and plot the trend by date. Use the above date trend information to explain what might be factors to influence Delaware's average home dwelling time. What of those factors may also be used to explain visits to grocery stores?"
   ]
  },
  {
   "cell_type": "code",
   "execution_count": null,
   "metadata": {},
   "outputs": [],
   "source": [
    "## Plot 1\n",
    "## Generate a state ID using geoid \n",
    "\n",
    "## Select State that equals to 10\n",
    "\n",
    "## Group precipitation and temperature reports by date (convert date from string to date if you haven't done so.)\n",
    "\n",
    "## Plot\n",
    "\n",
    "\n",
    "## Type your explanation here:\n"
   ]
  },
  {
   "cell_type": "markdown",
   "metadata": {},
   "source": [
    "### 2.3 Group value comparison before and after a policy"
   ]
  },
  {
   "cell_type": "markdown",
   "metadata": {},
   "source": [
    "In our dataset folder, there is a csv file named **state_char.csv**. It contains some state-level characteristics, and more importantly, it shows the start of some COVID-19 policy dates for each state.\n",
    "\n",
    "Find the stay-at-home order date(s) for Iowa and Delaware, the two states we explored above. It seems that Delaware had the lockdown on 3/24/20, but Iowa doesn't have such an order. Let's compare the average home-dwelling time for the two states before and after 3/24/20 now. "
   ]
  },
  {
   "cell_type": "markdown",
   "metadata": {},
   "source": [
    "**(5 PT)Q2.3.1** Find the following four values:\n",
    "1. mean home dwelling time in Delaware before 3/24/20.\n",
    "2. mean home dwelling time in Delaware on and after 3/24/20.\n",
    "3. mean home dwelling time in Iowa before 3/24/20.\n",
    "4. mean home dwelling time in Iowa on and after 3/24/20."
   ]
  },
  {
   "cell_type": "code",
   "execution_count": null,
   "metadata": {},
   "outputs": [],
   "source": [
    "## Type your answer here:\n"
   ]
  },
  {
   "cell_type": "markdown",
   "metadata": {},
   "source": [
    "**(5 PT)Q2.3.2** In econometrics, we sometimes compare groups using a technique called the differences-in-differences (DID). It is assuming that when everything else is the same, then the difference for a treatment group before and after the treatment date, and the difference for a control group before and after the treatment date, can show us the effect of the treatment (by taking the difference of the two differences). \n",
    "\n",
    "|time|Treatment group|Control group|\n",
    "|---|---|---|\n",
    "|before treatment|Y1|Y2|\n",
    "|after treatment|Y3|Y4|\n",
    "\n",
    "and DID = (Y3-Y1)-(Y4-Y2)\n",
    "\n",
    "If we assume Delaware and Iowa have similar state characteristics, what is the effect of the stay-at-home treatment to Delaware? "
   ]
  },
  {
   "cell_type": "code",
   "execution_count": null,
   "metadata": {},
   "outputs": [],
   "source": [
    "## Type your answer here. (If you find this question confusing, try to draw the above table with 3/24/20, Delaware, and Iowa)\n",
    "## Then use the results you found in Q2.3.1 to complete the table.\n",
    "\n"
   ]
  },
  {
   "cell_type": "markdown",
   "metadata": {},
   "source": [
    "**(5 PT)Q2.3.3** List at least 3 reasonable causes that suggest the above \"treatment effect\" is likely to be biased. Please explain each of the causes, which direction might it bias the treatment effect. "
   ]
  },
  {
   "cell_type": "code",
   "execution_count": null,
   "metadata": {},
   "outputs": [],
   "source": [
    "## Type your answer here.\n"
   ]
  },
  {
   "cell_type": "markdown",
   "metadata": {},
   "source": [
    "## (15 PT) Question 3. Practice of the S-I-R Model"
   ]
  },
  {
   "cell_type": "markdown",
   "metadata": {},
   "source": [
    "**(10 PT) Q3.1** Use the NYT dataset online (https://raw.githubusercontent.com/nytimes/covid-19-data/master/us-counties.csv). The dataset contains the county case and death information when the first case is reported in the county. \n",
    "\n",
    "Pick your favorite state for this question. \n",
    "\n",
    "You can find the state population from the **state_char.csv** dataset. You can assume that people are not moving across the state and will not be affected by people outside the state (note that this should not be a valid assumption in reality, we only use this assumption for the simple SIR model practice). \n",
    "\n",
    "You can assume that it usually takes 14 days for people to recover. Define your own effective contact rate. You can set the rate as a constant number based on the state you select, please make the argument why you think this constant number is reasonable, and please list the flaw of using this constant number. \n",
    "\n",
    "Use the differential equations in the SIR model to plot the curves of S, I, and R."
   ]
  },
  {
   "cell_type": "code",
   "execution_count": null,
   "metadata": {},
   "outputs": [],
   "source": [
    "# Type your answer here. \n",
    "\n",
    "# What state did you select for this question? \n",
    "\n",
    "# Initial states\n",
    "\n",
    "# effective contact rate\n",
    "\n",
    "# recovery rate\n",
    "\n",
    "# ODEINT model solution\n",
    "\n",
    "# Plot"
   ]
  },
  {
   "cell_type": "markdown",
   "metadata": {},
   "source": [
    "**(5 PT) Q3.2** For the state you select, check when the stay-at-home or shelter-in-place order was issued. Assume that the effective contact rate dropped by 50% after the order was issued. (Note, you can define a function to get the return of different effective contact rate that is varied by t). \n",
    "\n",
    "If the state you select does not issue this order, then plot what would happen if the order is issued after 10 days of the first reported case. \n",
    "\n",
    "If the state you select issued the order before the first reported case, then plot what would happen if the order is cancelled after 10 days of the first reported case. \n",
    "\n",
    "We follow all the above assumptions in Q3.1.\n",
    "\n",
    "Re-plot the S, I, R curves."
   ]
  },
  {
   "cell_type": "code",
   "execution_count": null,
   "metadata": {},
   "outputs": [],
   "source": [
    "# When is the stay-at-home date for this state?  \n",
    "\n",
    "# Define the function of the new effective contact rate.\n",
    "\n",
    "# Initial states\n",
    "\n",
    "# recovery rate\n",
    "\n",
    "# ODEINT model solution\n",
    "\n",
    "# Plot\n"
   ]
  },
  {
   "cell_type": "markdown",
   "metadata": {},
   "source": [
    "**Congrats! You've done the first homework assignment.** We have a total of 19 questions in this assignment, please go through it again to make sure that you have answered all of them. Then remember to save your solution in .ipynb (Jupyter Notebook) and .pdf (download as .html, then print to save as a .pdf) and email them to me before the due day. "
   ]
  }
 ],
 "metadata": {
  "kernelspec": {
   "display_name": "Python 3",
   "language": "python",
   "name": "python3"
  },
  "language_info": {
   "codemirror_mode": {
    "name": "ipython",
    "version": 3
   },
   "file_extension": ".py",
   "mimetype": "text/x-python",
   "name": "python",
   "nbconvert_exporter": "python",
   "pygments_lexer": "ipython3",
   "version": "3.8.3"
  }
 },
 "nbformat": 4,
 "nbformat_minor": 4
}
