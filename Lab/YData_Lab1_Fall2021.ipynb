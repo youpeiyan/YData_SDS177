{
 "cells": [
  {
   "cell_type": "markdown",
   "metadata": {},
   "source": [
    "# Behavioral Lab 1: Getting started with Python and Jupyter Notebook\n",
    "\n",
    "**Welcome to S&DS 177/577 -- YData: Covid-19 Behavioral Impacts** \n",
    "\n",
    "Most class meeting times will include a lecture portion and a lab portion. This is an example of a lab for behavioral analysis using public data. The purpose of the labs is to give you hands-on experience using the skills from the main YData course (S&DS 123/523) while working within a particular domain. For this course, the focus is on analyzing possible behavioral impacts under the current pandemic, COVID-19!\n",
    "\n",
    "Before we get started, there are some details for the class:\n",
    "\n",
    "* I highly recommend to go through the [Practice 01 questions](http://ydata123.org/sp19/calendar.html) on the main YData website first, which explains Jupyter Notebook's setup. \n",
    "* This lab covers parts of [Chapter 3](http://www.inferentialthinking.com/chapters/03/programming-in-python.html) of the online textbook. If you are not familiar with any expression below, this can be a good reference!\n",
    "* I encourage group collaboration on the course labs. If you get stuck for a while on a question, feel free to ask your classmates (or email me for help if needed). Please do take some time to think by yourself first and do not just share answers to each other though. "
   ]
  },
  {
   "cell_type": "markdown",
   "metadata": {},
   "source": [
    "In today's exercise, we will go through the ways to:\n",
    "\n",
    "* Navigate Jupyter Notebook\n",
    "* Write basic expressions in Python\n",
    "* Import and manipulate tables"
   ]
  },
  {
   "cell_type": "markdown",
   "metadata": {},
   "source": [
    "# 1. Jupyter Notebook\n",
    "\n",
    "This portion is copied from the [Practice 01 questions](http://ydata123.org/sp19/calendar.html). If you have gone through the basic concepts there, you can skip this secion. If different platforms ever confuse you, just remember that *GitHub* allows us to share code, but the contents are static, we usually share code in `.ipynb` that was the Python code coded in *Jupyter Notebook*, and *Binder* allows us to try and run each cell in an interactive way.\n",
    "\n",
    "When you type in Jupyter Notebook for future homework assignments or exams, select *Markdown* on the Code Box to type words like this cell (the shortcut is 'm' when the cell is highlighted), select *Code* to type computer code.\n",
    "\n",
    "........................................................................................................................................................................\n",
    "\n",
    "This webpage is called a Jupyter notebook. A notebook is a place to write programs and view their results. \n",
    "\n",
    "## 1.1. Text cells\n",
    "In a notebook, each rectangle containing text or code is called a *cell*.\n",
    "\n",
    "Text cells (like this one) can be edited by double-clicking on them. They're written in a simple format called [Markdown](http://daringfireball.net/projects/markdown/syntax) to add formatting and section headings. They help us understand the code or format the lecture better.\n",
    "\n",
    "After you edit a text cell, click the \"run cell\" button at the top that looks like ▶| to confirm any changes. (Try not to delete the instructions of the lab.)\n",
    "\n",
    "**Question 1.1.1.** This paragraph is in its own text cell.  Try editing it so that this sentence is the last sentence in the paragraph, and then click the \"run cell\" ▶| button .  This sentence, for example, should be deleted.  So should this one.\n",
    "\n",
    "## 1.2. Code cells\n",
    "Other cells contain code in the Python 3 language. Running a code cell will execute all of the code it contains.\n",
    "\n",
    "To run the code in a code cell, first click on that cell to activate it.  It'll be highlighted with a little green or blue rectangle.  Next, either press ▶| or hold down the `shift` key and press `return` or `enter`.\n",
    "\n",
    "Try running this cell:"
   ]
  },
  {
   "cell_type": "code",
   "execution_count": 1,
   "metadata": {},
   "outputs": [
    {
     "name": "stdout",
     "output_type": "stream",
     "text": [
      "Hello, World!\n"
     ]
    }
   ],
   "source": [
    "print(\"Hello, World!\")"
   ]
  },
  {
   "cell_type": "markdown",
   "metadata": {},
   "source": [
    "And this one:"
   ]
  },
  {
   "cell_type": "code",
   "execution_count": 2,
   "metadata": {},
   "outputs": [
    {
     "name": "stdout",
     "output_type": "stream",
     "text": [
      "👋, 🌏!\n"
     ]
    }
   ],
   "source": [
    "print(\"\\N{WAVING HAND SIGN}, \\N{EARTH GLOBE ASIA-AUSTRALIA}!\")"
   ]
  },
  {
   "cell_type": "markdown",
   "metadata": {},
   "source": [
    "Interested in the EMOJI names? [Here](https://www.fileformat.info/info/unicode/char/a.htm) is a link to find some."
   ]
  },
  {
   "cell_type": "code",
   "execution_count": 3,
   "metadata": {},
   "outputs": [
    {
     "name": "stdout",
     "output_type": "stream",
     "text": [
      "🌙\n"
     ]
    }
   ],
   "source": [
    "print(\"\\N{CRESCENT MOON}\")"
   ]
  },
  {
   "cell_type": "markdown",
   "metadata": {},
   "source": [
    "The fundamental building block of Python code is an expression. Cells can contain multiple lines with multiple expressions. When you run a cell, the lines of code are executed in the order in which they appear. Every `print` expression prints a line. Run the next cell and notice the order of the output."
   ]
  },
  {
   "cell_type": "code",
   "execution_count": 4,
   "metadata": {},
   "outputs": [
    {
     "name": "stdout",
     "output_type": "stream",
     "text": [
      "First this line is printed,\n",
      "and then this one.\n"
     ]
    }
   ],
   "source": [
    "print(\"First this line is printed,\")\n",
    "print(\"and then this one.\")"
   ]
  },
  {
   "cell_type": "markdown",
   "metadata": {},
   "source": [
    "**Question 1.2.1.** Change the cell above so that it prints out:\n",
    "\n",
    "    First this line,\n",
    "    then the whole 🌏,\n",
    "    and then this one.\n",
    "\n",
    "*Hint:* If you're stuck on the Earth symbol for more than a few minutes, try talking to a neighbor or a TF.  That's a good idea for any exercise."
   ]
  },
  {
   "cell_type": "code",
   "execution_count": 5,
   "metadata": {},
   "outputs": [],
   "source": [
    "# Type your answer here\n",
    "\n"
   ]
  },
  {
   "cell_type": "markdown",
   "metadata": {},
   "source": [
    "## 1.3. Writing Jupyter notebooks\n",
    "You can use Jupyter notebooks for your own projects or documents.  When you make your own notebook, you'll need to create your own cells for text and code.\n",
    "\n",
    "To add a cell, click the + button in the menu bar.  It'll start out as a text cell.  You can change it to a code cell by clicking inside it so it's highlighted, clicking the drop-down box next to the restart (⟳) button in the menu bar, and choosing \"Code\".\n",
    "\n",
    "**Question 1.3.1.** Add a code cell below this one.  Write code in it that prints out:\n",
    "   \n",
    "    A whole new cell! ♪🌏♪\n",
    "\n",
    "(That musical note symbol is like the Earth symbol.  Its long-form name is `\\N{EIGHTH NOTE}`.)\n",
    "\n",
    "Run your cell to verify that it works."
   ]
  },
  {
   "cell_type": "markdown",
   "metadata": {},
   "source": [
    "## 1.4. Errors\n",
    "Python is a language, and like natural human languages, it has rules.  It differs from natural language in two important ways:\n",
    "1. The rules are *simple*.  You can learn most of them in a few weeks and gain reasonable proficiency with the language in a semester.\n",
    "2. The rules are *rigid*.  If you're proficient in a natural language, you can understand a non-proficient speaker, glossing over small mistakes.  A computer running Python code is not smart enough to do that.\n",
    "\n",
    "Whenever you write code, you'll make mistakes.  When you run a code cell that has errors, Python will sometimes produce error messages to tell you what you did wrong.\n",
    "\n",
    "Errors are okay; even experienced programmers make many errors.  When you make an error, you just have to find the source of the problem, fix it, and move on.\n",
    "\n",
    "We have made an error in the next cell.  Run it and see what happens."
   ]
  },
  {
   "cell_type": "code",
   "execution_count": 6,
   "metadata": {},
   "outputs": [
    {
     "ename": "SyntaxError",
     "evalue": "unexpected EOF while parsing (<ipython-input-6-c7b7223ecd08>, line 1)",
     "output_type": "error",
     "traceback": [
      "\u001b[0;36m  File \u001b[0;32m\"<ipython-input-6-c7b7223ecd08>\"\u001b[0;36m, line \u001b[0;32m1\u001b[0m\n\u001b[0;31m    print(\"This line is missing something.\"\u001b[0m\n\u001b[0m                                           ^\u001b[0m\n\u001b[0;31mSyntaxError\u001b[0m\u001b[0;31m:\u001b[0m unexpected EOF while parsing\n"
     ]
    }
   ],
   "source": [
    "print(\"This line is missing something.\""
   ]
  },
  {
   "cell_type": "markdown",
   "metadata": {},
   "source": [
    "You should see something like this (minus our annotations):\n",
    "\n",
    "<img src=\"error.jpg\"/>\n",
    "\n",
    "The last line of the error output attempts to tell you what went wrong.  The *syntax* of a language is its structure, and this `SyntaxError` tells you that you have created an illegal structure.  \"`EOF`\" means \"end of file,\" so the message is saying Python expected you to write something more (in this case, a right parenthesis) before finishing the cell.\n",
    "\n",
    "There's a lot of terminology in programming languages, but you don't need to know it all in order to program effectively. If you see a cryptic message like this, you can often get by without deciphering it.  (Of course, if you're frustrated, ask a neighbor or a TA for help.)\n",
    "\n",
    "Try to fix the code above so that you can run the cell and see the intended message instead of an error."
   ]
  },
  {
   "cell_type": "markdown",
   "metadata": {},
   "source": [
    "## 1.5. The Kernel\n",
    "The kernel is a program that executes the code inside your notebook and outputs the results. In the top right of your window, you can see a circle that indicates the status of your kernel. If the circle is empty (⚪), the kernel is idle and ready to execute code. If the circle is filled in (⚫), the kernel is busy running some code. \n",
    "\n",
    "You may run into problems where your kernel is stuck for an excessive amount of time, your notebook is very slow and unresponsive, or your kernel loses its connection. If this happens, try the following steps:\n",
    "1. At the top of your screen, click **Kernel**, then **Interrupt**.\n",
    "2. If that doesn't help, click **Kernel**, then **Restart**. If you do this, you will have to run your code cells from the start of your notebook up until where you paused your work.\n",
    "3. If that doesn't help, restart your server. First, save your work by clicking **File** at the top left of your screen, then **Save and Checkpoint**. Next, click **Control Panel** at the top right. Choose **Stop My Server** to shut it down, then **My Server** to start it back up. Then, navigate back to the notebook you were working on.\n",
    "\n",
    "# 2. Import a Local Dataset: \n",
    "\n",
    "Now, we are getting familiar with Jupyter Notebook. Remember that it provides a platform to do complicated data analysis. And the first thing we want to know is the ways to import dataset for any analysis. \n",
    "\n",
    "In the main YData class, you will learn a lot more about the `Table object`. This object is part of the `datascience` package which was created by the creators of the Berkeley Data 8 class, which our YData classes is based. We will extensively use this Table objects for our baseball analyses so you will become very familiar with how to manipulate tables. For today, let's start with some of the basic functionality including loading tables and selecting rows and columns from tables. \n",
    "\n",
    "## 2.1 Loading data tables\n",
    "\n",
    "Remember to download the course datasets from the [Google Drive link](https://drive.google.com/drive/folders/1SLPLMpgdzcn79iMBOYhh9CmOZaw7odpE). **Again, \n",
    "please do not share the datasets with others outside this class unless you contact me and receive my permission.**  \n",
    "\n",
    "After downloading the dataset, put them in a folder (I put one named \"YData_SDS177\", as you can see below) under your course path.\n",
    "\n",
    "The cell below imports the functions related to tables and to loads the data into a table."
   ]
  },
  {
   "cell_type": "code",
   "execution_count": 8,
   "metadata": {},
   "outputs": [],
   "source": [
    "import pandas as pd\n",
    "\n",
    "# After weather.csv is already saved locally.\n",
    "dataset1 = pd.read_csv('YData_SDS177/weather.csv')"
   ]
  },
  {
   "cell_type": "code",
   "execution_count": 9,
   "metadata": {},
   "outputs": [
    {
     "data": {
      "text/html": [
       "<div>\n",
       "<style scoped>\n",
       "    .dataframe tbody tr th:only-of-type {\n",
       "        vertical-align: middle;\n",
       "    }\n",
       "\n",
       "    .dataframe tbody tr th {\n",
       "        vertical-align: top;\n",
       "    }\n",
       "\n",
       "    .dataframe thead th {\n",
       "        text-align: right;\n",
       "    }\n",
       "</style>\n",
       "<table border=\"1\" class=\"dataframe\">\n",
       "  <thead>\n",
       "    <tr style=\"text-align: right;\">\n",
       "      <th></th>\n",
       "      <th>geoid</th>\n",
       "      <th>date</th>\n",
       "      <th>precip</th>\n",
       "      <th>rmax</th>\n",
       "      <th>rmin</th>\n",
       "      <th>srad</th>\n",
       "      <th>tmin</th>\n",
       "      <th>tmax</th>\n",
       "      <th>wind_speed</th>\n",
       "    </tr>\n",
       "  </thead>\n",
       "  <tbody>\n",
       "    <tr>\n",
       "      <th>0</th>\n",
       "      <td>1001</td>\n",
       "      <td>01jan2020</td>\n",
       "      <td>1.533333</td>\n",
       "      <td>33.282757</td>\n",
       "      <td>21.980459</td>\n",
       "      <td>125.570110</td>\n",
       "      <td>56.439655</td>\n",
       "      <td>69.550690</td>\n",
       "      <td>4.846695</td>\n",
       "    </tr>\n",
       "    <tr>\n",
       "      <th>1</th>\n",
       "      <td>1001</td>\n",
       "      <td>02jan2020</td>\n",
       "      <td>3.728736</td>\n",
       "      <td>79.139084</td>\n",
       "      <td>64.109192</td>\n",
       "      <td>41.706898</td>\n",
       "      <td>54.343792</td>\n",
       "      <td>63.124481</td>\n",
       "      <td>14.712356</td>\n",
       "    </tr>\n",
       "    <tr>\n",
       "      <th>2</th>\n",
       "      <td>1001</td>\n",
       "      <td>03jan2020</td>\n",
       "      <td>46.093105</td>\n",
       "      <td>90.395401</td>\n",
       "      <td>65.051727</td>\n",
       "      <td>36.435631</td>\n",
       "      <td>54.256897</td>\n",
       "      <td>66.335518</td>\n",
       "      <td>7.821563</td>\n",
       "    </tr>\n",
       "    <tr>\n",
       "      <th>3</th>\n",
       "      <td>1001</td>\n",
       "      <td>04jan2020</td>\n",
       "      <td>0.477011</td>\n",
       "      <td>82.219543</td>\n",
       "      <td>40.403450</td>\n",
       "      <td>106.547130</td>\n",
       "      <td>44.100346</td>\n",
       "      <td>65.789307</td>\n",
       "      <td>12.387999</td>\n",
       "    </tr>\n",
       "    <tr>\n",
       "      <th>4</th>\n",
       "      <td>1001</td>\n",
       "      <td>05jan2020</td>\n",
       "      <td>0.000000</td>\n",
       "      <td>61.641380</td>\n",
       "      <td>22.212645</td>\n",
       "      <td>139.329880</td>\n",
       "      <td>37.233448</td>\n",
       "      <td>65.739655</td>\n",
       "      <td>4.610146</td>\n",
       "    </tr>\n",
       "    <tr>\n",
       "      <th>...</th>\n",
       "      <td>...</td>\n",
       "      <td>...</td>\n",
       "      <td>...</td>\n",
       "      <td>...</td>\n",
       "      <td>...</td>\n",
       "      <td>...</td>\n",
       "      <td>...</td>\n",
       "      <td>...</td>\n",
       "      <td>...</td>\n",
       "    </tr>\n",
       "    <tr>\n",
       "      <th>456283</th>\n",
       "      <td>56045</td>\n",
       "      <td>22may2020</td>\n",
       "      <td>0.493000</td>\n",
       "      <td>66.789497</td>\n",
       "      <td>14.456000</td>\n",
       "      <td>312.361240</td>\n",
       "      <td>45.674149</td>\n",
       "      <td>79.312553</td>\n",
       "      <td>10.115985</td>\n",
       "    </tr>\n",
       "    <tr>\n",
       "      <th>456284</th>\n",
       "      <td>56045</td>\n",
       "      <td>23may2020</td>\n",
       "      <td>0.595000</td>\n",
       "      <td>94.435997</td>\n",
       "      <td>32.949749</td>\n",
       "      <td>243.686490</td>\n",
       "      <td>41.720001</td>\n",
       "      <td>67.687248</td>\n",
       "      <td>13.563663</td>\n",
       "    </tr>\n",
       "    <tr>\n",
       "      <th>456285</th>\n",
       "      <td>56045</td>\n",
       "      <td>24may2020</td>\n",
       "      <td>0.079000</td>\n",
       "      <td>99.798500</td>\n",
       "      <td>46.666500</td>\n",
       "      <td>229.169490</td>\n",
       "      <td>35.396149</td>\n",
       "      <td>57.006050</td>\n",
       "      <td>13.923251</td>\n",
       "    </tr>\n",
       "    <tr>\n",
       "      <th>456286</th>\n",
       "      <td>56045</td>\n",
       "      <td>25may2020</td>\n",
       "      <td>0.000000</td>\n",
       "      <td>99.928001</td>\n",
       "      <td>41.561749</td>\n",
       "      <td>295.531490</td>\n",
       "      <td>36.512600</td>\n",
       "      <td>61.895748</td>\n",
       "      <td>7.971323</td>\n",
       "    </tr>\n",
       "    <tr>\n",
       "      <th>456287</th>\n",
       "      <td>56045</td>\n",
       "      <td>26may2020</td>\n",
       "      <td>0.000000</td>\n",
       "      <td>99.480751</td>\n",
       "      <td>31.156500</td>\n",
       "      <td>297.614990</td>\n",
       "      <td>46.022449</td>\n",
       "      <td>75.753952</td>\n",
       "      <td>8.280579</td>\n",
       "    </tr>\n",
       "  </tbody>\n",
       "</table>\n",
       "<p>456288 rows × 9 columns</p>\n",
       "</div>"
      ],
      "text/plain": [
       "        geoid       date     precip       rmax       rmin        srad  \\\n",
       "0        1001  01jan2020   1.533333  33.282757  21.980459  125.570110   \n",
       "1        1001  02jan2020   3.728736  79.139084  64.109192   41.706898   \n",
       "2        1001  03jan2020  46.093105  90.395401  65.051727   36.435631   \n",
       "3        1001  04jan2020   0.477011  82.219543  40.403450  106.547130   \n",
       "4        1001  05jan2020   0.000000  61.641380  22.212645  139.329880   \n",
       "...       ...        ...        ...        ...        ...         ...   \n",
       "456283  56045  22may2020   0.493000  66.789497  14.456000  312.361240   \n",
       "456284  56045  23may2020   0.595000  94.435997  32.949749  243.686490   \n",
       "456285  56045  24may2020   0.079000  99.798500  46.666500  229.169490   \n",
       "456286  56045  25may2020   0.000000  99.928001  41.561749  295.531490   \n",
       "456287  56045  26may2020   0.000000  99.480751  31.156500  297.614990   \n",
       "\n",
       "             tmin       tmax  wind_speed  \n",
       "0       56.439655  69.550690    4.846695  \n",
       "1       54.343792  63.124481   14.712356  \n",
       "2       54.256897  66.335518    7.821563  \n",
       "3       44.100346  65.789307   12.387999  \n",
       "4       37.233448  65.739655    4.610146  \n",
       "...           ...        ...         ...  \n",
       "456283  45.674149  79.312553   10.115985  \n",
       "456284  41.720001  67.687248   13.563663  \n",
       "456285  35.396149  57.006050   13.923251  \n",
       "456286  36.512600  61.895748    7.971323  \n",
       "456287  46.022449  75.753952    8.280579  \n",
       "\n",
       "[456288 rows x 9 columns]"
      ]
     },
     "execution_count": 9,
     "metadata": {},
     "output_type": "execute_result"
    }
   ],
   "source": [
    "dataset1"
   ]
  },
  {
   "cell_type": "markdown",
   "metadata": {},
   "source": [
    "Notice also that there is a note next to the final line of code that begins with the #. Python ignores anything following the # and it is a great way to add documentation and notes to your code (these lines are called comments)."
   ]
  },
  {
   "cell_type": "markdown",
   "metadata": {},
   "source": [
    "# 3. Import an Online Dataset: COVID-19 CASE/DEATH REPORTS in New York Times\n",
    "\n",
    "We sometimes need to import library (the library contains modules written in Python that provide standardized solutions for many problems that occur in everyday programming) before *calling* a function. For instance, if I want to get a data with a website link, I need to run the following cell first.\n",
    "\n",
    "(We will revisit this method again in Lab 3)"
   ]
  },
  {
   "cell_type": "code",
   "execution_count": 10,
   "metadata": {},
   "outputs": [],
   "source": [
    "from urllib.request import urlopen \n",
    "import re\n",
    "def read_url(url): \n",
    "    return re.sub('\\\\s+', ' ', urlopen(url).read().decode())"
   ]
  },
  {
   "cell_type": "markdown",
   "metadata": {},
   "source": [
    "We first use the code that was used in [Chapter 1](https://www.inferentialthinking.com/chapters/01/3/Plotting_the_Classics.html) with `read_url`."
   ]
  },
  {
   "cell_type": "code",
   "execution_count": 11,
   "metadata": {},
   "outputs": [],
   "source": [
    "nyt_url = \"https://raw.githubusercontent.com/nytimes/covid-19-data/master/us-counties.csv\"\n",
    "nyt_data = read_url(nyt_url)"
   ]
  },
  {
   "cell_type": "markdown",
   "metadata": {},
   "source": [
    "**NOTE** If we read the url directly, instead of getting a nice table, we will get a pile of words and numbers mixed together. If you don't believe this, run the following cell (remove #) to see, although it will take lots of time (and more time if you want to export the file as a pdf or a ipynb file (so do not do this for future homework assignments). This would be hard for us to visualize and analyze data direcly."
   ]
  },
  {
   "cell_type": "code",
   "execution_count": 12,
   "metadata": {},
   "outputs": [],
   "source": [
    "# nyt_data "
   ]
  },
  {
   "cell_type": "code",
   "execution_count": 13,
   "metadata": {},
   "outputs": [],
   "source": [
    "# Let's use pandas instead\n",
    "import pandas as pd\n",
    "\n",
    "# sep=',' in the parentheses allow the data to be splitted by comma.\n",
    "nyt_pddata = pd.read_csv(nyt_url,sep=\",\")"
   ]
  },
  {
   "cell_type": "code",
   "execution_count": 14,
   "metadata": {},
   "outputs": [
    {
     "data": {
      "text/html": [
       "<div>\n",
       "<style scoped>\n",
       "    .dataframe tbody tr th:only-of-type {\n",
       "        vertical-align: middle;\n",
       "    }\n",
       "\n",
       "    .dataframe tbody tr th {\n",
       "        vertical-align: top;\n",
       "    }\n",
       "\n",
       "    .dataframe thead th {\n",
       "        text-align: right;\n",
       "    }\n",
       "</style>\n",
       "<table border=\"1\" class=\"dataframe\">\n",
       "  <thead>\n",
       "    <tr style=\"text-align: right;\">\n",
       "      <th></th>\n",
       "      <th>date</th>\n",
       "      <th>county</th>\n",
       "      <th>state</th>\n",
       "      <th>fips</th>\n",
       "      <th>cases</th>\n",
       "      <th>deaths</th>\n",
       "    </tr>\n",
       "  </thead>\n",
       "  <tbody>\n",
       "    <tr>\n",
       "      <th>0</th>\n",
       "      <td>2020-01-21</td>\n",
       "      <td>Snohomish</td>\n",
       "      <td>Washington</td>\n",
       "      <td>53061.0</td>\n",
       "      <td>1</td>\n",
       "      <td>0.0</td>\n",
       "    </tr>\n",
       "    <tr>\n",
       "      <th>1</th>\n",
       "      <td>2020-01-22</td>\n",
       "      <td>Snohomish</td>\n",
       "      <td>Washington</td>\n",
       "      <td>53061.0</td>\n",
       "      <td>1</td>\n",
       "      <td>0.0</td>\n",
       "    </tr>\n",
       "    <tr>\n",
       "      <th>2</th>\n",
       "      <td>2020-01-23</td>\n",
       "      <td>Snohomish</td>\n",
       "      <td>Washington</td>\n",
       "      <td>53061.0</td>\n",
       "      <td>1</td>\n",
       "      <td>0.0</td>\n",
       "    </tr>\n",
       "    <tr>\n",
       "      <th>3</th>\n",
       "      <td>2020-01-24</td>\n",
       "      <td>Cook</td>\n",
       "      <td>Illinois</td>\n",
       "      <td>17031.0</td>\n",
       "      <td>1</td>\n",
       "      <td>0.0</td>\n",
       "    </tr>\n",
       "    <tr>\n",
       "      <th>4</th>\n",
       "      <td>2020-01-24</td>\n",
       "      <td>Snohomish</td>\n",
       "      <td>Washington</td>\n",
       "      <td>53061.0</td>\n",
       "      <td>1</td>\n",
       "      <td>0.0</td>\n",
       "    </tr>\n",
       "    <tr>\n",
       "      <th>...</th>\n",
       "      <td>...</td>\n",
       "      <td>...</td>\n",
       "      <td>...</td>\n",
       "      <td>...</td>\n",
       "      <td>...</td>\n",
       "      <td>...</td>\n",
       "    </tr>\n",
       "    <tr>\n",
       "      <th>1056746</th>\n",
       "      <td>2021-02-22</td>\n",
       "      <td>Sweetwater</td>\n",
       "      <td>Wyoming</td>\n",
       "      <td>56037.0</td>\n",
       "      <td>3686</td>\n",
       "      <td>34.0</td>\n",
       "    </tr>\n",
       "    <tr>\n",
       "      <th>1056747</th>\n",
       "      <td>2021-02-22</td>\n",
       "      <td>Teton</td>\n",
       "      <td>Wyoming</td>\n",
       "      <td>56039.0</td>\n",
       "      <td>3331</td>\n",
       "      <td>9.0</td>\n",
       "    </tr>\n",
       "    <tr>\n",
       "      <th>1056748</th>\n",
       "      <td>2021-02-22</td>\n",
       "      <td>Uinta</td>\n",
       "      <td>Wyoming</td>\n",
       "      <td>56041.0</td>\n",
       "      <td>2030</td>\n",
       "      <td>12.0</td>\n",
       "    </tr>\n",
       "    <tr>\n",
       "      <th>1056749</th>\n",
       "      <td>2021-02-22</td>\n",
       "      <td>Washakie</td>\n",
       "      <td>Wyoming</td>\n",
       "      <td>56043.0</td>\n",
       "      <td>878</td>\n",
       "      <td>26.0</td>\n",
       "    </tr>\n",
       "    <tr>\n",
       "      <th>1056750</th>\n",
       "      <td>2021-02-22</td>\n",
       "      <td>Weston</td>\n",
       "      <td>Wyoming</td>\n",
       "      <td>56045.0</td>\n",
       "      <td>620</td>\n",
       "      <td>5.0</td>\n",
       "    </tr>\n",
       "  </tbody>\n",
       "</table>\n",
       "<p>1056751 rows × 6 columns</p>\n",
       "</div>"
      ],
      "text/plain": [
       "               date      county       state     fips  cases  deaths\n",
       "0        2020-01-21   Snohomish  Washington  53061.0      1     0.0\n",
       "1        2020-01-22   Snohomish  Washington  53061.0      1     0.0\n",
       "2        2020-01-23   Snohomish  Washington  53061.0      1     0.0\n",
       "3        2020-01-24        Cook    Illinois  17031.0      1     0.0\n",
       "4        2020-01-24   Snohomish  Washington  53061.0      1     0.0\n",
       "...             ...         ...         ...      ...    ...     ...\n",
       "1056746  2021-02-22  Sweetwater     Wyoming  56037.0   3686    34.0\n",
       "1056747  2021-02-22       Teton     Wyoming  56039.0   3331     9.0\n",
       "1056748  2021-02-22       Uinta     Wyoming  56041.0   2030    12.0\n",
       "1056749  2021-02-22    Washakie     Wyoming  56043.0    878    26.0\n",
       "1056750  2021-02-22      Weston     Wyoming  56045.0    620     5.0\n",
       "\n",
       "[1056751 rows x 6 columns]"
      ]
     },
     "execution_count": 14,
     "metadata": {},
     "output_type": "execute_result"
    }
   ],
   "source": [
    "nyt_pddata"
   ]
  },
  {
   "cell_type": "markdown",
   "metadata": {},
   "source": [
    "This is a dataset showing the COVID daily cases and deaths in each US county. For each county, it starts documenting when the first case showed up, so you may notice that each county has a different date to start with. \n",
    "\n",
    "This is a major dataset that we will focus on in our future labs! \n",
    "\n",
    "Continue to explore the data on your own and report three findings you think are interesting. Also describe any additional capabilities you wish you knew how to do that would enable you to answer additional interesting questions. \n",
    "\n",
    "**Great job!  You have finished the first lab.**\n",
    "\n",
    "Now, let's recall the way to save the file (in both .pdf and .ipynb format), so any changes we made here can be saved and printed.\n",
    "   \n",
    "\n",
    "To produce the .pdf, please do the following in order to preserve the cell structure of the notebook:  \n",
    "1.  Go to \"File\" at the top-left of your Jupyter Notebook\n",
    "2.  Under \"Download as\", select \"HTML (.html)\"\n",
    "3.  After the .html has downloaded, open it and then select \"File\" and \"Print\" (note you will not actually be printing)\n",
    "4.  From the print window, select the option to save as a .pdf\n",
    "\n",
    "To produce the .ipynb, please do the following:  \n",
    "1.  Go to \"File\" at the top-left of your Jupyter Notebook\n",
    "2.  Under \"Download as\", select \"Notebook (.ipynb)\""
   ]
  }
 ],
 "metadata": {
  "kernelspec": {
   "display_name": "Python 3",
   "language": "python",
   "name": "python3"
  },
  "language_info": {
   "codemirror_mode": {
    "name": "ipython",
    "version": 3
   },
   "file_extension": ".py",
   "mimetype": "text/x-python",
   "name": "python",
   "nbconvert_exporter": "python",
   "pygments_lexer": "ipython3",
   "version": "3.8.3"
  }
 },
 "nbformat": 4,
 "nbformat_minor": 4
}
