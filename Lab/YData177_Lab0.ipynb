{
 "cells": [
  {
   "cell_type": "markdown",
   "metadata": {},
   "source": [
    "# Behavioral Lab: Getting started with Python and Jupyter Notebook\n",
    "\n",
    "**Welcome to S&DS 177/577 -- YData: Covid-19 Behavioral Impacts** \n",
    "\n",
    "Most class meeting times will include a lecture portion and a lab portion. This is an example of a lab for behavioral analysis using public data. The purpose of the labs is to give you hands-on experience using the skills from the main YData course (S&DS 123/523) while working within a particular domain. For this course, the focus is on analyzing possible behavioral impacts under the current pandemic, COVID-19!\n",
    "\n",
    "Before we get started, there are some details for the class:\n",
    "\n",
    "* I highly recommend to go through the [Practice 01 questions](http://ydata123.org/sp19/calendar.html) on the main YData website first, which explains Jupyter Notebook's setup. \n",
    "* This lab covers parts of [Chapter 3](http://www.inferentialthinking.com/chapters/03/programming-in-python.html) of the online textbook. If you are not familiar with any expression below, this can be a good reference!\n",
    "* I encourage group collaboration on the course labs. If you get stuck for a while on a question, feel free to ask your classmates (or email me for help if needed). Please do take some time to think by yourself first and do not just share answers to each other though. "
   ]
  },
  {
   "cell_type": "markdown",
   "metadata": {},
   "source": [
    "In today's exercise, we will go through the ways to:\n",
    "\n",
    "* Navigate Jupyter Notebook\n",
    "* Write basic expressions in Python\n",
    "* Import and manipulate tables"
   ]
  },
  {
   "cell_type": "markdown",
   "metadata": {},
   "source": [
    "# 1. Jupyter Notebook\n",
    "\n",
    "This portion is copied from the [Practice 01 questions](http://ydata123.org/sp19/calendar.html). If you have gone through the basic concepts there, you can skip this secion. If different platforms ever confuse you, just remember that *GitHub* allows us to share code, but the contents are static, we usually share code in `.ipynb` that was the Python code coded in *Jupyter Notebook*, and *Binder* allows us to try and run each cell in an interactive way.\n",
    "\n",
    "When you type in Jupyter Notebook for future homework assignments or exams, select *Markdown* on the Code Box to type words like this cell (the shortcut is 'm' when the cell is highlighted), select *Code* to type computer code.\n",
    "\n",
    "........................................................................................................................................................................\n",
    "\n",
    "This webpage is called a Jupyter notebook. A notebook is a place to write programs and view their results. \n",
    "\n",
    "## 1.1. Text cells\n",
    "In a notebook, each rectangle containing text or code is called a *cell*.\n",
    "\n",
    "Text cells (like this one) can be edited by double-clicking on them. They're written in a simple format called [Markdown](http://daringfireball.net/projects/markdown/syntax) to add formatting and section headings.  You don't need to learn Markdown, but you might want to.\n",
    "\n",
    "After you edit a text cell, click the \"run cell\" button at the top that looks like ▶| to confirm any changes. (Try not to delete the instructions of the lab.)"
   ]
  },
  {
   "cell_type": "markdown",
   "metadata": {},
   "source": [
    "**Question 1.1.1.** This paragraph is in its own text cell.  Try editing it so that this sentence is the last sentence in the paragraph, and then click the \"run cell\" ▶| button .  This sentence, for example, should be deleted.  So should this one."
   ]
  },
  {
   "cell_type": "markdown",
   "metadata": {},
   "source": [
    "## 1.2. Code cells\n",
    "Other cells contain code in the Python 3 language. Running a code cell will execute all of the code it contains.\n",
    "\n",
    "To run the code in a code cell, first click on that cell to activate it.  It'll be highlighted with a little green or blue rectangle.  Next, either press ▶| or hold down the `shift` key and press `return` or `enter`.\n",
    "\n",
    "Try running this cell:"
   ]
  },
  {
   "cell_type": "code",
   "execution_count": 6,
   "metadata": {},
   "outputs": [
    {
     "name": "stdout",
     "output_type": "stream",
     "text": [
      "Hello, World!\n"
     ]
    }
   ],
   "source": [
    "print(\"Hello, World!\")"
   ]
  },
  {
   "cell_type": "markdown",
   "metadata": {},
   "source": [
    "And this one:"
   ]
  },
  {
   "cell_type": "code",
   "execution_count": 7,
   "metadata": {},
   "outputs": [
    {
     "name": "stdout",
     "output_type": "stream",
     "text": [
      "👋, 🌏!\n"
     ]
    }
   ],
   "source": [
    "print(\"\\N{WAVING HAND SIGN}, \\N{EARTH GLOBE ASIA-AUSTRALIA}!\")"
   ]
  },
  {
   "cell_type": "markdown",
   "metadata": {},
   "source": [
    "The fundamental building block of Python code is an expression. Cells can contain multiple lines with multiple expressions. When you run a cell, the lines of code are executed in the order in which they appear. Every `print` expression prints a line. Run the next cell and notice the order of the output."
   ]
  },
  {
   "cell_type": "code",
   "execution_count": 8,
   "metadata": {},
   "outputs": [
    {
     "name": "stdout",
     "output_type": "stream",
     "text": [
      "First this line is printed,\n",
      "and then this one.\n"
     ]
    }
   ],
   "source": [
    "print(\"First this line is printed,\")\n",
    "print(\"and then this one.\")"
   ]
  },
  {
   "cell_type": "markdown",
   "metadata": {},
   "source": [
    "**Question 1.2.1.** Change the cell above so that it prints out:\n",
    "\n",
    "    First this line,\n",
    "    then the whole 🌏,\n",
    "    and then this one.\n",
    "\n",
    "*Hint:* If you're stuck on the Earth symbol for more than a few minutes, try talking to a neighbor or a TF.  That's a good idea for any exercise."
   ]
  },
  {
   "cell_type": "markdown",
   "metadata": {},
   "source": [
    "## 1.3. Writing Jupyter notebooks\n",
    "You can use Jupyter notebooks for your own projects or documents.  When you make your own notebook, you'll need to create your own cells for text and code.\n",
    "\n",
    "To add a cell, click the + button in the menu bar.  It'll start out as a text cell.  You can change it to a code cell by clicking inside it so it's highlighted, clicking the drop-down box next to the restart (⟳) button in the menu bar, and choosing \"Code\".\n",
    "\n",
    "**Question 1.3.1.** Add a code cell below this one.  Write code in it that prints out:\n",
    "   \n",
    "    A whole new cell! ♪🌏♪\n",
    "\n",
    "(That musical note symbol is like the Earth symbol.  Its long-form name is `\\N{EIGHTH NOTE}`.)\n",
    "\n",
    "Run your cell to verify that it works."
   ]
  },
  {
   "cell_type": "markdown",
   "metadata": {},
   "source": [
    "## 1.4. Errors\n",
    "Python is a language, and like natural human languages, it has rules.  It differs from natural language in two important ways:\n",
    "1. The rules are *simple*.  You can learn most of them in a few weeks and gain reasonable proficiency with the language in a semester.\n",
    "2. The rules are *rigid*.  If you're proficient in a natural language, you can understand a non-proficient speaker, glossing over small mistakes.  A computer running Python code is not smart enough to do that.\n",
    "\n",
    "Whenever you write code, you'll make mistakes.  When you run a code cell that has errors, Python will sometimes produce error messages to tell you what you did wrong.\n",
    "\n",
    "Errors are okay; even experienced programmers make many errors.  When you make an error, you just have to find the source of the problem, fix it, and move on.\n",
    "\n",
    "We have made an error in the next cell.  Run it and see what happens."
   ]
  },
  {
   "cell_type": "markdown",
   "metadata": {},
   "source": [
    "print(\"This line is missing something.\""
   ]
  },
  {
   "cell_type": "markdown",
   "metadata": {},
   "source": [
    "You should see something like this (minus our annotations):\n",
    "\n",
    "<img src=\"error.jpg\"/>\n",
    "\n",
    "The last line of the error output attempts to tell you what went wrong.  The *syntax* of a language is its structure, and this `SyntaxError` tells you that you have created an illegal structure.  \"`EOF`\" means \"end of file,\" so the message is saying Python expected you to write something more (in this case, a right parenthesis) before finishing the cell.\n",
    "\n",
    "There's a lot of terminology in programming languages, but you don't need to know it all in order to program effectively. If you see a cryptic message like this, you can often get by without deciphering it.  (Of course, if you're frustrated, ask a neighbor or a TA for help.)\n",
    "\n",
    "Try to fix the code above so that you can run the cell and see the intended message instead of an error."
   ]
  },
  {
   "cell_type": "markdown",
   "metadata": {},
   "source": [
    "## 1.5. The Kernel\n",
    "The kernel is a program that executes the code inside your notebook and outputs the results. In the top right of your window, you can see a circle that indicates the status of your kernel. If the circle is empty (⚪), the kernel is idle and ready to execute code. If the circle is filled in (⚫), the kernel is busy running some code. \n",
    "\n",
    "You may run into problems where your kernel is stuck for an excessive amount of time, your notebook is very slow and unresponsive, or your kernel loses its connection. If this happens, try the following steps:\n",
    "1. At the top of your screen, click **Kernel**, then **Interrupt**.\n",
    "2. If that doesn't help, click **Kernel**, then **Restart**. If you do this, you will have to run your code cells from the start of your notebook up until where you paused your work.\n",
    "3. If that doesn't help, restart your server. First, save your work by clicking **File** at the top left of your screen, then **Save and Checkpoint**. Next, click **Control Panel** at the top right. Choose **Stop My Server** to shut it down, then **My Server** to start it back up. Then, navigate back to the notebook you were working on."
   ]
  },
  {
   "cell_type": "markdown",
   "metadata": {},
   "source": [
    "# 2. Import a Local Dataset: "
   ]
  },
  {
   "cell_type": "markdown",
   "metadata": {},
   "source": [
    "Now, we are getting familiar with Jupyter Notebook. Remember that it provides a platform to do complicated data analysis. And the first thing we want to know is the ways to import dataset for any analysis. \n",
    "\n",
    "In the main YData class, you will learn a lot more about the `Table object`. This object is part of the `datascience` package which was created by the creators of the Berkeley Data 8 class, which our YData classes is based. We will extensively use this Table objects for our baseball analyses so you will become very familiar with how to manipulate tables. For today, let's start with some of the basic functionality including loading tables and selecting rows and columns from tables. \n",
    "\n",
    "## 2.1 Loading data tables\n",
    "\n",
    "Remember to download the course datasets from the [Google Drive link](https://drive.google.com/drive/folders/1SLPLMpgdzcn79iMBOYhh9CmOZaw7odpE). Again, \n",
    "please do not share the datasets with others outside this class unless you contact me and receive my permission.  \n",
    "\n",
    "After downloading the dataset, put them in a folder (I put one named \"YData_SDS177\", as you can see below) under your course path.\n",
    "\n",
    "The cell below imports the functions related to tables and to loads the data into a table."
   ]
  },
  {
   "cell_type": "code",
   "execution_count": 1,
   "metadata": {},
   "outputs": [],
   "source": [
    "from datascience import *\n",
    "# weather.csv is a locally saved table.\n",
    "# YData_SDS177 is the folder I put all the datasets in.\n",
    "\n",
    "weather = Table.read_table('YData_SDS177/weather.csv')  ## change the table to a more informative one"
   ]
  },
  {
   "cell_type": "code",
   "execution_count": 4,
   "metadata": {},
   "outputs": [
    {
     "data": {
      "text/html": [
       "<table border=\"1\" class=\"dataframe\">\n",
       "    <thead>\n",
       "        <tr>\n",
       "            <th>geoid</th> <th>date</th> <th>precip</th> <th>rmax</th> <th>rmin</th> <th>srad</th> <th>tmin</th> <th>tmax</th> <th>wind_speed</th>\n",
       "        </tr>\n",
       "    </thead>\n",
       "    <tbody>\n",
       "        <tr>\n",
       "            <td>1001 </td> <td>01jan2020</td> <td>1.53333 </td> <td>33.2828</td> <td>21.9805</td> <td>125.57 </td> <td>56.4397</td> <td>69.5507</td> <td>4.8467    </td>\n",
       "        </tr>\n",
       "        <tr>\n",
       "            <td>1001 </td> <td>02jan2020</td> <td>3.72874 </td> <td>79.1391</td> <td>64.1092</td> <td>41.7069</td> <td>54.3438</td> <td>63.1245</td> <td>14.7124   </td>\n",
       "        </tr>\n",
       "        <tr>\n",
       "            <td>1001 </td> <td>03jan2020</td> <td>46.0931 </td> <td>90.3954</td> <td>65.0517</td> <td>36.4356</td> <td>54.2569</td> <td>66.3355</td> <td>7.82156   </td>\n",
       "        </tr>\n",
       "        <tr>\n",
       "            <td>1001 </td> <td>04jan2020</td> <td>0.477011</td> <td>82.2195</td> <td>40.4034</td> <td>106.547</td> <td>44.1003</td> <td>65.7893</td> <td>12.388    </td>\n",
       "        </tr>\n",
       "        <tr>\n",
       "            <td>1001 </td> <td>05jan2020</td> <td>0       </td> <td>61.6414</td> <td>22.2126</td> <td>139.33 </td> <td>37.2334</td> <td>65.7397</td> <td>4.61015   </td>\n",
       "        </tr>\n",
       "        <tr>\n",
       "            <td>1001 </td> <td>06jan2020</td> <td>0       </td> <td>93.1793</td> <td>25.8115</td> <td>136.917</td> <td>36.77  </td> <td>73.0679</td> <td>5.89574   </td>\n",
       "        </tr>\n",
       "        <tr>\n",
       "            <td>1001 </td> <td>07jan2020</td> <td>0       </td> <td>78.7816</td> <td>24.1483</td> <td>141.071</td> <td>40.2252</td> <td>73.9183</td> <td>10.3105   </td>\n",
       "        </tr>\n",
       "        <tr>\n",
       "            <td>1001 </td> <td>08jan2020</td> <td>0       </td> <td>44.8644</td> <td>14.2172</td> <td>142.807</td> <td>44.3693</td> <td>75.8983</td> <td>5.08839   </td>\n",
       "        </tr>\n",
       "        <tr>\n",
       "            <td>1001 </td> <td>09jan2020</td> <td>0       </td> <td>99.946 </td> <td>42.8897</td> <td>135.445</td> <td>34.2541</td> <td>60.0169</td> <td>11.3698   </td>\n",
       "        </tr>\n",
       "        <tr>\n",
       "            <td>1001 </td> <td>10jan2020</td> <td>0.877011</td> <td>100    </td> <td>98.654 </td> <td>110.045</td> <td>29.0776</td> <td>55.5955</td> <td>15.3963   </td>\n",
       "        </tr>\n",
       "    </tbody>\n",
       "</table>\n",
       "<p>... (456278 rows omitted)</p>"
      ],
      "text/plain": [
       "geoid | date      | precip   | rmax    | rmin    | srad    | tmin    | tmax    | wind_speed\n",
       "1001  | 01jan2020 | 1.53333  | 33.2828 | 21.9805 | 125.57  | 56.4397 | 69.5507 | 4.8467\n",
       "1001  | 02jan2020 | 3.72874  | 79.1391 | 64.1092 | 41.7069 | 54.3438 | 63.1245 | 14.7124\n",
       "1001  | 03jan2020 | 46.0931  | 90.3954 | 65.0517 | 36.4356 | 54.2569 | 66.3355 | 7.82156\n",
       "1001  | 04jan2020 | 0.477011 | 82.2195 | 40.4034 | 106.547 | 44.1003 | 65.7893 | 12.388\n",
       "1001  | 05jan2020 | 0        | 61.6414 | 22.2126 | 139.33  | 37.2334 | 65.7397 | 4.61015\n",
       "1001  | 06jan2020 | 0        | 93.1793 | 25.8115 | 136.917 | 36.77   | 73.0679 | 5.89574\n",
       "1001  | 07jan2020 | 0        | 78.7816 | 24.1483 | 141.071 | 40.2252 | 73.9183 | 10.3105\n",
       "1001  | 08jan2020 | 0        | 44.8644 | 14.2172 | 142.807 | 44.3693 | 75.8983 | 5.08839\n",
       "1001  | 09jan2020 | 0        | 99.946  | 42.8897 | 135.445 | 34.2541 | 60.0169 | 11.3698\n",
       "1001  | 10jan2020 | 0.877011 | 100     | 98.654  | 110.045 | 29.0776 | 55.5955 | 15.3963\n",
       "... (456278 rows omitted)"
      ]
     },
     "execution_count": 4,
     "metadata": {},
     "output_type": "execute_result"
    }
   ],
   "source": [
    "weather"
   ]
  },
  {
   "cell_type": "markdown",
   "metadata": {},
   "source": [
    "Notice also that there is a note next to the final line of code that begins with the #. Python ignores anything following the # and it is a great way to add documentation and notes to your code (these lines are called comments).\n",
    "\n",
    "How large is this table? We can assess the number of rows in the full table using the syntax `my_table.num_columns` and `my_table.num_rows`. \n",
    "\n",
    "**Question 2.1.** What does each row represent, what do the columns represent? Also, how many rows and columns are there in the batting table?  \n",
    "\n",
    "\n",
    "**Answers:**"
   ]
  },
  {
   "cell_type": "code",
   "execution_count": 38,
   "metadata": {},
   "outputs": [],
   "source": [
    "# Type your answer here\n"
   ]
  },
  {
   "cell_type": "markdown",
   "metadata": {},
   "source": [
    "## 2.2 Selecting a subset of columns\n",
    "\n",
    "We can select a subset of columns using the `mytable.select()` method.  For example, to select columns 0, 1, and 5 and print them out we can use the syntax: `my_table.select(0,1,5)`. Notice that the indexing starts at 0, not 1! \n",
    "\n",
    "We can also select columns by name using the sytax: `my_table.select('col_name_1', 'col_name_2', 'col_name3')`\n",
    "\n",
    "**Question 2.2** Select the columns `precip` and `tmax` from the weather table. What is a reason why it might be useful to select a subset of columns?\n",
    "\n",
    "**Answer:** "
   ]
  },
  {
   "cell_type": "code",
   "execution_count": 39,
   "metadata": {},
   "outputs": [],
   "source": [
    "# Type your answer here\n"
   ]
  },
  {
   "cell_type": "markdown",
   "metadata": {},
   "source": [
    "## 2.3 Selecting a subset of rows from a table\n",
    "\n",
    "To select rows from a table, we can use the `take()` method. For example, we can select rows 2, 5, and 6 using the syntax: `my_table.take((2,5,6))`. \n",
    "\n",
    "\n",
    "**Question 3.3:** Select the columns date, precip, tmin, and tmax, and the rows 65470, 77657, 74271, and 88498 from the weather table. Do this with **a single line of Python code**! Is there anything similar about these players' statistics?  \n",
    "\n",
    "**Answer**: "
   ]
  },
  {
   "cell_type": "code",
   "execution_count": 40,
   "metadata": {},
   "outputs": [],
   "source": [
    "# Type your answer here\n",
    "\n"
   ]
  },
  {
   "cell_type": "markdown",
   "metadata": {},
   "source": [
    "## 2.4 Using methods on values in a column of data in a table\n",
    "\n",
    "The Tables objects in the `datascience` package also have methods can operate on the values in a column. For example, we can sum the values in a column using the `my_table.sum()` method. **Note**, if you use this method on a table that contains values that are not numbers you will get an error message. \n",
    "\n",
    "\n",
    "**Question 2.4**. What is the total precipitation from Jan 1st to May 26th in this year? \n",
    "\n",
    "**Answer:** "
   ]
  },
  {
   "cell_type": "code",
   "execution_count": 41,
   "metadata": {},
   "outputs": [],
   "source": [
    "# Type your answer here\n"
   ]
  },
  {
   "cell_type": "markdown",
   "metadata": {},
   "source": [
    "## 2.5 Sorting values in a column of data in a table\n",
    "\n",
    "We can also sort values in a table using the `my_table.sort('col_name')` method. If we want to sort the columns from largest value to the smallest value we can set the additional argument `descending = True` (i.e., `my_table.sort('col_name', descending = True)`. \n",
    "\n",
    "\n",
    "**Question 2.5**. Use the sort function to find the minimum temperature in the weather dataset. When (date) and where (geoid) did it reach to this minimum temperature? \n",
    "\n",
    "\n",
    "**Answer:**"
   ]
  },
  {
   "cell_type": "code",
   "execution_count": null,
   "metadata": {},
   "outputs": [],
   "source": [
    "# Type your answer here\n"
   ]
  },
  {
   "cell_type": "markdown",
   "metadata": {},
   "source": [
    "# 3. Import an Online Dataset: COVID-19 CASE/DEATH REPORTS in New York Times"
   ]
  },
  {
   "cell_type": "markdown",
   "metadata": {},
   "source": [
    "We sometimes need to import library (the library contains modules written in Python that provide standardized solutions for many problems that occur in everyday programming) before *calling* a function. For instance, if I want to get a data with a website link, I need to run the following cell first."
   ]
  },
  {
   "cell_type": "code",
   "execution_count": 2,
   "metadata": {},
   "outputs": [],
   "source": [
    "from urllib.request import urlopen \n",
    "import re\n",
    "def read_url(url): \n",
    "    return re.sub('\\\\s+', ' ', urlopen(url).read().decode())"
   ]
  },
  {
   "cell_type": "markdown",
   "metadata": {},
   "source": [
    "We first use the code that was used in [Chapter 1](https://www.inferentialthinking.com/chapters/01/3/Plotting_the_Classics.html) with `read_url`."
   ]
  },
  {
   "cell_type": "code",
   "execution_count": 3,
   "metadata": {},
   "outputs": [],
   "source": [
    "nyt_url = \"https://raw.githubusercontent.com/nytimes/covid-19-data/master/us-counties.csv\"\n",
    "nyt_data = read_url(nyt_url)"
   ]
  },
  {
   "cell_type": "markdown",
   "metadata": {},
   "source": [
    "If we read the url directly, instead of getting a nice table, we will get a pile of words and numbers mixed together. If you don't believe this, run the following cell (remove #) to see, although it will take lots of time (and more time if you want to export the file as a pdf or a ipynb file (so do not do this for future homework assignments). This would be hard for us to visualize and analyze data direcly."
   ]
  },
  {
   "cell_type": "code",
   "execution_count": 1,
   "metadata": {},
   "outputs": [],
   "source": [
    "# nyt_data "
   ]
  },
  {
   "cell_type": "code",
   "execution_count": 4,
   "metadata": {},
   "outputs": [],
   "source": [
    "# Let's try a new tool named pandas\n",
    "import pandas as pd\n",
    "\n",
    "# sep=',' in the parentheses allow the data to be splitted by comma.\n",
    "nyt_pddata = pd.read_csv(nyt_url,sep=\",\")"
   ]
  },
  {
   "cell_type": "code",
   "execution_count": 5,
   "metadata": {},
   "outputs": [
    {
     "data": {
      "text/html": [
       "<div>\n",
       "<style scoped>\n",
       "    .dataframe tbody tr th:only-of-type {\n",
       "        vertical-align: middle;\n",
       "    }\n",
       "\n",
       "    .dataframe tbody tr th {\n",
       "        vertical-align: top;\n",
       "    }\n",
       "\n",
       "    .dataframe thead th {\n",
       "        text-align: right;\n",
       "    }\n",
       "</style>\n",
       "<table border=\"1\" class=\"dataframe\">\n",
       "  <thead>\n",
       "    <tr style=\"text-align: right;\">\n",
       "      <th></th>\n",
       "      <th>date</th>\n",
       "      <th>county</th>\n",
       "      <th>state</th>\n",
       "      <th>fips</th>\n",
       "      <th>cases</th>\n",
       "      <th>deaths</th>\n",
       "    </tr>\n",
       "  </thead>\n",
       "  <tbody>\n",
       "    <tr>\n",
       "      <th>0</th>\n",
       "      <td>2020-01-21</td>\n",
       "      <td>Snohomish</td>\n",
       "      <td>Washington</td>\n",
       "      <td>53061.0</td>\n",
       "      <td>1</td>\n",
       "      <td>0</td>\n",
       "    </tr>\n",
       "    <tr>\n",
       "      <th>1</th>\n",
       "      <td>2020-01-22</td>\n",
       "      <td>Snohomish</td>\n",
       "      <td>Washington</td>\n",
       "      <td>53061.0</td>\n",
       "      <td>1</td>\n",
       "      <td>0</td>\n",
       "    </tr>\n",
       "    <tr>\n",
       "      <th>2</th>\n",
       "      <td>2020-01-23</td>\n",
       "      <td>Snohomish</td>\n",
       "      <td>Washington</td>\n",
       "      <td>53061.0</td>\n",
       "      <td>1</td>\n",
       "      <td>0</td>\n",
       "    </tr>\n",
       "    <tr>\n",
       "      <th>3</th>\n",
       "      <td>2020-01-24</td>\n",
       "      <td>Cook</td>\n",
       "      <td>Illinois</td>\n",
       "      <td>17031.0</td>\n",
       "      <td>1</td>\n",
       "      <td>0</td>\n",
       "    </tr>\n",
       "    <tr>\n",
       "      <th>4</th>\n",
       "      <td>2020-01-24</td>\n",
       "      <td>Snohomish</td>\n",
       "      <td>Washington</td>\n",
       "      <td>53061.0</td>\n",
       "      <td>1</td>\n",
       "      <td>0</td>\n",
       "    </tr>\n",
       "    <tr>\n",
       "      <th>...</th>\n",
       "      <td>...</td>\n",
       "      <td>...</td>\n",
       "      <td>...</td>\n",
       "      <td>...</td>\n",
       "      <td>...</td>\n",
       "      <td>...</td>\n",
       "    </tr>\n",
       "    <tr>\n",
       "      <th>670631</th>\n",
       "      <td>2020-10-26</td>\n",
       "      <td>Sweetwater</td>\n",
       "      <td>Wyoming</td>\n",
       "      <td>56037.0</td>\n",
       "      <td>476</td>\n",
       "      <td>2</td>\n",
       "    </tr>\n",
       "    <tr>\n",
       "      <th>670632</th>\n",
       "      <td>2020-10-26</td>\n",
       "      <td>Teton</td>\n",
       "      <td>Wyoming</td>\n",
       "      <td>56039.0</td>\n",
       "      <td>756</td>\n",
       "      <td>1</td>\n",
       "    </tr>\n",
       "    <tr>\n",
       "      <th>670633</th>\n",
       "      <td>2020-10-26</td>\n",
       "      <td>Uinta</td>\n",
       "      <td>Wyoming</td>\n",
       "      <td>56041.0</td>\n",
       "      <td>442</td>\n",
       "      <td>3</td>\n",
       "    </tr>\n",
       "    <tr>\n",
       "      <th>670634</th>\n",
       "      <td>2020-10-26</td>\n",
       "      <td>Washakie</td>\n",
       "      <td>Wyoming</td>\n",
       "      <td>56043.0</td>\n",
       "      <td>145</td>\n",
       "      <td>7</td>\n",
       "    </tr>\n",
       "    <tr>\n",
       "      <th>670635</th>\n",
       "      <td>2020-10-26</td>\n",
       "      <td>Weston</td>\n",
       "      <td>Wyoming</td>\n",
       "      <td>56045.0</td>\n",
       "      <td>132</td>\n",
       "      <td>0</td>\n",
       "    </tr>\n",
       "  </tbody>\n",
       "</table>\n",
       "<p>670636 rows × 6 columns</p>\n",
       "</div>"
      ],
      "text/plain": [
       "              date      county       state     fips  cases  deaths\n",
       "0       2020-01-21   Snohomish  Washington  53061.0      1       0\n",
       "1       2020-01-22   Snohomish  Washington  53061.0      1       0\n",
       "2       2020-01-23   Snohomish  Washington  53061.0      1       0\n",
       "3       2020-01-24        Cook    Illinois  17031.0      1       0\n",
       "4       2020-01-24   Snohomish  Washington  53061.0      1       0\n",
       "...            ...         ...         ...      ...    ...     ...\n",
       "670631  2020-10-26  Sweetwater     Wyoming  56037.0    476       2\n",
       "670632  2020-10-26       Teton     Wyoming  56039.0    756       1\n",
       "670633  2020-10-26       Uinta     Wyoming  56041.0    442       3\n",
       "670634  2020-10-26    Washakie     Wyoming  56043.0    145       7\n",
       "670635  2020-10-26      Weston     Wyoming  56045.0    132       0\n",
       "\n",
       "[670636 rows x 6 columns]"
      ]
     },
     "execution_count": 5,
     "metadata": {},
     "output_type": "execute_result"
    }
   ],
   "source": [
    "nyt_pddata"
   ]
  },
  {
   "cell_type": "markdown",
   "metadata": {},
   "source": [
    "This is a dataset showing the COVID daily cases and deaths in each US county. For each county, it starts documenting when the first case showed up, so you may notice that each county has a different date to start with. \n",
    "\n",
    "This is a major dataset that we will focus on in our next lab! "
   ]
  },
  {
   "cell_type": "markdown",
   "metadata": {},
   "source": [
    "Continue to explore the data on your own and report three findings you think are interesting. Also describe any additional capabilities you wish you knew how to do that would enable you to answer additional interesting questions. "
   ]
  },
  {
   "cell_type": "markdown",
   "metadata": {},
   "source": [
    "Great job!  You have finished the first lab. "
   ]
  },
  {
   "cell_type": "markdown",
   "metadata": {},
   "source": [
    "Now, let's recall the way to save the file (in both .pdf and .ipynb format), so any changes we made here can be saved and printed.\n",
    "   \n",
    "\n",
    "To produce the .pdf, please do the following in order to preserve the cell structure of the notebook:  \n",
    "1.  Go to \"File\" at the top-left of your Jupyter Notebook\n",
    "2.  Under \"Download as\", select \"HTML (.html)\"\n",
    "3.  After the .html has downloaded, open it and then select \"File\" and \"Print\" (note you will not actually be printing)\n",
    "4.  From the print window, select the option to save as a .pdf\n",
    "\n",
    "To produce the .ipynb, please do the following:  \n",
    "1.  Go to \"File\" at the top-left of your Jupyter Notebook\n",
    "2.  Under \"Download as\", select \"Notebook (.ipynb)\""
   ]
  }
 ],
 "metadata": {
  "kernelspec": {
   "display_name": "Python 3",
   "language": "python",
   "name": "python3"
  },
  "language_info": {
   "codemirror_mode": {
    "name": "ipython",
    "version": 3
   },
   "file_extension": ".py",
   "mimetype": "text/x-python",
   "name": "python",
   "nbconvert_exporter": "python",
   "pygments_lexer": "ipython3",
   "version": "3.8.3"
  }
 },
 "nbformat": 4,
 "nbformat_minor": 4
}
