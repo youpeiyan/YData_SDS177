{
 "cells": [
  {
   "cell_type": "markdown",
   "metadata": {},
   "source": [
    "# Behavioral Lab 3\n",
    "\n",
    "Welcome to our third lab! \n",
    "\n",
    "Last week, we discussed the SIR model that was commonly used in the epidemiology, and we also tried to code the model in our lab 2 to practice using functions in Python.\n",
    "\n",
    "Life is more complicated in reality, and we would like to take a look of the real-life data first. You may have a better understanding of why the SIR model is not realistic. But before conducting any analysis using the real-life data, we will learn to import data and do some basic plotting in today's lab.\n",
    "\n",
    "### Today's lab\n",
    "\n",
    "* Data import\n",
    "* Data description and simple manipulation\n",
    "* Plotting"
   ]
  },
  {
   "cell_type": "markdown",
   "metadata": {},
   "source": [
    "# 1. Data import and manipulation\n",
    "\n",
    "\n",
    "## 1.1 Data Import \n",
    "\n",
    "Before we start to explore if people's response to the environment (broadly speaking, other people's acticities form the nearby and broad environment for you), we first move from simulation to real-data issues.\n",
    "\n",
    "### 1.1.1 Import online data\n",
    "\n",
    "Recall that we showed the data import with the following method in Lab 1:"
   ]
  },
  {
   "cell_type": "code",
   "execution_count": 1,
   "metadata": {},
   "outputs": [],
   "source": [
    "from urllib.request import urlopen \n",
    "import re # re — Regular expression operations\n",
    "def read_url(url): \n",
    "    return re.sub('\\\\s+', ' ', urlopen(url).read().decode())"
   ]
  },
  {
   "cell_type": "markdown",
   "metadata": {},
   "source": [
    "If we are trying to open a webpage using `urllib.request.urlopen()`, then it's likely to give us the following error:\n",
    "\n",
    "TypeError: can't use a string pattern on a bytes-like object\n",
    "\n",
    "Basically, `urllib.request.urlopen()` returns a bytestream, so `re` doesn't know the encoding to use. What are we supposed to do in this situation? Is there a way to specify the encoding method in a urlrequest?\n",
    "\n",
    "After you make a request `req = urllib.request.urlopen(...)` you have to read the request by calling `html_string = req.read()` that will give you the string response that you can then parse the way you want.\n",
    "\n",
    "Then you can use `.decode()`, such as `.decode('utf-8')`.\n",
    "\n",
    "\n",
    "The most common use for `re` is to search for patterns in text. \n",
    "\n",
    "The regular expression \"\\s+\" means one or more whitespaces. A backslash followed by anything else means something special. In Java and some other programming languages, a backslash can be interpreted as part of the string itself and not part of the regular expression. \"\\\\s+\" gives you a string containing your desired re, while \"\\s+\" might cause a compile error because \\s isn't a valid Java string escape sequence."
   ]
  },
  {
   "cell_type": "code",
   "execution_count": 2,
   "metadata": {},
   "outputs": [],
   "source": [
    "nyt_url = \"https://raw.githubusercontent.com/nytimes/covid-19-data/master/us-counties.csv\"\n",
    "nyt_data = read_url(nyt_url)"
   ]
  },
  {
   "cell_type": "markdown",
   "metadata": {},
   "source": [
    "**NOTE** If we read the url directly, instead of getting a nice table, we will get a pile of words and numbers mixed together. If you don't believe this, run the following cell (remove #) to see, although it will take lots of time (and more time if you want to export the file as a pdf or a ipynb file (so do not do this for future homework assignments). This would be hard for us to visualize and analyze data direcly."
   ]
  },
  {
   "cell_type": "code",
   "execution_count": 3,
   "metadata": {},
   "outputs": [],
   "source": [
    "# A better way we experienced before is using pandas\n",
    "import numpy as np\n",
    "import pandas as pd\n",
    "\n",
    "from scipy.integrate import odeint\n",
    "import matplotlib.pyplot as plt\n",
    "# sep=',' in the parentheses allow the data to be splitted by comma.\n",
    "nyt_pddata = pd.read_csv(nyt_url,sep=\",\")"
   ]
  },
  {
   "cell_type": "code",
   "execution_count": 4,
   "metadata": {},
   "outputs": [
    {
     "data": {
      "text/html": [
       "<div>\n",
       "<style scoped>\n",
       "    .dataframe tbody tr th:only-of-type {\n",
       "        vertical-align: middle;\n",
       "    }\n",
       "\n",
       "    .dataframe tbody tr th {\n",
       "        vertical-align: top;\n",
       "    }\n",
       "\n",
       "    .dataframe thead th {\n",
       "        text-align: right;\n",
       "    }\n",
       "</style>\n",
       "<table border=\"1\" class=\"dataframe\">\n",
       "  <thead>\n",
       "    <tr style=\"text-align: right;\">\n",
       "      <th></th>\n",
       "      <th>date</th>\n",
       "      <th>county</th>\n",
       "      <th>state</th>\n",
       "      <th>fips</th>\n",
       "      <th>cases</th>\n",
       "      <th>deaths</th>\n",
       "    </tr>\n",
       "  </thead>\n",
       "  <tbody>\n",
       "    <tr>\n",
       "      <th>0</th>\n",
       "      <td>2020-01-21</td>\n",
       "      <td>Snohomish</td>\n",
       "      <td>Washington</td>\n",
       "      <td>53061.0</td>\n",
       "      <td>1</td>\n",
       "      <td>0.0</td>\n",
       "    </tr>\n",
       "    <tr>\n",
       "      <th>1</th>\n",
       "      <td>2020-01-22</td>\n",
       "      <td>Snohomish</td>\n",
       "      <td>Washington</td>\n",
       "      <td>53061.0</td>\n",
       "      <td>1</td>\n",
       "      <td>0.0</td>\n",
       "    </tr>\n",
       "    <tr>\n",
       "      <th>2</th>\n",
       "      <td>2020-01-23</td>\n",
       "      <td>Snohomish</td>\n",
       "      <td>Washington</td>\n",
       "      <td>53061.0</td>\n",
       "      <td>1</td>\n",
       "      <td>0.0</td>\n",
       "    </tr>\n",
       "    <tr>\n",
       "      <th>3</th>\n",
       "      <td>2020-01-24</td>\n",
       "      <td>Cook</td>\n",
       "      <td>Illinois</td>\n",
       "      <td>17031.0</td>\n",
       "      <td>1</td>\n",
       "      <td>0.0</td>\n",
       "    </tr>\n",
       "    <tr>\n",
       "      <th>4</th>\n",
       "      <td>2020-01-24</td>\n",
       "      <td>Snohomish</td>\n",
       "      <td>Washington</td>\n",
       "      <td>53061.0</td>\n",
       "      <td>1</td>\n",
       "      <td>0.0</td>\n",
       "    </tr>\n",
       "    <tr>\n",
       "      <th>...</th>\n",
       "      <td>...</td>\n",
       "      <td>...</td>\n",
       "      <td>...</td>\n",
       "      <td>...</td>\n",
       "      <td>...</td>\n",
       "      <td>...</td>\n",
       "    </tr>\n",
       "    <tr>\n",
       "      <th>1056746</th>\n",
       "      <td>2021-02-22</td>\n",
       "      <td>Sweetwater</td>\n",
       "      <td>Wyoming</td>\n",
       "      <td>56037.0</td>\n",
       "      <td>3686</td>\n",
       "      <td>34.0</td>\n",
       "    </tr>\n",
       "    <tr>\n",
       "      <th>1056747</th>\n",
       "      <td>2021-02-22</td>\n",
       "      <td>Teton</td>\n",
       "      <td>Wyoming</td>\n",
       "      <td>56039.0</td>\n",
       "      <td>3331</td>\n",
       "      <td>9.0</td>\n",
       "    </tr>\n",
       "    <tr>\n",
       "      <th>1056748</th>\n",
       "      <td>2021-02-22</td>\n",
       "      <td>Uinta</td>\n",
       "      <td>Wyoming</td>\n",
       "      <td>56041.0</td>\n",
       "      <td>2030</td>\n",
       "      <td>12.0</td>\n",
       "    </tr>\n",
       "    <tr>\n",
       "      <th>1056749</th>\n",
       "      <td>2021-02-22</td>\n",
       "      <td>Washakie</td>\n",
       "      <td>Wyoming</td>\n",
       "      <td>56043.0</td>\n",
       "      <td>878</td>\n",
       "      <td>26.0</td>\n",
       "    </tr>\n",
       "    <tr>\n",
       "      <th>1056750</th>\n",
       "      <td>2021-02-22</td>\n",
       "      <td>Weston</td>\n",
       "      <td>Wyoming</td>\n",
       "      <td>56045.0</td>\n",
       "      <td>620</td>\n",
       "      <td>5.0</td>\n",
       "    </tr>\n",
       "  </tbody>\n",
       "</table>\n",
       "<p>1056751 rows × 6 columns</p>\n",
       "</div>"
      ],
      "text/plain": [
       "               date      county       state     fips  cases  deaths\n",
       "0        2020-01-21   Snohomish  Washington  53061.0      1     0.0\n",
       "1        2020-01-22   Snohomish  Washington  53061.0      1     0.0\n",
       "2        2020-01-23   Snohomish  Washington  53061.0      1     0.0\n",
       "3        2020-01-24        Cook    Illinois  17031.0      1     0.0\n",
       "4        2020-01-24   Snohomish  Washington  53061.0      1     0.0\n",
       "...             ...         ...         ...      ...    ...     ...\n",
       "1056746  2021-02-22  Sweetwater     Wyoming  56037.0   3686    34.0\n",
       "1056747  2021-02-22       Teton     Wyoming  56039.0   3331     9.0\n",
       "1056748  2021-02-22       Uinta     Wyoming  56041.0   2030    12.0\n",
       "1056749  2021-02-22    Washakie     Wyoming  56043.0    878    26.0\n",
       "1056750  2021-02-22      Weston     Wyoming  56045.0    620     5.0\n",
       "\n",
       "[1056751 rows x 6 columns]"
      ]
     },
     "execution_count": 4,
     "metadata": {},
     "output_type": "execute_result"
    }
   ],
   "source": [
    "nyt_pddata"
   ]
  },
  {
   "cell_type": "markdown",
   "metadata": {},
   "source": [
    "This is a dataset showing the COVID daily cases and deaths in each US county. For each county, it starts documenting when the first case showed up, so you may notice that each county has a different date to start with. \n",
    "\n",
    "### 1.1.2. Import a local data"
   ]
  },
  {
   "cell_type": "code",
   "execution_count": 5,
   "metadata": {},
   "outputs": [],
   "source": [
    "cases_tah = pd.read_csv('YData_SDS177/nyt_cases_name.csv')"
   ]
  },
  {
   "cell_type": "code",
   "execution_count": 6,
   "metadata": {},
   "outputs": [
    {
     "data": {
      "text/html": [
       "<div>\n",
       "<style scoped>\n",
       "    .dataframe tbody tr th:only-of-type {\n",
       "        vertical-align: middle;\n",
       "    }\n",
       "\n",
       "    .dataframe tbody tr th {\n",
       "        vertical-align: top;\n",
       "    }\n",
       "\n",
       "    .dataframe thead th {\n",
       "        text-align: right;\n",
       "    }\n",
       "</style>\n",
       "<table border=\"1\" class=\"dataframe\">\n",
       "  <thead>\n",
       "    <tr style=\"text-align: right;\">\n",
       "      <th></th>\n",
       "      <th>geoid</th>\n",
       "      <th>county</th>\n",
       "      <th>state</th>\n",
       "      <th>cases</th>\n",
       "      <th>deaths</th>\n",
       "      <th>date</th>\n",
       "      <th>dwell_time</th>\n",
       "    </tr>\n",
       "  </thead>\n",
       "  <tbody>\n",
       "    <tr>\n",
       "      <th>0</th>\n",
       "      <td>1001</td>\n",
       "      <td>Autauga</td>\n",
       "      <td>AL</td>\n",
       "      <td>0</td>\n",
       "      <td>0</td>\n",
       "      <td>01jan2020</td>\n",
       "      <td>929.95764</td>\n",
       "    </tr>\n",
       "    <tr>\n",
       "      <th>1</th>\n",
       "      <td>1003</td>\n",
       "      <td>Baldwin</td>\n",
       "      <td>AL</td>\n",
       "      <td>0</td>\n",
       "      <td>0</td>\n",
       "      <td>01jan2020</td>\n",
       "      <td>857.86395</td>\n",
       "    </tr>\n",
       "    <tr>\n",
       "      <th>2</th>\n",
       "      <td>1005</td>\n",
       "      <td>Barbour</td>\n",
       "      <td>AL</td>\n",
       "      <td>0</td>\n",
       "      <td>0</td>\n",
       "      <td>01jan2020</td>\n",
       "      <td>788.39636</td>\n",
       "    </tr>\n",
       "    <tr>\n",
       "      <th>3</th>\n",
       "      <td>1007</td>\n",
       "      <td>Bibb</td>\n",
       "      <td>AL</td>\n",
       "      <td>0</td>\n",
       "      <td>0</td>\n",
       "      <td>01jan2020</td>\n",
       "      <td>913.77106</td>\n",
       "    </tr>\n",
       "    <tr>\n",
       "      <th>4</th>\n",
       "      <td>1009</td>\n",
       "      <td>Blount</td>\n",
       "      <td>AL</td>\n",
       "      <td>0</td>\n",
       "      <td>0</td>\n",
       "      <td>01jan2020</td>\n",
       "      <td>956.05914</td>\n",
       "    </tr>\n",
       "    <tr>\n",
       "      <th>...</th>\n",
       "      <td>...</td>\n",
       "      <td>...</td>\n",
       "      <td>...</td>\n",
       "      <td>...</td>\n",
       "      <td>...</td>\n",
       "      <td>...</td>\n",
       "      <td>...</td>\n",
       "    </tr>\n",
       "    <tr>\n",
       "      <th>456283</th>\n",
       "      <td>56045</td>\n",
       "      <td>Weston</td>\n",
       "      <td>WY</td>\n",
       "      <td>0</td>\n",
       "      <td>0</td>\n",
       "      <td>22may2020</td>\n",
       "      <td>463.05606</td>\n",
       "    </tr>\n",
       "    <tr>\n",
       "      <th>456284</th>\n",
       "      <td>56045</td>\n",
       "      <td>Weston</td>\n",
       "      <td>WY</td>\n",
       "      <td>0</td>\n",
       "      <td>0</td>\n",
       "      <td>23may2020</td>\n",
       "      <td>335.37607</td>\n",
       "    </tr>\n",
       "    <tr>\n",
       "      <th>456285</th>\n",
       "      <td>56045</td>\n",
       "      <td>Weston</td>\n",
       "      <td>WY</td>\n",
       "      <td>0</td>\n",
       "      <td>0</td>\n",
       "      <td>24may2020</td>\n",
       "      <td>320.40112</td>\n",
       "    </tr>\n",
       "    <tr>\n",
       "      <th>456286</th>\n",
       "      <td>56045</td>\n",
       "      <td>Weston</td>\n",
       "      <td>WY</td>\n",
       "      <td>0</td>\n",
       "      <td>0</td>\n",
       "      <td>25may2020</td>\n",
       "      <td>402.71588</td>\n",
       "    </tr>\n",
       "    <tr>\n",
       "      <th>456287</th>\n",
       "      <td>56045</td>\n",
       "      <td>Weston</td>\n",
       "      <td>WY</td>\n",
       "      <td>0</td>\n",
       "      <td>0</td>\n",
       "      <td>26may2020</td>\n",
       "      <td>322.28851</td>\n",
       "    </tr>\n",
       "  </tbody>\n",
       "</table>\n",
       "<p>456288 rows × 7 columns</p>\n",
       "</div>"
      ],
      "text/plain": [
       "        geoid   county state  cases  deaths       date  dwell_time\n",
       "0        1001  Autauga    AL      0       0  01jan2020   929.95764\n",
       "1        1003  Baldwin    AL      0       0  01jan2020   857.86395\n",
       "2        1005  Barbour    AL      0       0  01jan2020   788.39636\n",
       "3        1007     Bibb    AL      0       0  01jan2020   913.77106\n",
       "4        1009   Blount    AL      0       0  01jan2020   956.05914\n",
       "...       ...      ...   ...    ...     ...        ...         ...\n",
       "456283  56045   Weston    WY      0       0  22may2020   463.05606\n",
       "456284  56045   Weston    WY      0       0  23may2020   335.37607\n",
       "456285  56045   Weston    WY      0       0  24may2020   320.40112\n",
       "456286  56045   Weston    WY      0       0  25may2020   402.71588\n",
       "456287  56045   Weston    WY      0       0  26may2020   322.28851\n",
       "\n",
       "[456288 rows x 7 columns]"
      ]
     },
     "execution_count": 6,
     "metadata": {},
     "output_type": "execute_result"
    }
   ],
   "source": [
    "cases_tah"
   ]
  },
  {
   "cell_type": "markdown",
   "metadata": {},
   "source": [
    "## 1.2 Checking the dataset\n",
    "\n",
    "This is usually used to get a general understanding of datasets that you first obtain. You may want to know the size of the dataset, the summary statistics of the dataset, etc."
   ]
  },
  {
   "cell_type": "code",
   "execution_count": 7,
   "metadata": {},
   "outputs": [
    {
     "data": {
      "text/plain": [
       "(456288, 7)"
      ]
     },
     "execution_count": 7,
     "metadata": {},
     "output_type": "execute_result"
    }
   ],
   "source": [
    "cases_tah.shape # the size of the dataset"
   ]
  },
  {
   "cell_type": "code",
   "execution_count": 8,
   "metadata": {},
   "outputs": [
    {
     "data": {
      "text/html": [
       "<div>\n",
       "<style scoped>\n",
       "    .dataframe tbody tr th:only-of-type {\n",
       "        vertical-align: middle;\n",
       "    }\n",
       "\n",
       "    .dataframe tbody tr th {\n",
       "        vertical-align: top;\n",
       "    }\n",
       "\n",
       "    .dataframe thead th {\n",
       "        text-align: right;\n",
       "    }\n",
       "</style>\n",
       "<table border=\"1\" class=\"dataframe\">\n",
       "  <thead>\n",
       "    <tr style=\"text-align: right;\">\n",
       "      <th></th>\n",
       "      <th>geoid</th>\n",
       "      <th>cases</th>\n",
       "      <th>deaths</th>\n",
       "      <th>dwell_time</th>\n",
       "    </tr>\n",
       "  </thead>\n",
       "  <tbody>\n",
       "    <tr>\n",
       "      <th>count</th>\n",
       "      <td>456288.000000</td>\n",
       "      <td>456288.000000</td>\n",
       "      <td>456288.000000</td>\n",
       "      <td>456288.000000</td>\n",
       "    </tr>\n",
       "    <tr>\n",
       "      <th>mean</th>\n",
       "      <td>30644.804446</td>\n",
       "      <td>124.558121</td>\n",
       "      <td>6.941337</td>\n",
       "      <td>637.242971</td>\n",
       "    </tr>\n",
       "    <tr>\n",
       "      <th>std</th>\n",
       "      <td>14972.075712</td>\n",
       "      <td>2053.609837</td>\n",
       "      <td>186.485799</td>\n",
       "      <td>159.504740</td>\n",
       "    </tr>\n",
       "    <tr>\n",
       "      <th>min</th>\n",
       "      <td>1001.000000</td>\n",
       "      <td>0.000000</td>\n",
       "      <td>0.000000</td>\n",
       "      <td>0.000000</td>\n",
       "    </tr>\n",
       "    <tr>\n",
       "      <th>25%</th>\n",
       "      <td>19042.500000</td>\n",
       "      <td>0.000000</td>\n",
       "      <td>0.000000</td>\n",
       "      <td>542.553255</td>\n",
       "    </tr>\n",
       "    <tr>\n",
       "      <th>50%</th>\n",
       "      <td>29208.000000</td>\n",
       "      <td>0.000000</td>\n",
       "      <td>0.000000</td>\n",
       "      <td>640.782900</td>\n",
       "    </tr>\n",
       "    <tr>\n",
       "      <th>75%</th>\n",
       "      <td>45319.000000</td>\n",
       "      <td>7.000000</td>\n",
       "      <td>0.000000</td>\n",
       "      <td>734.284198</td>\n",
       "    </tr>\n",
       "    <tr>\n",
       "      <th>max</th>\n",
       "      <td>56045.000000</td>\n",
       "      <td>204111.000000</td>\n",
       "      <td>20795.000000</td>\n",
       "      <td>1438.000000</td>\n",
       "    </tr>\n",
       "  </tbody>\n",
       "</table>\n",
       "</div>"
      ],
      "text/plain": [
       "               geoid          cases         deaths     dwell_time\n",
       "count  456288.000000  456288.000000  456288.000000  456288.000000\n",
       "mean    30644.804446     124.558121       6.941337     637.242971\n",
       "std     14972.075712    2053.609837     186.485799     159.504740\n",
       "min      1001.000000       0.000000       0.000000       0.000000\n",
       "25%     19042.500000       0.000000       0.000000     542.553255\n",
       "50%     29208.000000       0.000000       0.000000     640.782900\n",
       "75%     45319.000000       7.000000       0.000000     734.284198\n",
       "max     56045.000000  204111.000000   20795.000000    1438.000000"
      ]
     },
     "execution_count": 8,
     "metadata": {},
     "output_type": "execute_result"
    }
   ],
   "source": [
    "cases_tah.describe() # mean/min/max  for numerical value"
   ]
  },
  {
   "cell_type": "code",
   "execution_count": 9,
   "metadata": {},
   "outputs": [
    {
     "data": {
      "text/html": [
       "<div>\n",
       "<style scoped>\n",
       "    .dataframe tbody tr th:only-of-type {\n",
       "        vertical-align: middle;\n",
       "    }\n",
       "\n",
       "    .dataframe tbody tr th {\n",
       "        vertical-align: top;\n",
       "    }\n",
       "\n",
       "    .dataframe thead th {\n",
       "        text-align: right;\n",
       "    }\n",
       "</style>\n",
       "<table border=\"1\" class=\"dataframe\">\n",
       "  <thead>\n",
       "    <tr style=\"text-align: right;\">\n",
       "      <th></th>\n",
       "      <th>geoid</th>\n",
       "      <th>county</th>\n",
       "      <th>state</th>\n",
       "      <th>cases</th>\n",
       "      <th>deaths</th>\n",
       "      <th>date</th>\n",
       "      <th>dwell_time</th>\n",
       "    </tr>\n",
       "  </thead>\n",
       "  <tbody>\n",
       "    <tr>\n",
       "      <th>0</th>\n",
       "      <td>1001</td>\n",
       "      <td>Autauga</td>\n",
       "      <td>AL</td>\n",
       "      <td>0</td>\n",
       "      <td>0</td>\n",
       "      <td>01jan2020</td>\n",
       "      <td>929.95764</td>\n",
       "    </tr>\n",
       "    <tr>\n",
       "      <th>1</th>\n",
       "      <td>1003</td>\n",
       "      <td>Baldwin</td>\n",
       "      <td>AL</td>\n",
       "      <td>0</td>\n",
       "      <td>0</td>\n",
       "      <td>01jan2020</td>\n",
       "      <td>857.86395</td>\n",
       "    </tr>\n",
       "    <tr>\n",
       "      <th>2</th>\n",
       "      <td>1005</td>\n",
       "      <td>Barbour</td>\n",
       "      <td>AL</td>\n",
       "      <td>0</td>\n",
       "      <td>0</td>\n",
       "      <td>01jan2020</td>\n",
       "      <td>788.39636</td>\n",
       "    </tr>\n",
       "  </tbody>\n",
       "</table>\n",
       "</div>"
      ],
      "text/plain": [
       "   geoid   county state  cases  deaths       date  dwell_time\n",
       "0   1001  Autauga    AL      0       0  01jan2020   929.95764\n",
       "1   1003  Baldwin    AL      0       0  01jan2020   857.86395\n",
       "2   1005  Barbour    AL      0       0  01jan2020   788.39636"
      ]
     },
     "execution_count": 9,
     "metadata": {},
     "output_type": "execute_result"
    }
   ],
   "source": [
    "cases_tah.head(3)"
   ]
  },
  {
   "cell_type": "code",
   "execution_count": 10,
   "metadata": {},
   "outputs": [
    {
     "data": {
      "text/plain": [
       "geoid              1009\n",
       "county           Blount\n",
       "state                AL\n",
       "cases                 0\n",
       "deaths                0\n",
       "date          01jan2020\n",
       "dwell_time      956.059\n",
       "Name: 4, dtype: object"
      ]
     },
     "execution_count": 10,
     "metadata": {},
     "output_type": "execute_result"
    }
   ],
   "source": [
    "cases_tah.loc[4] # selecting row 5\n",
    "\n",
    "# Why it's row 5? Note that the row started from row 0."
   ]
  },
  {
   "cell_type": "code",
   "execution_count": 11,
   "metadata": {},
   "outputs": [
    {
     "data": {
      "text/plain": [
       "'01jan2020'"
      ]
     },
     "execution_count": 11,
     "metadata": {},
     "output_type": "execute_result"
    }
   ],
   "source": [
    "cases_tah.loc[4,'date']"
   ]
  },
  {
   "cell_type": "code",
   "execution_count": 12,
   "metadata": {},
   "outputs": [
    {
     "data": {
      "text/html": [
       "<div>\n",
       "<style scoped>\n",
       "    .dataframe tbody tr th:only-of-type {\n",
       "        vertical-align: middle;\n",
       "    }\n",
       "\n",
       "    .dataframe tbody tr th {\n",
       "        vertical-align: top;\n",
       "    }\n",
       "\n",
       "    .dataframe thead th {\n",
       "        text-align: right;\n",
       "    }\n",
       "</style>\n",
       "<table border=\"1\" class=\"dataframe\">\n",
       "  <thead>\n",
       "    <tr style=\"text-align: right;\">\n",
       "      <th></th>\n",
       "      <th>geoid</th>\n",
       "      <th>county</th>\n",
       "      <th>state</th>\n",
       "      <th>cases</th>\n",
       "      <th>deaths</th>\n",
       "      <th>date</th>\n",
       "      <th>dwell_time</th>\n",
       "    </tr>\n",
       "  </thead>\n",
       "  <tbody>\n",
       "    <tr>\n",
       "      <th>4</th>\n",
       "      <td>1009</td>\n",
       "      <td>Blount</td>\n",
       "      <td>AL</td>\n",
       "      <td>0</td>\n",
       "      <td>0</td>\n",
       "      <td>01jan2020</td>\n",
       "      <td>956.05914</td>\n",
       "    </tr>\n",
       "    <tr>\n",
       "      <th>5</th>\n",
       "      <td>1011</td>\n",
       "      <td>Bullock</td>\n",
       "      <td>AL</td>\n",
       "      <td>0</td>\n",
       "      <td>0</td>\n",
       "      <td>01jan2020</td>\n",
       "      <td>710.70667</td>\n",
       "    </tr>\n",
       "    <tr>\n",
       "      <th>6</th>\n",
       "      <td>1013</td>\n",
       "      <td>Butler</td>\n",
       "      <td>AL</td>\n",
       "      <td>0</td>\n",
       "      <td>0</td>\n",
       "      <td>01jan2020</td>\n",
       "      <td>813.13367</td>\n",
       "    </tr>\n",
       "    <tr>\n",
       "      <th>7</th>\n",
       "      <td>1015</td>\n",
       "      <td>Calhoun</td>\n",
       "      <td>AL</td>\n",
       "      <td>0</td>\n",
       "      <td>0</td>\n",
       "      <td>01jan2020</td>\n",
       "      <td>837.67346</td>\n",
       "    </tr>\n",
       "    <tr>\n",
       "      <th>8</th>\n",
       "      <td>1017</td>\n",
       "      <td>Chambers</td>\n",
       "      <td>AL</td>\n",
       "      <td>0</td>\n",
       "      <td>0</td>\n",
       "      <td>01jan2020</td>\n",
       "      <td>875.58191</td>\n",
       "    </tr>\n",
       "    <tr>\n",
       "      <th>9</th>\n",
       "      <td>1019</td>\n",
       "      <td>Cherokee</td>\n",
       "      <td>AL</td>\n",
       "      <td>0</td>\n",
       "      <td>0</td>\n",
       "      <td>01jan2020</td>\n",
       "      <td>820.60223</td>\n",
       "    </tr>\n",
       "  </tbody>\n",
       "</table>\n",
       "</div>"
      ],
      "text/plain": [
       "   geoid    county state  cases  deaths       date  dwell_time\n",
       "4   1009    Blount    AL      0       0  01jan2020   956.05914\n",
       "5   1011   Bullock    AL      0       0  01jan2020   710.70667\n",
       "6   1013    Butler    AL      0       0  01jan2020   813.13367\n",
       "7   1015   Calhoun    AL      0       0  01jan2020   837.67346\n",
       "8   1017  Chambers    AL      0       0  01jan2020   875.58191\n",
       "9   1019  Cherokee    AL      0       0  01jan2020   820.60223"
      ]
     },
     "execution_count": 12,
     "metadata": {},
     "output_type": "execute_result"
    }
   ],
   "source": [
    "cases_tah.loc[range(4,10)] # Why the range is 4-9 below? "
   ]
  },
  {
   "cell_type": "markdown",
   "metadata": {},
   "source": [
    "Note, the range(a,b) is showing `[a,b)`"
   ]
  },
  {
   "cell_type": "markdown",
   "metadata": {},
   "source": [
    "## 1.3 Basic operations\n",
    "\n",
    "### 1.3.1 logical operations"
   ]
  },
  {
   "cell_type": "code",
   "execution_count": 13,
   "metadata": {},
   "outputs": [
    {
     "data": {
      "text/html": [
       "<div>\n",
       "<style scoped>\n",
       "    .dataframe tbody tr th:only-of-type {\n",
       "        vertical-align: middle;\n",
       "    }\n",
       "\n",
       "    .dataframe tbody tr th {\n",
       "        vertical-align: top;\n",
       "    }\n",
       "\n",
       "    .dataframe thead th {\n",
       "        text-align: right;\n",
       "    }\n",
       "</style>\n",
       "<table border=\"1\" class=\"dataframe\">\n",
       "  <thead>\n",
       "    <tr style=\"text-align: right;\">\n",
       "      <th></th>\n",
       "      <th>geoid</th>\n",
       "      <th>county</th>\n",
       "      <th>state</th>\n",
       "      <th>cases</th>\n",
       "      <th>deaths</th>\n",
       "      <th>date</th>\n",
       "      <th>dwell_time</th>\n",
       "    </tr>\n",
       "  </thead>\n",
       "  <tbody>\n",
       "    <tr>\n",
       "      <th>279</th>\n",
       "      <td>9001</td>\n",
       "      <td>Fairfield</td>\n",
       "      <td>CT</td>\n",
       "      <td>0</td>\n",
       "      <td>0</td>\n",
       "      <td>01jan2020</td>\n",
       "      <td>741.51093</td>\n",
       "    </tr>\n",
       "    <tr>\n",
       "      <th>280</th>\n",
       "      <td>9003</td>\n",
       "      <td>Hartford</td>\n",
       "      <td>CT</td>\n",
       "      <td>0</td>\n",
       "      <td>0</td>\n",
       "      <td>01jan2020</td>\n",
       "      <td>745.36816</td>\n",
       "    </tr>\n",
       "    <tr>\n",
       "      <th>281</th>\n",
       "      <td>9005</td>\n",
       "      <td>Litchfield</td>\n",
       "      <td>CT</td>\n",
       "      <td>0</td>\n",
       "      <td>0</td>\n",
       "      <td>01jan2020</td>\n",
       "      <td>735.46960</td>\n",
       "    </tr>\n",
       "    <tr>\n",
       "      <th>282</th>\n",
       "      <td>9007</td>\n",
       "      <td>Middlesex</td>\n",
       "      <td>CT</td>\n",
       "      <td>0</td>\n",
       "      <td>0</td>\n",
       "      <td>01jan2020</td>\n",
       "      <td>761.88977</td>\n",
       "    </tr>\n",
       "    <tr>\n",
       "      <th>283</th>\n",
       "      <td>9009</td>\n",
       "      <td>New Haven</td>\n",
       "      <td>CT</td>\n",
       "      <td>0</td>\n",
       "      <td>0</td>\n",
       "      <td>01jan2020</td>\n",
       "      <td>741.86902</td>\n",
       "    </tr>\n",
       "    <tr>\n",
       "      <th>...</th>\n",
       "      <td>...</td>\n",
       "      <td>...</td>\n",
       "      <td>...</td>\n",
       "      <td>...</td>\n",
       "      <td>...</td>\n",
       "      <td>...</td>\n",
       "      <td>...</td>\n",
       "    </tr>\n",
       "    <tr>\n",
       "      <th>45001</th>\n",
       "      <td>9015</td>\n",
       "      <td>Windham</td>\n",
       "      <td>CT</td>\n",
       "      <td>348</td>\n",
       "      <td>14</td>\n",
       "      <td>22may2020</td>\n",
       "      <td>620.14008</td>\n",
       "    </tr>\n",
       "    <tr>\n",
       "      <th>45002</th>\n",
       "      <td>9015</td>\n",
       "      <td>Windham</td>\n",
       "      <td>CT</td>\n",
       "      <td>354</td>\n",
       "      <td>14</td>\n",
       "      <td>23may2020</td>\n",
       "      <td>686.85559</td>\n",
       "    </tr>\n",
       "    <tr>\n",
       "      <th>45003</th>\n",
       "      <td>9015</td>\n",
       "      <td>Windham</td>\n",
       "      <td>CT</td>\n",
       "      <td>359</td>\n",
       "      <td>14</td>\n",
       "      <td>24may2020</td>\n",
       "      <td>682.95496</td>\n",
       "    </tr>\n",
       "    <tr>\n",
       "      <th>45004</th>\n",
       "      <td>9015</td>\n",
       "      <td>Windham</td>\n",
       "      <td>CT</td>\n",
       "      <td>365</td>\n",
       "      <td>14</td>\n",
       "      <td>25may2020</td>\n",
       "      <td>693.06555</td>\n",
       "    </tr>\n",
       "    <tr>\n",
       "      <th>45005</th>\n",
       "      <td>9015</td>\n",
       "      <td>Windham</td>\n",
       "      <td>CT</td>\n",
       "      <td>371</td>\n",
       "      <td>14</td>\n",
       "      <td>26may2020</td>\n",
       "      <td>639.93140</td>\n",
       "    </tr>\n",
       "  </tbody>\n",
       "</table>\n",
       "<p>1176 rows × 7 columns</p>\n",
       "</div>"
      ],
      "text/plain": [
       "       geoid      county state  cases  deaths       date  dwell_time\n",
       "279     9001   Fairfield    CT      0       0  01jan2020   741.51093\n",
       "280     9003    Hartford    CT      0       0  01jan2020   745.36816\n",
       "281     9005  Litchfield    CT      0       0  01jan2020   735.46960\n",
       "282     9007   Middlesex    CT      0       0  01jan2020   761.88977\n",
       "283     9009   New Haven    CT      0       0  01jan2020   741.86902\n",
       "...      ...         ...   ...    ...     ...        ...         ...\n",
       "45001   9015     Windham    CT    348      14  22may2020   620.14008\n",
       "45002   9015     Windham    CT    354      14  23may2020   686.85559\n",
       "45003   9015     Windham    CT    359      14  24may2020   682.95496\n",
       "45004   9015     Windham    CT    365      14  25may2020   693.06555\n",
       "45005   9015     Windham    CT    371      14  26may2020   639.93140\n",
       "\n",
       "[1176 rows x 7 columns]"
      ]
     },
     "execution_count": 13,
     "metadata": {},
     "output_type": "execute_result"
    }
   ],
   "source": [
    "# selecting only CT observants\n",
    "\n",
    "cases_tah_CT = cases_tah[cases_tah['state'] == 'CT']\n",
    "cases_tah_CT "
   ]
  },
  {
   "cell_type": "markdown",
   "metadata": {},
   "source": [
    "Use `&` to indicate multiple logical operations:"
   ]
  },
  {
   "cell_type": "code",
   "execution_count": 14,
   "metadata": {
    "scrolled": true
   },
   "outputs": [
    {
     "data": {
      "text/html": [
       "<div>\n",
       "<style scoped>\n",
       "    .dataframe tbody tr th:only-of-type {\n",
       "        vertical-align: middle;\n",
       "    }\n",
       "\n",
       "    .dataframe tbody tr th {\n",
       "        vertical-align: top;\n",
       "    }\n",
       "\n",
       "    .dataframe thead th {\n",
       "        text-align: right;\n",
       "    }\n",
       "</style>\n",
       "<table border=\"1\" class=\"dataframe\">\n",
       "  <thead>\n",
       "    <tr style=\"text-align: right;\">\n",
       "      <th></th>\n",
       "      <th>geoid</th>\n",
       "      <th>county</th>\n",
       "      <th>state</th>\n",
       "      <th>cases</th>\n",
       "      <th>deaths</th>\n",
       "      <th>date</th>\n",
       "      <th>dwell_time</th>\n",
       "    </tr>\n",
       "  </thead>\n",
       "  <tbody>\n",
       "    <tr>\n",
       "      <th>43904</th>\n",
       "      <td>9001</td>\n",
       "      <td>Fairfield</td>\n",
       "      <td>CT</td>\n",
       "      <td>1</td>\n",
       "      <td>0</td>\n",
       "      <td>08mar2020</td>\n",
       "      <td>618.84271</td>\n",
       "    </tr>\n",
       "    <tr>\n",
       "      <th>43905</th>\n",
       "      <td>9001</td>\n",
       "      <td>Fairfield</td>\n",
       "      <td>CT</td>\n",
       "      <td>2</td>\n",
       "      <td>0</td>\n",
       "      <td>09mar2020</td>\n",
       "      <td>509.19855</td>\n",
       "    </tr>\n",
       "    <tr>\n",
       "      <th>43906</th>\n",
       "      <td>9001</td>\n",
       "      <td>Fairfield</td>\n",
       "      <td>CT</td>\n",
       "      <td>2</td>\n",
       "      <td>0</td>\n",
       "      <td>10mar2020</td>\n",
       "      <td>570.49030</td>\n",
       "    </tr>\n",
       "    <tr>\n",
       "      <th>43907</th>\n",
       "      <td>9001</td>\n",
       "      <td>Fairfield</td>\n",
       "      <td>CT</td>\n",
       "      <td>3</td>\n",
       "      <td>0</td>\n",
       "      <td>11mar2020</td>\n",
       "      <td>576.92316</td>\n",
       "    </tr>\n",
       "    <tr>\n",
       "      <th>43908</th>\n",
       "      <td>9001</td>\n",
       "      <td>Fairfield</td>\n",
       "      <td>CT</td>\n",
       "      <td>5</td>\n",
       "      <td>0</td>\n",
       "      <td>12mar2020</td>\n",
       "      <td>583.74542</td>\n",
       "    </tr>\n",
       "    <tr>\n",
       "      <th>...</th>\n",
       "      <td>...</td>\n",
       "      <td>...</td>\n",
       "      <td>...</td>\n",
       "      <td>...</td>\n",
       "      <td>...</td>\n",
       "      <td>...</td>\n",
       "      <td>...</td>\n",
       "    </tr>\n",
       "    <tr>\n",
       "      <th>45001</th>\n",
       "      <td>9015</td>\n",
       "      <td>Windham</td>\n",
       "      <td>CT</td>\n",
       "      <td>348</td>\n",
       "      <td>14</td>\n",
       "      <td>22may2020</td>\n",
       "      <td>620.14008</td>\n",
       "    </tr>\n",
       "    <tr>\n",
       "      <th>45002</th>\n",
       "      <td>9015</td>\n",
       "      <td>Windham</td>\n",
       "      <td>CT</td>\n",
       "      <td>354</td>\n",
       "      <td>14</td>\n",
       "      <td>23may2020</td>\n",
       "      <td>686.85559</td>\n",
       "    </tr>\n",
       "    <tr>\n",
       "      <th>45003</th>\n",
       "      <td>9015</td>\n",
       "      <td>Windham</td>\n",
       "      <td>CT</td>\n",
       "      <td>359</td>\n",
       "      <td>14</td>\n",
       "      <td>24may2020</td>\n",
       "      <td>682.95496</td>\n",
       "    </tr>\n",
       "    <tr>\n",
       "      <th>45004</th>\n",
       "      <td>9015</td>\n",
       "      <td>Windham</td>\n",
       "      <td>CT</td>\n",
       "      <td>365</td>\n",
       "      <td>14</td>\n",
       "      <td>25may2020</td>\n",
       "      <td>693.06555</td>\n",
       "    </tr>\n",
       "    <tr>\n",
       "      <th>45005</th>\n",
       "      <td>9015</td>\n",
       "      <td>Windham</td>\n",
       "      <td>CT</td>\n",
       "      <td>371</td>\n",
       "      <td>14</td>\n",
       "      <td>26may2020</td>\n",
       "      <td>639.93140</td>\n",
       "    </tr>\n",
       "  </tbody>\n",
       "</table>\n",
       "<p>580 rows × 7 columns</p>\n",
       "</div>"
      ],
      "text/plain": [
       "       geoid     county state  cases  deaths       date  dwell_time\n",
       "43904   9001  Fairfield    CT      1       0  08mar2020   618.84271\n",
       "43905   9001  Fairfield    CT      2       0  09mar2020   509.19855\n",
       "43906   9001  Fairfield    CT      2       0  10mar2020   570.49030\n",
       "43907   9001  Fairfield    CT      3       0  11mar2020   576.92316\n",
       "43908   9001  Fairfield    CT      5       0  12mar2020   583.74542\n",
       "...      ...        ...   ...    ...     ...        ...         ...\n",
       "45001   9015    Windham    CT    348      14  22may2020   620.14008\n",
       "45002   9015    Windham    CT    354      14  23may2020   686.85559\n",
       "45003   9015    Windham    CT    359      14  24may2020   682.95496\n",
       "45004   9015    Windham    CT    365      14  25may2020   693.06555\n",
       "45005   9015    Windham    CT    371      14  26may2020   639.93140\n",
       "\n",
       "[580 rows x 7 columns]"
      ]
     },
     "execution_count": 14,
     "metadata": {},
     "output_type": "execute_result"
    }
   ],
   "source": [
    "# selecting based on multiple conditions \n",
    "\n",
    "cases_tah[(cases_tah['state'] == 'CT') & (cases_tah['cases'] > 0)]"
   ]
  },
  {
   "cell_type": "code",
   "execution_count": 15,
   "metadata": {
    "scrolled": true
   },
   "outputs": [
    {
     "data": {
      "text/plain": [
       "<matplotlib.axes._subplots.AxesSubplot at 0x7fda0b0b0280>"
      ]
     },
     "execution_count": 15,
     "metadata": {},
     "output_type": "execute_result"
    },
    {
     "data": {
      "image/png": "[encoded data removed]",
      "text/plain": [
       "<Figure size 432x288 with 1 Axes>"
      ]
     },
     "metadata": {
      "needs_background": "light"
     },
     "output_type": "display_data"
    }
   ],
   "source": [
    "nyt_pddata[(nyt_pddata['state'] == 'Connecticut') & (nyt_pddata['cases'] > 0)].plot()"
   ]
  },
  {
   "cell_type": "code",
   "execution_count": 16,
   "metadata": {},
   "outputs": [
    {
     "data": {
      "text/plain": [
       "<matplotlib.axes._subplots.AxesSubplot at 0x7fda0b03ee50>"
      ]
     },
     "execution_count": 16,
     "metadata": {},
     "output_type": "execute_result"
    },
    {
     "data": {
      "image/png": "[encoded data removed]",
      "text/plain": [
       "<Figure size 432x288 with 1 Axes>"
      ]
     },
     "metadata": {
      "needs_background": "light"
     },
     "output_type": "display_data"
    }
   ],
   "source": [
    "nyt_pddata[(nyt_pddata['state'] == 'Connecticut') & (nyt_pddata['cases'] > 0)].plot(x='date',y=['cases','deaths'])\n",
    "# plt.xticks(rotation = 45)\n",
    "# plt.yticks(rotation = 45)"
   ]
  },
  {
   "cell_type": "markdown",
   "metadata": {},
   "source": [
    "### 1.3.2 Counting occurrences"
   ]
  },
  {
   "cell_type": "code",
   "execution_count": 17,
   "metadata": {},
   "outputs": [
    {
     "data": {
      "text/plain": [
       "Texas                       80464\n",
       "Georgia                     53689\n",
       "Virginia                    43935\n",
       "Kentucky                    39172\n",
       "Missouri                    37534\n",
       "Illinois                    33667\n",
       "North Carolina              33309\n",
       "Iowa                        32570\n",
       "Kansas                      32479\n",
       "Tennessee                   31999\n",
       "Indiana                     30946\n",
       "Ohio                        29506\n",
       "Minnesota                   28723\n",
       "Michigan                    27822\n",
       "Mississippi                 27600\n",
       "Nebraska                    27512\n",
       "Oklahoma                    25214\n",
       "Arkansas                    25212\n",
       "Wisconsin                   23951\n",
       "Puerto Rico                 23242\n",
       "Florida                     23102\n",
       "Pennsylvania                22626\n",
       "Alabama                     22497\n",
       "Louisiana                   21978\n",
       "Colorado                    21047\n",
       "South Dakota                20182\n",
       "New York                    19882\n",
       "California                  19875\n",
       "West Virginia               17761\n",
       "North Dakota                16469\n",
       "Montana                     15736\n",
       "South Carolina              15621\n",
       "Idaho                       13602\n",
       "Washington                  13528\n",
       "Oregon                      11758\n",
       "New Mexico                  10648\n",
       "Utah                         9569\n",
       "Maryland                     8520\n",
       "Alaska                       8110\n",
       "New Jersey                   7627\n",
       "Wyoming                      7580\n",
       "Maine                        5655\n",
       "Nevada                       5242\n",
       "Massachusetts                5239\n",
       "Arizona                      5195\n",
       "Vermont                      5083\n",
       "New Hampshire                3717\n",
       "Connecticut                  3086\n",
       "Rhode Island                 2034\n",
       "Hawaii                       1493\n",
       "Delaware                     1351\n",
       "Virgin Islands               1100\n",
       "Northern Mariana Islands      594\n",
       "District of Columbia          353\n",
       "Guam                          345\n",
       "Name: state, dtype: int64"
      ]
     },
     "execution_count": 17,
     "metadata": {},
     "output_type": "execute_result"
    }
   ],
   "source": [
    "nyt_pddata['state'].value_counts()"
   ]
  },
  {
   "cell_type": "markdown",
   "metadata": {},
   "source": [
    "### 1.3.3. Sorting"
   ]
  },
  {
   "cell_type": "code",
   "execution_count": 18,
   "metadata": {},
   "outputs": [
    {
     "data": {
      "text/html": [
       "<div>\n",
       "<style scoped>\n",
       "    .dataframe tbody tr th:only-of-type {\n",
       "        vertical-align: middle;\n",
       "    }\n",
       "\n",
       "    .dataframe tbody tr th {\n",
       "        vertical-align: top;\n",
       "    }\n",
       "\n",
       "    .dataframe thead th {\n",
       "        text-align: right;\n",
       "    }\n",
       "</style>\n",
       "<table border=\"1\" class=\"dataframe\">\n",
       "  <thead>\n",
       "    <tr style=\"text-align: right;\">\n",
       "      <th></th>\n",
       "      <th>geoid</th>\n",
       "      <th>county</th>\n",
       "      <th>state</th>\n",
       "      <th>cases</th>\n",
       "      <th>deaths</th>\n",
       "      <th>date</th>\n",
       "      <th>dwell_time</th>\n",
       "    </tr>\n",
       "  </thead>\n",
       "  <tbody>\n",
       "    <tr>\n",
       "      <th>38543</th>\n",
       "      <td>8053</td>\n",
       "      <td>Hinsdale</td>\n",
       "      <td>CO</td>\n",
       "      <td>3</td>\n",
       "      <td>0</td>\n",
       "      <td>18apr2020</td>\n",
       "      <td>1438.0</td>\n",
       "    </tr>\n",
       "    <tr>\n",
       "      <th>234091</th>\n",
       "      <td>30037</td>\n",
       "      <td>Golden Valley</td>\n",
       "      <td>MT</td>\n",
       "      <td>0</td>\n",
       "      <td>0</td>\n",
       "      <td>17jan2020</td>\n",
       "      <td>1438.0</td>\n",
       "    </tr>\n",
       "    <tr>\n",
       "      <th>236436</th>\n",
       "      <td>30069</td>\n",
       "      <td>Petroleum</td>\n",
       "      <td>MT</td>\n",
       "      <td>0</td>\n",
       "      <td>0</td>\n",
       "      <td>26jan2020</td>\n",
       "      <td>1438.0</td>\n",
       "    </tr>\n",
       "    <tr>\n",
       "      <th>38537</th>\n",
       "      <td>8053</td>\n",
       "      <td>Hinsdale</td>\n",
       "      <td>CO</td>\n",
       "      <td>2</td>\n",
       "      <td>0</td>\n",
       "      <td>12apr2020</td>\n",
       "      <td>1430.0</td>\n",
       "    </tr>\n",
       "    <tr>\n",
       "      <th>234162</th>\n",
       "      <td>30037</td>\n",
       "      <td>Golden Valley</td>\n",
       "      <td>MT</td>\n",
       "      <td>0</td>\n",
       "      <td>0</td>\n",
       "      <td>28mar2020</td>\n",
       "      <td>1403.0</td>\n",
       "    </tr>\n",
       "  </tbody>\n",
       "</table>\n",
       "</div>"
      ],
      "text/plain": [
       "        geoid         county state  cases  deaths       date  dwell_time\n",
       "38543    8053       Hinsdale    CO      3       0  18apr2020      1438.0\n",
       "234091  30037  Golden Valley    MT      0       0  17jan2020      1438.0\n",
       "236436  30069      Petroleum    MT      0       0  26jan2020      1438.0\n",
       "38537    8053       Hinsdale    CO      2       0  12apr2020      1430.0\n",
       "234162  30037  Golden Valley    MT      0       0  28mar2020      1403.0"
      ]
     },
     "execution_count": 18,
     "metadata": {},
     "output_type": "execute_result"
    }
   ],
   "source": [
    "cases_tah.sort_values(by ='dwell_time',ascending = False).head(5)"
   ]
  },
  {
   "cell_type": "code",
   "execution_count": 19,
   "metadata": {},
   "outputs": [
    {
     "data": {
      "text/html": [
       "<div>\n",
       "<style scoped>\n",
       "    .dataframe tbody tr th:only-of-type {\n",
       "        vertical-align: middle;\n",
       "    }\n",
       "\n",
       "    .dataframe tbody tr th {\n",
       "        vertical-align: top;\n",
       "    }\n",
       "\n",
       "    .dataframe thead th {\n",
       "        text-align: right;\n",
       "    }\n",
       "</style>\n",
       "<table border=\"1\" class=\"dataframe\">\n",
       "  <thead>\n",
       "    <tr style=\"text-align: right;\">\n",
       "      <th></th>\n",
       "      <th>geoid</th>\n",
       "      <th>county</th>\n",
       "      <th>state</th>\n",
       "      <th>cases</th>\n",
       "      <th>deaths</th>\n",
       "      <th>date</th>\n",
       "      <th>dwell_time</th>\n",
       "    </tr>\n",
       "  </thead>\n",
       "  <tbody>\n",
       "    <tr>\n",
       "      <th>224530</th>\n",
       "      <td>29135</td>\n",
       "      <td>Moniteau</td>\n",
       "      <td>MO</td>\n",
       "      <td>2</td>\n",
       "      <td>0</td>\n",
       "      <td>01apr2020</td>\n",
       "      <td>825.66455</td>\n",
       "    </tr>\n",
       "    <tr>\n",
       "      <th>155618</th>\n",
       "      <td>21171</td>\n",
       "      <td>Monroe</td>\n",
       "      <td>KY</td>\n",
       "      <td>0</td>\n",
       "      <td>0</td>\n",
       "      <td>01apr2020</td>\n",
       "      <td>847.83801</td>\n",
       "    </tr>\n",
       "    <tr>\n",
       "      <th>220004</th>\n",
       "      <td>29073</td>\n",
       "      <td>Gasconade</td>\n",
       "      <td>MO</td>\n",
       "      <td>1</td>\n",
       "      <td>0</td>\n",
       "      <td>01apr2020</td>\n",
       "      <td>649.77307</td>\n",
       "    </tr>\n",
       "    <tr>\n",
       "      <th>415498</th>\n",
       "      <td>51079</td>\n",
       "      <td>Greene</td>\n",
       "      <td>VA</td>\n",
       "      <td>1</td>\n",
       "      <td>0</td>\n",
       "      <td>01apr2020</td>\n",
       "      <td>688.15088</td>\n",
       "    </tr>\n",
       "    <tr>\n",
       "      <th>155764</th>\n",
       "      <td>21173</td>\n",
       "      <td>Montgomery</td>\n",
       "      <td>KY</td>\n",
       "      <td>5</td>\n",
       "      <td>0</td>\n",
       "      <td>01apr2020</td>\n",
       "      <td>692.90381</td>\n",
       "    </tr>\n",
       "    <tr>\n",
       "      <th>...</th>\n",
       "      <td>...</td>\n",
       "      <td>...</td>\n",
       "      <td>...</td>\n",
       "      <td>...</td>\n",
       "      <td>...</td>\n",
       "      <td>...</td>\n",
       "      <td>...</td>\n",
       "    </tr>\n",
       "    <tr>\n",
       "      <th>446011</th>\n",
       "      <td>55049</td>\n",
       "      <td>Iowa</td>\n",
       "      <td>WI</td>\n",
       "      <td>3</td>\n",
       "      <td>0</td>\n",
       "      <td>31mar2020</td>\n",
       "      <td>743.46790</td>\n",
       "    </tr>\n",
       "    <tr>\n",
       "      <th>125541</th>\n",
       "      <td>19167</td>\n",
       "      <td>Sioux</td>\n",
       "      <td>IA</td>\n",
       "      <td>4</td>\n",
       "      <td>0</td>\n",
       "      <td>31mar2020</td>\n",
       "      <td>511.33047</td>\n",
       "    </tr>\n",
       "    <tr>\n",
       "      <th>431557</th>\n",
       "      <td>53039</td>\n",
       "      <td>Klickitat</td>\n",
       "      <td>WA</td>\n",
       "      <td>7</td>\n",
       "      <td>1</td>\n",
       "      <td>31mar2020</td>\n",
       "      <td>761.89075</td>\n",
       "    </tr>\n",
       "    <tr>\n",
       "      <th>207301</th>\n",
       "      <td>28063</td>\n",
       "      <td>Jefferson</td>\n",
       "      <td>MS</td>\n",
       "      <td>1</td>\n",
       "      <td>0</td>\n",
       "      <td>31mar2020</td>\n",
       "      <td>598.41479</td>\n",
       "    </tr>\n",
       "    <tr>\n",
       "      <th>181897</th>\n",
       "      <td>26055</td>\n",
       "      <td>Grand Traverse</td>\n",
       "      <td>MI</td>\n",
       "      <td>7</td>\n",
       "      <td>0</td>\n",
       "      <td>31mar2020</td>\n",
       "      <td>737.83319</td>\n",
       "    </tr>\n",
       "  </tbody>\n",
       "</table>\n",
       "<p>456288 rows × 7 columns</p>\n",
       "</div>"
      ],
      "text/plain": [
       "        geoid          county state  cases  deaths       date  dwell_time\n",
       "224530  29135        Moniteau    MO      2       0  01apr2020   825.66455\n",
       "155618  21171          Monroe    KY      0       0  01apr2020   847.83801\n",
       "220004  29073       Gasconade    MO      1       0  01apr2020   649.77307\n",
       "415498  51079          Greene    VA      1       0  01apr2020   688.15088\n",
       "155764  21173      Montgomery    KY      5       0  01apr2020   692.90381\n",
       "...       ...             ...   ...    ...     ...        ...         ...\n",
       "446011  55049            Iowa    WI      3       0  31mar2020   743.46790\n",
       "125541  19167           Sioux    IA      4       0  31mar2020   511.33047\n",
       "431557  53039       Klickitat    WA      7       1  31mar2020   761.89075\n",
       "207301  28063       Jefferson    MS      1       0  31mar2020   598.41479\n",
       "181897  26055  Grand Traverse    MI      7       0  31mar2020   737.83319\n",
       "\n",
       "[456288 rows x 7 columns]"
      ]
     },
     "execution_count": 19,
     "metadata": {},
     "output_type": "execute_result"
    }
   ],
   "source": [
    "cases_tah.sort_values(by ='date',ascending = True)"
   ]
  },
  {
   "cell_type": "markdown",
   "metadata": {},
   "source": [
    "It did not recognize `date` as a column of real dates, but treat them as strings. And it orders 01apr2020 before 01jan2020 because \"a\" is in front of \"j\".\n",
    "\n",
    "To modify the data format, there is an easy way to do it under pandas:"
   ]
  },
  {
   "cell_type": "code",
   "execution_count": 20,
   "metadata": {},
   "outputs": [
    {
     "data": {
      "text/html": [
       "<div>\n",
       "<style scoped>\n",
       "    .dataframe tbody tr th:only-of-type {\n",
       "        vertical-align: middle;\n",
       "    }\n",
       "\n",
       "    .dataframe tbody tr th {\n",
       "        vertical-align: top;\n",
       "    }\n",
       "\n",
       "    .dataframe thead th {\n",
       "        text-align: right;\n",
       "    }\n",
       "</style>\n",
       "<table border=\"1\" class=\"dataframe\">\n",
       "  <thead>\n",
       "    <tr style=\"text-align: right;\">\n",
       "      <th></th>\n",
       "      <th>geoid</th>\n",
       "      <th>county</th>\n",
       "      <th>state</th>\n",
       "      <th>cases</th>\n",
       "      <th>deaths</th>\n",
       "      <th>date</th>\n",
       "      <th>dwell_time</th>\n",
       "    </tr>\n",
       "  </thead>\n",
       "  <tbody>\n",
       "    <tr>\n",
       "      <th>0</th>\n",
       "      <td>1001</td>\n",
       "      <td>Autauga</td>\n",
       "      <td>AL</td>\n",
       "      <td>0</td>\n",
       "      <td>0</td>\n",
       "      <td>2020-01-01</td>\n",
       "      <td>929.95764</td>\n",
       "    </tr>\n",
       "    <tr>\n",
       "      <th>1</th>\n",
       "      <td>1003</td>\n",
       "      <td>Baldwin</td>\n",
       "      <td>AL</td>\n",
       "      <td>0</td>\n",
       "      <td>0</td>\n",
       "      <td>2020-01-01</td>\n",
       "      <td>857.86395</td>\n",
       "    </tr>\n",
       "    <tr>\n",
       "      <th>2</th>\n",
       "      <td>1005</td>\n",
       "      <td>Barbour</td>\n",
       "      <td>AL</td>\n",
       "      <td>0</td>\n",
       "      <td>0</td>\n",
       "      <td>2020-01-01</td>\n",
       "      <td>788.39636</td>\n",
       "    </tr>\n",
       "    <tr>\n",
       "      <th>3</th>\n",
       "      <td>1007</td>\n",
       "      <td>Bibb</td>\n",
       "      <td>AL</td>\n",
       "      <td>0</td>\n",
       "      <td>0</td>\n",
       "      <td>2020-01-01</td>\n",
       "      <td>913.77106</td>\n",
       "    </tr>\n",
       "    <tr>\n",
       "      <th>4</th>\n",
       "      <td>1009</td>\n",
       "      <td>Blount</td>\n",
       "      <td>AL</td>\n",
       "      <td>0</td>\n",
       "      <td>0</td>\n",
       "      <td>2020-01-01</td>\n",
       "      <td>956.05914</td>\n",
       "    </tr>\n",
       "    <tr>\n",
       "      <th>...</th>\n",
       "      <td>...</td>\n",
       "      <td>...</td>\n",
       "      <td>...</td>\n",
       "      <td>...</td>\n",
       "      <td>...</td>\n",
       "      <td>...</td>\n",
       "      <td>...</td>\n",
       "    </tr>\n",
       "    <tr>\n",
       "      <th>456283</th>\n",
       "      <td>56045</td>\n",
       "      <td>Weston</td>\n",
       "      <td>WY</td>\n",
       "      <td>0</td>\n",
       "      <td>0</td>\n",
       "      <td>2020-05-22</td>\n",
       "      <td>463.05606</td>\n",
       "    </tr>\n",
       "    <tr>\n",
       "      <th>456284</th>\n",
       "      <td>56045</td>\n",
       "      <td>Weston</td>\n",
       "      <td>WY</td>\n",
       "      <td>0</td>\n",
       "      <td>0</td>\n",
       "      <td>2020-05-23</td>\n",
       "      <td>335.37607</td>\n",
       "    </tr>\n",
       "    <tr>\n",
       "      <th>456285</th>\n",
       "      <td>56045</td>\n",
       "      <td>Weston</td>\n",
       "      <td>WY</td>\n",
       "      <td>0</td>\n",
       "      <td>0</td>\n",
       "      <td>2020-05-24</td>\n",
       "      <td>320.40112</td>\n",
       "    </tr>\n",
       "    <tr>\n",
       "      <th>456286</th>\n",
       "      <td>56045</td>\n",
       "      <td>Weston</td>\n",
       "      <td>WY</td>\n",
       "      <td>0</td>\n",
       "      <td>0</td>\n",
       "      <td>2020-05-25</td>\n",
       "      <td>402.71588</td>\n",
       "    </tr>\n",
       "    <tr>\n",
       "      <th>456287</th>\n",
       "      <td>56045</td>\n",
       "      <td>Weston</td>\n",
       "      <td>WY</td>\n",
       "      <td>0</td>\n",
       "      <td>0</td>\n",
       "      <td>2020-05-26</td>\n",
       "      <td>322.28851</td>\n",
       "    </tr>\n",
       "  </tbody>\n",
       "</table>\n",
       "<p>456288 rows × 7 columns</p>\n",
       "</div>"
      ],
      "text/plain": [
       "        geoid   county state  cases  deaths       date  dwell_time\n",
       "0        1001  Autauga    AL      0       0 2020-01-01   929.95764\n",
       "1        1003  Baldwin    AL      0       0 2020-01-01   857.86395\n",
       "2        1005  Barbour    AL      0       0 2020-01-01   788.39636\n",
       "3        1007     Bibb    AL      0       0 2020-01-01   913.77106\n",
       "4        1009   Blount    AL      0       0 2020-01-01   956.05914\n",
       "...       ...      ...   ...    ...     ...        ...         ...\n",
       "456283  56045   Weston    WY      0       0 2020-05-22   463.05606\n",
       "456284  56045   Weston    WY      0       0 2020-05-23   335.37607\n",
       "456285  56045   Weston    WY      0       0 2020-05-24   320.40112\n",
       "456286  56045   Weston    WY      0       0 2020-05-25   402.71588\n",
       "456287  56045   Weston    WY      0       0 2020-05-26   322.28851\n",
       "\n",
       "[456288 rows x 7 columns]"
      ]
     },
     "execution_count": 20,
     "metadata": {},
     "output_type": "execute_result"
    }
   ],
   "source": [
    "cases_tah.date = pd.to_datetime(cases_tah.date)\n",
    "cases_tah"
   ]
  },
  {
   "cell_type": "code",
   "execution_count": 21,
   "metadata": {},
   "outputs": [
    {
     "data": {
      "text/html": [
       "<div>\n",
       "<style scoped>\n",
       "    .dataframe tbody tr th:only-of-type {\n",
       "        vertical-align: middle;\n",
       "    }\n",
       "\n",
       "    .dataframe tbody tr th {\n",
       "        vertical-align: top;\n",
       "    }\n",
       "\n",
       "    .dataframe thead th {\n",
       "        text-align: right;\n",
       "    }\n",
       "</style>\n",
       "<table border=\"1\" class=\"dataframe\">\n",
       "  <thead>\n",
       "    <tr style=\"text-align: right;\">\n",
       "      <th></th>\n",
       "      <th>geoid</th>\n",
       "      <th>county</th>\n",
       "      <th>state</th>\n",
       "      <th>cases</th>\n",
       "      <th>deaths</th>\n",
       "      <th>date</th>\n",
       "      <th>dwell_time</th>\n",
       "    </tr>\n",
       "  </thead>\n",
       "  <tbody>\n",
       "    <tr>\n",
       "      <th>0</th>\n",
       "      <td>1001</td>\n",
       "      <td>Autauga</td>\n",
       "      <td>AL</td>\n",
       "      <td>0</td>\n",
       "      <td>0</td>\n",
       "      <td>2020-01-01</td>\n",
       "      <td>929.95764</td>\n",
       "    </tr>\n",
       "    <tr>\n",
       "      <th>2063</th>\n",
       "      <td>39109</td>\n",
       "      <td>Miami</td>\n",
       "      <td>OH</td>\n",
       "      <td>0</td>\n",
       "      <td>0</td>\n",
       "      <td>2020-01-01</td>\n",
       "      <td>812.92145</td>\n",
       "    </tr>\n",
       "    <tr>\n",
       "      <th>2064</th>\n",
       "      <td>39111</td>\n",
       "      <td>Monroe</td>\n",
       "      <td>OH</td>\n",
       "      <td>0</td>\n",
       "      <td>0</td>\n",
       "      <td>2020-01-01</td>\n",
       "      <td>676.85876</td>\n",
       "    </tr>\n",
       "    <tr>\n",
       "      <th>2065</th>\n",
       "      <td>39113</td>\n",
       "      <td>Montgomery</td>\n",
       "      <td>OH</td>\n",
       "      <td>0</td>\n",
       "      <td>0</td>\n",
       "      <td>2020-01-01</td>\n",
       "      <td>775.34802</td>\n",
       "    </tr>\n",
       "    <tr>\n",
       "      <th>2066</th>\n",
       "      <td>39115</td>\n",
       "      <td>Morgan</td>\n",
       "      <td>OH</td>\n",
       "      <td>0</td>\n",
       "      <td>0</td>\n",
       "      <td>2020-01-01</td>\n",
       "      <td>630.37836</td>\n",
       "    </tr>\n",
       "    <tr>\n",
       "      <th>...</th>\n",
       "      <td>...</td>\n",
       "      <td>...</td>\n",
       "      <td>...</td>\n",
       "      <td>...</td>\n",
       "      <td>...</td>\n",
       "      <td>...</td>\n",
       "      <td>...</td>\n",
       "    </tr>\n",
       "    <tr>\n",
       "      <th>392485</th>\n",
       "      <td>48355</td>\n",
       "      <td>Nueces</td>\n",
       "      <td>TX</td>\n",
       "      <td>266</td>\n",
       "      <td>3</td>\n",
       "      <td>2020-05-26</td>\n",
       "      <td>585.16980</td>\n",
       "    </tr>\n",
       "    <tr>\n",
       "      <th>102091</th>\n",
       "      <td>18029</td>\n",
       "      <td>Dearborn</td>\n",
       "      <td>IN</td>\n",
       "      <td>164</td>\n",
       "      <td>21</td>\n",
       "      <td>2020-05-26</td>\n",
       "      <td>670.97052</td>\n",
       "    </tr>\n",
       "    <tr>\n",
       "      <th>285759</th>\n",
       "      <td>37159</td>\n",
       "      <td>Rowan</td>\n",
       "      <td>NC</td>\n",
       "      <td>612</td>\n",
       "      <td>32</td>\n",
       "      <td>2020-05-26</td>\n",
       "      <td>617.17706</td>\n",
       "    </tr>\n",
       "    <tr>\n",
       "      <th>286343</th>\n",
       "      <td>37167</td>\n",
       "      <td>Stanly</td>\n",
       "      <td>NC</td>\n",
       "      <td>53</td>\n",
       "      <td>4</td>\n",
       "      <td>2020-05-26</td>\n",
       "      <td>669.62256</td>\n",
       "    </tr>\n",
       "    <tr>\n",
       "      <th>456287</th>\n",
       "      <td>56045</td>\n",
       "      <td>Weston</td>\n",
       "      <td>WY</td>\n",
       "      <td>0</td>\n",
       "      <td>0</td>\n",
       "      <td>2020-05-26</td>\n",
       "      <td>322.28851</td>\n",
       "    </tr>\n",
       "  </tbody>\n",
       "</table>\n",
       "<p>456288 rows × 7 columns</p>\n",
       "</div>"
      ],
      "text/plain": [
       "        geoid      county state  cases  deaths       date  dwell_time\n",
       "0        1001     Autauga    AL      0       0 2020-01-01   929.95764\n",
       "2063    39109       Miami    OH      0       0 2020-01-01   812.92145\n",
       "2064    39111      Monroe    OH      0       0 2020-01-01   676.85876\n",
       "2065    39113  Montgomery    OH      0       0 2020-01-01   775.34802\n",
       "2066    39115      Morgan    OH      0       0 2020-01-01   630.37836\n",
       "...       ...         ...   ...    ...     ...        ...         ...\n",
       "392485  48355      Nueces    TX    266       3 2020-05-26   585.16980\n",
       "102091  18029    Dearborn    IN    164      21 2020-05-26   670.97052\n",
       "285759  37159       Rowan    NC    612      32 2020-05-26   617.17706\n",
       "286343  37167      Stanly    NC     53       4 2020-05-26   669.62256\n",
       "456287  56045      Weston    WY      0       0 2020-05-26   322.28851\n",
       "\n",
       "[456288 rows x 7 columns]"
      ]
     },
     "execution_count": 21,
     "metadata": {},
     "output_type": "execute_result"
    }
   ],
   "source": [
    "cases_tah.sort_values(by ='date',ascending = True)"
   ]
  },
  {
   "cell_type": "markdown",
   "metadata": {},
   "source": [
    "Now the results are better sorted."
   ]
  },
  {
   "cell_type": "markdown",
   "metadata": {},
   "source": [
    "### 1.3.4. Adding new column to the existing DataFrame in Pandas"
   ]
  },
  {
   "cell_type": "code",
   "execution_count": 22,
   "metadata": {},
   "outputs": [
    {
     "data": {
      "text/html": [
       "<div>\n",
       "<style scoped>\n",
       "    .dataframe tbody tr th:only-of-type {\n",
       "        vertical-align: middle;\n",
       "    }\n",
       "\n",
       "    .dataframe tbody tr th {\n",
       "        vertical-align: top;\n",
       "    }\n",
       "\n",
       "    .dataframe thead th {\n",
       "        text-align: right;\n",
       "    }\n",
       "</style>\n",
       "<table border=\"1\" class=\"dataframe\">\n",
       "  <thead>\n",
       "    <tr style=\"text-align: right;\">\n",
       "      <th></th>\n",
       "      <th>geoid</th>\n",
       "      <th>county</th>\n",
       "      <th>state</th>\n",
       "      <th>cases</th>\n",
       "      <th>deaths</th>\n",
       "      <th>date</th>\n",
       "      <th>dwell_time</th>\n",
       "      <th>logcase</th>\n",
       "    </tr>\n",
       "  </thead>\n",
       "  <tbody>\n",
       "    <tr>\n",
       "      <th>0</th>\n",
       "      <td>1001</td>\n",
       "      <td>Autauga</td>\n",
       "      <td>AL</td>\n",
       "      <td>0</td>\n",
       "      <td>0</td>\n",
       "      <td>2020-01-01</td>\n",
       "      <td>929.95764</td>\n",
       "      <td>0.0</td>\n",
       "    </tr>\n",
       "    <tr>\n",
       "      <th>1</th>\n",
       "      <td>1003</td>\n",
       "      <td>Baldwin</td>\n",
       "      <td>AL</td>\n",
       "      <td>0</td>\n",
       "      <td>0</td>\n",
       "      <td>2020-01-01</td>\n",
       "      <td>857.86395</td>\n",
       "      <td>0.0</td>\n",
       "    </tr>\n",
       "    <tr>\n",
       "      <th>2</th>\n",
       "      <td>1005</td>\n",
       "      <td>Barbour</td>\n",
       "      <td>AL</td>\n",
       "      <td>0</td>\n",
       "      <td>0</td>\n",
       "      <td>2020-01-01</td>\n",
       "      <td>788.39636</td>\n",
       "      <td>0.0</td>\n",
       "    </tr>\n",
       "    <tr>\n",
       "      <th>3</th>\n",
       "      <td>1007</td>\n",
       "      <td>Bibb</td>\n",
       "      <td>AL</td>\n",
       "      <td>0</td>\n",
       "      <td>0</td>\n",
       "      <td>2020-01-01</td>\n",
       "      <td>913.77106</td>\n",
       "      <td>0.0</td>\n",
       "    </tr>\n",
       "    <tr>\n",
       "      <th>4</th>\n",
       "      <td>1009</td>\n",
       "      <td>Blount</td>\n",
       "      <td>AL</td>\n",
       "      <td>0</td>\n",
       "      <td>0</td>\n",
       "      <td>2020-01-01</td>\n",
       "      <td>956.05914</td>\n",
       "      <td>0.0</td>\n",
       "    </tr>\n",
       "    <tr>\n",
       "      <th>...</th>\n",
       "      <td>...</td>\n",
       "      <td>...</td>\n",
       "      <td>...</td>\n",
       "      <td>...</td>\n",
       "      <td>...</td>\n",
       "      <td>...</td>\n",
       "      <td>...</td>\n",
       "      <td>...</td>\n",
       "    </tr>\n",
       "    <tr>\n",
       "      <th>456283</th>\n",
       "      <td>56045</td>\n",
       "      <td>Weston</td>\n",
       "      <td>WY</td>\n",
       "      <td>0</td>\n",
       "      <td>0</td>\n",
       "      <td>2020-05-22</td>\n",
       "      <td>463.05606</td>\n",
       "      <td>0.0</td>\n",
       "    </tr>\n",
       "    <tr>\n",
       "      <th>456284</th>\n",
       "      <td>56045</td>\n",
       "      <td>Weston</td>\n",
       "      <td>WY</td>\n",
       "      <td>0</td>\n",
       "      <td>0</td>\n",
       "      <td>2020-05-23</td>\n",
       "      <td>335.37607</td>\n",
       "      <td>0.0</td>\n",
       "    </tr>\n",
       "    <tr>\n",
       "      <th>456285</th>\n",
       "      <td>56045</td>\n",
       "      <td>Weston</td>\n",
       "      <td>WY</td>\n",
       "      <td>0</td>\n",
       "      <td>0</td>\n",
       "      <td>2020-05-24</td>\n",
       "      <td>320.40112</td>\n",
       "      <td>0.0</td>\n",
       "    </tr>\n",
       "    <tr>\n",
       "      <th>456286</th>\n",
       "      <td>56045</td>\n",
       "      <td>Weston</td>\n",
       "      <td>WY</td>\n",
       "      <td>0</td>\n",
       "      <td>0</td>\n",
       "      <td>2020-05-25</td>\n",
       "      <td>402.71588</td>\n",
       "      <td>0.0</td>\n",
       "    </tr>\n",
       "    <tr>\n",
       "      <th>456287</th>\n",
       "      <td>56045</td>\n",
       "      <td>Weston</td>\n",
       "      <td>WY</td>\n",
       "      <td>0</td>\n",
       "      <td>0</td>\n",
       "      <td>2020-05-26</td>\n",
       "      <td>322.28851</td>\n",
       "      <td>0.0</td>\n",
       "    </tr>\n",
       "  </tbody>\n",
       "</table>\n",
       "<p>456288 rows × 8 columns</p>\n",
       "</div>"
      ],
      "text/plain": [
       "        geoid   county state  cases  deaths       date  dwell_time  logcase\n",
       "0        1001  Autauga    AL      0       0 2020-01-01   929.95764      0.0\n",
       "1        1003  Baldwin    AL      0       0 2020-01-01   857.86395      0.0\n",
       "2        1005  Barbour    AL      0       0 2020-01-01   788.39636      0.0\n",
       "3        1007     Bibb    AL      0       0 2020-01-01   913.77106      0.0\n",
       "4        1009   Blount    AL      0       0 2020-01-01   956.05914      0.0\n",
       "...       ...      ...   ...    ...     ...        ...         ...      ...\n",
       "456283  56045   Weston    WY      0       0 2020-05-22   463.05606      0.0\n",
       "456284  56045   Weston    WY      0       0 2020-05-23   335.37607      0.0\n",
       "456285  56045   Weston    WY      0       0 2020-05-24   320.40112      0.0\n",
       "456286  56045   Weston    WY      0       0 2020-05-25   402.71588      0.0\n",
       "456287  56045   Weston    WY      0       0 2020-05-26   322.28851      0.0\n",
       "\n",
       "[456288 rows x 8 columns]"
      ]
     },
     "execution_count": 22,
     "metadata": {},
     "output_type": "execute_result"
    }
   ],
   "source": [
    "cases_tah['logcase'] = np.log(cases_tah['cases'] + 1)\n",
    "cases_tah"
   ]
  },
  {
   "cell_type": "code",
   "execution_count": 23,
   "metadata": {},
   "outputs": [
    {
     "data": {
      "text/html": [
       "<div>\n",
       "<style scoped>\n",
       "    .dataframe tbody tr th:only-of-type {\n",
       "        vertical-align: middle;\n",
       "    }\n",
       "\n",
       "    .dataframe tbody tr th {\n",
       "        vertical-align: top;\n",
       "    }\n",
       "\n",
       "    .dataframe thead th {\n",
       "        text-align: right;\n",
       "    }\n",
       "</style>\n",
       "<table border=\"1\" class=\"dataframe\">\n",
       "  <thead>\n",
       "    <tr style=\"text-align: right;\">\n",
       "      <th></th>\n",
       "      <th>geoid</th>\n",
       "      <th>county</th>\n",
       "      <th>state</th>\n",
       "      <th>cases</th>\n",
       "      <th>deaths</th>\n",
       "      <th>date</th>\n",
       "      <th>dwell_time</th>\n",
       "      <th>logcase</th>\n",
       "    </tr>\n",
       "  </thead>\n",
       "  <tbody>\n",
       "    <tr>\n",
       "      <th>3186</th>\n",
       "      <td>1001</td>\n",
       "      <td>Autauga</td>\n",
       "      <td>AL</td>\n",
       "      <td>1</td>\n",
       "      <td>0</td>\n",
       "      <td>2020-03-24</td>\n",
       "      <td>830.25403</td>\n",
       "      <td>0.693147</td>\n",
       "    </tr>\n",
       "    <tr>\n",
       "      <th>3187</th>\n",
       "      <td>1001</td>\n",
       "      <td>Autauga</td>\n",
       "      <td>AL</td>\n",
       "      <td>4</td>\n",
       "      <td>0</td>\n",
       "      <td>2020-03-25</td>\n",
       "      <td>827.82336</td>\n",
       "      <td>1.609438</td>\n",
       "    </tr>\n",
       "    <tr>\n",
       "      <th>3188</th>\n",
       "      <td>1001</td>\n",
       "      <td>Autauga</td>\n",
       "      <td>AL</td>\n",
       "      <td>6</td>\n",
       "      <td>0</td>\n",
       "      <td>2020-03-26</td>\n",
       "      <td>841.66962</td>\n",
       "      <td>1.945910</td>\n",
       "    </tr>\n",
       "    <tr>\n",
       "      <th>3189</th>\n",
       "      <td>1001</td>\n",
       "      <td>Autauga</td>\n",
       "      <td>AL</td>\n",
       "      <td>6</td>\n",
       "      <td>0</td>\n",
       "      <td>2020-03-27</td>\n",
       "      <td>873.96906</td>\n",
       "      <td>1.945910</td>\n",
       "    </tr>\n",
       "    <tr>\n",
       "      <th>3190</th>\n",
       "      <td>1001</td>\n",
       "      <td>Autauga</td>\n",
       "      <td>AL</td>\n",
       "      <td>6</td>\n",
       "      <td>0</td>\n",
       "      <td>2020-03-28</td>\n",
       "      <td>986.47754</td>\n",
       "      <td>1.945910</td>\n",
       "    </tr>\n",
       "    <tr>\n",
       "      <th>...</th>\n",
       "      <td>...</td>\n",
       "      <td>...</td>\n",
       "      <td>...</td>\n",
       "      <td>...</td>\n",
       "      <td>...</td>\n",
       "      <td>...</td>\n",
       "      <td>...</td>\n",
       "      <td>...</td>\n",
       "    </tr>\n",
       "    <tr>\n",
       "      <th>456137</th>\n",
       "      <td>56043</td>\n",
       "      <td>Washakie</td>\n",
       "      <td>WY</td>\n",
       "      <td>19</td>\n",
       "      <td>1</td>\n",
       "      <td>2020-05-22</td>\n",
       "      <td>575.32990</td>\n",
       "      <td>2.995732</td>\n",
       "    </tr>\n",
       "    <tr>\n",
       "      <th>456138</th>\n",
       "      <td>56043</td>\n",
       "      <td>Washakie</td>\n",
       "      <td>WY</td>\n",
       "      <td>20</td>\n",
       "      <td>1</td>\n",
       "      <td>2020-05-23</td>\n",
       "      <td>542.39172</td>\n",
       "      <td>3.044522</td>\n",
       "    </tr>\n",
       "    <tr>\n",
       "      <th>456139</th>\n",
       "      <td>56043</td>\n",
       "      <td>Washakie</td>\n",
       "      <td>WY</td>\n",
       "      <td>20</td>\n",
       "      <td>1</td>\n",
       "      <td>2020-05-24</td>\n",
       "      <td>565.30212</td>\n",
       "      <td>3.044522</td>\n",
       "    </tr>\n",
       "    <tr>\n",
       "      <th>456140</th>\n",
       "      <td>56043</td>\n",
       "      <td>Washakie</td>\n",
       "      <td>WY</td>\n",
       "      <td>30</td>\n",
       "      <td>1</td>\n",
       "      <td>2020-05-25</td>\n",
       "      <td>548.37018</td>\n",
       "      <td>3.433987</td>\n",
       "    </tr>\n",
       "    <tr>\n",
       "      <th>456141</th>\n",
       "      <td>56043</td>\n",
       "      <td>Washakie</td>\n",
       "      <td>WY</td>\n",
       "      <td>32</td>\n",
       "      <td>2</td>\n",
       "      <td>2020-05-26</td>\n",
       "      <td>570.98230</td>\n",
       "      <td>3.496508</td>\n",
       "    </tr>\n",
       "  </tbody>\n",
       "</table>\n",
       "<p>176548 rows × 8 columns</p>\n",
       "</div>"
      ],
      "text/plain": [
       "        geoid    county state  cases  deaths       date  dwell_time   logcase\n",
       "3186     1001   Autauga    AL      1       0 2020-03-24   830.25403  0.693147\n",
       "3187     1001   Autauga    AL      4       0 2020-03-25   827.82336  1.609438\n",
       "3188     1001   Autauga    AL      6       0 2020-03-26   841.66962  1.945910\n",
       "3189     1001   Autauga    AL      6       0 2020-03-27   873.96906  1.945910\n",
       "3190     1001   Autauga    AL      6       0 2020-03-28   986.47754  1.945910\n",
       "...       ...       ...   ...    ...     ...        ...         ...       ...\n",
       "456137  56043  Washakie    WY     19       1 2020-05-22   575.32990  2.995732\n",
       "456138  56043  Washakie    WY     20       1 2020-05-23   542.39172  3.044522\n",
       "456139  56043  Washakie    WY     20       1 2020-05-24   565.30212  3.044522\n",
       "456140  56043  Washakie    WY     30       1 2020-05-25   548.37018  3.433987\n",
       "456141  56043  Washakie    WY     32       2 2020-05-26   570.98230  3.496508\n",
       "\n",
       "[176548 rows x 8 columns]"
      ]
     },
     "execution_count": 23,
     "metadata": {},
     "output_type": "execute_result"
    }
   ],
   "source": [
    "# Check if the logcase is calculated correctly by observing the positive cases:\n",
    "\n",
    "cases_tah[cases_tah['cases']>0]"
   ]
  },
  {
   "cell_type": "markdown",
   "metadata": {},
   "source": [
    "### 1.3.5. Grouping Data"
   ]
  },
  {
   "cell_type": "code",
   "execution_count": 24,
   "metadata": {},
   "outputs": [
    {
     "data": {
      "text/plain": [
       "<pandas.core.groupby.generic.DataFrameGroupBy object at 0x7fda09c7ef70>"
      ]
     },
     "execution_count": 24,
     "metadata": {},
     "output_type": "execute_result"
    }
   ],
   "source": [
    "nyt_pddata.groupby('state')"
   ]
  },
  {
   "cell_type": "markdown",
   "metadata": {},
   "source": [
    "Without specifying `.mean()` or `.sum()` would not provide us the dataset we need."
   ]
  },
  {
   "cell_type": "code",
   "execution_count": 25,
   "metadata": {},
   "outputs": [
    {
     "data": {
      "text/html": [
       "<div>\n",
       "<style scoped>\n",
       "    .dataframe tbody tr th:only-of-type {\n",
       "        vertical-align: middle;\n",
       "    }\n",
       "\n",
       "    .dataframe tbody tr th {\n",
       "        vertical-align: top;\n",
       "    }\n",
       "\n",
       "    .dataframe thead th {\n",
       "        text-align: right;\n",
       "    }\n",
       "</style>\n",
       "<table border=\"1\" class=\"dataframe\">\n",
       "  <thead>\n",
       "    <tr style=\"text-align: right;\">\n",
       "      <th></th>\n",
       "      <th>fips</th>\n",
       "      <th>cases</th>\n",
       "      <th>deaths</th>\n",
       "    </tr>\n",
       "    <tr>\n",
       "      <th>state</th>\n",
       "      <th></th>\n",
       "      <th></th>\n",
       "      <th></th>\n",
       "    </tr>\n",
       "  </thead>\n",
       "  <tbody>\n",
       "    <tr>\n",
       "      <th>Alabama</th>\n",
       "      <td>1067.150420</td>\n",
       "      <td>2473.344624</td>\n",
       "      <td>40.409077</td>\n",
       "    </tr>\n",
       "    <tr>\n",
       "      <th>Alaska</th>\n",
       "      <td>2201.488153</td>\n",
       "      <td>698.240937</td>\n",
       "      <td>3.228483</td>\n",
       "    </tr>\n",
       "    <tr>\n",
       "      <th>Arizona</th>\n",
       "      <td>4013.906202</td>\n",
       "      <td>16360.008277</td>\n",
       "      <td>329.562656</td>\n",
       "    </tr>\n",
       "  </tbody>\n",
       "</table>\n",
       "</div>"
      ],
      "text/plain": [
       "                fips         cases      deaths\n",
       "state                                         \n",
       "Alabama  1067.150420   2473.344624   40.409077\n",
       "Alaska   2201.488153    698.240937    3.228483\n",
       "Arizona  4013.906202  16360.008277  329.562656"
      ]
     },
     "execution_count": 25,
     "metadata": {},
     "output_type": "execute_result"
    }
   ],
   "source": [
    "nyt_pddata.groupby('state').mean().head(3)"
   ]
  },
  {
   "cell_type": "code",
   "execution_count": 26,
   "metadata": {},
   "outputs": [
    {
     "data": {
      "text/html": [
       "<div>\n",
       "<style scoped>\n",
       "    .dataframe tbody tr th:only-of-type {\n",
       "        vertical-align: middle;\n",
       "    }\n",
       "\n",
       "    .dataframe tbody tr th {\n",
       "        vertical-align: top;\n",
       "    }\n",
       "\n",
       "    .dataframe thead th {\n",
       "        text-align: right;\n",
       "    }\n",
       "</style>\n",
       "<table border=\"1\" class=\"dataframe\">\n",
       "  <thead>\n",
       "    <tr style=\"text-align: right;\">\n",
       "      <th></th>\n",
       "      <th>fips</th>\n",
       "      <th>cases</th>\n",
       "      <th>deaths</th>\n",
       "    </tr>\n",
       "    <tr>\n",
       "      <th>state</th>\n",
       "      <th></th>\n",
       "      <th></th>\n",
       "      <th></th>\n",
       "    </tr>\n",
       "  </thead>\n",
       "  <tbody>\n",
       "    <tr>\n",
       "      <th>Northern Mariana Islands</th>\n",
       "      <td>69115.000000</td>\n",
       "      <td>37.696970</td>\n",
       "      <td>1.094276</td>\n",
       "    </tr>\n",
       "    <tr>\n",
       "      <th>Vermont</th>\n",
       "      <td>50014.011378</td>\n",
       "      <td>228.027936</td>\n",
       "      <td>5.022624</td>\n",
       "    </tr>\n",
       "    <tr>\n",
       "      <th>Virgin Islands</th>\n",
       "      <td>78020.000000</td>\n",
       "      <td>308.885455</td>\n",
       "      <td>4.341818</td>\n",
       "    </tr>\n",
       "    <tr>\n",
       "      <th>West Virginia</th>\n",
       "      <td>54055.151135</td>\n",
       "      <td>605.750239</td>\n",
       "      <td>10.420584</td>\n",
       "    </tr>\n",
       "    <tr>\n",
       "      <th>Maine</th>\n",
       "      <td>23015.944589</td>\n",
       "      <td>615.836074</td>\n",
       "      <td>11.424757</td>\n",
       "    </tr>\n",
       "  </tbody>\n",
       "</table>\n",
       "</div>"
      ],
      "text/plain": [
       "                                  fips       cases     deaths\n",
       "state                                                        \n",
       "Northern Mariana Islands  69115.000000   37.696970   1.094276\n",
       "Vermont                   50014.011378  228.027936   5.022624\n",
       "Virgin Islands            78020.000000  308.885455   4.341818\n",
       "West Virginia             54055.151135  605.750239  10.420584\n",
       "Maine                     23015.944589  615.836074  11.424757"
      ]
     },
     "execution_count": 26,
     "metadata": {},
     "output_type": "execute_result"
    }
   ],
   "source": [
    "nyt_pddata.groupby('state').mean().sort_values(by='cases', ascending = True).head(5)"
   ]
  },
  {
   "cell_type": "markdown",
   "metadata": {},
   "source": [
    "# 2. Plot\n",
    "\n",
    "We did some plot already, let's summarize them here systematically.\n",
    "\n",
    "## 2.1. Line plot"
   ]
  },
  {
   "cell_type": "code",
   "execution_count": 27,
   "metadata": {},
   "outputs": [],
   "source": [
    "nytdate = nyt_pddata.groupby(['date']).mean().drop(columns='fips')"
   ]
  },
  {
   "cell_type": "code",
   "execution_count": 28,
   "metadata": {},
   "outputs": [
    {
     "data": {
      "text/plain": [
       "(array([-50.,   0.,  50., 100., 150., 200., 250., 300., 350., 400., 450.]),\n",
       " <a list of 11 Text major ticklabel objects>)"
      ]
     },
     "execution_count": 28,
     "metadata": {},
     "output_type": "execute_result"
    },
    {
     "data": {
      "image/png": "[encoded data removed]",
      "text/plain": [
       "<Figure size 432x288 with 1 Axes>"
      ]
     },
     "metadata": {
      "needs_background": "light"
     },
     "output_type": "display_data"
    }
   ],
   "source": [
    "# nytdate.plot(x='date',y=['cases','deaths']) # return error\n",
    "\n",
    "nytdate.plot(y=['cases','deaths'],use_index = True, title=\"COVID-19 cases and deaths\")\n",
    "plt.xticks(rotation = 45)"
   ]
  },
  {
   "cell_type": "markdown",
   "metadata": {},
   "source": [
    "What's going on with the `index`? \n",
    "\n",
    "Index is like an address, that's how any data point across the dataframe or series can be accessed. Rows and columns both have indexes, rows indices are called as index and for columns its general column names."
   ]
  },
  {
   "cell_type": "code",
   "execution_count": 29,
   "metadata": {},
   "outputs": [
    {
     "data": {
      "text/html": [
       "<div>\n",
       "<style scoped>\n",
       "    .dataframe tbody tr th:only-of-type {\n",
       "        vertical-align: middle;\n",
       "    }\n",
       "\n",
       "    .dataframe tbody tr th {\n",
       "        vertical-align: top;\n",
       "    }\n",
       "\n",
       "    .dataframe thead th {\n",
       "        text-align: right;\n",
       "    }\n",
       "</style>\n",
       "<table border=\"1\" class=\"dataframe\">\n",
       "  <thead>\n",
       "    <tr style=\"text-align: right;\">\n",
       "      <th></th>\n",
       "      <th>cases</th>\n",
       "      <th>deaths</th>\n",
       "    </tr>\n",
       "    <tr>\n",
       "      <th>date</th>\n",
       "      <th></th>\n",
       "      <th></th>\n",
       "    </tr>\n",
       "  </thead>\n",
       "  <tbody>\n",
       "    <tr>\n",
       "      <th>2020-01-21</th>\n",
       "      <td>1.0</td>\n",
       "      <td>0.0</td>\n",
       "    </tr>\n",
       "    <tr>\n",
       "      <th>2020-01-22</th>\n",
       "      <td>1.0</td>\n",
       "      <td>0.0</td>\n",
       "    </tr>\n",
       "    <tr>\n",
       "      <th>2020-01-23</th>\n",
       "      <td>1.0</td>\n",
       "      <td>0.0</td>\n",
       "    </tr>\n",
       "  </tbody>\n",
       "</table>\n",
       "</div>"
      ],
      "text/plain": [
       "            cases  deaths\n",
       "date                     \n",
       "2020-01-21    1.0     0.0\n",
       "2020-01-22    1.0     0.0\n",
       "2020-01-23    1.0     0.0"
      ]
     },
     "execution_count": 29,
     "metadata": {},
     "output_type": "execute_result"
    }
   ],
   "source": [
    "nytdate.head(3)"
   ]
  },
  {
   "cell_type": "markdown",
   "metadata": {},
   "source": [
    "A simple way to do reset the index:"
   ]
  },
  {
   "cell_type": "code",
   "execution_count": 30,
   "metadata": {},
   "outputs": [],
   "source": [
    "nytdate=nytdate.reset_index()"
   ]
  },
  {
   "cell_type": "code",
   "execution_count": 31,
   "metadata": {},
   "outputs": [
    {
     "data": {
      "text/plain": [
       "(array([-50.,   0.,  50., 100., 150., 200., 250., 300., 350., 400., 450.]),\n",
       " <a list of 11 Text major ticklabel objects>)"
      ]
     },
     "execution_count": 31,
     "metadata": {},
     "output_type": "execute_result"
    },
    {
     "data": {
      "image/png": "[encoded data removed]",
      "text/plain": [
       "<Figure size 432x288 with 1 Axes>"
      ]
     },
     "metadata": {
      "needs_background": "light"
     },
     "output_type": "display_data"
    }
   ],
   "source": [
    "nytdate.plot(x='date',y=['cases','deaths'])\n",
    "plt.xticks(rotation = 45)"
   ]
  },
  {
   "cell_type": "code",
   "execution_count": 32,
   "metadata": {},
   "outputs": [
    {
     "data": {
      "text/plain": [
       "(array([-50.,   0.,  50., 100., 150., 200., 250., 300., 350., 400., 450.]),\n",
       " <a list of 11 Text major ticklabel objects>)"
      ]
     },
     "execution_count": 32,
     "metadata": {},
     "output_type": "execute_result"
    },
    {
     "data": {
      "image/png": "[encoded data removed]",
      "text/plain": [
       "<Figure size 432x288 with 1 Axes>"
      ]
     },
     "metadata": {
      "needs_background": "light"
     },
     "output_type": "display_data"
    }
   ],
   "source": [
    "nytdate.plot.area(x='date',y=['cases','deaths'])\n",
    "plt.xticks(rotation = 45)"
   ]
  },
  {
   "cell_type": "code",
   "execution_count": 33,
   "metadata": {},
   "outputs": [
    {
     "data": {
      "text/plain": [
       "(array([-50.,   0.,  50., 100., 150., 200., 250., 300., 350., 400., 450.]),\n",
       " <a list of 11 Text major ticklabel objects>)"
      ]
     },
     "execution_count": 33,
     "metadata": {},
     "output_type": "execute_result"
    },
    {
     "data": {
      "image/png": "[encoded data removed]",
      "text/plain": [
       "<Figure size 432x288 with 1 Axes>"
      ]
     },
     "metadata": {
      "needs_background": "light"
     },
     "output_type": "display_data"
    }
   ],
   "source": [
    "nytdate.plot.area(x='date',y=['cases','deaths'], stacked = False)\n",
    "plt.xticks(rotation = 45) \n",
    "\n",
    "# Semi-Transparent, unstacked plot"
   ]
  },
  {
   "cell_type": "markdown",
   "metadata": {},
   "source": [
    "## 2.2. Box Plot\n",
    "\n",
    "In descriptive statistics, a box plot or boxplot is a method for graphically depicting groups of numerical data through their quartiles. Box plots may also have lines extending from the boxes (named whiskers) indicating variability outside the upper and lower quartiles, hence the terms box-and-whisker plot and box-and-whisker diagram. Outliers may be plotted as individual points. Box plots are non-parametric: they display variation in samples of a statistical population without making any assumptions of the underlying statistical distribution (though Tukey's boxplot assumes symmetry for the whiskers and normality for their length). "
   ]
  },
  {
   "cell_type": "code",
   "execution_count": 34,
   "metadata": {},
   "outputs": [
    {
     "data": {
      "text/plain": [
       "<matplotlib.axes._subplots.AxesSubplot at 0x7fd9f8735cd0>"
      ]
     },
     "execution_count": 34,
     "metadata": {},
     "output_type": "execute_result"
    },
    {
     "data": {
      "image/png": "[encoded data removed]",
      "text/plain": [
       "<Figure size 432x288 with 1 Axes>"
      ]
     },
     "metadata": {
      "needs_background": "light"
     },
     "output_type": "display_data"
    }
   ],
   "source": [
    "nytdate.boxplot(column=[\"cases\",\"deaths\"])"
   ]
  },
  {
   "cell_type": "markdown",
   "metadata": {},
   "source": [
    "This is not a good plot, because outliers, plotted as individual points, are not clear enough. The comparison between cases and deaths are not in scale."
   ]
  },
  {
   "cell_type": "code",
   "execution_count": 35,
   "metadata": {},
   "outputs": [
    {
     "data": {
      "text/plain": [
       "<matplotlib.axes._subplots.AxesSubplot at 0x7fd9f88dc610>"
      ]
     },
     "execution_count": 35,
     "metadata": {},
     "output_type": "execute_result"
    },
    {
     "data": {
      "image/png": "[encoded data removed]",
      "text/plain": [
       "<Figure size 432x720 with 1 Axes>"
      ]
     },
     "metadata": {
      "needs_background": "light"
     },
     "output_type": "display_data"
    }
   ],
   "source": [
    "nyt_pddata.boxplot(column=[\"cases\"],by='state', vert=False, figsize=(6,10))"
   ]
  },
  {
   "cell_type": "markdown",
   "metadata": {},
   "source": [
    "This could be a signal that using the level of cases may have too many outliers. Let's try log of cases instead."
   ]
  },
  {
   "cell_type": "code",
   "execution_count": 36,
   "metadata": {},
   "outputs": [
    {
     "data": {
      "text/plain": [
       "<matplotlib.axes._subplots.AxesSubplot at 0x7fd9f88574f0>"
      ]
     },
     "execution_count": 36,
     "metadata": {},
     "output_type": "execute_result"
    },
    {
     "data": {
      "image/png": "[encoded data removed]",
      "text/plain": [
       "<Figure size 432x720 with 1 Axes>"
      ]
     },
     "metadata": {
      "needs_background": "light"
     },
     "output_type": "display_data"
    }
   ],
   "source": [
    "# Recall\n",
    "nyt_pddata['logcase'] = np.log(nyt_pddata['cases'] + 1)\n",
    "nyt_pddata.boxplot(column=[\"logcase\"],by='state', vert=False, figsize=(6,10))\n",
    "\n",
    "# The increasing speed of the cases are relatively balanced for all states."
   ]
  },
  {
   "cell_type": "markdown",
   "metadata": {},
   "source": [
    "This is suggesting that log case is a better indicator for analysis. "
   ]
  },
  {
   "cell_type": "markdown",
   "metadata": {},
   "source": [
    "## 2.3. Scatter Plot"
   ]
  },
  {
   "cell_type": "code",
   "execution_count": 37,
   "metadata": {},
   "outputs": [
    {
     "data": {
      "text/html": [
       "<div>\n",
       "<style scoped>\n",
       "    .dataframe tbody tr th:only-of-type {\n",
       "        vertical-align: middle;\n",
       "    }\n",
       "\n",
       "    .dataframe tbody tr th {\n",
       "        vertical-align: top;\n",
       "    }\n",
       "\n",
       "    .dataframe thead th {\n",
       "        text-align: right;\n",
       "    }\n",
       "</style>\n",
       "<table border=\"1\" class=\"dataframe\">\n",
       "  <thead>\n",
       "    <tr style=\"text-align: right;\">\n",
       "      <th></th>\n",
       "      <th>geoid</th>\n",
       "      <th>county</th>\n",
       "      <th>state</th>\n",
       "      <th>cases</th>\n",
       "      <th>deaths</th>\n",
       "      <th>date</th>\n",
       "      <th>dwell_time</th>\n",
       "      <th>logcase</th>\n",
       "    </tr>\n",
       "  </thead>\n",
       "  <tbody>\n",
       "    <tr>\n",
       "      <th>0</th>\n",
       "      <td>1001</td>\n",
       "      <td>Autauga</td>\n",
       "      <td>AL</td>\n",
       "      <td>0</td>\n",
       "      <td>0</td>\n",
       "      <td>2020-01-01</td>\n",
       "      <td>929.95764</td>\n",
       "      <td>0.0</td>\n",
       "    </tr>\n",
       "    <tr>\n",
       "      <th>1</th>\n",
       "      <td>1003</td>\n",
       "      <td>Baldwin</td>\n",
       "      <td>AL</td>\n",
       "      <td>0</td>\n",
       "      <td>0</td>\n",
       "      <td>2020-01-01</td>\n",
       "      <td>857.86395</td>\n",
       "      <td>0.0</td>\n",
       "    </tr>\n",
       "    <tr>\n",
       "      <th>2</th>\n",
       "      <td>1005</td>\n",
       "      <td>Barbour</td>\n",
       "      <td>AL</td>\n",
       "      <td>0</td>\n",
       "      <td>0</td>\n",
       "      <td>2020-01-01</td>\n",
       "      <td>788.39636</td>\n",
       "      <td>0.0</td>\n",
       "    </tr>\n",
       "    <tr>\n",
       "      <th>3</th>\n",
       "      <td>1007</td>\n",
       "      <td>Bibb</td>\n",
       "      <td>AL</td>\n",
       "      <td>0</td>\n",
       "      <td>0</td>\n",
       "      <td>2020-01-01</td>\n",
       "      <td>913.77106</td>\n",
       "      <td>0.0</td>\n",
       "    </tr>\n",
       "    <tr>\n",
       "      <th>4</th>\n",
       "      <td>1009</td>\n",
       "      <td>Blount</td>\n",
       "      <td>AL</td>\n",
       "      <td>0</td>\n",
       "      <td>0</td>\n",
       "      <td>2020-01-01</td>\n",
       "      <td>956.05914</td>\n",
       "      <td>0.0</td>\n",
       "    </tr>\n",
       "  </tbody>\n",
       "</table>\n",
       "</div>"
      ],
      "text/plain": [
       "   geoid   county state  cases  deaths       date  dwell_time  logcase\n",
       "0   1001  Autauga    AL      0       0 2020-01-01   929.95764      0.0\n",
       "1   1003  Baldwin    AL      0       0 2020-01-01   857.86395      0.0\n",
       "2   1005  Barbour    AL      0       0 2020-01-01   788.39636      0.0\n",
       "3   1007     Bibb    AL      0       0 2020-01-01   913.77106      0.0\n",
       "4   1009   Blount    AL      0       0 2020-01-01   956.05914      0.0"
      ]
     },
     "execution_count": 37,
     "metadata": {},
     "output_type": "execute_result"
    }
   ],
   "source": [
    "cases_tah.head(5)"
   ]
  },
  {
   "cell_type": "code",
   "execution_count": 38,
   "metadata": {},
   "outputs": [],
   "source": [
    "cases_tah['logcase'] = np.log(cases_tah['cases'] + 1)\n",
    "cases_tah['logdeath'] = np.log(cases_tah['deaths'] + 1)"
   ]
  },
  {
   "cell_type": "code",
   "execution_count": 39,
   "metadata": {},
   "outputs": [
    {
     "data": {
      "text/plain": [
       "<matplotlib.axes._subplots.AxesSubplot at 0x7fd9f79f2220>"
      ]
     },
     "execution_count": 39,
     "metadata": {},
     "output_type": "execute_result"
    },
    {
     "data": {
      "image/png": "[encoded data removed]",
      "text/plain": [
       "<Figure size 432x288 with 1 Axes>"
      ]
     },
     "metadata": {
      "needs_background": "light"
     },
     "output_type": "display_data"
    }
   ],
   "source": [
    "cases_tah.plot.scatter(x='logcase',y='dwell_time')"
   ]
  },
  {
   "cell_type": "code",
   "execution_count": 40,
   "metadata": {},
   "outputs": [
    {
     "data": {
      "text/plain": [
       "<matplotlib.axes._subplots.AxesSubplot at 0x7fd9f7b93850>"
      ]
     },
     "execution_count": 40,
     "metadata": {},
     "output_type": "execute_result"
    },
    {
     "data": {
      "image/png": "[encoded data removed]",
      "text/plain": [
       "<Figure size 432x288 with 1 Axes>"
      ]
     },
     "metadata": {
      "needs_background": "light"
     },
     "output_type": "display_data"
    }
   ],
   "source": [
    "cases_tah.groupby(['date']).mean().plot.scatter(x='logcase',y='logdeath')"
   ]
  },
  {
   "cell_type": "code",
   "execution_count": 41,
   "metadata": {},
   "outputs": [
    {
     "data": {
      "text/plain": [
       "<matplotlib.axes._subplots.AxesSubplot at 0x7fd9f8a83100>"
      ]
     },
     "execution_count": 41,
     "metadata": {},
     "output_type": "execute_result"
    },
    {
     "data": {
      "image/png": "[encoded data removed]",
      "text/plain": [
       "<Figure size 432x288 with 1 Axes>"
      ]
     },
     "metadata": {
      "needs_background": "light"
     },
     "output_type": "display_data"
    }
   ],
   "source": [
    "cases_tah.groupby(['date']).mean().plot.scatter(x='logcase',y='dwell_time')"
   ]
  },
  {
   "cell_type": "code",
   "execution_count": 42,
   "metadata": {},
   "outputs": [
    {
     "data": {
      "text/plain": [
       "<matplotlib.axes._subplots.AxesSubplot at 0x7fd9f8d21dc0>"
      ]
     },
     "execution_count": 42,
     "metadata": {},
     "output_type": "execute_result"
    },
    {
     "data": {
      "image/png": "[encoded data removed]",
      "text/plain": [
       "<Figure size 432x288 with 2 Axes>"
      ]
     },
     "metadata": {
      "needs_background": "light"
     },
     "output_type": "display_data"
    }
   ],
   "source": [
    "cases_tah.plot.scatter(x='logcase',y='logdeath',c='dwell_time',colormap='viridis')\n",
    "# viridis is the most commonly used palettes"
   ]
  },
  {
   "cell_type": "markdown",
   "metadata": {},
   "source": [
    "## 2.4. Bar Plot"
   ]
  },
  {
   "cell_type": "code",
   "execution_count": 43,
   "metadata": {},
   "outputs": [
    {
     "data": {
      "text/plain": [
       "<matplotlib.axes._subplots.AxesSubplot at 0x7fd9f8eea6d0>"
      ]
     },
     "execution_count": 43,
     "metadata": {},
     "output_type": "execute_result"
    },
    {
     "data": {
      "image/png": "[encoded data removed]",
      "text/plain": [
       "<Figure size 432x720 with 1 Axes>"
      ]
     },
     "metadata": {
      "needs_background": "light"
     },
     "output_type": "display_data"
    }
   ],
   "source": [
    "# error # cases_tah.groupby(['state']).mean().plot.barh('state','dwell_time')\n",
    "\n",
    "cases_tah.groupby(['state']).mean().reset_index().plot.barh('state','dwell_time', figsize=(6,10))"
   ]
  },
  {
   "cell_type": "code",
   "execution_count": 44,
   "metadata": {},
   "outputs": [
    {
     "data": {
      "text/plain": [
       "<matplotlib.axes._subplots.AxesSubplot at 0x7fd9f8ed26d0>"
      ]
     },
     "execution_count": 44,
     "metadata": {},
     "output_type": "execute_result"
    },
    {
     "data": {
      "image/png": "[encoded data removed]",
      "text/plain": [
       "<Figure size 432x720 with 1 Axes>"
      ]
     },
     "metadata": {
      "needs_background": "light"
     },
     "output_type": "display_data"
    }
   ],
   "source": [
    "cases_tah.groupby(['state']).mean().reset_index().plot.barh('state',['logdeath','logcase'], \n",
    "                                                            figsize=(6,10),stacked=True)"
   ]
  },
  {
   "cell_type": "code",
   "execution_count": 45,
   "metadata": {},
   "outputs": [
    {
     "data": {
      "text/plain": [
       "<matplotlib.axes._subplots.AxesSubplot at 0x7fd9f9638a90>"
      ]
     },
     "execution_count": 45,
     "metadata": {},
     "output_type": "execute_result"
    },
    {
     "data": {
      "image/png": "[encoded data removed]",
      "text/plain": [
       "<Figure size 432x720 with 1 Axes>"
      ]
     },
     "metadata": {
      "needs_background": "light"
     },
     "output_type": "display_data"
    }
   ],
   "source": [
    "cases_tah.groupby(['state']).mean().reset_index().plot.barh('state',['logdeath','logcase'], \n",
    "                                                            figsize=(6,10))"
   ]
  },
  {
   "cell_type": "markdown",
   "metadata": {},
   "source": [
    "## 2.5. Histogram"
   ]
  },
  {
   "cell_type": "code",
   "execution_count": 46,
   "metadata": {},
   "outputs": [
    {
     "data": {
      "text/plain": [
       "array([[<matplotlib.axes._subplots.AxesSubplot object at 0x7fd9f99d6eb0>]],\n",
       "      dtype=object)"
      ]
     },
     "execution_count": 46,
     "metadata": {},
     "output_type": "execute_result"
    },
    {
     "data": {
      "image/png": "[encoded data removed]",
      "text/plain": [
       "<Figure size 432x288 with 1 Axes>"
      ]
     },
     "metadata": {
      "needs_background": "light"
     },
     "output_type": "display_data"
    }
   ],
   "source": [
    "cases_tah.hist(column='dwell_time',bins=100)"
   ]
  },
  {
   "cell_type": "markdown",
   "metadata": {},
   "source": [
    "X-axis: The X-axis are intervals that show the scale of values which the measurements fall under.\n",
    "Y-axis: The Y-axis shows the number of times that the values occurred within the intervals set by the X-axis.\n",
    "Creating a histogram provides a visual representation of data distribution. "
   ]
  },
  {
   "cell_type": "code",
   "execution_count": 47,
   "metadata": {},
   "outputs": [
    {
     "data": {
      "text/plain": [
       "array([[<matplotlib.axes._subplots.AxesSubplot object at 0x7fd9f9a39d90>,\n",
       "        <matplotlib.axes._subplots.AxesSubplot object at 0x7fd9fd5202e0>]],\n",
       "      dtype=object)"
      ]
     },
     "execution_count": 47,
     "metadata": {},
     "output_type": "execute_result"
    },
    {
     "data": {
      "image/png": "[encoded data removed]",
      "text/plain": [
       "<Figure size 432x288 with 2 Axes>"
      ]
     },
     "metadata": {
      "needs_background": "light"
     },
     "output_type": "display_data"
    }
   ],
   "source": [
    "cases_tah[['logcase','logdeath']].hist(alpha=0.5)"
   ]
  },
  {
   "cell_type": "code",
   "execution_count": 48,
   "metadata": {},
   "outputs": [
    {
     "data": {
      "text/plain": [
       "<matplotlib.axes._subplots.AxesSubplot at 0x7fd9fd63bb80>"
      ]
     },
     "execution_count": 48,
     "metadata": {},
     "output_type": "execute_result"
    },
    {
     "data": {
      "image/png": "[encoded data removed]",
      "text/plain": [
       "<Figure size 432x288 with 1 Axes>"
      ]
     },
     "metadata": {
      "needs_background": "light"
     },
     "output_type": "display_data"
    }
   ],
   "source": [
    "cases_tah[['logcase','logdeath']].plot.hist(alpha=0.5)"
   ]
  },
  {
   "cell_type": "code",
   "execution_count": 49,
   "metadata": {},
   "outputs": [
    {
     "data": {
      "text/plain": [
       "<matplotlib.axes._subplots.AxesSubplot at 0x7fd9fd74f280>"
      ]
     },
     "execution_count": 49,
     "metadata": {},
     "output_type": "execute_result"
    },
    {
     "data": {
      "image/png": "[encoded data removed]",
      "text/plain": [
       "<Figure size 432x288 with 1 Axes>"
      ]
     },
     "metadata": {
      "needs_background": "light"
     },
     "output_type": "display_data"
    }
   ],
   "source": [
    "cases_tah[['logcase','logdeath']].plot.hist(alpha=0.5, stacked=True)"
   ]
  },
  {
   "cell_type": "markdown",
   "metadata": {},
   "source": [
    "We can also stack different months' dwell time layer by layer.\n",
    "Another good stack would be the POI data"
   ]
  },
  {
   "cell_type": "code",
   "execution_count": 50,
   "metadata": {},
   "outputs": [],
   "source": [
    "poidata = pd.read_csv('YData_SDS177/poi_vpc.csv')"
   ]
  },
  {
   "cell_type": "code",
   "execution_count": 51,
   "metadata": {},
   "outputs": [
    {
     "data": {
      "text/html": [
       "<div>\n",
       "<style scoped>\n",
       "    .dataframe tbody tr th:only-of-type {\n",
       "        vertical-align: middle;\n",
       "    }\n",
       "\n",
       "    .dataframe tbody tr th {\n",
       "        vertical-align: top;\n",
       "    }\n",
       "\n",
       "    .dataframe thead th {\n",
       "        text-align: right;\n",
       "    }\n",
       "</style>\n",
       "<table border=\"1\" class=\"dataframe\">\n",
       "  <thead>\n",
       "    <tr style=\"text-align: right;\">\n",
       "      <th></th>\n",
       "      <th>date</th>\n",
       "      <th>geoid</th>\n",
       "      <th>dvc7225</th>\n",
       "      <th>dvc7139</th>\n",
       "      <th>dvc4461</th>\n",
       "      <th>dvc4531</th>\n",
       "      <th>dvc4511</th>\n",
       "      <th>dvc4471</th>\n",
       "      <th>dvc7121</th>\n",
       "      <th>dvc4539</th>\n",
       "      <th>...</th>\n",
       "      <th>dvc7131</th>\n",
       "      <th>dvc4246</th>\n",
       "      <th>dvc4244</th>\n",
       "      <th>dvc4238</th>\n",
       "      <th>dvc4242</th>\n",
       "      <th>dvc4239</th>\n",
       "      <th>dvc4453</th>\n",
       "      <th>dvc4441</th>\n",
       "      <th>dvc4451</th>\n",
       "      <th>dvc4523</th>\n",
       "    </tr>\n",
       "  </thead>\n",
       "  <tbody>\n",
       "    <tr>\n",
       "      <th>0</th>\n",
       "      <td>11apr2020</td>\n",
       "      <td>1001</td>\n",
       "      <td>0.227962</td>\n",
       "      <td>0.014729</td>\n",
       "      <td>0.017806</td>\n",
       "      <td>0.003517</td>\n",
       "      <td>0.019345</td>\n",
       "      <td>0.068587</td>\n",
       "      <td>0.009672</td>\n",
       "      <td>0.017366</td>\n",
       "      <td>...</td>\n",
       "      <td>0.0</td>\n",
       "      <td>0.0</td>\n",
       "      <td>0.0</td>\n",
       "      <td>0.0</td>\n",
       "      <td>0.0</td>\n",
       "      <td>0.00022</td>\n",
       "      <td>0.001539</td>\n",
       "      <td>0.018905</td>\n",
       "      <td>0.105738</td>\n",
       "      <td>0.164212</td>\n",
       "    </tr>\n",
       "    <tr>\n",
       "      <th>1</th>\n",
       "      <td>02apr2020</td>\n",
       "      <td>1001</td>\n",
       "      <td>0.236482</td>\n",
       "      <td>0.018622</td>\n",
       "      <td>0.043078</td>\n",
       "      <td>0.004039</td>\n",
       "      <td>0.016827</td>\n",
       "      <td>0.074938</td>\n",
       "      <td>0.010545</td>\n",
       "      <td>0.019520</td>\n",
       "      <td>...</td>\n",
       "      <td>0.0</td>\n",
       "      <td>0.0</td>\n",
       "      <td>0.0</td>\n",
       "      <td>0.0</td>\n",
       "      <td>0.0</td>\n",
       "      <td>0.00000</td>\n",
       "      <td>0.002244</td>\n",
       "      <td>0.021539</td>\n",
       "      <td>0.089298</td>\n",
       "      <td>0.140453</td>\n",
       "    </tr>\n",
       "    <tr>\n",
       "      <th>2</th>\n",
       "      <td>24apr2020</td>\n",
       "      <td>1001</td>\n",
       "      <td>0.321203</td>\n",
       "      <td>0.027021</td>\n",
       "      <td>0.038788</td>\n",
       "      <td>0.007845</td>\n",
       "      <td>0.019612</td>\n",
       "      <td>0.097407</td>\n",
       "      <td>0.009806</td>\n",
       "      <td>0.025496</td>\n",
       "      <td>...</td>\n",
       "      <td>0.0</td>\n",
       "      <td>0.0</td>\n",
       "      <td>0.0</td>\n",
       "      <td>0.0</td>\n",
       "      <td>0.0</td>\n",
       "      <td>0.00000</td>\n",
       "      <td>0.003269</td>\n",
       "      <td>0.020702</td>\n",
       "      <td>0.071693</td>\n",
       "      <td>0.157769</td>\n",
       "    </tr>\n",
       "  </tbody>\n",
       "</table>\n",
       "<p>3 rows × 36 columns</p>\n",
       "</div>"
      ],
      "text/plain": [
       "        date  geoid   dvc7225   dvc7139   dvc4461   dvc4531   dvc4511  \\\n",
       "0  11apr2020   1001  0.227962  0.014729  0.017806  0.003517  0.019345   \n",
       "1  02apr2020   1001  0.236482  0.018622  0.043078  0.004039  0.016827   \n",
       "2  24apr2020   1001  0.321203  0.027021  0.038788  0.007845  0.019612   \n",
       "\n",
       "    dvc4471   dvc7121   dvc4539  ...  dvc7131  dvc4246  dvc4244  dvc4238  \\\n",
       "0  0.068587  0.009672  0.017366  ...      0.0      0.0      0.0      0.0   \n",
       "1  0.074938  0.010545  0.019520  ...      0.0      0.0      0.0      0.0   \n",
       "2  0.097407  0.009806  0.025496  ...      0.0      0.0      0.0      0.0   \n",
       "\n",
       "   dvc4242  dvc4239   dvc4453   dvc4441   dvc4451   dvc4523  \n",
       "0      0.0  0.00022  0.001539  0.018905  0.105738  0.164212  \n",
       "1      0.0  0.00000  0.002244  0.021539  0.089298  0.140453  \n",
       "2      0.0  0.00000  0.003269  0.020702  0.071693  0.157769  \n",
       "\n",
       "[3 rows x 36 columns]"
      ]
     },
     "execution_count": 51,
     "metadata": {},
     "output_type": "execute_result"
    }
   ],
   "source": [
    "poidata.head(3)"
   ]
  },
  {
   "cell_type": "markdown",
   "metadata": {},
   "source": [
    "Recall the selected industries in the homework:\n",
    "\n",
    "| NAICS | Industry    |\n",
    "|------ |-------------|\n",
    "| 4451 | grocery |\n",
    "| 4461 | healthcare  |\n",
    "| 4471 | gasoline   |\n",
    "| 4522 | department |\n",
    "| 7121 | museums |"
   ]
  },
  {
   "cell_type": "code",
   "execution_count": 52,
   "metadata": {},
   "outputs": [
    {
     "data": {
      "text/html": [
       "<div>\n",
       "<style scoped>\n",
       "    .dataframe tbody tr th:only-of-type {\n",
       "        vertical-align: middle;\n",
       "    }\n",
       "\n",
       "    .dataframe tbody tr th {\n",
       "        vertical-align: top;\n",
       "    }\n",
       "\n",
       "    .dataframe thead th {\n",
       "        text-align: right;\n",
       "    }\n",
       "</style>\n",
       "<table border=\"1\" class=\"dataframe\">\n",
       "  <thead>\n",
       "    <tr style=\"text-align: right;\">\n",
       "      <th></th>\n",
       "      <th>date</th>\n",
       "      <th>geoid</th>\n",
       "      <th>grocery</th>\n",
       "      <th>healthcare</th>\n",
       "      <th>gasoline</th>\n",
       "      <th>department stores</th>\n",
       "      <th>museums</th>\n",
       "    </tr>\n",
       "  </thead>\n",
       "  <tbody>\n",
       "    <tr>\n",
       "      <th>0</th>\n",
       "      <td>11apr2020</td>\n",
       "      <td>1001</td>\n",
       "      <td>0.105738</td>\n",
       "      <td>0.017806</td>\n",
       "      <td>0.068587</td>\n",
       "      <td>0.001978</td>\n",
       "      <td>0.009672</td>\n",
       "    </tr>\n",
       "    <tr>\n",
       "      <th>1</th>\n",
       "      <td>02apr2020</td>\n",
       "      <td>1001</td>\n",
       "      <td>0.089298</td>\n",
       "      <td>0.043078</td>\n",
       "      <td>0.074938</td>\n",
       "      <td>0.001571</td>\n",
       "      <td>0.010545</td>\n",
       "    </tr>\n",
       "    <tr>\n",
       "      <th>2</th>\n",
       "      <td>24apr2020</td>\n",
       "      <td>1001</td>\n",
       "      <td>0.071693</td>\n",
       "      <td>0.038788</td>\n",
       "      <td>0.097407</td>\n",
       "      <td>0.003051</td>\n",
       "      <td>0.009806</td>\n",
       "    </tr>\n",
       "  </tbody>\n",
       "</table>\n",
       "</div>"
      ],
      "text/plain": [
       "        date  geoid   grocery  healthcare  gasoline  department stores  \\\n",
       "0  11apr2020   1001  0.105738    0.017806  0.068587           0.001978   \n",
       "1  02apr2020   1001  0.089298    0.043078  0.074938           0.001571   \n",
       "2  24apr2020   1001  0.071693    0.038788  0.097407           0.003051   \n",
       "\n",
       "    museums  \n",
       "0  0.009672  \n",
       "1  0.010545  \n",
       "2  0.009806  "
      ]
     },
     "execution_count": 52,
     "metadata": {},
     "output_type": "execute_result"
    }
   ],
   "source": [
    "poi5 = poidata[[\"date\", \"geoid\", \"dvc4451\", \"dvc4461\", \"dvc4471\", \"dvc4522\", \"dvc7121\"]]\n",
    "poi5 = poi5.rename(columns={\"dvc4451\":\"grocery\", \n",
    "                          \"dvc4461\":\"healthcare\",\n",
    "                          \"dvc4471\":\"gasoline\",\n",
    "                          \"dvc4522\":\"department stores\",\n",
    "                          \"dvc7121\":\"museums\"})\n",
    "poi5.head(3)"
   ]
  },
  {
   "cell_type": "code",
   "execution_count": 53,
   "metadata": {},
   "outputs": [
    {
     "data": {
      "text/plain": [
       "<matplotlib.axes._subplots.AxesSubplot at 0x7fd9fa544880>"
      ]
     },
     "execution_count": 53,
     "metadata": {},
     "output_type": "execute_result"
    },
    {
     "data": {
      "image/png": "[encoded data removed]",
      "text/plain": [
       "<Figure size 432x288 with 1 Axes>"
      ]
     },
     "metadata": {
      "needs_background": "light"
     },
     "output_type": "display_data"
    }
   ],
   "source": [
    "poi5[[\"grocery\",\"healthcare\",\"gasoline\",\"department stores\",\"museums\"]].plot.hist(alpha=0.5, bins = 100,stacked = True)"
   ]
  },
  {
   "cell_type": "code",
   "execution_count": 54,
   "metadata": {},
   "outputs": [
    {
     "data": {
      "text/html": [
       "<div>\n",
       "<style scoped>\n",
       "    .dataframe tbody tr th:only-of-type {\n",
       "        vertical-align: middle;\n",
       "    }\n",
       "\n",
       "    .dataframe tbody tr th {\n",
       "        vertical-align: top;\n",
       "    }\n",
       "\n",
       "    .dataframe thead th {\n",
       "        text-align: right;\n",
       "    }\n",
       "</style>\n",
       "<table border=\"1\" class=\"dataframe\">\n",
       "  <thead>\n",
       "    <tr style=\"text-align: right;\">\n",
       "      <th></th>\n",
       "      <th>date</th>\n",
       "      <th>geoid</th>\n",
       "      <th>grocery</th>\n",
       "      <th>healthcare</th>\n",
       "      <th>gasoline</th>\n",
       "      <th>department stores</th>\n",
       "      <th>museums</th>\n",
       "    </tr>\n",
       "  </thead>\n",
       "  <tbody>\n",
       "    <tr>\n",
       "      <th>177526</th>\n",
       "      <td>2020-03-01</td>\n",
       "      <td>29023</td>\n",
       "      <td>0.088403</td>\n",
       "      <td>0.024161</td>\n",
       "      <td>0.069926</td>\n",
       "      <td>0.036953</td>\n",
       "      <td>0.039795</td>\n",
       "    </tr>\n",
       "    <tr>\n",
       "      <th>92611</th>\n",
       "      <td>2020-03-01</td>\n",
       "      <td>18167</td>\n",
       "      <td>0.084072</td>\n",
       "      <td>0.015237</td>\n",
       "      <td>0.097904</td>\n",
       "      <td>0.035660</td>\n",
       "      <td>0.030365</td>\n",
       "    </tr>\n",
       "    <tr>\n",
       "      <th>309147</th>\n",
       "      <td>2020-03-01</td>\n",
       "      <td>48163</td>\n",
       "      <td>0.084677</td>\n",
       "      <td>0.000000</td>\n",
       "      <td>0.242742</td>\n",
       "      <td>0.000000</td>\n",
       "      <td>0.079839</td>\n",
       "    </tr>\n",
       "    <tr>\n",
       "      <th>285081</th>\n",
       "      <td>2020-03-01</td>\n",
       "      <td>46083</td>\n",
       "      <td>0.028271</td>\n",
       "      <td>0.017192</td>\n",
       "      <td>0.045272</td>\n",
       "      <td>0.002101</td>\n",
       "      <td>0.016810</td>\n",
       "    </tr>\n",
       "    <tr>\n",
       "      <th>40872</th>\n",
       "      <td>2020-03-01</td>\n",
       "      <td>12053</td>\n",
       "      <td>0.089778</td>\n",
       "      <td>0.022742</td>\n",
       "      <td>0.051557</td>\n",
       "      <td>0.031910</td>\n",
       "      <td>0.016015</td>\n",
       "    </tr>\n",
       "    <tr>\n",
       "      <th>...</th>\n",
       "      <td>...</td>\n",
       "      <td>...</td>\n",
       "      <td>...</td>\n",
       "      <td>...</td>\n",
       "      <td>...</td>\n",
       "      <td>...</td>\n",
       "      <td>...</td>\n",
       "    </tr>\n",
       "    <tr>\n",
       "      <th>177152</th>\n",
       "      <td>2020-05-24</td>\n",
       "      <td>29017</td>\n",
       "      <td>0.114035</td>\n",
       "      <td>0.014620</td>\n",
       "      <td>0.092105</td>\n",
       "      <td>0.000000</td>\n",
       "      <td>0.000000</td>\n",
       "    </tr>\n",
       "    <tr>\n",
       "      <th>327665</th>\n",
       "      <td>2020-05-24</td>\n",
       "      <td>48473</td>\n",
       "      <td>0.050217</td>\n",
       "      <td>0.001900</td>\n",
       "      <td>0.271987</td>\n",
       "      <td>0.000000</td>\n",
       "      <td>0.061075</td>\n",
       "    </tr>\n",
       "    <tr>\n",
       "      <th>51931</th>\n",
       "      <td>2020-05-24</td>\n",
       "      <td>13105</td>\n",
       "      <td>0.104167</td>\n",
       "      <td>0.014137</td>\n",
       "      <td>0.048363</td>\n",
       "      <td>0.000000</td>\n",
       "      <td>0.009673</td>\n",
       "    </tr>\n",
       "    <tr>\n",
       "      <th>327545</th>\n",
       "      <td>2020-05-24</td>\n",
       "      <td>48471</td>\n",
       "      <td>0.065984</td>\n",
       "      <td>0.010773</td>\n",
       "      <td>0.113116</td>\n",
       "      <td>0.029895</td>\n",
       "      <td>0.005656</td>\n",
       "    </tr>\n",
       "    <tr>\n",
       "      <th>294183</th>\n",
       "      <td>2020-05-24</td>\n",
       "      <td>47101</td>\n",
       "      <td>0.033294</td>\n",
       "      <td>0.000000</td>\n",
       "      <td>0.066587</td>\n",
       "      <td>0.000000</td>\n",
       "      <td>0.000000</td>\n",
       "    </tr>\n",
       "  </tbody>\n",
       "</table>\n",
       "<p>272838 rows × 7 columns</p>\n",
       "</div>"
      ],
      "text/plain": [
       "             date  geoid   grocery  healthcare  gasoline  department stores  \\\n",
       "177526 2020-03-01  29023  0.088403    0.024161  0.069926           0.036953   \n",
       "92611  2020-03-01  18167  0.084072    0.015237  0.097904           0.035660   \n",
       "309147 2020-03-01  48163  0.084677    0.000000  0.242742           0.000000   \n",
       "285081 2020-03-01  46083  0.028271    0.017192  0.045272           0.002101   \n",
       "40872  2020-03-01  12053  0.089778    0.022742  0.051557           0.031910   \n",
       "...           ...    ...       ...         ...       ...                ...   \n",
       "177152 2020-05-24  29017  0.114035    0.014620  0.092105           0.000000   \n",
       "327665 2020-05-24  48473  0.050217    0.001900  0.271987           0.000000   \n",
       "51931  2020-05-24  13105  0.104167    0.014137  0.048363           0.000000   \n",
       "327545 2020-05-24  48471  0.065984    0.010773  0.113116           0.029895   \n",
       "294183 2020-05-24  47101  0.033294    0.000000  0.066587           0.000000   \n",
       "\n",
       "         museums  \n",
       "177526  0.039795  \n",
       "92611   0.030365  \n",
       "309147  0.079839  \n",
       "285081  0.016810  \n",
       "40872   0.016015  \n",
       "...          ...  \n",
       "177152  0.000000  \n",
       "327665  0.061075  \n",
       "51931   0.009673  \n",
       "327545  0.005656  \n",
       "294183  0.000000  \n",
       "\n",
       "[272838 rows x 7 columns]"
      ]
     },
     "execution_count": 54,
     "metadata": {},
     "output_type": "execute_result"
    }
   ],
   "source": [
    "poi5.date = pd.to_datetime(poi5.date)\n",
    "poi5_select = poi5[poi5['date']>='2020-3-1']\n",
    "poi5_select.sort_values(by = 'date', ascending = True) "
   ]
  },
  {
   "cell_type": "code",
   "execution_count": 55,
   "metadata": {},
   "outputs": [
    {
     "data": {
      "text/html": [
       "<div>\n",
       "<style scoped>\n",
       "    .dataframe tbody tr th:only-of-type {\n",
       "        vertical-align: middle;\n",
       "    }\n",
       "\n",
       "    .dataframe tbody tr th {\n",
       "        vertical-align: top;\n",
       "    }\n",
       "\n",
       "    .dataframe thead th {\n",
       "        text-align: right;\n",
       "    }\n",
       "</style>\n",
       "<table border=\"1\" class=\"dataframe\">\n",
       "  <thead>\n",
       "    <tr style=\"text-align: right;\">\n",
       "      <th></th>\n",
       "      <th>geoid</th>\n",
       "      <th>grocery</th>\n",
       "      <th>healthcare</th>\n",
       "      <th>gasoline</th>\n",
       "      <th>department stores</th>\n",
       "      <th>museums</th>\n",
       "    </tr>\n",
       "  </thead>\n",
       "  <tbody>\n",
       "    <tr>\n",
       "      <th>count</th>\n",
       "      <td>109201.000000</td>\n",
       "      <td>109201.000000</td>\n",
       "      <td>109201.000000</td>\n",
       "      <td>109201.000000</td>\n",
       "      <td>109201.000000</td>\n",
       "      <td>109201.000000</td>\n",
       "    </tr>\n",
       "    <tr>\n",
       "      <th>mean</th>\n",
       "      <td>31370.175117</td>\n",
       "      <td>0.065877</td>\n",
       "      <td>0.028815</td>\n",
       "      <td>0.094335</td>\n",
       "      <td>0.008388</td>\n",
       "      <td>0.034761</td>\n",
       "    </tr>\n",
       "    <tr>\n",
       "      <th>std</th>\n",
       "      <td>16252.812616</td>\n",
       "      <td>0.039999</td>\n",
       "      <td>0.026302</td>\n",
       "      <td>0.093793</td>\n",
       "      <td>0.013784</td>\n",
       "      <td>0.038909</td>\n",
       "    </tr>\n",
       "    <tr>\n",
       "      <th>min</th>\n",
       "      <td>1001.000000</td>\n",
       "      <td>0.000000</td>\n",
       "      <td>0.000000</td>\n",
       "      <td>0.000000</td>\n",
       "      <td>0.000000</td>\n",
       "      <td>0.000000</td>\n",
       "    </tr>\n",
       "    <tr>\n",
       "      <th>25%</th>\n",
       "      <td>19031.000000</td>\n",
       "      <td>0.040625</td>\n",
       "      <td>0.012384</td>\n",
       "      <td>0.047964</td>\n",
       "      <td>0.000000</td>\n",
       "      <td>0.008596</td>\n",
       "    </tr>\n",
       "    <tr>\n",
       "      <th>50%</th>\n",
       "      <td>30019.000000</td>\n",
       "      <td>0.062044</td>\n",
       "      <td>0.025132</td>\n",
       "      <td>0.075630</td>\n",
       "      <td>0.000000</td>\n",
       "      <td>0.025605</td>\n",
       "    </tr>\n",
       "    <tr>\n",
       "      <th>75%</th>\n",
       "      <td>46105.000000</td>\n",
       "      <td>0.085017</td>\n",
       "      <td>0.039130</td>\n",
       "      <td>0.114744</td>\n",
       "      <td>0.013660</td>\n",
       "      <td>0.048574</td>\n",
       "    </tr>\n",
       "    <tr>\n",
       "      <th>max</th>\n",
       "      <td>78010.000000</td>\n",
       "      <td>0.700508</td>\n",
       "      <td>0.769716</td>\n",
       "      <td>2.455882</td>\n",
       "      <td>0.343931</td>\n",
       "      <td>0.819574</td>\n",
       "    </tr>\n",
       "  </tbody>\n",
       "</table>\n",
       "</div>"
      ],
      "text/plain": [
       "               geoid        grocery     healthcare       gasoline  \\\n",
       "count  109201.000000  109201.000000  109201.000000  109201.000000   \n",
       "mean    31370.175117       0.065877       0.028815       0.094335   \n",
       "std     16252.812616       0.039999       0.026302       0.093793   \n",
       "min      1001.000000       0.000000       0.000000       0.000000   \n",
       "25%     19031.000000       0.040625       0.012384       0.047964   \n",
       "50%     30019.000000       0.062044       0.025132       0.075630   \n",
       "75%     46105.000000       0.085017       0.039130       0.114744   \n",
       "max     78010.000000       0.700508       0.769716       2.455882   \n",
       "\n",
       "       department stores        museums  \n",
       "count      109201.000000  109201.000000  \n",
       "mean            0.008388       0.034761  \n",
       "std             0.013784       0.038909  \n",
       "min             0.000000       0.000000  \n",
       "25%             0.000000       0.008596  \n",
       "50%             0.000000       0.025605  \n",
       "75%             0.013660       0.048574  \n",
       "max             0.343931       0.819574  "
      ]
     },
     "execution_count": 55,
     "metadata": {},
     "output_type": "execute_result"
    }
   ],
   "source": [
    "poi5_select2 = poi5[poi5['date']<'2020-3-1']\n",
    "poi5_select2.describe()"
   ]
  },
  {
   "cell_type": "code",
   "execution_count": 56,
   "metadata": {},
   "outputs": [
    {
     "data": {
      "text/html": [
       "<div>\n",
       "<style scoped>\n",
       "    .dataframe tbody tr th:only-of-type {\n",
       "        vertical-align: middle;\n",
       "    }\n",
       "\n",
       "    .dataframe tbody tr th {\n",
       "        vertical-align: top;\n",
       "    }\n",
       "\n",
       "    .dataframe thead th {\n",
       "        text-align: right;\n",
       "    }\n",
       "</style>\n",
       "<table border=\"1\" class=\"dataframe\">\n",
       "  <thead>\n",
       "    <tr style=\"text-align: right;\">\n",
       "      <th></th>\n",
       "      <th>geoid</th>\n",
       "      <th>grocery</th>\n",
       "      <th>healthcare</th>\n",
       "      <th>gasoline</th>\n",
       "      <th>department stores</th>\n",
       "      <th>museums</th>\n",
       "    </tr>\n",
       "  </thead>\n",
       "  <tbody>\n",
       "    <tr>\n",
       "      <th>count</th>\n",
       "      <td>272838.000000</td>\n",
       "      <td>272838.000000</td>\n",
       "      <td>272838.000000</td>\n",
       "      <td>272838.000000</td>\n",
       "      <td>272838.000000</td>\n",
       "      <td>272838.000000</td>\n",
       "    </tr>\n",
       "    <tr>\n",
       "      <th>mean</th>\n",
       "      <td>31375.524949</td>\n",
       "      <td>0.077121</td>\n",
       "      <td>0.025820</td>\n",
       "      <td>0.105184</td>\n",
       "      <td>0.006921</td>\n",
       "      <td>0.030301</td>\n",
       "    </tr>\n",
       "    <tr>\n",
       "      <th>std</th>\n",
       "      <td>16246.355809</td>\n",
       "      <td>0.045339</td>\n",
       "      <td>0.021646</td>\n",
       "      <td>0.117105</td>\n",
       "      <td>0.012202</td>\n",
       "      <td>0.032214</td>\n",
       "    </tr>\n",
       "    <tr>\n",
       "      <th>min</th>\n",
       "      <td>1001.000000</td>\n",
       "      <td>0.000000</td>\n",
       "      <td>0.000000</td>\n",
       "      <td>0.000000</td>\n",
       "      <td>0.000000</td>\n",
       "      <td>0.000000</td>\n",
       "    </tr>\n",
       "    <tr>\n",
       "      <th>25%</th>\n",
       "      <td>19033.000000</td>\n",
       "      <td>0.048301</td>\n",
       "      <td>0.011050</td>\n",
       "      <td>0.050382</td>\n",
       "      <td>0.000000</td>\n",
       "      <td>0.008048</td>\n",
       "    </tr>\n",
       "    <tr>\n",
       "      <th>50%</th>\n",
       "      <td>30019.000000</td>\n",
       "      <td>0.073394</td>\n",
       "      <td>0.022908</td>\n",
       "      <td>0.081956</td>\n",
       "      <td>0.000000</td>\n",
       "      <td>0.023581</td>\n",
       "    </tr>\n",
       "    <tr>\n",
       "      <th>75%</th>\n",
       "      <td>46105.000000</td>\n",
       "      <td>0.099896</td>\n",
       "      <td>0.035470</td>\n",
       "      <td>0.126968</td>\n",
       "      <td>0.010608</td>\n",
       "      <td>0.043204</td>\n",
       "    </tr>\n",
       "    <tr>\n",
       "      <th>max</th>\n",
       "      <td>78010.000000</td>\n",
       "      <td>1.000000</td>\n",
       "      <td>0.398281</td>\n",
       "      <td>3.212121</td>\n",
       "      <td>0.281152</td>\n",
       "      <td>1.517241</td>\n",
       "    </tr>\n",
       "  </tbody>\n",
       "</table>\n",
       "</div>"
      ],
      "text/plain": [
       "               geoid        grocery     healthcare       gasoline  \\\n",
       "count  272838.000000  272838.000000  272838.000000  272838.000000   \n",
       "mean    31375.524949       0.077121       0.025820       0.105184   \n",
       "std     16246.355809       0.045339       0.021646       0.117105   \n",
       "min      1001.000000       0.000000       0.000000       0.000000   \n",
       "25%     19033.000000       0.048301       0.011050       0.050382   \n",
       "50%     30019.000000       0.073394       0.022908       0.081956   \n",
       "75%     46105.000000       0.099896       0.035470       0.126968   \n",
       "max     78010.000000       1.000000       0.398281       3.212121   \n",
       "\n",
       "       department stores        museums  \n",
       "count      272838.000000  272838.000000  \n",
       "mean            0.006921       0.030301  \n",
       "std             0.012202       0.032214  \n",
       "min             0.000000       0.000000  \n",
       "25%             0.000000       0.008048  \n",
       "50%             0.000000       0.023581  \n",
       "75%             0.010608       0.043204  \n",
       "max             0.281152       1.517241  "
      ]
     },
     "execution_count": 56,
     "metadata": {},
     "output_type": "execute_result"
    }
   ],
   "source": [
    "poi5_select.describe()\n",
    "\n",
    "# Compare before and after. We can also compare states in a difference-in-difference format."
   ]
  }
 ],
 "metadata": {
  "kernelspec": {
   "display_name": "Python 3",
   "language": "python",
   "name": "python3"
  },
  "language_info": {
   "codemirror_mode": {
    "name": "ipython",
    "version": 3
   },
   "file_extension": ".py",
   "mimetype": "text/x-python",
   "name": "python",
   "nbconvert_exporter": "python",
   "pygments_lexer": "ipython3",
   "version": "3.8.3"
  }
 },
 "nbformat": 4,
 "nbformat_minor": 4
}
