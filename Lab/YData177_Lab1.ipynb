{
 "cells": [
  {
   "cell_type": "markdown",
   "metadata": {},
   "source": [
    "# Behavioral Lab1\n",
    "\n",
    "This is associated with our Lecture Note 1. Also, you may find some questions are similar to the first major question in our Homework Assignment 1. \n",
    "\n",
    "Textbook reference:  [Chapter 4](https://www.inferentialthinking.com/chapters/04/Data_Types.html) and [Chapter 5](https://www.inferentialthinking.com/chapters/05/Sequences.html)  \n",
    "\n",
    "#### Today's Lab\n",
    "\n",
    "In today's exercises, you'll learn how to:\n",
    "\n",
    "1. Sort and Select a table's rows and columns. \n",
    "2. Manipulate table by creating new variables.\n",
    "3. Examine state-by-state COVID-19 case trend in the first epidemic phase.\n",
    "4. Create plots and statistics to figure out how much time people stay in to avoid transmission."
   ]
  },
  {
   "cell_type": "markdown",
   "metadata": {},
   "source": [
    "Let's import the dataset named **nyt_cases_name.csv** first. This is a dataset similar to what we've seen in Lab0 before. I cut the date to "
   ]
  },
  {
   "cell_type": "code",
   "execution_count": 183,
   "metadata": {},
   "outputs": [
    {
     "data": {
      "text/html": [
       "<table border=\"1\" class=\"dataframe\">\n",
       "    <thead>\n",
       "        <tr>\n",
       "            <th>geoid</th> <th>county</th> <th>state</th> <th>cases</th> <th>deaths</th> <th>date</th> <th>dwell_time</th>\n",
       "        </tr>\n",
       "    </thead>\n",
       "    <tbody>\n",
       "        <tr>\n",
       "            <td>1001 </td> <td>Autauga </td> <td>AL   </td> <td>0    </td> <td>0     </td> <td>01jan2020</td> <td>929.958   </td>\n",
       "        </tr>\n",
       "        <tr>\n",
       "            <td>1003 </td> <td>Baldwin </td> <td>AL   </td> <td>0    </td> <td>0     </td> <td>01jan2020</td> <td>857.864   </td>\n",
       "        </tr>\n",
       "        <tr>\n",
       "            <td>1005 </td> <td>Barbour </td> <td>AL   </td> <td>0    </td> <td>0     </td> <td>01jan2020</td> <td>788.396   </td>\n",
       "        </tr>\n",
       "        <tr>\n",
       "            <td>1007 </td> <td>Bibb    </td> <td>AL   </td> <td>0    </td> <td>0     </td> <td>01jan2020</td> <td>913.771   </td>\n",
       "        </tr>\n",
       "        <tr>\n",
       "            <td>1009 </td> <td>Blount  </td> <td>AL   </td> <td>0    </td> <td>0     </td> <td>01jan2020</td> <td>956.059   </td>\n",
       "        </tr>\n",
       "        <tr>\n",
       "            <td>1011 </td> <td>Bullock </td> <td>AL   </td> <td>0    </td> <td>0     </td> <td>01jan2020</td> <td>710.707   </td>\n",
       "        </tr>\n",
       "        <tr>\n",
       "            <td>1013 </td> <td>Butler  </td> <td>AL   </td> <td>0    </td> <td>0     </td> <td>01jan2020</td> <td>813.134   </td>\n",
       "        </tr>\n",
       "        <tr>\n",
       "            <td>1015 </td> <td>Calhoun </td> <td>AL   </td> <td>0    </td> <td>0     </td> <td>01jan2020</td> <td>837.673   </td>\n",
       "        </tr>\n",
       "        <tr>\n",
       "            <td>1017 </td> <td>Chambers</td> <td>AL   </td> <td>0    </td> <td>0     </td> <td>01jan2020</td> <td>875.582   </td>\n",
       "        </tr>\n",
       "        <tr>\n",
       "            <td>1019 </td> <td>Cherokee</td> <td>AL   </td> <td>0    </td> <td>0     </td> <td>01jan2020</td> <td>820.602   </td>\n",
       "        </tr>\n",
       "    </tbody>\n",
       "</table>\n",
       "<p>... (456278 rows omitted)</p>"
      ],
      "text/plain": [
       "geoid | county   | state | cases | deaths | date      | dwell_time\n",
       "1001  | Autauga  | AL    | 0     | 0      | 01jan2020 | 929.958\n",
       "1003  | Baldwin  | AL    | 0     | 0      | 01jan2020 | 857.864\n",
       "1005  | Barbour  | AL    | 0     | 0      | 01jan2020 | 788.396\n",
       "1007  | Bibb     | AL    | 0     | 0      | 01jan2020 | 913.771\n",
       "1009  | Blount   | AL    | 0     | 0      | 01jan2020 | 956.059\n",
       "1011  | Bullock  | AL    | 0     | 0      | 01jan2020 | 710.707\n",
       "1013  | Butler   | AL    | 0     | 0      | 01jan2020 | 813.134\n",
       "1015  | Calhoun  | AL    | 0     | 0      | 01jan2020 | 837.673\n",
       "1017  | Chambers | AL    | 0     | 0      | 01jan2020 | 875.582\n",
       "1019  | Cherokee | AL    | 0     | 0      | 01jan2020 | 820.602\n",
       "... (456278 rows omitted)"
      ]
     },
     "execution_count": 183,
     "metadata": {},
     "output_type": "execute_result"
    }
   ],
   "source": [
    "from datascience import *\n",
    "\n",
    "nytdata = Table.read_table('YData_SDS177/nyt_cases_name.csv')\n",
    "nytdata"
   ]
  },
  {
   "cell_type": "markdown",
   "metadata": {},
   "source": [
    "## 1. Sorting and Selecting Rows"
   ]
  },
  {
   "cell_type": "markdown",
   "metadata": {},
   "source": [
    "How many columns do we have? What does each column mean? \n",
    "\n",
    "The top row shows the names of columns, or we call them \"variable names\". Sometimes, the imported dataset have abbreviated variable names that are hard to decipher, and we can easily change the names with `table.relabeled('old_varname','new_varname')` to make them more straightforward. "
   ]
  },
  {
   "cell_type": "code",
   "execution_count": 147,
   "metadata": {},
   "outputs": [
    {
     "data": {
      "text/html": [
       "<table border=\"1\" class=\"dataframe\">\n",
       "    <thead>\n",
       "        <tr>\n",
       "            <th>geoid</th> <th>county</th> <th>state</th> <th>cases</th> <th>deaths</th> <th>date</th> <th>county average home dwelling time per day in minutes</th>\n",
       "        </tr>\n",
       "    </thead>\n",
       "    <tbody>\n",
       "        <tr>\n",
       "            <td>1001 </td> <td>Autauga </td> <td>AL   </td> <td>0    </td> <td>0     </td> <td>01jan2020</td> <td>929.958                                             </td>\n",
       "        </tr>\n",
       "        <tr>\n",
       "            <td>1003 </td> <td>Baldwin </td> <td>AL   </td> <td>0    </td> <td>0     </td> <td>01jan2020</td> <td>857.864                                             </td>\n",
       "        </tr>\n",
       "        <tr>\n",
       "            <td>1005 </td> <td>Barbour </td> <td>AL   </td> <td>0    </td> <td>0     </td> <td>01jan2020</td> <td>788.396                                             </td>\n",
       "        </tr>\n",
       "        <tr>\n",
       "            <td>1007 </td> <td>Bibb    </td> <td>AL   </td> <td>0    </td> <td>0     </td> <td>01jan2020</td> <td>913.771                                             </td>\n",
       "        </tr>\n",
       "        <tr>\n",
       "            <td>1009 </td> <td>Blount  </td> <td>AL   </td> <td>0    </td> <td>0     </td> <td>01jan2020</td> <td>956.059                                             </td>\n",
       "        </tr>\n",
       "        <tr>\n",
       "            <td>1011 </td> <td>Bullock </td> <td>AL   </td> <td>0    </td> <td>0     </td> <td>01jan2020</td> <td>710.707                                             </td>\n",
       "        </tr>\n",
       "        <tr>\n",
       "            <td>1013 </td> <td>Butler  </td> <td>AL   </td> <td>0    </td> <td>0     </td> <td>01jan2020</td> <td>813.134                                             </td>\n",
       "        </tr>\n",
       "        <tr>\n",
       "            <td>1015 </td> <td>Calhoun </td> <td>AL   </td> <td>0    </td> <td>0     </td> <td>01jan2020</td> <td>837.673                                             </td>\n",
       "        </tr>\n",
       "        <tr>\n",
       "            <td>1017 </td> <td>Chambers</td> <td>AL   </td> <td>0    </td> <td>0     </td> <td>01jan2020</td> <td>875.582                                             </td>\n",
       "        </tr>\n",
       "        <tr>\n",
       "            <td>1019 </td> <td>Cherokee</td> <td>AL   </td> <td>0    </td> <td>0     </td> <td>01jan2020</td> <td>820.602                                             </td>\n",
       "        </tr>\n",
       "    </tbody>\n",
       "</table>\n",
       "<p>... (456278 rows omitted)</p>"
      ],
      "text/plain": [
       "geoid | county   | state | cases | deaths | date      | county average home dwelling time per day in minutes\n",
       "1001  | Autauga  | AL    | 0     | 0      | 01jan2020 | 929.958\n",
       "1003  | Baldwin  | AL    | 0     | 0      | 01jan2020 | 857.864\n",
       "1005  | Barbour  | AL    | 0     | 0      | 01jan2020 | 788.396\n",
       "1007  | Bibb     | AL    | 0     | 0      | 01jan2020 | 913.771\n",
       "1009  | Blount   | AL    | 0     | 0      | 01jan2020 | 956.059\n",
       "1011  | Bullock  | AL    | 0     | 0      | 01jan2020 | 710.707\n",
       "1013  | Butler   | AL    | 0     | 0      | 01jan2020 | 813.134\n",
       "1015  | Calhoun  | AL    | 0     | 0      | 01jan2020 | 837.673\n",
       "1017  | Chambers | AL    | 0     | 0      | 01jan2020 | 875.582\n",
       "1019  | Cherokee | AL    | 0     | 0      | 01jan2020 | 820.602\n",
       "... (456278 rows omitted)"
      ]
     },
     "execution_count": 147,
     "metadata": {},
     "output_type": "execute_result"
    }
   ],
   "source": [
    "nytdata.relabeled('dwell_time', 'county average home dwelling time per day in minutes')"
   ]
  },
  {
   "cell_type": "code",
   "execution_count": 148,
   "metadata": {},
   "outputs": [
    {
     "data": {
      "text/html": [
       "<table border=\"1\" class=\"dataframe\">\n",
       "    <thead>\n",
       "        <tr>\n",
       "            <th>geoid</th> <th>county</th> <th>state</th> <th>cases</th> <th>deaths</th> <th>date</th> <th>dwell_time</th>\n",
       "        </tr>\n",
       "    </thead>\n",
       "    <tbody>\n",
       "        <tr>\n",
       "            <td>1001 </td> <td>Autauga</td> <td>AL   </td> <td>0    </td> <td>0     </td> <td>01jan2020</td> <td>929.958   </td>\n",
       "        </tr>\n",
       "        <tr>\n",
       "            <td>1003 </td> <td>Baldwin</td> <td>AL   </td> <td>0    </td> <td>0     </td> <td>01jan2020</td> <td>857.864   </td>\n",
       "        </tr>\n",
       "        <tr>\n",
       "            <td>1005 </td> <td>Barbour</td> <td>AL   </td> <td>0    </td> <td>0     </td> <td>01jan2020</td> <td>788.396   </td>\n",
       "        </tr>\n",
       "    </tbody>\n",
       "</table>\n",
       "<p>... (456285 rows omitted)</p>"
      ],
      "text/plain": [
       "<IPython.core.display.HTML object>"
      ]
     },
     "metadata": {},
     "output_type": "display_data"
    }
   ],
   "source": [
    "# Show only the first 3 rows of data\n",
    "nytdata.show(3)"
   ]
  },
  {
   "cell_type": "markdown",
   "metadata": {},
   "source": [
    "We will see that the variable name \"dwell_time\" is not changed. This is because `nytdata` itself is not re-defined in our relabeling process."
   ]
  },
  {
   "cell_type": "markdown",
   "metadata": {},
   "source": [
    "**Question 1.1** What are the top 10 counties with the highest stay-at-home time? "
   ]
  },
  {
   "cell_type": "code",
   "execution_count": 149,
   "metadata": {},
   "outputs": [
    {
     "data": {
      "text/html": [
       "<table border=\"1\" class=\"dataframe\">\n",
       "    <thead>\n",
       "        <tr>\n",
       "            <th>geoid</th> <th>county</th> <th>state</th> <th>cases</th> <th>deaths</th> <th>date</th> <th>dwell_time</th>\n",
       "        </tr>\n",
       "    </thead>\n",
       "    <tbody>\n",
       "        <tr>\n",
       "            <td>30069</td> <td>Petroleum    </td> <td>MT   </td> <td>0    </td> <td>0     </td> <td>26jan2020</td> <td>1438      </td>\n",
       "        </tr>\n",
       "        <tr>\n",
       "            <td>30037</td> <td>Golden Valley</td> <td>MT   </td> <td>0    </td> <td>0     </td> <td>17jan2020</td> <td>1438      </td>\n",
       "        </tr>\n",
       "        <tr>\n",
       "            <td>8053 </td> <td>Hinsdale     </td> <td>CO   </td> <td>3    </td> <td>0     </td> <td>18apr2020</td> <td>1438      </td>\n",
       "        </tr>\n",
       "        <tr>\n",
       "            <td>8053 </td> <td>Hinsdale     </td> <td>CO   </td> <td>2    </td> <td>0     </td> <td>12apr2020</td> <td>1430      </td>\n",
       "        </tr>\n",
       "        <tr>\n",
       "            <td>30037</td> <td>Golden Valley</td> <td>MT   </td> <td>0    </td> <td>0     </td> <td>28mar2020</td> <td>1403      </td>\n",
       "        </tr>\n",
       "        <tr>\n",
       "            <td>6003 </td> <td>Alpine       </td> <td>CA   </td> <td>1    </td> <td>0     </td> <td>05apr2020</td> <td>1399.24   </td>\n",
       "        </tr>\n",
       "        <tr>\n",
       "            <td>6003 </td> <td>Alpine       </td> <td>CA   </td> <td>1    </td> <td>0     </td> <td>31mar2020</td> <td>1383.67   </td>\n",
       "        </tr>\n",
       "        <tr>\n",
       "            <td>30037</td> <td>Golden Valley</td> <td>MT   </td> <td>0    </td> <td>0     </td> <td>27jan2020</td> <td>1336      </td>\n",
       "        </tr>\n",
       "        <tr>\n",
       "            <td>8053 </td> <td>Hinsdale     </td> <td>CO   </td> <td>1    </td> <td>0     </td> <td>04apr2020</td> <td>1332      </td>\n",
       "        </tr>\n",
       "        <tr>\n",
       "            <td>8035 </td> <td>Douglas      </td> <td>CO   </td> <td>298  </td> <td>10    </td> <td>12apr2020</td> <td>1331.48   </td>\n",
       "        </tr>\n",
       "    </tbody>\n",
       "</table>\n",
       "<p>... (456278 rows omitted)</p>"
      ],
      "text/plain": [
       "<IPython.core.display.HTML object>"
      ]
     },
     "metadata": {},
     "output_type": "display_data"
    }
   ],
   "source": [
    "nytdata.sort('dwell_time', descending=True).show(10)"
   ]
  },
  {
   "cell_type": "markdown",
   "metadata": {},
   "source": [
    "We use `descending=True` in `sort` because we want to find the highest rather than lowest home dwelling time. "
   ]
  },
  {
   "cell_type": "markdown",
   "metadata": {},
   "source": [
    "**Question 1.2** Based on this list of 10 rows, can you tell **TWO** possible reasons that cause a long home dwelling time on average? "
   ]
  },
  {
   "cell_type": "code",
   "execution_count": 150,
   "metadata": {},
   "outputs": [],
   "source": [
    "## Type your answer here\n"
   ]
  },
  {
   "cell_type": "markdown",
   "metadata": {},
   "source": [
    "Sometimes we are also interested in the total number of days when a county have more than 5000 cases in a day. Those counties (and dates) require additional attention for the public to take actions (such as working from home or wearing a mask to go outside). \n",
    "\n",
    "To find those county-date combinations, we need `table.where('variable', are...)`. "
   ]
  },
  {
   "cell_type": "code",
   "execution_count": 151,
   "metadata": {},
   "outputs": [
    {
     "data": {
      "text/html": [
       "<table border=\"1\" class=\"dataframe\">\n",
       "    <thead>\n",
       "        <tr>\n",
       "            <th>geoid</th> <th>county</th> <th>state</th> <th>cases</th> <th>deaths</th> <th>date</th> <th>dwell_time</th>\n",
       "        </tr>\n",
       "    </thead>\n",
       "    <tbody>\n",
       "        <tr>\n",
       "            <td>4013 </td> <td>Maricopa</td> <td>AZ   </td> <td>5138 </td> <td>186   </td> <td>06may2020</td> <td>857.301   </td>\n",
       "        </tr>\n",
       "        <tr>\n",
       "            <td>4013 </td> <td>Maricopa</td> <td>AZ   </td> <td>5196 </td> <td>204   </td> <td>07may2020</td> <td>839.712   </td>\n",
       "        </tr>\n",
       "        <tr>\n",
       "            <td>4013 </td> <td>Maricopa</td> <td>AZ   </td> <td>5525 </td> <td>238   </td> <td>08may2020</td> <td>819.933   </td>\n",
       "        </tr>\n",
       "        <tr>\n",
       "            <td>4013 </td> <td>Maricopa</td> <td>AZ   </td> <td>5779 </td> <td>245   </td> <td>09may2020</td> <td>849.018   </td>\n",
       "        </tr>\n",
       "        <tr>\n",
       "            <td>4013 </td> <td>Maricopa</td> <td>AZ   </td> <td>5827 </td> <td>247   </td> <td>10may2020</td> <td>910.007   </td>\n",
       "        </tr>\n",
       "        <tr>\n",
       "            <td>4013 </td> <td>Maricopa</td> <td>AZ   </td> <td>5988 </td> <td>250   </td> <td>11may2020</td> <td>847.053   </td>\n",
       "        </tr>\n",
       "        <tr>\n",
       "            <td>4013 </td> <td>Maricopa</td> <td>AZ   </td> <td>6219 </td> <td>259   </td> <td>12may2020</td> <td>839.424   </td>\n",
       "        </tr>\n",
       "        <tr>\n",
       "            <td>4013 </td> <td>Maricopa</td> <td>AZ   </td> <td>6341 </td> <td>281   </td> <td>13may2020</td> <td>822.393   </td>\n",
       "        </tr>\n",
       "        <tr>\n",
       "            <td>4013 </td> <td>Maricopa</td> <td>AZ   </td> <td>6599 </td> <td>292   </td> <td>14may2020</td> <td>832.017   </td>\n",
       "        </tr>\n",
       "        <tr>\n",
       "            <td>4013 </td> <td>Maricopa</td> <td>AZ   </td> <td>6821 </td> <td>302   </td> <td>15may2020</td> <td>781.498   </td>\n",
       "        </tr>\n",
       "    </tbody>\n",
       "</table>\n",
       "<p>... (2031 rows omitted)</p>"
      ],
      "text/plain": [
       "geoid | county   | state | cases | deaths | date      | dwell_time\n",
       "4013  | Maricopa | AZ    | 5138  | 186    | 06may2020 | 857.301\n",
       "4013  | Maricopa | AZ    | 5196  | 204    | 07may2020 | 839.712\n",
       "4013  | Maricopa | AZ    | 5525  | 238    | 08may2020 | 819.933\n",
       "4013  | Maricopa | AZ    | 5779  | 245    | 09may2020 | 849.018\n",
       "4013  | Maricopa | AZ    | 5827  | 247    | 10may2020 | 910.007\n",
       "4013  | Maricopa | AZ    | 5988  | 250    | 11may2020 | 847.053\n",
       "4013  | Maricopa | AZ    | 6219  | 259    | 12may2020 | 839.424\n",
       "4013  | Maricopa | AZ    | 6341  | 281    | 13may2020 | 822.393\n",
       "4013  | Maricopa | AZ    | 6599  | 292    | 14may2020 | 832.017\n",
       "4013  | Maricopa | AZ    | 6821  | 302    | 15may2020 | 781.498\n",
       "... (2031 rows omitted)"
      ]
     },
     "execution_count": 151,
     "metadata": {},
     "output_type": "execute_result"
    }
   ],
   "source": [
    "nytdata.where('cases',are.above(5000))"
   ]
  },
  {
   "cell_type": "markdown",
   "metadata": {},
   "source": [
    "**Question 1.3** How many county-date combinations have cases above 5000? What is the highest home dwelling time among those combinations? "
   ]
  },
  {
   "cell_type": "code",
   "execution_count": 152,
   "metadata": {},
   "outputs": [
    {
     "data": {
      "text/html": [
       "<table border=\"1\" class=\"dataframe\">\n",
       "    <thead>\n",
       "        <tr>\n",
       "            <th>geoid</th> <th>county</th> <th>state</th> <th>cases</th> <th>deaths</th> <th>date</th> <th>dwell_time</th>\n",
       "        </tr>\n",
       "    </thead>\n",
       "    <tbody>\n",
       "        <tr>\n",
       "            <td>36059</td> <td>Nassau  </td> <td>NY   </td> <td>23553</td> <td>1030  </td> <td>12apr2020</td> <td>1266.33   </td>\n",
       "        </tr>\n",
       "        <tr>\n",
       "            <td>36059</td> <td>Nassau  </td> <td>NY   </td> <td>34522</td> <td>1962  </td> <td>26apr2020</td> <td>1257.24   </td>\n",
       "        </tr>\n",
       "        <tr>\n",
       "            <td>36059</td> <td>Nassau  </td> <td>NY   </td> <td>24358</td> <td>1109  </td> <td>13apr2020</td> <td>1257.21   </td>\n",
       "        </tr>\n",
       "        <tr>\n",
       "            <td>34003</td> <td>Bergen  </td> <td>NJ   </td> <td>9784 </td> <td>453   </td> <td>12apr2020</td> <td>1253.32   </td>\n",
       "        </tr>\n",
       "        <tr>\n",
       "            <td>34003</td> <td>Bergen  </td> <td>NJ   </td> <td>14965</td> <td>955   </td> <td>26apr2020</td> <td>1252.56   </td>\n",
       "        </tr>\n",
       "        <tr>\n",
       "            <td>34025</td> <td>Monmouth</td> <td>NJ   </td> <td>5671 </td> <td>291   </td> <td>26apr2020</td> <td>1243.83   </td>\n",
       "        </tr>\n",
       "        <tr>\n",
       "            <td>36059</td> <td>Nassau  </td> <td>NY   </td> <td>6445 </td> <td>39    </td> <td>29mar2020</td> <td>1243.51   </td>\n",
       "        </tr>\n",
       "        <tr>\n",
       "            <td>36059</td> <td>Nassau  </td> <td>NY   </td> <td>5537 </td> <td>35    </td> <td>28mar2020</td> <td>1234.78   </td>\n",
       "        </tr>\n",
       "        <tr>\n",
       "            <td>36059</td> <td>Nassau  </td> <td>NY   </td> <td>29180</td> <td>1356  </td> <td>18apr2020</td> <td>1224.78   </td>\n",
       "        </tr>\n",
       "        <tr>\n",
       "            <td>34003</td> <td>Bergen  </td> <td>NJ   </td> <td>10092</td> <td>482   </td> <td>13apr2020</td> <td>1224.21   </td>\n",
       "        </tr>\n",
       "    </tbody>\n",
       "</table>\n",
       "<p>... (2031 rows omitted)</p>"
      ],
      "text/plain": [
       "geoid | county   | state | cases | deaths | date      | dwell_time\n",
       "36059 | Nassau   | NY    | 23553 | 1030   | 12apr2020 | 1266.33\n",
       "36059 | Nassau   | NY    | 34522 | 1962   | 26apr2020 | 1257.24\n",
       "36059 | Nassau   | NY    | 24358 | 1109   | 13apr2020 | 1257.21\n",
       "34003 | Bergen   | NJ    | 9784  | 453    | 12apr2020 | 1253.32\n",
       "34003 | Bergen   | NJ    | 14965 | 955    | 26apr2020 | 1252.56\n",
       "34025 | Monmouth | NJ    | 5671  | 291    | 26apr2020 | 1243.83\n",
       "36059 | Nassau   | NY    | 6445  | 39     | 29mar2020 | 1243.51\n",
       "36059 | Nassau   | NY    | 5537  | 35     | 28mar2020 | 1234.78\n",
       "36059 | Nassau   | NY    | 29180 | 1356   | 18apr2020 | 1224.78\n",
       "34003 | Bergen   | NJ    | 10092 | 482    | 13apr2020 | 1224.21\n",
       "... (2031 rows omitted)"
      ]
     },
     "execution_count": 152,
     "metadata": {},
     "output_type": "execute_result"
    }
   ],
   "source": [
    "nytdata.where('cases',are.above(5000)).sort('dwell_time',descending=True)"
   ]
  },
  {
   "cell_type": "markdown",
   "metadata": {},
   "source": [
    "Note that after the `where` function, what we get was still a table, which can be added with new `table.function`s."
   ]
  },
  {
   "cell_type": "markdown",
   "metadata": {},
   "source": [
    "We can also examine data in a selected county.\n",
    "\n",
    "**Question 1.4** When does New Haven had the highest average home dwelling time in the dataset? And What was the highest cases in New Haven? (use `equal_to`)"
   ]
  },
  {
   "cell_type": "code",
   "execution_count": 153,
   "metadata": {},
   "outputs": [],
   "source": [
    "# Type your answer here\n"
   ]
  },
  {
   "cell_type": "markdown",
   "metadata": {},
   "source": [
    "## 2. Creating new variables based on the existing variables"
   ]
  },
  {
   "cell_type": "markdown",
   "metadata": {},
   "source": [
    "Sometimes we need certain transformation of data before using it. For instance, we have seen cases were increasing in an exponential way in the first phase, yet we may think that people choose to increase the time at home in a linear way. Before we figure out the way to express the possible correlation, let us create a new variable that equals to ln(cases).\n",
    "\n",
    "Actually, given the fact that ln(0) is undefined and our case column contains lots of zeros, we define a new variable that equals to ln(cases + 1)."
   ]
  },
  {
   "cell_type": "code",
   "execution_count": 154,
   "metadata": {},
   "outputs": [
    {
     "data": {
      "text/html": [
       "<table border=\"1\" class=\"dataframe\">\n",
       "    <thead>\n",
       "        <tr>\n",
       "            <th>geoid</th> <th>county</th> <th>state</th> <th>cases</th> <th>deaths</th> <th>date</th> <th>dwell_time</th> <th>log transformation of cases</th>\n",
       "        </tr>\n",
       "    </thead>\n",
       "    <tbody>\n",
       "        <tr>\n",
       "            <td>36061</td> <td>New York</td> <td>NY   </td> <td>204111</td> <td>20795 </td> <td>26may2020</td> <td>590.555   </td> <td>12.2264                    </td>\n",
       "        </tr>\n",
       "        <tr>\n",
       "            <td>36061</td> <td>New York</td> <td>NY   </td> <td>203569</td> <td>20740 </td> <td>25may2020</td> <td>604.917   </td> <td>12.2238                    </td>\n",
       "        </tr>\n",
       "        <tr>\n",
       "            <td>36061</td> <td>New York</td> <td>NY   </td> <td>202931</td> <td>20697 </td> <td>24may2020</td> <td>596.714   </td> <td>12.2206                    </td>\n",
       "        </tr>\n",
       "        <tr>\n",
       "            <td>36061</td> <td>New York</td> <td>NY   </td> <td>202062</td> <td>20621 </td> <td>23may2020</td> <td>647.159   </td> <td>12.2163                    </td>\n",
       "        </tr>\n",
       "        <tr>\n",
       "            <td>36061</td> <td>New York</td> <td>NY   </td> <td>201298</td> <td>20569 </td> <td>22may2020</td> <td>643.844   </td> <td>12.2125                    </td>\n",
       "        </tr>\n",
       "        <tr>\n",
       "            <td>36061</td> <td>New York</td> <td>NY   </td> <td>200507</td> <td>20491 </td> <td>21may2020</td> <td>689.287   </td> <td>12.2086                    </td>\n",
       "        </tr>\n",
       "        <tr>\n",
       "            <td>36061</td> <td>New York</td> <td>NY   </td> <td>199392</td> <td>20422 </td> <td>20may2020</td> <td>726.176   </td> <td>12.203                     </td>\n",
       "        </tr>\n",
       "        <tr>\n",
       "            <td>36061</td> <td>New York</td> <td>NY   </td> <td>198710</td> <td>20376 </td> <td>19may2020</td> <td>738.072   </td> <td>12.1996                    </td>\n",
       "        </tr>\n",
       "        <tr>\n",
       "            <td>36061</td> <td>New York</td> <td>NY   </td> <td>198114</td> <td>20298 </td> <td>18may2020</td> <td>723.077   </td> <td>12.1966                    </td>\n",
       "        </tr>\n",
       "        <tr>\n",
       "            <td>36061</td> <td>New York</td> <td>NY   </td> <td>197486</td> <td>20214 </td> <td>17may2020</td> <td>739.853   </td> <td>12.1934                    </td>\n",
       "        </tr>\n",
       "    </tbody>\n",
       "</table>\n",
       "<p>... (456278 rows omitted)</p>"
      ],
      "text/plain": [
       "geoid | county   | state | cases  | deaths | date      | dwell_time | log transformation of cases\n",
       "36061 | New York | NY    | 204111 | 20795  | 26may2020 | 590.555    | 12.2264\n",
       "36061 | New York | NY    | 203569 | 20740  | 25may2020 | 604.917    | 12.2238\n",
       "36061 | New York | NY    | 202931 | 20697  | 24may2020 | 596.714    | 12.2206\n",
       "36061 | New York | NY    | 202062 | 20621  | 23may2020 | 647.159    | 12.2163\n",
       "36061 | New York | NY    | 201298 | 20569  | 22may2020 | 643.844    | 12.2125\n",
       "36061 | New York | NY    | 200507 | 20491  | 21may2020 | 689.287    | 12.2086\n",
       "36061 | New York | NY    | 199392 | 20422  | 20may2020 | 726.176    | 12.203\n",
       "36061 | New York | NY    | 198710 | 20376  | 19may2020 | 738.072    | 12.1996\n",
       "36061 | New York | NY    | 198114 | 20298  | 18may2020 | 723.077    | 12.1966\n",
       "36061 | New York | NY    | 197486 | 20214  | 17may2020 | 739.853    | 12.1934\n",
       "... (456278 rows omitted)"
      ]
     },
     "execution_count": 154,
     "metadata": {},
     "output_type": "execute_result"
    }
   ],
   "source": [
    "import numpy as np\n",
    "nyt_cases = nytdata.with_columns(\n",
    "        'log transformation of cases', np.log(nytdata.column('cases')+1)\n",
    ")\n",
    "import pandas as pd \n",
    "nyt_cases.sort('log transformation of cases', descending=True)"
   ]
  },
  {
   "cell_type": "markdown",
   "metadata": {},
   "source": [
    "**Question 2.1** Define a variable named \"death rate\" that equals to deaths devided by cases plus deaths (which can be roughly considered as the total infected group). You may get a warning in red, which is because we were trying to devide 0 by 0. And you should get \"nan\" for those undefined values. \n",
    "\n",
    "In which county (and when) do we find a highest death rate during the study period? "
   ]
  },
  {
   "cell_type": "code",
   "execution_count": 155,
   "metadata": {},
   "outputs": [
    {
     "name": "stderr",
     "output_type": "stream",
     "text": [
      "<ipython-input-155-d32603266a2d>:3: RuntimeWarning: invalid value encountered in true_divide\n",
      "  nyt_rate = nytdata.with_columns('death rate', np.nan_to_num(nytdata.column('deaths')/infected))\n"
     ]
    },
    {
     "data": {
      "text/html": [
       "<table border=\"1\" class=\"dataframe\">\n",
       "    <thead>\n",
       "        <tr>\n",
       "            <th>geoid</th> <th>county</th> <th>state</th> <th>cases</th> <th>deaths</th> <th>date</th> <th>dwell_time</th> <th>death rate</th>\n",
       "        </tr>\n",
       "    </thead>\n",
       "    <tbody>\n",
       "        <tr>\n",
       "            <td>1001 </td> <td>Autauga </td> <td>AL   </td> <td>0    </td> <td>0     </td> <td>01jan2020</td> <td>929.958   </td> <td>0         </td>\n",
       "        </tr>\n",
       "        <tr>\n",
       "            <td>1003 </td> <td>Baldwin </td> <td>AL   </td> <td>0    </td> <td>0     </td> <td>01jan2020</td> <td>857.864   </td> <td>0         </td>\n",
       "        </tr>\n",
       "        <tr>\n",
       "            <td>1005 </td> <td>Barbour </td> <td>AL   </td> <td>0    </td> <td>0     </td> <td>01jan2020</td> <td>788.396   </td> <td>0         </td>\n",
       "        </tr>\n",
       "        <tr>\n",
       "            <td>1007 </td> <td>Bibb    </td> <td>AL   </td> <td>0    </td> <td>0     </td> <td>01jan2020</td> <td>913.771   </td> <td>0         </td>\n",
       "        </tr>\n",
       "        <tr>\n",
       "            <td>1009 </td> <td>Blount  </td> <td>AL   </td> <td>0    </td> <td>0     </td> <td>01jan2020</td> <td>956.059   </td> <td>0         </td>\n",
       "        </tr>\n",
       "        <tr>\n",
       "            <td>1011 </td> <td>Bullock </td> <td>AL   </td> <td>0    </td> <td>0     </td> <td>01jan2020</td> <td>710.707   </td> <td>0         </td>\n",
       "        </tr>\n",
       "        <tr>\n",
       "            <td>1013 </td> <td>Butler  </td> <td>AL   </td> <td>0    </td> <td>0     </td> <td>01jan2020</td> <td>813.134   </td> <td>0         </td>\n",
       "        </tr>\n",
       "        <tr>\n",
       "            <td>1015 </td> <td>Calhoun </td> <td>AL   </td> <td>0    </td> <td>0     </td> <td>01jan2020</td> <td>837.673   </td> <td>0         </td>\n",
       "        </tr>\n",
       "        <tr>\n",
       "            <td>1017 </td> <td>Chambers</td> <td>AL   </td> <td>0    </td> <td>0     </td> <td>01jan2020</td> <td>875.582   </td> <td>0         </td>\n",
       "        </tr>\n",
       "        <tr>\n",
       "            <td>1019 </td> <td>Cherokee</td> <td>AL   </td> <td>0    </td> <td>0     </td> <td>01jan2020</td> <td>820.602   </td> <td>0         </td>\n",
       "        </tr>\n",
       "    </tbody>\n",
       "</table>\n",
       "<p>... (456278 rows omitted)</p>"
      ],
      "text/plain": [
       "geoid | county   | state | cases | deaths | date      | dwell_time | death rate\n",
       "1001  | Autauga  | AL    | 0     | 0      | 01jan2020 | 929.958    | 0\n",
       "1003  | Baldwin  | AL    | 0     | 0      | 01jan2020 | 857.864    | 0\n",
       "1005  | Barbour  | AL    | 0     | 0      | 01jan2020 | 788.396    | 0\n",
       "1007  | Bibb     | AL    | 0     | 0      | 01jan2020 | 913.771    | 0\n",
       "1009  | Blount   | AL    | 0     | 0      | 01jan2020 | 956.059    | 0\n",
       "1011  | Bullock  | AL    | 0     | 0      | 01jan2020 | 710.707    | 0\n",
       "1013  | Butler   | AL    | 0     | 0      | 01jan2020 | 813.134    | 0\n",
       "1015  | Calhoun  | AL    | 0     | 0      | 01jan2020 | 837.673    | 0\n",
       "1017  | Chambers | AL    | 0     | 0      | 01jan2020 | 875.582    | 0\n",
       "1019  | Cherokee | AL    | 0     | 0      | 01jan2020 | 820.602    | 0\n",
       "... (456278 rows omitted)"
      ]
     },
     "execution_count": 155,
     "metadata": {},
     "output_type": "execute_result"
    }
   ],
   "source": [
    "infected = nytdata.column('cases') + nytdata.column('deaths')\n",
    "\n",
    "nyt_rate = nytdata.with_columns('death rate', np.nan_to_num(nytdata.column('deaths')/infected))\n",
    "nyt_rate"
   ]
  },
  {
   "cell_type": "code",
   "execution_count": 156,
   "metadata": {},
   "outputs": [
    {
     "data": {
      "text/html": [
       "<table border=\"1\" class=\"dataframe\">\n",
       "    <thead>\n",
       "        <tr>\n",
       "            <th>geoid</th> <th>county</th> <th>state</th> <th>cases</th> <th>deaths</th> <th>date</th> <th>dwell_time</th> <th>death rate</th>\n",
       "        </tr>\n",
       "    </thead>\n",
       "    <tbody>\n",
       "        <tr>\n",
       "            <td>55135</td> <td>Waupaca</td> <td>WI   </td> <td>1    </td> <td>1     </td> <td>31mar2020</td> <td>693.532   </td> <td>0.5       </td>\n",
       "        </tr>\n",
       "        <tr>\n",
       "            <td>55135</td> <td>Waupaca</td> <td>WI   </td> <td>1    </td> <td>1     </td> <td>30mar2020</td> <td>668.394   </td> <td>0.5       </td>\n",
       "        </tr>\n",
       "        <tr>\n",
       "            <td>55135</td> <td>Waupaca</td> <td>WI   </td> <td>1    </td> <td>1     </td> <td>29mar2020</td> <td>844.748   </td> <td>0.5       </td>\n",
       "        </tr>\n",
       "        <tr>\n",
       "            <td>55135</td> <td>Waupaca</td> <td>WI   </td> <td>1    </td> <td>1     </td> <td>28mar2020</td> <td>811.573   </td> <td>0.5       </td>\n",
       "        </tr>\n",
       "        <tr>\n",
       "            <td>55051</td> <td>Iron   </td> <td>WI   </td> <td>1    </td> <td>1     </td> <td>10apr2020</td> <td>757.1     </td> <td>0.5       </td>\n",
       "        </tr>\n",
       "        <tr>\n",
       "            <td>55051</td> <td>Iron   </td> <td>WI   </td> <td>1    </td> <td>1     </td> <td>09apr2020</td> <td>834.831   </td> <td>0.5       </td>\n",
       "        </tr>\n",
       "        <tr>\n",
       "            <td>55051</td> <td>Iron   </td> <td>WI   </td> <td>1    </td> <td>1     </td> <td>08apr2020</td> <td>792.288   </td> <td>0.5       </td>\n",
       "        </tr>\n",
       "        <tr>\n",
       "            <td>55051</td> <td>Iron   </td> <td>WI   </td> <td>1    </td> <td>1     </td> <td>07apr2020</td> <td>846.104   </td> <td>0.5       </td>\n",
       "        </tr>\n",
       "        <tr>\n",
       "            <td>55051</td> <td>Iron   </td> <td>WI   </td> <td>1    </td> <td>1     </td> <td>06apr2020</td> <td>890.014   </td> <td>0.5       </td>\n",
       "        </tr>\n",
       "        <tr>\n",
       "            <td>55051</td> <td>Iron   </td> <td>WI   </td> <td>1    </td> <td>1     </td> <td>05apr2020</td> <td>992.331   </td> <td>0.5       </td>\n",
       "        </tr>\n",
       "    </tbody>\n",
       "</table>\n",
       "<p>... (456278 rows omitted)</p>"
      ],
      "text/plain": [
       "geoid | county  | state | cases | deaths | date      | dwell_time | death rate\n",
       "55135 | Waupaca | WI    | 1     | 1      | 31mar2020 | 693.532    | 0.5\n",
       "55135 | Waupaca | WI    | 1     | 1      | 30mar2020 | 668.394    | 0.5\n",
       "55135 | Waupaca | WI    | 1     | 1      | 29mar2020 | 844.748    | 0.5\n",
       "55135 | Waupaca | WI    | 1     | 1      | 28mar2020 | 811.573    | 0.5\n",
       "55051 | Iron    | WI    | 1     | 1      | 10apr2020 | 757.1      | 0.5\n",
       "55051 | Iron    | WI    | 1     | 1      | 09apr2020 | 834.831    | 0.5\n",
       "55051 | Iron    | WI    | 1     | 1      | 08apr2020 | 792.288    | 0.5\n",
       "55051 | Iron    | WI    | 1     | 1      | 07apr2020 | 846.104    | 0.5\n",
       "55051 | Iron    | WI    | 1     | 1      | 06apr2020 | 890.014    | 0.5\n",
       "55051 | Iron    | WI    | 1     | 1      | 05apr2020 | 992.331    | 0.5\n",
       "... (456278 rows omitted)"
      ]
     },
     "execution_count": 156,
     "metadata": {},
     "output_type": "execute_result"
    }
   ],
   "source": [
    "nyt_rate.sort('death rate', descending = True)"
   ]
  },
  {
   "cell_type": "markdown",
   "metadata": {},
   "source": [
    "We can also convert the rate into a percentage value."
   ]
  },
  {
   "cell_type": "markdown",
   "metadata": {},
   "source": [
    "### 2.1 Set Format for a Column\n",
    "\n",
    "Sometimes, we need to make the format of a variable into a more direct way to read."
   ]
  },
  {
   "cell_type": "code",
   "execution_count": 157,
   "metadata": {},
   "outputs": [
    {
     "data": {
      "text/html": [
       "<table border=\"1\" class=\"dataframe\">\n",
       "    <thead>\n",
       "        <tr>\n",
       "            <th>geoid</th> <th>county</th> <th>state</th> <th>cases</th> <th>deaths</th> <th>date</th> <th>dwell_time</th> <th>death rate</th>\n",
       "        </tr>\n",
       "    </thead>\n",
       "    <tbody>\n",
       "        <tr>\n",
       "            <td>1001 </td> <td>Autauga </td> <td>AL   </td> <td>0    </td> <td>0     </td> <td>01jan2020</td> <td>929.958   </td> <td>0.00%     </td>\n",
       "        </tr>\n",
       "        <tr>\n",
       "            <td>1003 </td> <td>Baldwin </td> <td>AL   </td> <td>0    </td> <td>0     </td> <td>01jan2020</td> <td>857.864   </td> <td>0.00%     </td>\n",
       "        </tr>\n",
       "        <tr>\n",
       "            <td>1005 </td> <td>Barbour </td> <td>AL   </td> <td>0    </td> <td>0     </td> <td>01jan2020</td> <td>788.396   </td> <td>0.00%     </td>\n",
       "        </tr>\n",
       "        <tr>\n",
       "            <td>1007 </td> <td>Bibb    </td> <td>AL   </td> <td>0    </td> <td>0     </td> <td>01jan2020</td> <td>913.771   </td> <td>0.00%     </td>\n",
       "        </tr>\n",
       "        <tr>\n",
       "            <td>1009 </td> <td>Blount  </td> <td>AL   </td> <td>0    </td> <td>0     </td> <td>01jan2020</td> <td>956.059   </td> <td>0.00%     </td>\n",
       "        </tr>\n",
       "        <tr>\n",
       "            <td>1011 </td> <td>Bullock </td> <td>AL   </td> <td>0    </td> <td>0     </td> <td>01jan2020</td> <td>710.707   </td> <td>0.00%     </td>\n",
       "        </tr>\n",
       "        <tr>\n",
       "            <td>1013 </td> <td>Butler  </td> <td>AL   </td> <td>0    </td> <td>0     </td> <td>01jan2020</td> <td>813.134   </td> <td>0.00%     </td>\n",
       "        </tr>\n",
       "        <tr>\n",
       "            <td>1015 </td> <td>Calhoun </td> <td>AL   </td> <td>0    </td> <td>0     </td> <td>01jan2020</td> <td>837.673   </td> <td>0.00%     </td>\n",
       "        </tr>\n",
       "        <tr>\n",
       "            <td>1017 </td> <td>Chambers</td> <td>AL   </td> <td>0    </td> <td>0     </td> <td>01jan2020</td> <td>875.582   </td> <td>0.00%     </td>\n",
       "        </tr>\n",
       "        <tr>\n",
       "            <td>1019 </td> <td>Cherokee</td> <td>AL   </td> <td>0    </td> <td>0     </td> <td>01jan2020</td> <td>820.602   </td> <td>0.00%     </td>\n",
       "        </tr>\n",
       "    </tbody>\n",
       "</table>\n",
       "<p>... (456278 rows omitted)</p>"
      ],
      "text/plain": [
       "geoid | county   | state | cases | deaths | date      | dwell_time | death rate\n",
       "1001  | Autauga  | AL    | 0     | 0      | 01jan2020 | 929.958    | 0.00%\n",
       "1003  | Baldwin  | AL    | 0     | 0      | 01jan2020 | 857.864    | 0.00%\n",
       "1005  | Barbour  | AL    | 0     | 0      | 01jan2020 | 788.396    | 0.00%\n",
       "1007  | Bibb     | AL    | 0     | 0      | 01jan2020 | 913.771    | 0.00%\n",
       "1009  | Blount   | AL    | 0     | 0      | 01jan2020 | 956.059    | 0.00%\n",
       "1011  | Bullock  | AL    | 0     | 0      | 01jan2020 | 710.707    | 0.00%\n",
       "1013  | Butler   | AL    | 0     | 0      | 01jan2020 | 813.134    | 0.00%\n",
       "1015  | Calhoun  | AL    | 0     | 0      | 01jan2020 | 837.673    | 0.00%\n",
       "1017  | Chambers | AL    | 0     | 0      | 01jan2020 | 875.582    | 0.00%\n",
       "1019  | Cherokee | AL    | 0     | 0      | 01jan2020 | 820.602    | 0.00%\n",
       "... (456278 rows omitted)"
      ]
     },
     "execution_count": 157,
     "metadata": {},
     "output_type": "execute_result"
    }
   ],
   "source": [
    "nyt_rate.set_format('death rate', PercentFormatter)"
   ]
  },
  {
   "cell_type": "markdown",
   "metadata": {},
   "source": [
    "However, this is a really slappy way to calculate the \"death rate\" of a disease, especially when the case and death numbers are too small. We will learn some better ways to do estimation in the future."
   ]
  },
  {
   "cell_type": "code",
   "execution_count": 158,
   "metadata": {},
   "outputs": [
    {
     "data": {
      "text/html": [
       "<table border=\"1\" class=\"dataframe\">\n",
       "    <thead>\n",
       "        <tr>\n",
       "            <th>geoid</th> <th>county</th> <th>state</th> <th>cases</th> <th>deaths</th> <th>date</th> <th>dwell_time</th>\n",
       "        </tr>\n",
       "    </thead>\n",
       "    <tbody>\n",
       "        <tr>\n",
       "            <td>56045</td> <td>Weston    </td> <td>WY   </td> <td>0    </td> <td>0     </td> <td>31mar2020</td> <td>330.44    </td>\n",
       "        </tr>\n",
       "        <tr>\n",
       "            <td>56043</td> <td>Washakie  </td> <td>WY   </td> <td>1    </td> <td>0     </td> <td>31mar2020</td> <td>401.884   </td>\n",
       "        </tr>\n",
       "        <tr>\n",
       "            <td>56041</td> <td>Uinta     </td> <td>WY   </td> <td>0    </td> <td>0     </td> <td>31mar2020</td> <td>569.315   </td>\n",
       "        </tr>\n",
       "        <tr>\n",
       "            <td>56039</td> <td>Teton     </td> <td>WY   </td> <td>23   </td> <td>0     </td> <td>31mar2020</td> <td>416.503   </td>\n",
       "        </tr>\n",
       "        <tr>\n",
       "            <td>56037</td> <td>Sweetwater</td> <td>WY   </td> <td>2    </td> <td>0     </td> <td>31mar2020</td> <td>564.569   </td>\n",
       "        </tr>\n",
       "        <tr>\n",
       "            <td>56035</td> <td>Sublette  </td> <td>WY   </td> <td>1    </td> <td>0     </td> <td>31mar2020</td> <td>650.313   </td>\n",
       "        </tr>\n",
       "        <tr>\n",
       "            <td>56033</td> <td>Sheridan  </td> <td>WY   </td> <td>10   </td> <td>0     </td> <td>31mar2020</td> <td>623.973   </td>\n",
       "        </tr>\n",
       "        <tr>\n",
       "            <td>56031</td> <td>Platte    </td> <td>WY   </td> <td>0    </td> <td>0     </td> <td>31mar2020</td> <td>312.682   </td>\n",
       "        </tr>\n",
       "        <tr>\n",
       "            <td>56029</td> <td>Park      </td> <td>WY   </td> <td>1    </td> <td>0     </td> <td>31mar2020</td> <td>516.119   </td>\n",
       "        </tr>\n",
       "        <tr>\n",
       "            <td>56027</td> <td>Niobrara  </td> <td>WY   </td> <td>0    </td> <td>0     </td> <td>31mar2020</td> <td>371.985   </td>\n",
       "        </tr>\n",
       "    </tbody>\n",
       "</table>\n",
       "<p>... (456278 rows omitted)</p>"
      ],
      "text/plain": [
       "geoid | county     | state | cases | deaths | date      | dwell_time\n",
       "56045 | Weston     | WY    | 0     | 0      | 31mar2020 | 330.44\n",
       "56043 | Washakie   | WY    | 1     | 0      | 31mar2020 | 401.884\n",
       "56041 | Uinta      | WY    | 0     | 0      | 31mar2020 | 569.315\n",
       "56039 | Teton      | WY    | 23    | 0      | 31mar2020 | 416.503\n",
       "56037 | Sweetwater | WY    | 2     | 0      | 31mar2020 | 564.569\n",
       "56035 | Sublette   | WY    | 1     | 0      | 31mar2020 | 650.313\n",
       "56033 | Sheridan   | WY    | 10    | 0      | 31mar2020 | 623.973\n",
       "56031 | Platte     | WY    | 0     | 0      | 31mar2020 | 312.682\n",
       "56029 | Park       | WY    | 1     | 0      | 31mar2020 | 516.119\n",
       "56027 | Niobrara   | WY    | 0     | 0      | 31mar2020 | 371.985\n",
       "... (456278 rows omitted)"
      ]
     },
     "execution_count": 158,
     "metadata": {},
     "output_type": "execute_result"
    }
   ],
   "source": [
    "nytdata.sort('date',descending = True)"
   ]
  },
  {
   "cell_type": "markdown",
   "metadata": {},
   "source": [
    "**Question 2.1.1** What is the problem of sorting for dates here?"
   ]
  },
  {
   "cell_type": "markdown",
   "metadata": {},
   "source": [
    "Another more useful example is to convert the string under `date` into a real date value. (What is the difference here? Python currently do not understand 01jan2020 is a date prior to 01apr2020, it only can tell \"a\" is in front of \"j\", and would rather rank 01apr2020 in front of 01jan2020."
   ]
  },
  {
   "cell_type": "markdown",
   "metadata": {},
   "source": [
    "To do so, we need to examine how the date values are presented in this specific dataset. It appears to have 2 digits of the day in front of month (but not number! Its the abbreviation of the month name), then in front of the 4 digits of the year."
   ]
  },
  {
   "cell_type": "code",
   "execution_count": 184,
   "metadata": {},
   "outputs": [
    {
     "data": {
      "text/html": [
       "<table border=\"1\" class=\"dataframe\">\n",
       "    <thead>\n",
       "        <tr>\n",
       "            <th>geoid</th> <th>county</th> <th>state</th> <th>cases</th> <th>deaths</th> <th>date</th> <th>dwell_time</th>\n",
       "        </tr>\n",
       "    </thead>\n",
       "    <tbody>\n",
       "        <tr>\n",
       "            <td>1001 </td> <td>Autauga </td> <td>AL   </td> <td>0    </td> <td>0     </td> <td>01Jan2020</td> <td>929.958   </td>\n",
       "        </tr>\n",
       "        <tr>\n",
       "            <td>1003 </td> <td>Baldwin </td> <td>AL   </td> <td>0    </td> <td>0     </td> <td>01Jan2020</td> <td>857.864   </td>\n",
       "        </tr>\n",
       "        <tr>\n",
       "            <td>1005 </td> <td>Barbour </td> <td>AL   </td> <td>0    </td> <td>0     </td> <td>01Jan2020</td> <td>788.396   </td>\n",
       "        </tr>\n",
       "        <tr>\n",
       "            <td>1007 </td> <td>Bibb    </td> <td>AL   </td> <td>0    </td> <td>0     </td> <td>01Jan2020</td> <td>913.771   </td>\n",
       "        </tr>\n",
       "        <tr>\n",
       "            <td>1009 </td> <td>Blount  </td> <td>AL   </td> <td>0    </td> <td>0     </td> <td>01Jan2020</td> <td>956.059   </td>\n",
       "        </tr>\n",
       "        <tr>\n",
       "            <td>1011 </td> <td>Bullock </td> <td>AL   </td> <td>0    </td> <td>0     </td> <td>01Jan2020</td> <td>710.707   </td>\n",
       "        </tr>\n",
       "        <tr>\n",
       "            <td>1013 </td> <td>Butler  </td> <td>AL   </td> <td>0    </td> <td>0     </td> <td>01Jan2020</td> <td>813.134   </td>\n",
       "        </tr>\n",
       "        <tr>\n",
       "            <td>1015 </td> <td>Calhoun </td> <td>AL   </td> <td>0    </td> <td>0     </td> <td>01Jan2020</td> <td>837.673   </td>\n",
       "        </tr>\n",
       "        <tr>\n",
       "            <td>1017 </td> <td>Chambers</td> <td>AL   </td> <td>0    </td> <td>0     </td> <td>01Jan2020</td> <td>875.582   </td>\n",
       "        </tr>\n",
       "        <tr>\n",
       "            <td>1019 </td> <td>Cherokee</td> <td>AL   </td> <td>0    </td> <td>0     </td> <td>01Jan2020</td> <td>820.602   </td>\n",
       "        </tr>\n",
       "    </tbody>\n",
       "</table>\n",
       "<p>... (456278 rows omitted)</p>"
      ],
      "text/plain": [
       "geoid | county   | state | cases | deaths | date      | dwell_time\n",
       "1001  | Autauga  | AL    | 0     | 0      | 01Jan2020 | 929.958\n",
       "1003  | Baldwin  | AL    | 0     | 0      | 01Jan2020 | 857.864\n",
       "1005  | Barbour  | AL    | 0     | 0      | 01Jan2020 | 788.396\n",
       "1007  | Bibb     | AL    | 0     | 0      | 01Jan2020 | 913.771\n",
       "1009  | Blount   | AL    | 0     | 0      | 01Jan2020 | 956.059\n",
       "1011  | Bullock  | AL    | 0     | 0      | 01Jan2020 | 710.707\n",
       "1013  | Butler   | AL    | 0     | 0      | 01Jan2020 | 813.134\n",
       "1015  | Calhoun  | AL    | 0     | 0      | 01Jan2020 | 837.673\n",
       "1017  | Chambers | AL    | 0     | 0      | 01Jan2020 | 875.582\n",
       "1019  | Cherokee | AL    | 0     | 0      | 01Jan2020 | 820.602\n",
       "... (456278 rows omitted)"
      ]
     },
     "execution_count": 184,
     "metadata": {},
     "output_type": "execute_result"
    }
   ],
   "source": [
    "nytdata.set_format('date', DateFormatter('%d%b%Y'))\n",
    "nytdata"
   ]
  },
  {
   "cell_type": "code",
   "execution_count": 165,
   "metadata": {},
   "outputs": [
    {
     "data": {
      "text/html": [
       "<table border=\"1\" class=\"dataframe\">\n",
       "    <thead>\n",
       "        <tr>\n",
       "            <th>geoid</th> <th>county</th> <th>state</th> <th>cases</th> <th>deaths</th> <th>date</th> <th>dwell_time</th>\n",
       "        </tr>\n",
       "    </thead>\n",
       "    <tbody>\n",
       "        <tr>\n",
       "            <td>56045</td> <td>Weston    </td> <td>WY   </td> <td>0    </td> <td>0     </td> <td>26May2020</td> <td>322.289   </td>\n",
       "        </tr>\n",
       "        <tr>\n",
       "            <td>56043</td> <td>Washakie  </td> <td>WY   </td> <td>32   </td> <td>2     </td> <td>26May2020</td> <td>570.982   </td>\n",
       "        </tr>\n",
       "        <tr>\n",
       "            <td>56041</td> <td>Uinta     </td> <td>WY   </td> <td>12   </td> <td>0     </td> <td>26May2020</td> <td>585.409   </td>\n",
       "        </tr>\n",
       "        <tr>\n",
       "            <td>56039</td> <td>Teton     </td> <td>WY   </td> <td>100  </td> <td>1     </td> <td>26May2020</td> <td>386.272   </td>\n",
       "        </tr>\n",
       "        <tr>\n",
       "            <td>56037</td> <td>Sweetwater</td> <td>WY   </td> <td>25   </td> <td>0     </td> <td>26May2020</td> <td>528.703   </td>\n",
       "        </tr>\n",
       "        <tr>\n",
       "            <td>56035</td> <td>Sublette  </td> <td>WY   </td> <td>3    </td> <td>0     </td> <td>26May2020</td> <td>604.527   </td>\n",
       "        </tr>\n",
       "        <tr>\n",
       "            <td>56033</td> <td>Sheridan  </td> <td>WY   </td> <td>16   </td> <td>0     </td> <td>26May2020</td> <td>614.828   </td>\n",
       "        </tr>\n",
       "        <tr>\n",
       "            <td>56031</td> <td>Platte    </td> <td>WY   </td> <td>1    </td> <td>0     </td> <td>26May2020</td> <td>288.553   </td>\n",
       "        </tr>\n",
       "        <tr>\n",
       "            <td>56029</td> <td>Park      </td> <td>WY   </td> <td>2    </td> <td>0     </td> <td>26May2020</td> <td>476.497   </td>\n",
       "        </tr>\n",
       "        <tr>\n",
       "            <td>56027</td> <td>Niobrara  </td> <td>WY   </td> <td>2    </td> <td>0     </td> <td>26May2020</td> <td>332.366   </td>\n",
       "        </tr>\n",
       "    </tbody>\n",
       "</table>\n",
       "<p>... (456278 rows omitted)</p>"
      ],
      "text/plain": [
       "geoid | county     | state | cases | deaths | date      | dwell_time\n",
       "56045 | Weston     | WY    | 0     | 0      | 26May2020 | 322.289\n",
       "56043 | Washakie   | WY    | 32    | 2      | 26May2020 | 570.982\n",
       "56041 | Uinta      | WY    | 12    | 0      | 26May2020 | 585.409\n",
       "56039 | Teton      | WY    | 100   | 1      | 26May2020 | 386.272\n",
       "56037 | Sweetwater | WY    | 25    | 0      | 26May2020 | 528.703\n",
       "56035 | Sublette   | WY    | 3     | 0      | 26May2020 | 604.527\n",
       "56033 | Sheridan   | WY    | 16    | 0      | 26May2020 | 614.828\n",
       "56031 | Platte     | WY    | 1     | 0      | 26May2020 | 288.553\n",
       "56029 | Park       | WY    | 2     | 0      | 26May2020 | 476.497\n",
       "56027 | Niobrara   | WY    | 2     | 0      | 26May2020 | 332.366\n",
       "... (456278 rows omitted)"
      ]
     },
     "execution_count": 165,
     "metadata": {},
     "output_type": "execute_result"
    }
   ],
   "source": [
    "# This time, when we sort date in a reverse way, we will see 26May2020 at first. \n",
    "nytdata.sort('date',descending = True)"
   ]
  },
  {
   "cell_type": "markdown",
   "metadata": {},
   "source": [
    "## 3. Examine state-by-state COVID-19 case trend in the first epidemic phase"
   ]
  },
  {
   "cell_type": "markdown",
   "metadata": {},
   "source": [
    "Although the case and death reports for each county and each day show us the details, we sometimes want to see a summary of reports to quickly identify, say, which state(s) have a high case reports, which date period were the epidemic reached to the peak, etc. To do so, we would love to use a method to sum data by `group`."
   ]
  },
  {
   "cell_type": "code",
   "execution_count": 166,
   "metadata": {},
   "outputs": [
    {
     "data": {
      "text/html": [
       "<table border=\"1\" class=\"dataframe\">\n",
       "    <thead>\n",
       "        <tr>\n",
       "            <th>state</th> <th>geoid mean</th> <th>county mean</th> <th>cases mean</th> <th>deaths mean</th> <th>date mean</th> <th>dwell_time mean</th>\n",
       "        </tr>\n",
       "    </thead>\n",
       "    <tbody>\n",
       "        <tr>\n",
       "            <td>AL   </td> <td>1067      </td> <td>           </td> <td>42.4839   </td> <td>1.57295    </td> <td>1.58416e+09</td> <td>701.909        </td>\n",
       "        </tr>\n",
       "        <tr>\n",
       "            <td>AR   </td> <td>5075      </td> <td>           </td> <td>15.199    </td> <td>0.320272   </td> <td>1.58416e+09</td> <td>664.021        </td>\n",
       "        </tr>\n",
       "        <tr>\n",
       "            <td>AZ   </td> <td>4013.87   </td> <td>           </td> <td>208.6     </td> <td>9.23537    </td> <td>1.58416e+09</td> <td>572.695        </td>\n",
       "        </tr>\n",
       "        <tr>\n",
       "            <td>CA   </td> <td>6058      </td> <td>           </td> <td>335.603   </td> <td>12.9089    </td> <td>1.58416e+09</td> <td>718.563        </td>\n",
       "        </tr>\n",
       "        <tr>\n",
       "            <td>CO   </td> <td>8062.23   </td> <td>           </td> <td>85.9373   </td> <td>4.30251    </td> <td>1.58416e+09</td> <td>551.878        </td>\n",
       "        </tr>\n",
       "        <tr>\n",
       "            <td>CT   </td> <td>9008      </td> <td>           </td> <td>1171.04   </td> <td>94.8656    </td> <td>1.58416e+09</td> <td>688.028        </td>\n",
       "        </tr>\n",
       "        <tr>\n",
       "            <td>DC   </td> <td>11001     </td> <td>           </td> <td>1673.64   </td> <td>79.6054    </td> <td>1.58416e+09</td> <td>519.904        </td>\n",
       "        </tr>\n",
       "        <tr>\n",
       "            <td>DE   </td> <td>10003     </td> <td>           </td> <td>569.034   </td> <td>19.1973    </td> <td>1.58416e+09</td> <td>659.63         </td>\n",
       "        </tr>\n",
       "        <tr>\n",
       "            <td>FL   </td> <td>12067.9   </td> <td>           </td> <td>185.725   </td> <td>6.86506    </td> <td>1.58416e+09</td> <td>638.372        </td>\n",
       "        </tr>\n",
       "        <tr>\n",
       "            <td>GA   </td> <td>13161.5   </td> <td>           </td> <td>56.114    </td> <td>2.47166    </td> <td>1.58416e+09</td> <td>683.399        </td>\n",
       "        </tr>\n",
       "    </tbody>\n",
       "</table>\n",
       "<p>... (39 rows omitted)</p>"
      ],
      "text/plain": [
       "state | geoid mean | county mean | cases mean | deaths mean | date mean   | dwell_time mean\n",
       "AL    | 1067       |             | 42.4839    | 1.57295     | 1.58416e+09 | 701.909\n",
       "AR    | 5075       |             | 15.199     | 0.320272    | 1.58416e+09 | 664.021\n",
       "AZ    | 4013.87    |             | 208.6      | 9.23537     | 1.58416e+09 | 572.695\n",
       "CA    | 6058       |             | 335.603    | 12.9089     | 1.58416e+09 | 718.563\n",
       "CO    | 8062.23    |             | 85.9373    | 4.30251     | 1.58416e+09 | 551.878\n",
       "CT    | 9008       |             | 1171.04    | 94.8656     | 1.58416e+09 | 688.028\n",
       "DC    | 11001      |             | 1673.64    | 79.6054     | 1.58416e+09 | 519.904\n",
       "DE    | 10003      |             | 569.034    | 19.1973     | 1.58416e+09 | 659.63\n",
       "FL    | 12067.9    |             | 185.725    | 6.86506     | 1.58416e+09 | 638.372\n",
       "GA    | 13161.5    |             | 56.114     | 2.47166     | 1.58416e+09 | 683.399\n",
       "... (39 rows omitted)"
      ]
     },
     "execution_count": 166,
     "metadata": {},
     "output_type": "execute_result"
    }
   ],
   "source": [
    "# find the state mean\n",
    "state_group = nytdata.group('state', np.mean)\n",
    "state_group"
   ]
  },
  {
   "cell_type": "markdown",
   "metadata": {},
   "source": [
    "Because county are hard to get an average, they were left blank in the above table. Now, it is easier to see that during the study period, Connecticut has an average cases around 1171, and the average death around 95.\n",
    "\n",
    "**Question 3.1** What is going on with the date mean?\n",
    "\n",
    "**Question 3.2** Which state has the highest average case reports during the study period? What is the average home dwelling time for that state?"
   ]
  },
  {
   "cell_type": "code",
   "execution_count": 74,
   "metadata": {},
   "outputs": [],
   "source": [
    "## Type your answer here\n"
   ]
  },
  {
   "cell_type": "markdown",
   "metadata": {},
   "source": [
    "**Question 3.3** We can also see the trend by date, how would you do it with the group function? What can you find from the new table that you generate?\n"
   ]
  },
  {
   "cell_type": "code",
   "execution_count": 167,
   "metadata": {},
   "outputs": [
    {
     "data": {
      "text/html": [
       "<table border=\"1\" class=\"dataframe\">\n",
       "    <thead>\n",
       "        <tr>\n",
       "            <th>date</th> <th>geoid mean</th> <th>county mean</th> <th>state mean</th> <th>cases mean</th> <th>deaths mean</th> <th>dwell_time mean</th>\n",
       "        </tr>\n",
       "    </thead>\n",
       "    <tbody>\n",
       "        <tr>\n",
       "            <td>1.57785e+09</td> <td>30644.8   </td> <td>           </td> <td>          </td> <td>0         </td> <td>0          </td> <td>750.763        </td>\n",
       "        </tr>\n",
       "        <tr>\n",
       "            <td>1.57794e+09</td> <td>30644.8   </td> <td>           </td> <td>          </td> <td>0         </td> <td>0          </td> <td>670.982        </td>\n",
       "        </tr>\n",
       "        <tr>\n",
       "            <td>1.57803e+09</td> <td>30644.8   </td> <td>           </td> <td>          </td> <td>0         </td> <td>0          </td> <td>637.446        </td>\n",
       "        </tr>\n",
       "        <tr>\n",
       "            <td>1.57811e+09</td> <td>30644.8   </td> <td>           </td> <td>          </td> <td>0         </td> <td>0          </td> <td>724.092        </td>\n",
       "        </tr>\n",
       "        <tr>\n",
       "            <td>1.5782e+09 </td> <td>30644.8   </td> <td>           </td> <td>          </td> <td>0         </td> <td>0          </td> <td>802.027        </td>\n",
       "        </tr>\n",
       "        <tr>\n",
       "            <td>1.57829e+09</td> <td>30644.8   </td> <td>           </td> <td>          </td> <td>0         </td> <td>0          </td> <td>645.047        </td>\n",
       "        </tr>\n",
       "        <tr>\n",
       "            <td>1.57837e+09</td> <td>30644.8   </td> <td>           </td> <td>          </td> <td>0         </td> <td>0          </td> <td>633.412        </td>\n",
       "        </tr>\n",
       "        <tr>\n",
       "            <td>1.57846e+09</td> <td>30644.8   </td> <td>           </td> <td>          </td> <td>0         </td> <td>0          </td> <td>636.729        </td>\n",
       "        </tr>\n",
       "        <tr>\n",
       "            <td>1.57855e+09</td> <td>30644.8   </td> <td>           </td> <td>          </td> <td>0         </td> <td>0          </td> <td>620.439        </td>\n",
       "        </tr>\n",
       "        <tr>\n",
       "            <td>1.57863e+09</td> <td>30644.8   </td> <td>           </td> <td>          </td> <td>0         </td> <td>0          </td> <td>595.923        </td>\n",
       "        </tr>\n",
       "    </tbody>\n",
       "</table>\n",
       "<p>... (137 rows omitted)</p>"
      ],
      "text/plain": [
       "date        | geoid mean | county mean | state mean | cases mean | deaths mean | dwell_time mean\n",
       "1.57785e+09 | 30644.8    |             |            | 0          | 0           | 750.763\n",
       "1.57794e+09 | 30644.8    |             |            | 0          | 0           | 670.982\n",
       "1.57803e+09 | 30644.8    |             |            | 0          | 0           | 637.446\n",
       "1.57811e+09 | 30644.8    |             |            | 0          | 0           | 724.092\n",
       "1.5782e+09  | 30644.8    |             |            | 0          | 0           | 802.027\n",
       "1.57829e+09 | 30644.8    |             |            | 0          | 0           | 645.047\n",
       "1.57837e+09 | 30644.8    |             |            | 0          | 0           | 633.412\n",
       "1.57846e+09 | 30644.8    |             |            | 0          | 0           | 636.729\n",
       "1.57855e+09 | 30644.8    |             |            | 0          | 0           | 620.439\n",
       "1.57863e+09 | 30644.8    |             |            | 0          | 0           | 595.923\n",
       "... (137 rows omitted)"
      ]
     },
     "execution_count": 167,
     "metadata": {},
     "output_type": "execute_result"
    }
   ],
   "source": [
    "## Type your answer here\n",
    "date_group = nytdata.group('date', np.mean)\n",
    "date_group"
   ]
  },
  {
   "cell_type": "markdown",
   "metadata": {},
   "source": [
    "**Question 3.3** what is going on with the date values again?"
   ]
  },
  {
   "cell_type": "markdown",
   "metadata": {},
   "source": [
    "**Question 3.4** We can also use the `group` function to find the group maximum or minimum. Find the top 10 state(s) that contains the county with the highest home dwelling time using `group`. Can you use a function to add a new column for the average state home-dwelling time?"
   ]
  },
  {
   "cell_type": "markdown",
   "metadata": {},
   "source": [
    "## 4. Create plots and statistics\n",
    "\n",
    "### 4.1. Line plot"
   ]
  },
  {
   "cell_type": "code",
   "execution_count": 124,
   "metadata": {},
   "outputs": [],
   "source": [
    "# this code makes it so that figures appear in Jupyter notebooks, do not remove it!\n",
    "%matplotlib inline\n",
    "import matplotlib.pyplot as plt \n",
    "import matplotlib.dates as mdates "
   ]
  },
  {
   "cell_type": "code",
   "execution_count": 170,
   "metadata": {},
   "outputs": [
    {
     "data": {
      "image/png": "[encoded data removed]",
      "text/plain": [
       "<Figure size 432x288 with 1 Axes>"
      ]
     },
     "metadata": {
      "needs_background": "light"
     },
     "output_type": "display_data"
    }
   ],
   "source": [
    "date_group.plot('date','cases mean')"
   ]
  },
  {
   "cell_type": "markdown",
   "metadata": {},
   "source": [
    "Note that date on the horizontal axis is weird, we will find a better way to define the format later."
   ]
  },
  {
   "cell_type": "markdown",
   "metadata": {},
   "source": [
    "### 4.2. Scatter plot"
   ]
  },
  {
   "cell_type": "code",
   "execution_count": 180,
   "metadata": {},
   "outputs": [
    {
     "data": {
      "image/png": "[encoded data removed]",
      "text/plain": [
       "<Figure size 360x360 with 1 Axes>"
      ]
     },
     "metadata": {
      "needs_background": "light"
     },
     "output_type": "display_data"
    }
   ],
   "source": [
    "date_group.scatter('cases mean','deaths mean')"
   ]
  },
  {
   "cell_type": "markdown",
   "metadata": {},
   "source": [
    "**Question 4.2.1** It appears that there is a linear relationship between the case number reported and the death number reported. Can we make a rush conclusion about the death rate? What other factors may have an impact as well?"
   ]
  },
  {
   "cell_type": "code",
   "execution_count": 181,
   "metadata": {},
   "outputs": [],
   "source": [
    "# Type your answer here\n"
   ]
  },
  {
   "cell_type": "markdown",
   "metadata": {},
   "source": [
    "### 4.3. Bar plot\n",
    "\n",
    "Note that we use a horizontal bar plot, or `barh` here to better present the average dwell time at home in each state. "
   ]
  },
  {
   "cell_type": "code",
   "execution_count": 178,
   "metadata": {},
   "outputs": [
    {
     "data": {
      "image/png": "[encoded data removed]",
      "text/plain": [
       "<Figure size 432x1764 with 1 Axes>"
      ]
     },
     "metadata": {
      "needs_background": "light"
     },
     "output_type": "display_data"
    }
   ],
   "source": [
    "state_group.barh('state','dwell_time mean')"
   ]
  },
  {
   "cell_type": "markdown",
   "metadata": {},
   "source": [
    "**Question 4.3.1** Try to re-plot the above figure with a descending dwell time (so the states with the maximum average dwelling time appears above). Reference of the textbook is [here](https://www.inferentialthinking.com/chapters/07/1/Visualizing_Categorical_Distributions.html)."
   ]
  },
  {
   "cell_type": "code",
   "execution_count": 182,
   "metadata": {},
   "outputs": [],
   "source": [
    "# Type your answer here\n"
   ]
  },
  {
   "cell_type": "markdown",
   "metadata": {},
   "source": [
    "### 4.4 Histograms\n",
    "\n",
    "Our final practice of plot is about histograms. Histograms are a convenient way to view the full shape of a distribution. We can create a histogram from a table using the syntax: table.hist('col_name') where 'col_name' refers to the column whose values we want to use to make the histogram."
   ]
  },
  {
   "cell_type": "markdown",
   "metadata": {},
   "source": [
    "**Question 4.4.1** Use the nytdata to show a distribution of home dwell time in minutes using `hist`. What do you observe from the plot?"
   ]
  },
  {
   "cell_type": "code",
   "execution_count": null,
   "metadata": {},
   "outputs": [],
   "source": [
    "# Type your answer here\n",
    "\n"
   ]
  }
 ],
 "metadata": {
  "kernelspec": {
   "display_name": "Python 3",
   "language": "python",
   "name": "python3"
  },
  "language_info": {
   "codemirror_mode": {
    "name": "ipython",
    "version": 3
   },
   "file_extension": ".py",
   "mimetype": "text/x-python",
   "name": "python",
   "nbconvert_exporter": "python",
   "pygments_lexer": "ipython3",
   "version": "3.8.3"
  }
 },
 "nbformat": 4,
 "nbformat_minor": 4
}
