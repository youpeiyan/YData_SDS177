{
 "cells": [
  {
   "cell_type": "markdown",
   "metadata": {},
   "source": [
    "# Behavioral Lab 2\n",
    "\n",
    "Welcome to our second lab! \n",
    "\n",
    "Last week, we discussed some background related to the COVID-19 pandemic and saw some datasets. \n",
    "\n",
    "### Today's lab\n",
    "\n",
    "1. Review the data import and data manipulation we had last week.\n",
    "2. Basic introduction of Panel Data and `pandas`.\n",
    "3. Repeat some exercise using `pandas` that we had with `numpy`.\n",
    "4. Correlation and Causality."
   ]
  },
  {
   "cell_type": "markdown",
   "metadata": {},
   "source": [
    "## 1. Review with Visiting Data\n",
    "\n",
    "### 1.1 Average visiting counts to points of interest\n",
    "\n",
    "Last time, we had our first look at Python and Jupyter notebooks. So far, we have only used Python to do some simple manipulation on the datasets we imported. \n",
    "\n",
    "Let us review what we learnt with a new dataset **poi_vpc.csv** here."
   ]
  },
  {
   "cell_type": "code",
   "execution_count": 1,
   "metadata": {},
   "outputs": [
    {
     "data": {
      "text/html": [
       "<table border=\"1\" class=\"dataframe\">\n",
       "    <thead>\n",
       "        <tr>\n",
       "            <th>date</th> <th>geoid</th> <th>dvc7225</th> <th>dvc7139</th> <th>dvc4461</th> <th>dvc4531</th> <th>dvc4511</th> <th>dvc4471</th> <th>dvc7121</th> <th>dvc4539</th> <th>dvc4533</th> <th>dvc4522</th> <th>dvc4481</th> <th>dvc4532</th> <th>dvc4421</th> <th>dvc4431</th> <th>dvc4483</th> <th>dvc7132</th> <th>dvc4512</th> <th>dvc4452</th> <th>dvc4482</th> <th>dvc4422</th> <th>dvc4411</th> <th>dvc4413</th> <th>dvc4237</th> <th>dvc7224</th> <th>dvc7131</th> <th>dvc4246</th> <th>dvc4244</th> <th>dvc4238</th> <th>dvc4242</th> <th>dvc4239</th> <th>dvc4453</th> <th>dvc4441</th> <th>dvc4451</th> <th>dvc4523</th>\n",
       "        </tr>\n",
       "    </thead>\n",
       "    <tbody>\n",
       "        <tr>\n",
       "            <td>11apr2020</td> <td>1001 </td> <td>0.227962</td> <td>0.0147285 </td> <td>0.0178061</td> <td>0.00351726</td> <td>0.0193449 </td> <td>0.0685865</td> <td>0.00967246</td> <td>0.0173665 </td> <td>0.00879314</td> <td>0.00197846 </td> <td>0.0105518 </td> <td>0.00593537</td> <td>0          </td> <td>0.000659486</td> <td>0.000439657</td> <td>0      </td> <td>0      </td> <td>0.00263794 </td> <td>0.000879314</td> <td>0.000659486</td> <td>0.00945263</td> <td>0.0149483 </td> <td>0      </td> <td>0.00131897 </td> <td>0      </td> <td>0      </td> <td>0      </td> <td>0      </td> <td>0      </td> <td>0.000219829</td> <td>0.0015388  </td> <td>0.0189053 </td> <td>0.105738 </td> <td>0.164212 </td>\n",
       "        </tr>\n",
       "        <tr>\n",
       "            <td>02apr2020</td> <td>1001 </td> <td>0.236482</td> <td>0.0186224 </td> <td>0.0430783</td> <td>0.00403859</td> <td>0.0168275 </td> <td>0.0749383</td> <td>0.0105452 </td> <td>0.0195199 </td> <td>0.0136863 </td> <td>0.00157056 </td> <td>0.00762845</td> <td>0.00830155</td> <td>0          </td> <td>0.00224366 </td> <td>0.00112183 </td> <td>0      </td> <td>0      </td> <td>0.00246803 </td> <td>0.00112183 </td> <td>0.00314113 </td> <td>0.011667  </td> <td>0.0152569 </td> <td>0      </td> <td>0.000897465</td> <td>0      </td> <td>0      </td> <td>0      </td> <td>0      </td> <td>0      </td> <td>0          </td> <td>0.00224366 </td> <td>0.0215392 </td> <td>0.0892977</td> <td>0.140453 </td>\n",
       "        </tr>\n",
       "        <tr>\n",
       "            <td>24apr2020</td> <td>1001 </td> <td>0.321203</td> <td>0.0270211 </td> <td>0.0387884</td> <td>0.00784485</td> <td>0.0196121 </td> <td>0.0974068</td> <td>0.00980606</td> <td>0.0254958 </td> <td>0.0117673 </td> <td>0.00305077 </td> <td>0.00719111</td> <td>0.00675528</td> <td>0          </td> <td>0.00130747 </td> <td>0.00130747 </td> <td>0      </td> <td>0      </td> <td>0.00479407 </td> <td>0.00130747 </td> <td>0.00196121 </td> <td>0.0161255 </td> <td>0.0246241 </td> <td>0      </td> <td>0.000217912</td> <td>0      </td> <td>0      </td> <td>0      </td> <td>0      </td> <td>0      </td> <td>0          </td> <td>0.00326869 </td> <td>0.0207017 </td> <td>0.0716932</td> <td>0.157769 </td>\n",
       "        </tr>\n",
       "        <tr>\n",
       "            <td>08feb2020</td> <td>1001 </td> <td>0.348322</td> <td>0.111074  </td> <td>0.0541946</td> <td>0.011745  </td> <td>0.0302013 </td> <td>0.0780201</td> <td>0.00771812</td> <td>0.0360738 </td> <td>0.0503356 </td> <td>0.00520134 </td> <td>0.00939597</td> <td>0.0162752 </td> <td>0.000671141</td> <td>0.000838926</td> <td>0.00369128 </td> <td>0      </td> <td>0      </td> <td>0.0045302  </td> <td>0.00822148 </td> <td>0.00419463 </td> <td>0.00855705</td> <td>0.014094  </td> <td>0      </td> <td>0.000503356</td> <td>0      </td> <td>0      </td> <td>0      </td> <td>0      </td> <td>0      </td> <td>0          </td> <td>0.000838926</td> <td>0.0129195 </td> <td>0.057047 </td> <td>0.151846 </td>\n",
       "        </tr>\n",
       "        <tr>\n",
       "            <td>18may2020</td> <td>1001 </td> <td>0.307532</td> <td>0.0596704 </td> <td>0.0688504</td> <td>0.00709368</td> <td>0.0296265 </td> <td>0.0830378</td> <td>0.00771959</td> <td>0.0296265 </td> <td>0.0214897 </td> <td>0.00312956 </td> <td>0.00709368</td> <td>0.0066764 </td> <td>0.000208638</td> <td>0.00125183 </td> <td>0.00250365 </td> <td>0      </td> <td>0      </td> <td>0.00292093 </td> <td>0.00542458 </td> <td>0.00146046 </td> <td>0.0141874 </td> <td>0.0219069 </td> <td>0      </td> <td>0.0016691  </td> <td>0      </td> <td>0      </td> <td>0      </td> <td>0      </td> <td>0      </td> <td>0.000208638</td> <td>0.00208638 </td> <td>0.0231588 </td> <td>0.050073 </td> <td>0.119132 </td>\n",
       "        </tr>\n",
       "        <tr>\n",
       "            <td>26mar2020</td> <td>1001 </td> <td>0.231432</td> <td>0.0310011 </td> <td>0.0469322</td> <td>0.00107643</td> <td>0.0187298 </td> <td>0.0727664</td> <td>0.0148547 </td> <td>0.0236814 </td> <td>0.0122713 </td> <td>0.000861141</td> <td>0.0043057 </td> <td>0.00602799</td> <td>0          </td> <td>0.00172228 </td> <td>0.00107643 </td> <td>0      </td> <td>0      </td> <td>0.00387513 </td> <td>0.001507   </td> <td>0.00129171 </td> <td>0.00645856</td> <td>0.0139935 </td> <td>0      </td> <td>0.000430571</td> <td>0      </td> <td>0      </td> <td>0      </td> <td>0      </td> <td>0      </td> <td>0          </td> <td>0.00107643 </td> <td>0.0208827 </td> <td>0.065662 </td> <td>0.116039 </td>\n",
       "        </tr>\n",
       "        <tr>\n",
       "            <td>14may2020</td> <td>1001 </td> <td>0.306452</td> <td>0.0415633 </td> <td>0.0556245</td> <td>0.00496278</td> <td>0.0334988 </td> <td>0.0895368</td> <td>0.0134409 </td> <td>0.0266749 </td> <td>0.0262614 </td> <td>0.00454921 </td> <td>0.0103391 </td> <td>0.00930521</td> <td>0.000206782</td> <td>0.00124069 </td> <td>0.00103391 </td> <td>0      </td> <td>0      </td> <td>0.00496278 </td> <td>0.00496278 </td> <td>0.00248139 </td> <td>0.0128205 </td> <td>0.0155087 </td> <td>0      </td> <td>0.00165426 </td> <td>0      </td> <td>0      </td> <td>0      </td> <td>0      </td> <td>0      </td> <td>0          </td> <td>0.0035153  </td> <td>0.0248139 </td> <td>0.0614144</td> <td>0.131514 </td>\n",
       "        </tr>\n",
       "        <tr>\n",
       "            <td>05apr2020</td> <td>1001 </td> <td>0.113305</td> <td>0.00695535</td> <td>0.0121158</td> <td>0.00224366</td> <td>0.00740408</td> <td>0.0444245</td> <td>0.00358986</td> <td>0.00583352</td> <td>0.00673098</td> <td>0.00157056 </td> <td>0.00179493</td> <td>0.00157056</td> <td>0.000224366</td> <td>0.000448732</td> <td>0.000673098</td> <td>0      </td> <td>0      </td> <td>0.000448732</td> <td>0.000897465</td> <td>0          </td> <td>0.00269239</td> <td>0.00919901</td> <td>0      </td> <td>0.000224366</td> <td>0      </td> <td>0      </td> <td>0      </td> <td>0      </td> <td>0      </td> <td>0          </td> <td>0.0013462  </td> <td>0.00583352</td> <td>0.0542966</td> <td>0.0926632</td>\n",
       "        </tr>\n",
       "        <tr>\n",
       "            <td>10apr2020</td> <td>1001 </td> <td>0.271049</td> <td>0.0149483 </td> <td>0.0400088</td> <td>0.00483623</td> <td>0.0206639 </td> <td>0.0749615</td> <td>0.007694  </td> <td>0.0208837 </td> <td>0.0109914 </td> <td>0.0030776  </td> <td>0.00549571</td> <td>0.00549571</td> <td>0          </td> <td>0.000879314</td> <td>0.00131897 </td> <td>0      </td> <td>0      </td> <td>0.00395691 </td> <td>0.0015388  </td> <td>0.00131897 </td> <td>0.0136294 </td> <td>0.0164871 </td> <td>0      </td> <td>0.00109914 </td> <td>0      </td> <td>0      </td> <td>0      </td> <td>0      </td> <td>0      </td> <td>0          </td> <td>0.00351726 </td> <td>0.0213234 </td> <td>0.0837547</td> <td>0.154979 </td>\n",
       "        </tr>\n",
       "        <tr>\n",
       "            <td>04mar2020</td> <td>1001 </td> <td>0.250599</td> <td>0.0466986 </td> <td>0.0638043</td> <td>0.00735546</td> <td>0.0177899 </td> <td>0.0641464</td> <td>0.0126582 </td> <td>0.0177899 </td> <td>0.0213821 </td> <td>0.00102634 </td> <td>0.00615806</td> <td>0.0083818 </td> <td>0.000513171</td> <td>0.000342114</td> <td>0.00205269 </td> <td>0      </td> <td>0      </td> <td>0.00273691 </td> <td>0.00444749 </td> <td>0.00376326 </td> <td>0.00855286</td> <td>0.00992131</td> <td>0      </td> <td>0.000855286</td> <td>0      </td> <td>0      </td> <td>0      </td> <td>0      </td> <td>0      </td> <td>0          </td> <td>0.00102634 </td> <td>0.0172768 </td> <td>0.0350667</td> <td>0.0925419</td>\n",
       "        </tr>\n",
       "    </tbody>\n",
       "</table>\n",
       "<p>... (382029 rows omitted)</p>"
      ],
      "text/plain": [
       "date      | geoid | dvc7225  | dvc7139    | dvc4461   | dvc4531    | dvc4511    | dvc4471   | dvc7121    | dvc4539    | dvc4533    | dvc4522     | dvc4481    | dvc4532    | dvc4421     | dvc4431     | dvc4483     | dvc7132 | dvc4512 | dvc4452     | dvc4482     | dvc4422     | dvc4411    | dvc4413    | dvc4237 | dvc7224     | dvc7131 | dvc4246 | dvc4244 | dvc4238 | dvc4242 | dvc4239     | dvc4453     | dvc4441    | dvc4451   | dvc4523\n",
       "11apr2020 | 1001  | 0.227962 | 0.0147285  | 0.0178061 | 0.00351726 | 0.0193449  | 0.0685865 | 0.00967246 | 0.0173665  | 0.00879314 | 0.00197846  | 0.0105518  | 0.00593537 | 0           | 0.000659486 | 0.000439657 | 0       | 0       | 0.00263794  | 0.000879314 | 0.000659486 | 0.00945263 | 0.0149483  | 0       | 0.00131897  | 0       | 0       | 0       | 0       | 0       | 0.000219829 | 0.0015388   | 0.0189053  | 0.105738  | 0.164212\n",
       "02apr2020 | 1001  | 0.236482 | 0.0186224  | 0.0430783 | 0.00403859 | 0.0168275  | 0.0749383 | 0.0105452  | 0.0195199  | 0.0136863  | 0.00157056  | 0.00762845 | 0.00830155 | 0           | 0.00224366  | 0.00112183  | 0       | 0       | 0.00246803  | 0.00112183  | 0.00314113  | 0.011667   | 0.0152569  | 0       | 0.000897465 | 0       | 0       | 0       | 0       | 0       | 0           | 0.00224366  | 0.0215392  | 0.0892977 | 0.140453\n",
       "24apr2020 | 1001  | 0.321203 | 0.0270211  | 0.0387884 | 0.00784485 | 0.0196121  | 0.0974068 | 0.00980606 | 0.0254958  | 0.0117673  | 0.00305077  | 0.00719111 | 0.00675528 | 0           | 0.00130747  | 0.00130747  | 0       | 0       | 0.00479407  | 0.00130747  | 0.00196121  | 0.0161255  | 0.0246241  | 0       | 0.000217912 | 0       | 0       | 0       | 0       | 0       | 0           | 0.00326869  | 0.0207017  | 0.0716932 | 0.157769\n",
       "08feb2020 | 1001  | 0.348322 | 0.111074   | 0.0541946 | 0.011745   | 0.0302013  | 0.0780201 | 0.00771812 | 0.0360738  | 0.0503356  | 0.00520134  | 0.00939597 | 0.0162752  | 0.000671141 | 0.000838926 | 0.00369128  | 0       | 0       | 0.0045302   | 0.00822148  | 0.00419463  | 0.00855705 | 0.014094   | 0       | 0.000503356 | 0       | 0       | 0       | 0       | 0       | 0           | 0.000838926 | 0.0129195  | 0.057047  | 0.151846\n",
       "18may2020 | 1001  | 0.307532 | 0.0596704  | 0.0688504 | 0.00709368 | 0.0296265  | 0.0830378 | 0.00771959 | 0.0296265  | 0.0214897  | 0.00312956  | 0.00709368 | 0.0066764  | 0.000208638 | 0.00125183  | 0.00250365  | 0       | 0       | 0.00292093  | 0.00542458  | 0.00146046  | 0.0141874  | 0.0219069  | 0       | 0.0016691   | 0       | 0       | 0       | 0       | 0       | 0.000208638 | 0.00208638  | 0.0231588  | 0.050073  | 0.119132\n",
       "26mar2020 | 1001  | 0.231432 | 0.0310011  | 0.0469322 | 0.00107643 | 0.0187298  | 0.0727664 | 0.0148547  | 0.0236814  | 0.0122713  | 0.000861141 | 0.0043057  | 0.00602799 | 0           | 0.00172228  | 0.00107643  | 0       | 0       | 0.00387513  | 0.001507    | 0.00129171  | 0.00645856 | 0.0139935  | 0       | 0.000430571 | 0       | 0       | 0       | 0       | 0       | 0           | 0.00107643  | 0.0208827  | 0.065662  | 0.116039\n",
       "14may2020 | 1001  | 0.306452 | 0.0415633  | 0.0556245 | 0.00496278 | 0.0334988  | 0.0895368 | 0.0134409  | 0.0266749  | 0.0262614  | 0.00454921  | 0.0103391  | 0.00930521 | 0.000206782 | 0.00124069  | 0.00103391  | 0       | 0       | 0.00496278  | 0.00496278  | 0.00248139  | 0.0128205  | 0.0155087  | 0       | 0.00165426  | 0       | 0       | 0       | 0       | 0       | 0           | 0.0035153   | 0.0248139  | 0.0614144 | 0.131514\n",
       "05apr2020 | 1001  | 0.113305 | 0.00695535 | 0.0121158 | 0.00224366 | 0.00740408 | 0.0444245 | 0.00358986 | 0.00583352 | 0.00673098 | 0.00157056  | 0.00179493 | 0.00157056 | 0.000224366 | 0.000448732 | 0.000673098 | 0       | 0       | 0.000448732 | 0.000897465 | 0           | 0.00269239 | 0.00919901 | 0       | 0.000224366 | 0       | 0       | 0       | 0       | 0       | 0           | 0.0013462   | 0.00583352 | 0.0542966 | 0.0926632\n",
       "10apr2020 | 1001  | 0.271049 | 0.0149483  | 0.0400088 | 0.00483623 | 0.0206639  | 0.0749615 | 0.007694   | 0.0208837  | 0.0109914  | 0.0030776   | 0.00549571 | 0.00549571 | 0           | 0.000879314 | 0.00131897  | 0       | 0       | 0.00395691  | 0.0015388   | 0.00131897  | 0.0136294  | 0.0164871  | 0       | 0.00109914  | 0       | 0       | 0       | 0       | 0       | 0           | 0.00351726  | 0.0213234  | 0.0837547 | 0.154979\n",
       "04mar2020 | 1001  | 0.250599 | 0.0466986  | 0.0638043 | 0.00735546 | 0.0177899  | 0.0641464 | 0.0126582  | 0.0177899  | 0.0213821  | 0.00102634  | 0.00615806 | 0.0083818  | 0.000513171 | 0.000342114 | 0.00205269  | 0       | 0       | 0.00273691  | 0.00444749  | 0.00376326  | 0.00855286 | 0.00992131 | 0       | 0.000855286 | 0       | 0       | 0       | 0       | 0       | 0           | 0.00102634  | 0.0172768  | 0.0350667 | 0.0925419\n",
       "... (382029 rows omitted)"
      ]
     },
     "execution_count": 1,
     "metadata": {},
     "output_type": "execute_result"
    }
   ],
   "source": [
    "from datascience import *\n",
    "\n",
    "poidata = Table.read_table('YData_SDS177/poi_vpc.csv')\n",
    "poidata"
   ]
  },
  {
   "cell_type": "markdown",
   "metadata": {},
   "source": [
    "This is a really huge table with undeciphered variable names. We can tell what \"date\" and \"geoid\" are, what are those \"dvc####\" variables?\n",
    "\n",
    "$$\\text{dvc####} = \\frac{\\text{total visits to an industry ####}}{\\text{device count}} = \\text{average visits per device count to an industry #### for a county in a day}$$\n",
    "\n",
    "and the number #### is representing the first 4 digits of the industry's NAICS code. \n",
    "\n",
    "* If you may wonder what NAICS codes are: here is the [Wikipedia](https://en.wikipedia.org/wiki/North_American_Industry_Classification_System) link.\n",
    "\n",
    "Why do we take the ratio here? It is because we collect the data using the smartphone device, some counties may collect only several smartphone data, while some counties may have collect thousands of smartphone data. To reduce the bias in data collection, we processed the data this way to balance the observed behavior. "
   ]
  },
  {
   "cell_type": "markdown",
   "metadata": {},
   "source": [
    "**Question 1.1** Select the columns `date`, `geoid`, `dvc4451`, `dvc4461`, `dvc4471`, `dvc4522`, and `dvc7121`, and save the new dataset into `poi5` for the focused 5 industries.\n",
    "\n",
    "Here is a codebook for us to keep in mind what NAICS industries we are examining. \n",
    "\n",
    "| NAICS | Industry    |\n",
    "|------ |-------------|\n",
    "| 4451 | grocery stores |\n",
    "| 4461 | health & personal care stores |\n",
    "| 4471 | gasoline stations  |\n",
    "| 4522 | department stores |\n",
    "| 7121 | museums, historical sites, etc.|\n"
   ]
  },
  {
   "cell_type": "code",
   "execution_count": 2,
   "metadata": {},
   "outputs": [
    {
     "data": {
      "text/html": [
       "<table border=\"1\" class=\"dataframe\">\n",
       "    <thead>\n",
       "        <tr>\n",
       "            <th>date</th> <th>geoid</th> <th>dvc4451</th> <th>dvc4461</th> <th>dvc4471</th> <th>dvc4522</th> <th>dvc7121</th>\n",
       "        </tr>\n",
       "    </thead>\n",
       "    <tbody>\n",
       "        <tr>\n",
       "            <td>11apr2020</td> <td>1001 </td> <td>0.105738 </td> <td>0.0178061</td> <td>0.0685865</td> <td>0.00197846 </td> <td>0.00967246</td>\n",
       "        </tr>\n",
       "        <tr>\n",
       "            <td>02apr2020</td> <td>1001 </td> <td>0.0892977</td> <td>0.0430783</td> <td>0.0749383</td> <td>0.00157056 </td> <td>0.0105452 </td>\n",
       "        </tr>\n",
       "        <tr>\n",
       "            <td>24apr2020</td> <td>1001 </td> <td>0.0716932</td> <td>0.0387884</td> <td>0.0974068</td> <td>0.00305077 </td> <td>0.00980606</td>\n",
       "        </tr>\n",
       "        <tr>\n",
       "            <td>08feb2020</td> <td>1001 </td> <td>0.057047 </td> <td>0.0541946</td> <td>0.0780201</td> <td>0.00520134 </td> <td>0.00771812</td>\n",
       "        </tr>\n",
       "        <tr>\n",
       "            <td>18may2020</td> <td>1001 </td> <td>0.050073 </td> <td>0.0688504</td> <td>0.0830378</td> <td>0.00312956 </td> <td>0.00771959</td>\n",
       "        </tr>\n",
       "        <tr>\n",
       "            <td>26mar2020</td> <td>1001 </td> <td>0.065662 </td> <td>0.0469322</td> <td>0.0727664</td> <td>0.000861141</td> <td>0.0148547 </td>\n",
       "        </tr>\n",
       "        <tr>\n",
       "            <td>14may2020</td> <td>1001 </td> <td>0.0614144</td> <td>0.0556245</td> <td>0.0895368</td> <td>0.00454921 </td> <td>0.0134409 </td>\n",
       "        </tr>\n",
       "        <tr>\n",
       "            <td>05apr2020</td> <td>1001 </td> <td>0.0542966</td> <td>0.0121158</td> <td>0.0444245</td> <td>0.00157056 </td> <td>0.00358986</td>\n",
       "        </tr>\n",
       "        <tr>\n",
       "            <td>10apr2020</td> <td>1001 </td> <td>0.0837547</td> <td>0.0400088</td> <td>0.0749615</td> <td>0.0030776  </td> <td>0.007694  </td>\n",
       "        </tr>\n",
       "        <tr>\n",
       "            <td>04mar2020</td> <td>1001 </td> <td>0.0350667</td> <td>0.0638043</td> <td>0.0641464</td> <td>0.00102634 </td> <td>0.0126582 </td>\n",
       "        </tr>\n",
       "    </tbody>\n",
       "</table>\n",
       "<p>... (382029 rows omitted)</p>"
      ],
      "text/plain": [
       "date      | geoid | dvc4451   | dvc4461   | dvc4471   | dvc4522     | dvc7121\n",
       "11apr2020 | 1001  | 0.105738  | 0.0178061 | 0.0685865 | 0.00197846  | 0.00967246\n",
       "02apr2020 | 1001  | 0.0892977 | 0.0430783 | 0.0749383 | 0.00157056  | 0.0105452\n",
       "24apr2020 | 1001  | 0.0716932 | 0.0387884 | 0.0974068 | 0.00305077  | 0.00980606\n",
       "08feb2020 | 1001  | 0.057047  | 0.0541946 | 0.0780201 | 0.00520134  | 0.00771812\n",
       "18may2020 | 1001  | 0.050073  | 0.0688504 | 0.0830378 | 0.00312956  | 0.00771959\n",
       "26mar2020 | 1001  | 0.065662  | 0.0469322 | 0.0727664 | 0.000861141 | 0.0148547\n",
       "14may2020 | 1001  | 0.0614144 | 0.0556245 | 0.0895368 | 0.00454921  | 0.0134409\n",
       "05apr2020 | 1001  | 0.0542966 | 0.0121158 | 0.0444245 | 0.00157056  | 0.00358986\n",
       "10apr2020 | 1001  | 0.0837547 | 0.0400088 | 0.0749615 | 0.0030776   | 0.007694\n",
       "04mar2020 | 1001  | 0.0350667 | 0.0638043 | 0.0641464 | 0.00102634  | 0.0126582\n",
       "... (382029 rows omitted)"
      ]
     },
     "execution_count": 2,
     "metadata": {},
     "output_type": "execute_result"
    }
   ],
   "source": [
    "poi5 = poidata.select(\"date\", \"geoid\", \"dvc4451\", \"dvc4461\", \"dvc4471\", \"dvc4522\", \"dvc7121\")\n",
    "poi5"
   ]
  },
  {
   "cell_type": "markdown",
   "metadata": {},
   "source": [
    "### 1.2 Daily mean of visit count"
   ]
  },
  {
   "cell_type": "markdown",
   "metadata": {},
   "source": [
    "**Question 1.2** We learned finding group average. Now, create a new dataset named `poi5_groupdate` by getting the average visits per device count in each day for the whole country."
   ]
  },
  {
   "cell_type": "code",
   "execution_count": 3,
   "metadata": {},
   "outputs": [
    {
     "data": {
      "text/html": [
       "<table border=\"1\" class=\"dataframe\">\n",
       "    <thead>\n",
       "        <tr>\n",
       "            <th>date</th> <th>geoid mean</th> <th>dvc4451 mean</th> <th>dvc4461 mean</th> <th>dvc4471 mean</th> <th>dvc4522 mean</th> <th>dvc7121 mean</th>\n",
       "        </tr>\n",
       "    </thead>\n",
       "    <tbody>\n",
       "        <tr>\n",
       "            <td>01apr2020</td> <td>31370.5   </td> <td>0.0785179   </td> <td>0.0273459   </td> <td>0.106227    </td> <td>0.00488334  </td> <td>0.0263384   </td>\n",
       "        </tr>\n",
       "        <tr>\n",
       "            <td>01feb2020</td> <td>31370.1   </td> <td>0.086301    </td> <td>0.0267664   </td> <td>0.10513     </td> <td>0.0140417   </td> <td>0.0362407   </td>\n",
       "        </tr>\n",
       "        <tr>\n",
       "            <td>01mar2020</td> <td>31370.1   </td> <td>0.0610177   </td> <td>0.016273    </td> <td>0.0872812   </td> <td>0.00943248  </td> <td>0.0288297   </td>\n",
       "        </tr>\n",
       "        <tr>\n",
       "            <td>01may2020</td> <td>31357.9   </td> <td>0.0954779   </td> <td>0.0315711   </td> <td>0.135273    </td> <td>0.00821984  </td> <td>0.0361422   </td>\n",
       "        </tr>\n",
       "        <tr>\n",
       "            <td>02apr2020</td> <td>31370.5   </td> <td>0.0796371   </td> <td>0.027268    </td> <td>0.104976    </td> <td>0.00490376  </td> <td>0.0264068   </td>\n",
       "        </tr>\n",
       "        <tr>\n",
       "            <td>02feb2020</td> <td>31370.1   </td> <td>0.0722812   </td> <td>0.0184312   </td> <td>0.0828914   </td> <td>0.00783158  </td> <td>0.0288546   </td>\n",
       "        </tr>\n",
       "        <tr>\n",
       "            <td>02mar2020</td> <td>31370.5   </td> <td>0.0645475   </td> <td>0.0320247   </td> <td>0.0924476   </td> <td>0.00720405  </td> <td>0.0342037   </td>\n",
       "        </tr>\n",
       "        <tr>\n",
       "            <td>02may2020</td> <td>31357.9   </td> <td>0.0929384   </td> <td>0.0208546   </td> <td>0.125804    </td> <td>0.00871167  </td> <td>0.0357334   </td>\n",
       "        </tr>\n",
       "        <tr>\n",
       "            <td>03apr2020</td> <td>31370.5   </td> <td>0.089241    </td> <td>0.0294902   </td> <td>0.110709    </td> <td>0.00565046  </td> <td>0.0258621   </td>\n",
       "        </tr>\n",
       "        <tr>\n",
       "            <td>03feb2020</td> <td>31370.1   </td> <td>0.0615497   </td> <td>0.0319561   </td> <td>0.0877446   </td> <td>0.00631759  </td> <td>0.0337046   </td>\n",
       "        </tr>\n",
       "    </tbody>\n",
       "</table>\n",
       "<p>... (109 rows omitted)</p>"
      ],
      "text/plain": [
       "date      | geoid mean | dvc4451 mean | dvc4461 mean | dvc4471 mean | dvc4522 mean | dvc7121 mean\n",
       "01apr2020 | 31370.5    | 0.0785179    | 0.0273459    | 0.106227     | 0.00488334   | 0.0263384\n",
       "01feb2020 | 31370.1    | 0.086301     | 0.0267664    | 0.10513      | 0.0140417    | 0.0362407\n",
       "01mar2020 | 31370.1    | 0.0610177    | 0.016273     | 0.0872812    | 0.00943248   | 0.0288297\n",
       "01may2020 | 31357.9    | 0.0954779    | 0.0315711    | 0.135273     | 0.00821984   | 0.0361422\n",
       "02apr2020 | 31370.5    | 0.0796371    | 0.027268     | 0.104976     | 0.00490376   | 0.0264068\n",
       "02feb2020 | 31370.1    | 0.0722812    | 0.0184312    | 0.0828914    | 0.00783158   | 0.0288546\n",
       "02mar2020 | 31370.5    | 0.0645475    | 0.0320247    | 0.0924476    | 0.00720405   | 0.0342037\n",
       "02may2020 | 31357.9    | 0.0929384    | 0.0208546    | 0.125804     | 0.00871167   | 0.0357334\n",
       "03apr2020 | 31370.5    | 0.089241     | 0.0294902    | 0.110709     | 0.00565046   | 0.0258621\n",
       "03feb2020 | 31370.1    | 0.0615497    | 0.0319561    | 0.0877446    | 0.00631759   | 0.0337046\n",
       "... (109 rows omitted)"
      ]
     },
     "execution_count": 3,
     "metadata": {},
     "output_type": "execute_result"
    }
   ],
   "source": [
    "## Type your answer here\n",
    "import numpy as np\n",
    "poi5_groupdate = poi5.group('date', np.mean)\n",
    "poi5_groupdate"
   ]
  },
  {
   "cell_type": "markdown",
   "metadata": {},
   "source": [
    "Why do we have those `nan` in the dataset? It is possibly because we had missing values in the original dataset. To exclude the missing values to get the mean, we replace `np.mean` to `np.nanmean`"
   ]
  },
  {
   "cell_type": "code",
   "execution_count": 4,
   "metadata": {},
   "outputs": [
    {
     "data": {
      "text/html": [
       "<table border=\"1\" class=\"dataframe\">\n",
       "    <thead>\n",
       "        <tr>\n",
       "            <th>date</th> <th>geoid nanmean</th> <th>dvc4451 nanmean</th> <th>dvc4461 nanmean</th> <th>dvc4471 nanmean</th> <th>dvc4522 nanmean</th> <th>dvc7121 nanmean</th>\n",
       "        </tr>\n",
       "    </thead>\n",
       "    <tbody>\n",
       "        <tr>\n",
       "            <td>01apr2020</td> <td>31370.5      </td> <td>0.0785179      </td> <td>0.0273459      </td> <td>0.106227       </td> <td>0.00488334     </td> <td>0.0263384      </td>\n",
       "        </tr>\n",
       "        <tr>\n",
       "            <td>01feb2020</td> <td>31370.1      </td> <td>0.086301       </td> <td>0.0267664      </td> <td>0.10513        </td> <td>0.0140417      </td> <td>0.0362407      </td>\n",
       "        </tr>\n",
       "        <tr>\n",
       "            <td>01mar2020</td> <td>31370.1      </td> <td>0.0610177      </td> <td>0.016273       </td> <td>0.0872812      </td> <td>0.00943248     </td> <td>0.0288297      </td>\n",
       "        </tr>\n",
       "        <tr>\n",
       "            <td>01may2020</td> <td>31357.9      </td> <td>0.0954779      </td> <td>0.0315711      </td> <td>0.135273       </td> <td>0.00821984     </td> <td>0.0361422      </td>\n",
       "        </tr>\n",
       "        <tr>\n",
       "            <td>02apr2020</td> <td>31370.5      </td> <td>0.0796371      </td> <td>0.027268       </td> <td>0.104976       </td> <td>0.00490376     </td> <td>0.0264068      </td>\n",
       "        </tr>\n",
       "        <tr>\n",
       "            <td>02feb2020</td> <td>31370.1      </td> <td>0.0722812      </td> <td>0.0184312      </td> <td>0.0828914      </td> <td>0.00783158     </td> <td>0.0288546      </td>\n",
       "        </tr>\n",
       "        <tr>\n",
       "            <td>02mar2020</td> <td>31370.5      </td> <td>0.0645475      </td> <td>0.0320247      </td> <td>0.0924476      </td> <td>0.00720405     </td> <td>0.0342037      </td>\n",
       "        </tr>\n",
       "        <tr>\n",
       "            <td>02may2020</td> <td>31357.9      </td> <td>0.0929384      </td> <td>0.0208546      </td> <td>0.125804       </td> <td>0.00871167     </td> <td>0.0357334      </td>\n",
       "        </tr>\n",
       "        <tr>\n",
       "            <td>03apr2020</td> <td>31370.5      </td> <td>0.089241       </td> <td>0.0294902      </td> <td>0.110709       </td> <td>0.00565046     </td> <td>0.0258621      </td>\n",
       "        </tr>\n",
       "        <tr>\n",
       "            <td>03feb2020</td> <td>31370.1      </td> <td>0.0615497      </td> <td>0.0319561      </td> <td>0.0877446      </td> <td>0.00631759     </td> <td>0.0337046      </td>\n",
       "        </tr>\n",
       "    </tbody>\n",
       "</table>\n",
       "<p>... (109 rows omitted)</p>"
      ],
      "text/plain": [
       "date      | geoid nanmean | dvc4451 nanmean | dvc4461 nanmean | dvc4471 nanmean | dvc4522 nanmean | dvc7121 nanmean\n",
       "01apr2020 | 31370.5       | 0.0785179       | 0.0273459       | 0.106227        | 0.00488334      | 0.0263384\n",
       "01feb2020 | 31370.1       | 0.086301        | 0.0267664       | 0.10513         | 0.0140417       | 0.0362407\n",
       "01mar2020 | 31370.1       | 0.0610177       | 0.016273        | 0.0872812       | 0.00943248      | 0.0288297\n",
       "01may2020 | 31357.9       | 0.0954779       | 0.0315711       | 0.135273        | 0.00821984      | 0.0361422\n",
       "02apr2020 | 31370.5       | 0.0796371       | 0.027268        | 0.104976        | 0.00490376      | 0.0264068\n",
       "02feb2020 | 31370.1       | 0.0722812       | 0.0184312       | 0.0828914       | 0.00783158      | 0.0288546\n",
       "02mar2020 | 31370.5       | 0.0645475       | 0.0320247       | 0.0924476       | 0.00720405      | 0.0342037\n",
       "02may2020 | 31357.9       | 0.0929384       | 0.0208546       | 0.125804        | 0.00871167      | 0.0357334\n",
       "03apr2020 | 31370.5       | 0.089241        | 0.0294902       | 0.110709        | 0.00565046      | 0.0258621\n",
       "03feb2020 | 31370.1       | 0.0615497       | 0.0319561       | 0.0877446       | 0.00631759      | 0.0337046\n",
       "... (109 rows omitted)"
      ]
     },
     "execution_count": 4,
     "metadata": {},
     "output_type": "execute_result"
    }
   ],
   "source": [
    "poi5_groupdate = poi5.group('date', np.nanmean)\n",
    "poi5_groupdate"
   ]
  },
  {
   "cell_type": "markdown",
   "metadata": {},
   "source": [
    "Note that for those rows that had values using `np.mean`, the means are the same. And the rows with `nan` before have an average value now."
   ]
  },
  {
   "cell_type": "markdown",
   "metadata": {},
   "source": [
    "**Question 1.3** Sort the data by the average visits per device count to gasoline stations. Show the first 5 dates with the highest average visits."
   ]
  },
  {
   "cell_type": "code",
   "execution_count": 5,
   "metadata": {},
   "outputs": [],
   "source": [
    "## Type your answer here\n"
   ]
  },
  {
   "cell_type": "markdown",
   "metadata": {},
   "source": [
    "### 1.3 FIPS code of county and state\n",
    "\n",
    "Recall that we did some grouping by states. Unfortunately, this dataset does not contain any state information. Is there a way to find the state with the highest visits per device count to grocery stores during the whole study period?\n",
    "\n",
    "The short answer is YES!\n",
    "\n",
    "The \"geoid\", or FIPS code, is constructed in the following way. Knowing the first two digits of the geoid gives the state code, and we can find the state name from the FIPS codebook."
   ]
  },
  {
   "cell_type": "markdown",
   "metadata": {},
   "source": [
    "<img src=\"FIPSCode.png\"/>"
   ]
  },
  {
   "cell_type": "markdown",
   "metadata": {},
   "source": [
    "**Question 1.4** Add a new column to `poi5` named `state`, which is the first two digits of `geoid`. "
   ]
  },
  {
   "cell_type": "code",
   "execution_count": 6,
   "metadata": {},
   "outputs": [
    {
     "data": {
      "text/html": [
       "<table border=\"1\" class=\"dataframe\">\n",
       "    <thead>\n",
       "        <tr>\n",
       "            <th>date</th> <th>geoid</th> <th>dvc4451</th> <th>dvc4461</th> <th>dvc4471</th> <th>dvc4522</th> <th>dvc7121</th> <th>state</th>\n",
       "        </tr>\n",
       "    </thead>\n",
       "    <tbody>\n",
       "        <tr>\n",
       "            <td>11apr2020</td> <td>1001 </td> <td>0.105738 </td> <td>0.0178061</td> <td>0.0685865</td> <td>0.00197846 </td> <td>0.00967246</td> <td>1    </td>\n",
       "        </tr>\n",
       "        <tr>\n",
       "            <td>02apr2020</td> <td>1001 </td> <td>0.0892977</td> <td>0.0430783</td> <td>0.0749383</td> <td>0.00157056 </td> <td>0.0105452 </td> <td>1    </td>\n",
       "        </tr>\n",
       "        <tr>\n",
       "            <td>24apr2020</td> <td>1001 </td> <td>0.0716932</td> <td>0.0387884</td> <td>0.0974068</td> <td>0.00305077 </td> <td>0.00980606</td> <td>1    </td>\n",
       "        </tr>\n",
       "        <tr>\n",
       "            <td>08feb2020</td> <td>1001 </td> <td>0.057047 </td> <td>0.0541946</td> <td>0.0780201</td> <td>0.00520134 </td> <td>0.00771812</td> <td>1    </td>\n",
       "        </tr>\n",
       "        <tr>\n",
       "            <td>18may2020</td> <td>1001 </td> <td>0.050073 </td> <td>0.0688504</td> <td>0.0830378</td> <td>0.00312956 </td> <td>0.00771959</td> <td>1    </td>\n",
       "        </tr>\n",
       "        <tr>\n",
       "            <td>26mar2020</td> <td>1001 </td> <td>0.065662 </td> <td>0.0469322</td> <td>0.0727664</td> <td>0.000861141</td> <td>0.0148547 </td> <td>1    </td>\n",
       "        </tr>\n",
       "        <tr>\n",
       "            <td>14may2020</td> <td>1001 </td> <td>0.0614144</td> <td>0.0556245</td> <td>0.0895368</td> <td>0.00454921 </td> <td>0.0134409 </td> <td>1    </td>\n",
       "        </tr>\n",
       "        <tr>\n",
       "            <td>05apr2020</td> <td>1001 </td> <td>0.0542966</td> <td>0.0121158</td> <td>0.0444245</td> <td>0.00157056 </td> <td>0.00358986</td> <td>1    </td>\n",
       "        </tr>\n",
       "        <tr>\n",
       "            <td>10apr2020</td> <td>1001 </td> <td>0.0837547</td> <td>0.0400088</td> <td>0.0749615</td> <td>0.0030776  </td> <td>0.007694  </td> <td>1    </td>\n",
       "        </tr>\n",
       "        <tr>\n",
       "            <td>04mar2020</td> <td>1001 </td> <td>0.0350667</td> <td>0.0638043</td> <td>0.0641464</td> <td>0.00102634 </td> <td>0.0126582 </td> <td>1    </td>\n",
       "        </tr>\n",
       "    </tbody>\n",
       "</table>\n",
       "<p>... (382029 rows omitted)</p>"
      ],
      "text/plain": [
       "date      | geoid | dvc4451   | dvc4461   | dvc4471   | dvc4522     | dvc7121    | state\n",
       "11apr2020 | 1001  | 0.105738  | 0.0178061 | 0.0685865 | 0.00197846  | 0.00967246 | 1\n",
       "02apr2020 | 1001  | 0.0892977 | 0.0430783 | 0.0749383 | 0.00157056  | 0.0105452  | 1\n",
       "24apr2020 | 1001  | 0.0716932 | 0.0387884 | 0.0974068 | 0.00305077  | 0.00980606 | 1\n",
       "08feb2020 | 1001  | 0.057047  | 0.0541946 | 0.0780201 | 0.00520134  | 0.00771812 | 1\n",
       "18may2020 | 1001  | 0.050073  | 0.0688504 | 0.0830378 | 0.00312956  | 0.00771959 | 1\n",
       "26mar2020 | 1001  | 0.065662  | 0.0469322 | 0.0727664 | 0.000861141 | 0.0148547  | 1\n",
       "14may2020 | 1001  | 0.0614144 | 0.0556245 | 0.0895368 | 0.00454921  | 0.0134409  | 1\n",
       "05apr2020 | 1001  | 0.0542966 | 0.0121158 | 0.0444245 | 0.00157056  | 0.00358986 | 1\n",
       "10apr2020 | 1001  | 0.0837547 | 0.0400088 | 0.0749615 | 0.0030776   | 0.007694   | 1\n",
       "04mar2020 | 1001  | 0.0350667 | 0.0638043 | 0.0641464 | 0.00102634  | 0.0126582  | 1\n",
       "... (382029 rows omitted)"
      ]
     },
     "execution_count": 6,
     "metadata": {},
     "output_type": "execute_result"
    }
   ],
   "source": [
    "poi5_state = poi5.with_columns('state',np.floor(poi5.column('geoid')/1000))\n",
    "poi5_state"
   ]
  },
  {
   "cell_type": "markdown",
   "metadata": {},
   "source": [
    "**Question 1.5** Now let's try to find the state with the highest visits per device count to grocery stores during the whole study. Name the new dataset as `poi5_groupstate`"
   ]
  },
  {
   "cell_type": "code",
   "execution_count": 7,
   "metadata": {},
   "outputs": [],
   "source": [
    "## Type your answer here\n",
    "poi5_groupstate = ..."
   ]
  },
  {
   "cell_type": "markdown",
   "metadata": {},
   "source": [
    "## 2. Panel Data\n",
    "\n",
    "You may have heard the name \"Panel Data\", and in fact, you have used several panel datasets so far in our class. \n",
    "\n",
    "What is the major difference between the dataset `poi5`, `poi5_groupdate`, and `poi5_groupstate`?\n",
    "\n",
    "In `poi5_groupdate`, because `date` value is grouped, every unique value appears only once. Also `geoid nanmean` is kinda meaningless, because each row contains the same value. Basically, it can be seen as a \"Time Series\" dataset.\n",
    "\n",
    "A **time series** is a series of data points indexed (or listed or graphed) in time order. \n",
    "\n",
    "In `poi5_groupstate`, because `state` value is grouped, every unique value also appears only once. It shows us a general understanding for each state with the same time span (or sometimes, the same time point). Basically, it can be seen as a \"Crow-sectional\" dataset.\n",
    "\n",
    "A **Cross-sectional** dataset, or a cross section of a study population, in statistics and econometrics is a type of data collected by observing many subjects (such as individuals, firms, countries, or regions) at the one point or period of time. \n",
    "\n",
    "Now, let's go back to see `poi5`, it has multiple date values and multiple county ids. Basically, it gives a full understanding of how the same subjects change over time. \n",
    "\n",
    "**Panel data**, sometimes referred to as longitudinal data, is data that contains observations about different cross sections across time. Examples of groups that may make up panel data series include countries, firms, individuals, or demographic groups. In `poi5`, it is the series of counties. \n",
    "\n",
    "Like time series data, panel data contains observations collected at a regular frequency, chronologically. Like cross-sectional data, panel data contains observations across a collection of individuals."
   ]
  },
  {
   "cell_type": "markdown",
   "metadata": {},
   "source": [
    "To better deal with panel data, we need [`pandas`](https://python.quantecon.org/pandas_panel.html). Pandas is a package of fast, efficient data analysis tools for Python. We have seen NumPy, which provides array operations, pandas defines the dataframe and allows us to work with panel data."
   ]
  },
  {
   "cell_type": "markdown",
   "metadata": {},
   "source": [
    "## 2.1 Import New York Times data using pandas\n",
    "\n",
    "Recall that the first dataset we encountered was the case and death reports from NYT. Importing the dataset using pandas is very similar:"
   ]
  },
  {
   "cell_type": "code",
   "execution_count": 8,
   "metadata": {},
   "outputs": [
    {
     "data": {
      "text/html": [
       "<div>\n",
       "<style scoped>\n",
       "    .dataframe tbody tr th:only-of-type {\n",
       "        vertical-align: middle;\n",
       "    }\n",
       "\n",
       "    .dataframe tbody tr th {\n",
       "        vertical-align: top;\n",
       "    }\n",
       "\n",
       "    .dataframe thead th {\n",
       "        text-align: right;\n",
       "    }\n",
       "</style>\n",
       "<table border=\"1\" class=\"dataframe\">\n",
       "  <thead>\n",
       "    <tr style=\"text-align: right;\">\n",
       "      <th></th>\n",
       "      <th>geoid</th>\n",
       "      <th>county</th>\n",
       "      <th>state</th>\n",
       "      <th>cases</th>\n",
       "      <th>deaths</th>\n",
       "      <th>date</th>\n",
       "      <th>dwell_time</th>\n",
       "    </tr>\n",
       "  </thead>\n",
       "  <tbody>\n",
       "    <tr>\n",
       "      <th>0</th>\n",
       "      <td>1001</td>\n",
       "      <td>Autauga</td>\n",
       "      <td>AL</td>\n",
       "      <td>0</td>\n",
       "      <td>0</td>\n",
       "      <td>01jan2020</td>\n",
       "      <td>929.95764</td>\n",
       "    </tr>\n",
       "    <tr>\n",
       "      <th>1</th>\n",
       "      <td>1003</td>\n",
       "      <td>Baldwin</td>\n",
       "      <td>AL</td>\n",
       "      <td>0</td>\n",
       "      <td>0</td>\n",
       "      <td>01jan2020</td>\n",
       "      <td>857.86395</td>\n",
       "    </tr>\n",
       "    <tr>\n",
       "      <th>2</th>\n",
       "      <td>1005</td>\n",
       "      <td>Barbour</td>\n",
       "      <td>AL</td>\n",
       "      <td>0</td>\n",
       "      <td>0</td>\n",
       "      <td>01jan2020</td>\n",
       "      <td>788.39636</td>\n",
       "    </tr>\n",
       "    <tr>\n",
       "      <th>3</th>\n",
       "      <td>1007</td>\n",
       "      <td>Bibb</td>\n",
       "      <td>AL</td>\n",
       "      <td>0</td>\n",
       "      <td>0</td>\n",
       "      <td>01jan2020</td>\n",
       "      <td>913.77106</td>\n",
       "    </tr>\n",
       "    <tr>\n",
       "      <th>4</th>\n",
       "      <td>1009</td>\n",
       "      <td>Blount</td>\n",
       "      <td>AL</td>\n",
       "      <td>0</td>\n",
       "      <td>0</td>\n",
       "      <td>01jan2020</td>\n",
       "      <td>956.05914</td>\n",
       "    </tr>\n",
       "    <tr>\n",
       "      <th>...</th>\n",
       "      <td>...</td>\n",
       "      <td>...</td>\n",
       "      <td>...</td>\n",
       "      <td>...</td>\n",
       "      <td>...</td>\n",
       "      <td>...</td>\n",
       "      <td>...</td>\n",
       "    </tr>\n",
       "    <tr>\n",
       "      <th>456283</th>\n",
       "      <td>56045</td>\n",
       "      <td>Weston</td>\n",
       "      <td>WY</td>\n",
       "      <td>0</td>\n",
       "      <td>0</td>\n",
       "      <td>22may2020</td>\n",
       "      <td>463.05606</td>\n",
       "    </tr>\n",
       "    <tr>\n",
       "      <th>456284</th>\n",
       "      <td>56045</td>\n",
       "      <td>Weston</td>\n",
       "      <td>WY</td>\n",
       "      <td>0</td>\n",
       "      <td>0</td>\n",
       "      <td>23may2020</td>\n",
       "      <td>335.37607</td>\n",
       "    </tr>\n",
       "    <tr>\n",
       "      <th>456285</th>\n",
       "      <td>56045</td>\n",
       "      <td>Weston</td>\n",
       "      <td>WY</td>\n",
       "      <td>0</td>\n",
       "      <td>0</td>\n",
       "      <td>24may2020</td>\n",
       "      <td>320.40112</td>\n",
       "    </tr>\n",
       "    <tr>\n",
       "      <th>456286</th>\n",
       "      <td>56045</td>\n",
       "      <td>Weston</td>\n",
       "      <td>WY</td>\n",
       "      <td>0</td>\n",
       "      <td>0</td>\n",
       "      <td>25may2020</td>\n",
       "      <td>402.71588</td>\n",
       "    </tr>\n",
       "    <tr>\n",
       "      <th>456287</th>\n",
       "      <td>56045</td>\n",
       "      <td>Weston</td>\n",
       "      <td>WY</td>\n",
       "      <td>0</td>\n",
       "      <td>0</td>\n",
       "      <td>26may2020</td>\n",
       "      <td>322.28851</td>\n",
       "    </tr>\n",
       "  </tbody>\n",
       "</table>\n",
       "<p>456288 rows × 7 columns</p>\n",
       "</div>"
      ],
      "text/plain": [
       "        geoid   county state  cases  deaths       date  dwell_time\n",
       "0        1001  Autauga    AL      0       0  01jan2020   929.95764\n",
       "1        1003  Baldwin    AL      0       0  01jan2020   857.86395\n",
       "2        1005  Barbour    AL      0       0  01jan2020   788.39636\n",
       "3        1007     Bibb    AL      0       0  01jan2020   913.77106\n",
       "4        1009   Blount    AL      0       0  01jan2020   956.05914\n",
       "...       ...      ...   ...    ...     ...        ...         ...\n",
       "456283  56045   Weston    WY      0       0  22may2020   463.05606\n",
       "456284  56045   Weston    WY      0       0  23may2020   335.37607\n",
       "456285  56045   Weston    WY      0       0  24may2020   320.40112\n",
       "456286  56045   Weston    WY      0       0  25may2020   402.71588\n",
       "456287  56045   Weston    WY      0       0  26may2020   322.28851\n",
       "\n",
       "[456288 rows x 7 columns]"
      ]
     },
     "execution_count": 8,
     "metadata": {},
     "output_type": "execute_result"
    }
   ],
   "source": [
    "from datascience import *\n",
    "import pandas as pd\n",
    "%matplotlib inline\n",
    "import matplotlib.pyplot as plt \n",
    "\n",
    "nytpd = pd.read_csv('YData_SDS177/nyt_cases_name.csv')\n",
    "nytpd"
   ]
  },
  {
   "cell_type": "markdown",
   "metadata": {},
   "source": [
    "**Pandas** is defined as an open-source library that provides high-performance data manipulation in Python. It is built on top of **NumPy**, which means Numpy is required for operating the Pandas. \n",
    "\n",
    "Before Pandas, Python was capable for data preparation, but it only provided limited support for data analysis. So, Pandas came into the picture and enhanced the capabilities of data analysis. It can perform five significant steps required for processing and analysis of data irrespective of the origin of the data, i.e., load, manipulate, prepare, model, and analyze.\n",
    "\n",
    "Here is a basic comparison between the two:\n",
    "\n",
    "\n",
    "| Comparison |\tPandas\t | NumPy | \n",
    "| --- | --- | --- |\n",
    "|Works with | tabular data | numerical data |\n",
    "| Tools | Series, DataFrame, etc. | Arrays |\n",
    "| Performance | 500K+ rows | 50K rows or less| \n",
    "| Memory | consume a lot | consume less |\n",
    "|Objects | 2d table object called DataFrame | amulti-dimensional array|"
   ]
  },
  {
   "cell_type": "markdown",
   "metadata": {},
   "source": [
    "The functions we learned under Numpy can be easily adopted here as well. You may find some of them need a little bit editing, but in a very similar way."
   ]
  },
  {
   "cell_type": "markdown",
   "metadata": {},
   "source": [
    "**Question 2.1.1** What columns do this dataset have?"
   ]
  },
  {
   "cell_type": "code",
   "execution_count": 9,
   "metadata": {
    "scrolled": true
   },
   "outputs": [
    {
     "data": {
      "text/plain": [
       "Index(['geoid', 'county', 'state', 'cases', 'deaths', 'date', 'dwell_time'], dtype='object')"
      ]
     },
     "execution_count": 9,
     "metadata": {},
     "output_type": "execute_result"
    }
   ],
   "source": [
    "nytpd.columns"
   ]
  },
  {
   "cell_type": "markdown",
   "metadata": {},
   "source": [
    "**Question 2.1.2** Let's change the \"dwell_time\" variable name to \"dwell time\". Which function did we use before? The function we need here is df.rename(columns={\"A\": \"a\"})"
   ]
  },
  {
   "cell_type": "code",
   "execution_count": 10,
   "metadata": {
    "scrolled": true
   },
   "outputs": [
    {
     "data": {
      "text/html": [
       "<div>\n",
       "<style scoped>\n",
       "    .dataframe tbody tr th:only-of-type {\n",
       "        vertical-align: middle;\n",
       "    }\n",
       "\n",
       "    .dataframe tbody tr th {\n",
       "        vertical-align: top;\n",
       "    }\n",
       "\n",
       "    .dataframe thead th {\n",
       "        text-align: right;\n",
       "    }\n",
       "</style>\n",
       "<table border=\"1\" class=\"dataframe\">\n",
       "  <thead>\n",
       "    <tr style=\"text-align: right;\">\n",
       "      <th></th>\n",
       "      <th>geoid</th>\n",
       "      <th>county</th>\n",
       "      <th>state</th>\n",
       "      <th>cases</th>\n",
       "      <th>deaths</th>\n",
       "      <th>date</th>\n",
       "      <th>dwell time</th>\n",
       "    </tr>\n",
       "  </thead>\n",
       "  <tbody>\n",
       "    <tr>\n",
       "      <th>0</th>\n",
       "      <td>1001</td>\n",
       "      <td>Autauga</td>\n",
       "      <td>AL</td>\n",
       "      <td>0</td>\n",
       "      <td>0</td>\n",
       "      <td>01jan2020</td>\n",
       "      <td>929.95764</td>\n",
       "    </tr>\n",
       "    <tr>\n",
       "      <th>1</th>\n",
       "      <td>1003</td>\n",
       "      <td>Baldwin</td>\n",
       "      <td>AL</td>\n",
       "      <td>0</td>\n",
       "      <td>0</td>\n",
       "      <td>01jan2020</td>\n",
       "      <td>857.86395</td>\n",
       "    </tr>\n",
       "    <tr>\n",
       "      <th>2</th>\n",
       "      <td>1005</td>\n",
       "      <td>Barbour</td>\n",
       "      <td>AL</td>\n",
       "      <td>0</td>\n",
       "      <td>0</td>\n",
       "      <td>01jan2020</td>\n",
       "      <td>788.39636</td>\n",
       "    </tr>\n",
       "    <tr>\n",
       "      <th>3</th>\n",
       "      <td>1007</td>\n",
       "      <td>Bibb</td>\n",
       "      <td>AL</td>\n",
       "      <td>0</td>\n",
       "      <td>0</td>\n",
       "      <td>01jan2020</td>\n",
       "      <td>913.77106</td>\n",
       "    </tr>\n",
       "    <tr>\n",
       "      <th>4</th>\n",
       "      <td>1009</td>\n",
       "      <td>Blount</td>\n",
       "      <td>AL</td>\n",
       "      <td>0</td>\n",
       "      <td>0</td>\n",
       "      <td>01jan2020</td>\n",
       "      <td>956.05914</td>\n",
       "    </tr>\n",
       "    <tr>\n",
       "      <th>...</th>\n",
       "      <td>...</td>\n",
       "      <td>...</td>\n",
       "      <td>...</td>\n",
       "      <td>...</td>\n",
       "      <td>...</td>\n",
       "      <td>...</td>\n",
       "      <td>...</td>\n",
       "    </tr>\n",
       "    <tr>\n",
       "      <th>456283</th>\n",
       "      <td>56045</td>\n",
       "      <td>Weston</td>\n",
       "      <td>WY</td>\n",
       "      <td>0</td>\n",
       "      <td>0</td>\n",
       "      <td>22may2020</td>\n",
       "      <td>463.05606</td>\n",
       "    </tr>\n",
       "    <tr>\n",
       "      <th>456284</th>\n",
       "      <td>56045</td>\n",
       "      <td>Weston</td>\n",
       "      <td>WY</td>\n",
       "      <td>0</td>\n",
       "      <td>0</td>\n",
       "      <td>23may2020</td>\n",
       "      <td>335.37607</td>\n",
       "    </tr>\n",
       "    <tr>\n",
       "      <th>456285</th>\n",
       "      <td>56045</td>\n",
       "      <td>Weston</td>\n",
       "      <td>WY</td>\n",
       "      <td>0</td>\n",
       "      <td>0</td>\n",
       "      <td>24may2020</td>\n",
       "      <td>320.40112</td>\n",
       "    </tr>\n",
       "    <tr>\n",
       "      <th>456286</th>\n",
       "      <td>56045</td>\n",
       "      <td>Weston</td>\n",
       "      <td>WY</td>\n",
       "      <td>0</td>\n",
       "      <td>0</td>\n",
       "      <td>25may2020</td>\n",
       "      <td>402.71588</td>\n",
       "    </tr>\n",
       "    <tr>\n",
       "      <th>456287</th>\n",
       "      <td>56045</td>\n",
       "      <td>Weston</td>\n",
       "      <td>WY</td>\n",
       "      <td>0</td>\n",
       "      <td>0</td>\n",
       "      <td>26may2020</td>\n",
       "      <td>322.28851</td>\n",
       "    </tr>\n",
       "  </tbody>\n",
       "</table>\n",
       "<p>456288 rows × 7 columns</p>\n",
       "</div>"
      ],
      "text/plain": [
       "        geoid   county state  cases  deaths       date  dwell time\n",
       "0        1001  Autauga    AL      0       0  01jan2020   929.95764\n",
       "1        1003  Baldwin    AL      0       0  01jan2020   857.86395\n",
       "2        1005  Barbour    AL      0       0  01jan2020   788.39636\n",
       "3        1007     Bibb    AL      0       0  01jan2020   913.77106\n",
       "4        1009   Blount    AL      0       0  01jan2020   956.05914\n",
       "...       ...      ...   ...    ...     ...        ...         ...\n",
       "456283  56045   Weston    WY      0       0  22may2020   463.05606\n",
       "456284  56045   Weston    WY      0       0  23may2020   335.37607\n",
       "456285  56045   Weston    WY      0       0  24may2020   320.40112\n",
       "456286  56045   Weston    WY      0       0  25may2020   402.71588\n",
       "456287  56045   Weston    WY      0       0  26may2020   322.28851\n",
       "\n",
       "[456288 rows x 7 columns]"
      ]
     },
     "execution_count": 10,
     "metadata": {},
     "output_type": "execute_result"
    }
   ],
   "source": [
    "nytpd=nytpd.rename(columns={\"dwell_time\":\"dwell time\"})\n",
    "nytpd"
   ]
  },
  {
   "cell_type": "markdown",
   "metadata": {},
   "source": [
    "What would happen if we simply type nytpd.rename(columns={\"dwell_time\":\"dwell time\"}) without \"nytpd=\" in front of it? You can try it below"
   ]
  },
  {
   "cell_type": "code",
   "execution_count": 11,
   "metadata": {},
   "outputs": [],
   "source": [
    "# Type here\n"
   ]
  },
  {
   "cell_type": "markdown",
   "metadata": {},
   "source": [
    "## 2.2 Sorting & Grouping\n",
    "\n",
    "We use `table.sort('var')` function before to sort the array in Numpy. We need to change it to `dataframe.sort_values('var')` in pandas. \n",
    "\n",
    "**Question 2.2.1** Sort the dataset `nytpd` by `date`. What problem did you observe?"
   ]
  },
  {
   "cell_type": "code",
   "execution_count": 12,
   "metadata": {},
   "outputs": [
    {
     "data": {
      "text/html": [
       "<div>\n",
       "<style scoped>\n",
       "    .dataframe tbody tr th:only-of-type {\n",
       "        vertical-align: middle;\n",
       "    }\n",
       "\n",
       "    .dataframe tbody tr th {\n",
       "        vertical-align: top;\n",
       "    }\n",
       "\n",
       "    .dataframe thead th {\n",
       "        text-align: right;\n",
       "    }\n",
       "</style>\n",
       "<table border=\"1\" class=\"dataframe\">\n",
       "  <thead>\n",
       "    <tr style=\"text-align: right;\">\n",
       "      <th></th>\n",
       "      <th>geoid</th>\n",
       "      <th>county</th>\n",
       "      <th>state</th>\n",
       "      <th>cases</th>\n",
       "      <th>deaths</th>\n",
       "      <th>date</th>\n",
       "      <th>dwell time</th>\n",
       "    </tr>\n",
       "  </thead>\n",
       "  <tbody>\n",
       "    <tr>\n",
       "      <th>224530</th>\n",
       "      <td>29135</td>\n",
       "      <td>Moniteau</td>\n",
       "      <td>MO</td>\n",
       "      <td>2</td>\n",
       "      <td>0</td>\n",
       "      <td>01apr2020</td>\n",
       "      <td>825.66455</td>\n",
       "    </tr>\n",
       "    <tr>\n",
       "      <th>155618</th>\n",
       "      <td>21171</td>\n",
       "      <td>Monroe</td>\n",
       "      <td>KY</td>\n",
       "      <td>0</td>\n",
       "      <td>0</td>\n",
       "      <td>01apr2020</td>\n",
       "      <td>847.83801</td>\n",
       "    </tr>\n",
       "    <tr>\n",
       "      <th>220004</th>\n",
       "      <td>29073</td>\n",
       "      <td>Gasconade</td>\n",
       "      <td>MO</td>\n",
       "      <td>1</td>\n",
       "      <td>0</td>\n",
       "      <td>01apr2020</td>\n",
       "      <td>649.77307</td>\n",
       "    </tr>\n",
       "    <tr>\n",
       "      <th>415498</th>\n",
       "      <td>51079</td>\n",
       "      <td>Greene</td>\n",
       "      <td>VA</td>\n",
       "      <td>1</td>\n",
       "      <td>0</td>\n",
       "      <td>01apr2020</td>\n",
       "      <td>688.15088</td>\n",
       "    </tr>\n",
       "    <tr>\n",
       "      <th>155764</th>\n",
       "      <td>21173</td>\n",
       "      <td>Montgomery</td>\n",
       "      <td>KY</td>\n",
       "      <td>5</td>\n",
       "      <td>0</td>\n",
       "      <td>01apr2020</td>\n",
       "      <td>692.90381</td>\n",
       "    </tr>\n",
       "    <tr>\n",
       "      <th>...</th>\n",
       "      <td>...</td>\n",
       "      <td>...</td>\n",
       "      <td>...</td>\n",
       "      <td>...</td>\n",
       "      <td>...</td>\n",
       "      <td>...</td>\n",
       "      <td>...</td>\n",
       "    </tr>\n",
       "    <tr>\n",
       "      <th>446011</th>\n",
       "      <td>55049</td>\n",
       "      <td>Iowa</td>\n",
       "      <td>WI</td>\n",
       "      <td>3</td>\n",
       "      <td>0</td>\n",
       "      <td>31mar2020</td>\n",
       "      <td>743.46790</td>\n",
       "    </tr>\n",
       "    <tr>\n",
       "      <th>125541</th>\n",
       "      <td>19167</td>\n",
       "      <td>Sioux</td>\n",
       "      <td>IA</td>\n",
       "      <td>4</td>\n",
       "      <td>0</td>\n",
       "      <td>31mar2020</td>\n",
       "      <td>511.33047</td>\n",
       "    </tr>\n",
       "    <tr>\n",
       "      <th>431557</th>\n",
       "      <td>53039</td>\n",
       "      <td>Klickitat</td>\n",
       "      <td>WA</td>\n",
       "      <td>7</td>\n",
       "      <td>1</td>\n",
       "      <td>31mar2020</td>\n",
       "      <td>761.89075</td>\n",
       "    </tr>\n",
       "    <tr>\n",
       "      <th>207301</th>\n",
       "      <td>28063</td>\n",
       "      <td>Jefferson</td>\n",
       "      <td>MS</td>\n",
       "      <td>1</td>\n",
       "      <td>0</td>\n",
       "      <td>31mar2020</td>\n",
       "      <td>598.41479</td>\n",
       "    </tr>\n",
       "    <tr>\n",
       "      <th>181897</th>\n",
       "      <td>26055</td>\n",
       "      <td>Grand Traverse</td>\n",
       "      <td>MI</td>\n",
       "      <td>7</td>\n",
       "      <td>0</td>\n",
       "      <td>31mar2020</td>\n",
       "      <td>737.83319</td>\n",
       "    </tr>\n",
       "  </tbody>\n",
       "</table>\n",
       "<p>456288 rows × 7 columns</p>\n",
       "</div>"
      ],
      "text/plain": [
       "        geoid          county state  cases  deaths       date  dwell time\n",
       "224530  29135        Moniteau    MO      2       0  01apr2020   825.66455\n",
       "155618  21171          Monroe    KY      0       0  01apr2020   847.83801\n",
       "220004  29073       Gasconade    MO      1       0  01apr2020   649.77307\n",
       "415498  51079          Greene    VA      1       0  01apr2020   688.15088\n",
       "155764  21173      Montgomery    KY      5       0  01apr2020   692.90381\n",
       "...       ...             ...   ...    ...     ...        ...         ...\n",
       "446011  55049            Iowa    WI      3       0  31mar2020   743.46790\n",
       "125541  19167           Sioux    IA      4       0  31mar2020   511.33047\n",
       "431557  53039       Klickitat    WA      7       1  31mar2020   761.89075\n",
       "207301  28063       Jefferson    MS      1       0  31mar2020   598.41479\n",
       "181897  26055  Grand Traverse    MI      7       0  31mar2020   737.83319\n",
       "\n",
       "[456288 rows x 7 columns]"
      ]
     },
     "execution_count": 12,
     "metadata": {},
     "output_type": "execute_result"
    }
   ],
   "source": [
    "nytpd.sort_values('date')"
   ]
  },
  {
   "cell_type": "markdown",
   "metadata": {},
   "source": [
    "Yes, unfortunately, this dataset shares the same issue that we had before. It did not recognize `date` as a column of real dates, but treat them as strings. And it orders 01apr2020 before 01jan2020 because \"a\" is in front of \"j\".\n",
    "\n",
    "To modify the data format, there is an easy way to do it under pandas:"
   ]
  },
  {
   "cell_type": "code",
   "execution_count": 13,
   "metadata": {},
   "outputs": [],
   "source": [
    "nytpd.date = pd.to_datetime(nytpd.date)"
   ]
  },
  {
   "cell_type": "code",
   "execution_count": 14,
   "metadata": {},
   "outputs": [
    {
     "data": {
      "text/html": [
       "<div>\n",
       "<style scoped>\n",
       "    .dataframe tbody tr th:only-of-type {\n",
       "        vertical-align: middle;\n",
       "    }\n",
       "\n",
       "    .dataframe tbody tr th {\n",
       "        vertical-align: top;\n",
       "    }\n",
       "\n",
       "    .dataframe thead th {\n",
       "        text-align: right;\n",
       "    }\n",
       "</style>\n",
       "<table border=\"1\" class=\"dataframe\">\n",
       "  <thead>\n",
       "    <tr style=\"text-align: right;\">\n",
       "      <th></th>\n",
       "      <th>geoid</th>\n",
       "      <th>county</th>\n",
       "      <th>state</th>\n",
       "      <th>cases</th>\n",
       "      <th>deaths</th>\n",
       "      <th>date</th>\n",
       "      <th>dwell time</th>\n",
       "    </tr>\n",
       "  </thead>\n",
       "  <tbody>\n",
       "    <tr>\n",
       "      <th>0</th>\n",
       "      <td>1001</td>\n",
       "      <td>Autauga</td>\n",
       "      <td>AL</td>\n",
       "      <td>0</td>\n",
       "      <td>0</td>\n",
       "      <td>2020-01-01</td>\n",
       "      <td>929.95764</td>\n",
       "    </tr>\n",
       "    <tr>\n",
       "      <th>2063</th>\n",
       "      <td>39109</td>\n",
       "      <td>Miami</td>\n",
       "      <td>OH</td>\n",
       "      <td>0</td>\n",
       "      <td>0</td>\n",
       "      <td>2020-01-01</td>\n",
       "      <td>812.92145</td>\n",
       "    </tr>\n",
       "    <tr>\n",
       "      <th>2064</th>\n",
       "      <td>39111</td>\n",
       "      <td>Monroe</td>\n",
       "      <td>OH</td>\n",
       "      <td>0</td>\n",
       "      <td>0</td>\n",
       "      <td>2020-01-01</td>\n",
       "      <td>676.85876</td>\n",
       "    </tr>\n",
       "    <tr>\n",
       "      <th>2065</th>\n",
       "      <td>39113</td>\n",
       "      <td>Montgomery</td>\n",
       "      <td>OH</td>\n",
       "      <td>0</td>\n",
       "      <td>0</td>\n",
       "      <td>2020-01-01</td>\n",
       "      <td>775.34802</td>\n",
       "    </tr>\n",
       "    <tr>\n",
       "      <th>2066</th>\n",
       "      <td>39115</td>\n",
       "      <td>Morgan</td>\n",
       "      <td>OH</td>\n",
       "      <td>0</td>\n",
       "      <td>0</td>\n",
       "      <td>2020-01-01</td>\n",
       "      <td>630.37836</td>\n",
       "    </tr>\n",
       "    <tr>\n",
       "      <th>...</th>\n",
       "      <td>...</td>\n",
       "      <td>...</td>\n",
       "      <td>...</td>\n",
       "      <td>...</td>\n",
       "      <td>...</td>\n",
       "      <td>...</td>\n",
       "      <td>...</td>\n",
       "    </tr>\n",
       "    <tr>\n",
       "      <th>392485</th>\n",
       "      <td>48355</td>\n",
       "      <td>Nueces</td>\n",
       "      <td>TX</td>\n",
       "      <td>266</td>\n",
       "      <td>3</td>\n",
       "      <td>2020-05-26</td>\n",
       "      <td>585.16980</td>\n",
       "    </tr>\n",
       "    <tr>\n",
       "      <th>102091</th>\n",
       "      <td>18029</td>\n",
       "      <td>Dearborn</td>\n",
       "      <td>IN</td>\n",
       "      <td>164</td>\n",
       "      <td>21</td>\n",
       "      <td>2020-05-26</td>\n",
       "      <td>670.97052</td>\n",
       "    </tr>\n",
       "    <tr>\n",
       "      <th>285759</th>\n",
       "      <td>37159</td>\n",
       "      <td>Rowan</td>\n",
       "      <td>NC</td>\n",
       "      <td>612</td>\n",
       "      <td>32</td>\n",
       "      <td>2020-05-26</td>\n",
       "      <td>617.17706</td>\n",
       "    </tr>\n",
       "    <tr>\n",
       "      <th>286343</th>\n",
       "      <td>37167</td>\n",
       "      <td>Stanly</td>\n",
       "      <td>NC</td>\n",
       "      <td>53</td>\n",
       "      <td>4</td>\n",
       "      <td>2020-05-26</td>\n",
       "      <td>669.62256</td>\n",
       "    </tr>\n",
       "    <tr>\n",
       "      <th>456287</th>\n",
       "      <td>56045</td>\n",
       "      <td>Weston</td>\n",
       "      <td>WY</td>\n",
       "      <td>0</td>\n",
       "      <td>0</td>\n",
       "      <td>2020-05-26</td>\n",
       "      <td>322.28851</td>\n",
       "    </tr>\n",
       "  </tbody>\n",
       "</table>\n",
       "<p>456288 rows × 7 columns</p>\n",
       "</div>"
      ],
      "text/plain": [
       "        geoid      county state  cases  deaths       date  dwell time\n",
       "0        1001     Autauga    AL      0       0 2020-01-01   929.95764\n",
       "2063    39109       Miami    OH      0       0 2020-01-01   812.92145\n",
       "2064    39111      Monroe    OH      0       0 2020-01-01   676.85876\n",
       "2065    39113  Montgomery    OH      0       0 2020-01-01   775.34802\n",
       "2066    39115      Morgan    OH      0       0 2020-01-01   630.37836\n",
       "...       ...         ...   ...    ...     ...        ...         ...\n",
       "392485  48355      Nueces    TX    266       3 2020-05-26   585.16980\n",
       "102091  18029    Dearborn    IN    164      21 2020-05-26   670.97052\n",
       "285759  37159       Rowan    NC    612      32 2020-05-26   617.17706\n",
       "286343  37167      Stanly    NC     53       4 2020-05-26   669.62256\n",
       "456287  56045      Weston    WY      0       0 2020-05-26   322.28851\n",
       "\n",
       "[456288 rows x 7 columns]"
      ]
     },
     "execution_count": 14,
     "metadata": {},
     "output_type": "execute_result"
    }
   ],
   "source": [
    "nytpd.sort_values('date')"
   ]
  },
  {
   "cell_type": "markdown",
   "metadata": {},
   "source": [
    "Now, apparently, the date has a new format. But is it also recognized as date values rather than a new form of string? Let's try sorting.\n",
    "\n",
    "**Question 2.2.2** Sort the dataset again, with the latest date the first."
   ]
  },
  {
   "cell_type": "code",
   "execution_count": 15,
   "metadata": {
    "scrolled": true
   },
   "outputs": [
    {
     "data": {
      "text/html": [
       "<div>\n",
       "<style scoped>\n",
       "    .dataframe tbody tr th:only-of-type {\n",
       "        vertical-align: middle;\n",
       "    }\n",
       "\n",
       "    .dataframe tbody tr th {\n",
       "        vertical-align: top;\n",
       "    }\n",
       "\n",
       "    .dataframe thead th {\n",
       "        text-align: right;\n",
       "    }\n",
       "</style>\n",
       "<table border=\"1\" class=\"dataframe\">\n",
       "  <thead>\n",
       "    <tr style=\"text-align: right;\">\n",
       "      <th></th>\n",
       "      <th>geoid</th>\n",
       "      <th>county</th>\n",
       "      <th>state</th>\n",
       "      <th>cases</th>\n",
       "      <th>deaths</th>\n",
       "      <th>date</th>\n",
       "      <th>dwell time</th>\n",
       "    </tr>\n",
       "  </thead>\n",
       "  <tbody>\n",
       "    <tr>\n",
       "      <th>456287</th>\n",
       "      <td>56045</td>\n",
       "      <td>Weston</td>\n",
       "      <td>WY</td>\n",
       "      <td>0</td>\n",
       "      <td>0</td>\n",
       "      <td>2020-05-26</td>\n",
       "      <td>322.28851</td>\n",
       "    </tr>\n",
       "    <tr>\n",
       "      <th>381097</th>\n",
       "      <td>48199</td>\n",
       "      <td>Hardin</td>\n",
       "      <td>TX</td>\n",
       "      <td>136</td>\n",
       "      <td>5</td>\n",
       "      <td>2020-05-26</td>\n",
       "      <td>668.38464</td>\n",
       "    </tr>\n",
       "    <tr>\n",
       "      <th>295249</th>\n",
       "      <td>38089</td>\n",
       "      <td>Stark</td>\n",
       "      <td>ND</td>\n",
       "      <td>61</td>\n",
       "      <td>2</td>\n",
       "      <td>2020-05-26</td>\n",
       "      <td>495.86942</td>\n",
       "    </tr>\n",
       "    <tr>\n",
       "      <th>414531</th>\n",
       "      <td>51065</td>\n",
       "      <td>Fluvanna</td>\n",
       "      <td>VA</td>\n",
       "      <td>87</td>\n",
       "      <td>6</td>\n",
       "      <td>2020-05-26</td>\n",
       "      <td>660.36237</td>\n",
       "    </tr>\n",
       "    <tr>\n",
       "      <th>264151</th>\n",
       "      <td>35049</td>\n",
       "      <td>Santa Fe</td>\n",
       "      <td>NM</td>\n",
       "      <td>133</td>\n",
       "      <td>3</td>\n",
       "      <td>2020-05-26</td>\n",
       "      <td>550.67377</td>\n",
       "    </tr>\n",
       "    <tr>\n",
       "      <th>...</th>\n",
       "      <td>...</td>\n",
       "      <td>...</td>\n",
       "      <td>...</td>\n",
       "      <td>...</td>\n",
       "      <td>...</td>\n",
       "      <td>...</td>\n",
       "      <td>...</td>\n",
       "    </tr>\n",
       "    <tr>\n",
       "      <th>1833</th>\n",
       "      <td>36079</td>\n",
       "      <td>Putnam</td>\n",
       "      <td>NY</td>\n",
       "      <td>0</td>\n",
       "      <td>0</td>\n",
       "      <td>2020-01-01</td>\n",
       "      <td>775.17078</td>\n",
       "    </tr>\n",
       "    <tr>\n",
       "      <th>1832</th>\n",
       "      <td>36077</td>\n",
       "      <td>Otsego</td>\n",
       "      <td>NY</td>\n",
       "      <td>0</td>\n",
       "      <td>0</td>\n",
       "      <td>2020-01-01</td>\n",
       "      <td>499.69385</td>\n",
       "    </tr>\n",
       "    <tr>\n",
       "      <th>1831</th>\n",
       "      <td>36075</td>\n",
       "      <td>Oswego</td>\n",
       "      <td>NY</td>\n",
       "      <td>0</td>\n",
       "      <td>0</td>\n",
       "      <td>2020-01-01</td>\n",
       "      <td>694.85931</td>\n",
       "    </tr>\n",
       "    <tr>\n",
       "      <th>1830</th>\n",
       "      <td>36073</td>\n",
       "      <td>Orleans</td>\n",
       "      <td>NY</td>\n",
       "      <td>0</td>\n",
       "      <td>0</td>\n",
       "      <td>2020-01-01</td>\n",
       "      <td>792.41022</td>\n",
       "    </tr>\n",
       "    <tr>\n",
       "      <th>0</th>\n",
       "      <td>1001</td>\n",
       "      <td>Autauga</td>\n",
       "      <td>AL</td>\n",
       "      <td>0</td>\n",
       "      <td>0</td>\n",
       "      <td>2020-01-01</td>\n",
       "      <td>929.95764</td>\n",
       "    </tr>\n",
       "  </tbody>\n",
       "</table>\n",
       "<p>456288 rows × 7 columns</p>\n",
       "</div>"
      ],
      "text/plain": [
       "        geoid    county state  cases  deaths       date  dwell time\n",
       "456287  56045    Weston    WY      0       0 2020-05-26   322.28851\n",
       "381097  48199    Hardin    TX    136       5 2020-05-26   668.38464\n",
       "295249  38089     Stark    ND     61       2 2020-05-26   495.86942\n",
       "414531  51065  Fluvanna    VA     87       6 2020-05-26   660.36237\n",
       "264151  35049  Santa Fe    NM    133       3 2020-05-26   550.67377\n",
       "...       ...       ...   ...    ...     ...        ...         ...\n",
       "1833    36079    Putnam    NY      0       0 2020-01-01   775.17078\n",
       "1832    36077    Otsego    NY      0       0 2020-01-01   499.69385\n",
       "1831    36075    Oswego    NY      0       0 2020-01-01   694.85931\n",
       "1830    36073   Orleans    NY      0       0 2020-01-01   792.41022\n",
       "0        1001   Autauga    AL      0       0 2020-01-01   929.95764\n",
       "\n",
       "[456288 rows x 7 columns]"
      ]
     },
     "execution_count": 15,
     "metadata": {},
     "output_type": "execute_result"
    }
   ],
   "source": [
    "nytpd.sort_values('date', ascending=False)"
   ]
  },
  {
   "cell_type": "markdown",
   "metadata": {},
   "source": [
    "Note that we use `ascending = False` rather than `decending = True` in pandas. That is another different part for sorting under Numpy an pandas."
   ]
  },
  {
   "cell_type": "code",
   "execution_count": 16,
   "metadata": {},
   "outputs": [
    {
     "data": {
      "text/html": [
       "<div>\n",
       "<style scoped>\n",
       "    .dataframe tbody tr th:only-of-type {\n",
       "        vertical-align: middle;\n",
       "    }\n",
       "\n",
       "    .dataframe tbody tr th {\n",
       "        vertical-align: top;\n",
       "    }\n",
       "\n",
       "    .dataframe thead th {\n",
       "        text-align: right;\n",
       "    }\n",
       "</style>\n",
       "<table border=\"1\" class=\"dataframe\">\n",
       "  <thead>\n",
       "    <tr style=\"text-align: right;\">\n",
       "      <th></th>\n",
       "      <th>cases</th>\n",
       "      <th>deaths</th>\n",
       "      <th>dwell time</th>\n",
       "    </tr>\n",
       "    <tr>\n",
       "      <th>date</th>\n",
       "      <th></th>\n",
       "      <th></th>\n",
       "      <th></th>\n",
       "    </tr>\n",
       "  </thead>\n",
       "  <tbody>\n",
       "    <tr>\n",
       "      <th>2020-01-01</th>\n",
       "      <td>0.000000</td>\n",
       "      <td>0.000000</td>\n",
       "      <td>750.762864</td>\n",
       "    </tr>\n",
       "    <tr>\n",
       "      <th>2020-01-02</th>\n",
       "      <td>0.000000</td>\n",
       "      <td>0.000000</td>\n",
       "      <td>670.982100</td>\n",
       "    </tr>\n",
       "    <tr>\n",
       "      <th>2020-01-03</th>\n",
       "      <td>0.000000</td>\n",
       "      <td>0.000000</td>\n",
       "      <td>637.445628</td>\n",
       "    </tr>\n",
       "    <tr>\n",
       "      <th>2020-01-04</th>\n",
       "      <td>0.000000</td>\n",
       "      <td>0.000000</td>\n",
       "      <td>724.092234</td>\n",
       "    </tr>\n",
       "    <tr>\n",
       "      <th>2020-01-05</th>\n",
       "      <td>0.000000</td>\n",
       "      <td>0.000000</td>\n",
       "      <td>802.027125</td>\n",
       "    </tr>\n",
       "    <tr>\n",
       "      <th>...</th>\n",
       "      <td>...</td>\n",
       "      <td>...</td>\n",
       "      <td>...</td>\n",
       "    </tr>\n",
       "    <tr>\n",
       "      <th>2020-05-22</th>\n",
       "      <td>514.164626</td>\n",
       "      <td>30.749356</td>\n",
       "      <td>561.345162</td>\n",
       "    </tr>\n",
       "    <tr>\n",
       "      <th>2020-05-23</th>\n",
       "      <td>521.078608</td>\n",
       "      <td>31.082796</td>\n",
       "      <td>571.579801</td>\n",
       "    </tr>\n",
       "    <tr>\n",
       "      <th>2020-05-24</th>\n",
       "      <td>527.665915</td>\n",
       "      <td>31.276418</td>\n",
       "      <td>600.000597</td>\n",
       "    </tr>\n",
       "    <tr>\n",
       "      <th>2020-05-25</th>\n",
       "      <td>533.966495</td>\n",
       "      <td>31.442332</td>\n",
       "      <td>649.812901</td>\n",
       "    </tr>\n",
       "    <tr>\n",
       "      <th>2020-05-26</th>\n",
       "      <td>540.138209</td>\n",
       "      <td>31.682345</td>\n",
       "      <td>589.842752</td>\n",
       "    </tr>\n",
       "  </tbody>\n",
       "</table>\n",
       "<p>147 rows × 3 columns</p>\n",
       "</div>"
      ],
      "text/plain": [
       "                 cases     deaths  dwell time\n",
       "date                                         \n",
       "2020-01-01    0.000000   0.000000  750.762864\n",
       "2020-01-02    0.000000   0.000000  670.982100\n",
       "2020-01-03    0.000000   0.000000  637.445628\n",
       "2020-01-04    0.000000   0.000000  724.092234\n",
       "2020-01-05    0.000000   0.000000  802.027125\n",
       "...                ...        ...         ...\n",
       "2020-05-22  514.164626  30.749356  561.345162\n",
       "2020-05-23  521.078608  31.082796  571.579801\n",
       "2020-05-24  527.665915  31.276418  600.000597\n",
       "2020-05-25  533.966495  31.442332  649.812901\n",
       "2020-05-26  540.138209  31.682345  589.842752\n",
       "\n",
       "[147 rows x 3 columns]"
      ]
     },
     "execution_count": 16,
     "metadata": {},
     "output_type": "execute_result"
    }
   ],
   "source": [
    "## We group the data by date to find the case/death and the dwell time mean.\n",
    "\n",
    "## We use drop(columns = 'var') to drop a column. Here, mean of geoid is meaningless after grouping.\n",
    "\n",
    "nytpd_dategroup = nytpd.groupby(['date']).mean().drop(columns='geoid')\n",
    "nytpd_dategroup"
   ]
  },
  {
   "cell_type": "markdown",
   "metadata": {},
   "source": [
    "## 2.3 Data Plotting\n",
    "\n",
    "### 2.3.1 line plot\n",
    "\n",
    "We have seen line plotting last class (recall that we had huge numbers on the axis of date). We use the same plot function for plotting the dataframe here. \n",
    "\n",
    "We want to have \"date\" as the x-axis. However, look at the dataframe above, the date column is bold and has its variable lower than the rest variable names.\n",
    "\n",
    "This is because this dataframe is taking this column as its **index**. "
   ]
  },
  {
   "cell_type": "markdown",
   "metadata": {},
   "source": [
    "This specially column makes it a little bit more difficult to call the x-axis = date directly. Instead of using \"x=date\", we put `use_index = True` in the following plot function, which means using `index` as ticks for x axis."
   ]
  },
  {
   "cell_type": "code",
   "execution_count": 17,
   "metadata": {},
   "outputs": [
    {
     "data": {
      "text/plain": [
       "<matplotlib.axes._subplots.AxesSubplot at 0x7fa33c34da30>"
      ]
     },
     "execution_count": 17,
     "metadata": {},
     "output_type": "execute_result"
    },
    {
     "data": {
      "image/png": "[encoded data removed]",
      "text/plain": [
       "<Figure size 432x288 with 1 Axes>"
      ]
     },
     "metadata": {
      "needs_background": "light"
     },
     "output_type": "display_data"
    }
   ],
   "source": [
    "nytpd_dategroup.plot(y=[\"cases\",\"deaths\",\"dwell time\"],use_index = True)"
   ]
  },
  {
   "cell_type": "code",
   "execution_count": 18,
   "metadata": {},
   "outputs": [
    {
     "data": {
      "text/plain": [
       "<matplotlib.axes._subplots.AxesSubplot at 0x7fa3463bc910>"
      ]
     },
     "execution_count": 18,
     "metadata": {},
     "output_type": "execute_result"
    },
    {
     "data": {
      "image/png": "[encoded data removed]",
      "text/plain": [
       "<Figure size 432x288 with 1 Axes>"
      ]
     },
     "metadata": {
      "needs_background": "light"
     },
     "output_type": "display_data"
    }
   ],
   "source": [
    "## We add the title of the figure\n",
    "\n",
    "nytpd_dategroup.plot(y=[\"cases\",\"deaths\",\"dwell time\"],\n",
    "                     use_index = True,\n",
    "                    title = \"Case and Death Report V.S. Home Dwelling Time\")"
   ]
  },
  {
   "cell_type": "markdown",
   "metadata": {},
   "source": [
    "### 2.3.2  box plot\n",
    "\n",
    "In descriptive statistics, a box plot or boxplot is a method for graphically depicting groups of numerical data through their quartiles. Box plots may also have lines extending from the boxes (whiskers) indicating variability outside the upper and lower quartiles, hence the terms box-and-whisker plot and box-and-whisker diagram. Outliers may be plotted as individual points. Box plots are non-parametric: they display variation in samples of a statistical population without making any assumptions of the underlying statistical distribution (though Tukey's boxplot assumes symmetry for the whiskers and normality for their length). "
   ]
  },
  {
   "cell_type": "code",
   "execution_count": 19,
   "metadata": {},
   "outputs": [
    {
     "data": {
      "text/plain": [
       "<matplotlib.axes._subplots.AxesSubplot at 0x7fa33cc9cfa0>"
      ]
     },
     "execution_count": 19,
     "metadata": {},
     "output_type": "execute_result"
    },
    {
     "data": {
      "image/png": "[encoded data removed]",
      "text/plain": [
       "<Figure size 432x288 with 1 Axes>"
      ]
     },
     "metadata": {
      "needs_background": "light"
     },
     "output_type": "display_data"
    }
   ],
   "source": [
    "nytpd_dategroup.boxplot(column=[\"cases\",\"deaths\",\"dwell time\"])"
   ]
  },
  {
   "cell_type": "code",
   "execution_count": 19,
   "metadata": {},
   "outputs": [
    {
     "data": {
      "text/plain": [
       "<matplotlib.axes._subplots.AxesSubplot at 0x7f9d6f06bc40>"
      ]
     },
     "execution_count": 19,
     "metadata": {},
     "output_type": "execute_result"
    },
    {
     "data": {
      "image/png": "[encoded data removed]",
      "text/plain": [
       "<Figure size 432x720 with 1 Axes>"
      ]
     },
     "metadata": {
      "needs_background": "light"
     },
     "output_type": "display_data"
    }
   ],
   "source": [
    "nytpd.boxplot(column=[\"dwell time\"],by='state', vert=False, figsize=(6,10))"
   ]
  },
  {
   "cell_type": "markdown",
   "metadata": {},
   "source": [
    "# 3. Correlation and Causality\n",
    "\n",
    "Correlation tests for a relationship between two variables,say case numbers in a day and the average home dwelling time. However, seeing two variables moving together or oppositely does not necessarily mean we know whether one variable causes the other to occur. This is why we commonly say “correlation does not imply causation.”\n",
    "\n",
    "A strong correlation might indicate causality, but there could easily be other explanations:\n",
    "\n",
    "* It may be the result of random chance, where the variables appear to be related, but there is no true underlying relationship.\n",
    "* There may be a third variable that that makes the relationship appear stronger (or weaker) than it actually is.\n",
    "\n",
    "**Question 3.1** Give three examples that may influence a county's average home dwelling time that are not case numbers or death numbers."
   ]
  },
  {
   "cell_type": "markdown",
   "metadata": {},
   "source": [
    "In pandas, we can easily type `df.corr()` to find all the correlation across numerical variables. What are the numerical variables? Are they all meaningful?"
   ]
  },
  {
   "cell_type": "code",
   "execution_count": 20,
   "metadata": {},
   "outputs": [
    {
     "data": {
      "text/html": [
       "<div>\n",
       "<style scoped>\n",
       "    .dataframe tbody tr th:only-of-type {\n",
       "        vertical-align: middle;\n",
       "    }\n",
       "\n",
       "    .dataframe tbody tr th {\n",
       "        vertical-align: top;\n",
       "    }\n",
       "\n",
       "    .dataframe thead th {\n",
       "        text-align: right;\n",
       "    }\n",
       "</style>\n",
       "<table border=\"1\" class=\"dataframe\">\n",
       "  <thead>\n",
       "    <tr style=\"text-align: right;\">\n",
       "      <th></th>\n",
       "      <th>geoid</th>\n",
       "      <th>cases</th>\n",
       "      <th>deaths</th>\n",
       "      <th>dwell time</th>\n",
       "    </tr>\n",
       "  </thead>\n",
       "  <tbody>\n",
       "    <tr>\n",
       "      <th>geoid</th>\n",
       "      <td>1.000000</td>\n",
       "      <td>-0.005185</td>\n",
       "      <td>-0.002083</td>\n",
       "      <td>-0.092622</td>\n",
       "    </tr>\n",
       "    <tr>\n",
       "      <th>cases</th>\n",
       "      <td>-0.005185</td>\n",
       "      <td>1.000000</td>\n",
       "      <td>0.962844</td>\n",
       "      <td>0.069333</td>\n",
       "    </tr>\n",
       "    <tr>\n",
       "      <th>deaths</th>\n",
       "      <td>-0.002083</td>\n",
       "      <td>0.962844</td>\n",
       "      <td>1.000000</td>\n",
       "      <td>0.038436</td>\n",
       "    </tr>\n",
       "    <tr>\n",
       "      <th>dwell time</th>\n",
       "      <td>-0.092622</td>\n",
       "      <td>0.069333</td>\n",
       "      <td>0.038436</td>\n",
       "      <td>1.000000</td>\n",
       "    </tr>\n",
       "  </tbody>\n",
       "</table>\n",
       "</div>"
      ],
      "text/plain": [
       "               geoid     cases    deaths  dwell time\n",
       "geoid       1.000000 -0.005185 -0.002083   -0.092622\n",
       "cases      -0.005185  1.000000  0.962844    0.069333\n",
       "deaths     -0.002083  0.962844  1.000000    0.038436\n",
       "dwell time -0.092622  0.069333  0.038436    1.000000"
      ]
     },
     "execution_count": 20,
     "metadata": {},
     "output_type": "execute_result"
    }
   ],
   "source": [
    "nytpd.corr()"
   ]
  },
  {
   "cell_type": "markdown",
   "metadata": {},
   "source": [
    "Apparently, geoid is recognized as numbers, but its correlation to other variables are meaningless. \n",
    "\n",
    "What can we say about a positive correlation between cases and dwell time?\n",
    "\n",
    "* higher cases lead to more stay-in time?\n",
    "* higher stay-in time leads to higher cases?\n",
    "* Other factors influencing both?\n",
    "* What else?"
   ]
  },
  {
   "cell_type": "markdown",
   "metadata": {},
   "source": [
    "**Question 3.2** Find the correlation between variables in `nytpd_dategroup` dataset. Do you observe a higher or a lower correlation? Why do you think that you may observe a higher or lower correlation here?"
   ]
  },
  {
   "cell_type": "code",
   "execution_count": 21,
   "metadata": {},
   "outputs": [
    {
     "data": {
      "text/html": [
       "<div>\n",
       "<style scoped>\n",
       "    .dataframe tbody tr th:only-of-type {\n",
       "        vertical-align: middle;\n",
       "    }\n",
       "\n",
       "    .dataframe tbody tr th {\n",
       "        vertical-align: top;\n",
       "    }\n",
       "\n",
       "    .dataframe thead th {\n",
       "        text-align: right;\n",
       "    }\n",
       "</style>\n",
       "<table border=\"1\" class=\"dataframe\">\n",
       "  <thead>\n",
       "    <tr style=\"text-align: right;\">\n",
       "      <th></th>\n",
       "      <th>cases</th>\n",
       "      <th>deaths</th>\n",
       "      <th>dwell time</th>\n",
       "    </tr>\n",
       "  </thead>\n",
       "  <tbody>\n",
       "    <tr>\n",
       "      <th>cases</th>\n",
       "      <td>1.000000</td>\n",
       "      <td>0.996325</td>\n",
       "      <td>0.320942</td>\n",
       "    </tr>\n",
       "    <tr>\n",
       "      <th>deaths</th>\n",
       "      <td>0.996325</td>\n",
       "      <td>1.000000</td>\n",
       "      <td>0.271765</td>\n",
       "    </tr>\n",
       "    <tr>\n",
       "      <th>dwell time</th>\n",
       "      <td>0.320942</td>\n",
       "      <td>0.271765</td>\n",
       "      <td>1.000000</td>\n",
       "    </tr>\n",
       "  </tbody>\n",
       "</table>\n",
       "</div>"
      ],
      "text/plain": [
       "               cases    deaths  dwell time\n",
       "cases       1.000000  0.996325    0.320942\n",
       "deaths      0.996325  1.000000    0.271765\n",
       "dwell time  0.320942  0.271765    1.000000"
      ]
     },
     "execution_count": 21,
     "metadata": {},
     "output_type": "execute_result"
    }
   ],
   "source": [
    "nytpd_dategroup.corr()"
   ]
  }
 ],
 "metadata": {
  "kernelspec": {
   "display_name": "Python 3",
   "language": "python",
   "name": "python3"
  },
  "language_info": {
   "codemirror_mode": {
    "name": "ipython",
    "version": 3
   },
   "file_extension": ".py",
   "mimetype": "text/x-python",
   "name": "python",
   "nbconvert_exporter": "python",
   "pygments_lexer": "ipython3",
   "version": "3.8.3"
  }
 },
 "nbformat": 4,
 "nbformat_minor": 4
}
