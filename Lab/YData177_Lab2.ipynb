{
 "cells": [
  {
   "cell_type": "markdown",
   "metadata": {},
   "source": [
    "# Behavioral Lab 2\n",
    "\n",
    "Welcome to our second lab! \n",
    "\n",
    "Last week, we discussed some background related to the COVID-19 pandemic and saw some datasets. \n",
    "\n",
    "### Today's lab\n",
    "\n",
    "1. Review the data import and data manipulation we had last week.\n",
    "2. Basic introduction of Panel Data and `pandas`.\n",
    "3. Repeat some exercise using `pandas` that we had using `numpy`.\n",
    "4. Correlation and Causality."
   ]
  },
  {
   "cell_type": "markdown",
   "metadata": {},
   "source": [
    "## 1. Review\n",
    "\n",
    "Last time, we had our first look at Python and Jupyter notebooks. So far, we have only used Python to do some simple manipulation on the datasets we imported. \n",
    "\n",
    "Let us review what we learnt with a new dataset **poi_vpc.csv** here."
   ]
  },
  {
   "cell_type": "code",
   "execution_count": 17,
   "metadata": {},
   "outputs": [
    {
     "data": {
      "text/html": [
       "<table border=\"1\" class=\"dataframe\">\n",
       "    <thead>\n",
       "        <tr>\n",
       "            <th>date</th> <th>geoid</th> <th>dvc7225</th> <th>dvc7139</th> <th>dvc4461</th> <th>dvc4531</th> <th>dvc4511</th> <th>dvc4471</th> <th>dvc7121</th> <th>dvc4539</th> <th>dvc4533</th> <th>dvc4522</th> <th>dvc4481</th> <th>dvc4532</th> <th>dvc4421</th> <th>dvc4431</th> <th>dvc4483</th> <th>dvc7132</th> <th>dvc4512</th> <th>dvc4452</th> <th>dvc4482</th> <th>dvc4422</th> <th>dvc4411</th> <th>dvc4413</th> <th>dvc4237</th> <th>dvc7224</th> <th>dvc7131</th> <th>dvc4246</th> <th>dvc4244</th> <th>dvc4238</th> <th>dvc4242</th> <th>dvc4239</th> <th>dvc4453</th> <th>dvc4441</th> <th>dvc4451</th> <th>dvc4523</th>\n",
       "        </tr>\n",
       "    </thead>\n",
       "    <tbody>\n",
       "        <tr>\n",
       "            <td>30jan2020</td> <td>1001 </td> <td>0.306592</td> <td>0.0731662</td> <td>0.0649954</td> <td>0.00649954</td> <td>0.0222841</td> <td>0.0766945</td> <td>0.0252553 </td> <td>0.0222841</td> <td>0.0250696</td> <td>0.00278552</td> <td>0.00464253</td> <td>0.014299  </td> <td>0.000742804</td> <td>0.00222841 </td> <td>0.00259981 </td> <td>0      </td> <td>0         </td> <td>0.00315692</td> <td>0.00352832</td> <td>0.00204271</td> <td>0.0122563 </td> <td>0.0159703 </td> <td>0         </td> <td>0.00148561 </td> <td>0         </td> <td>0          </td> <td>0      </td> <td>0          </td> <td>0      </td> <td>0.000742804</td> <td>0.00129991 </td> <td>0.0209842</td> <td>0.0471681</td> <td>0.110492 </td>\n",
       "        </tr>\n",
       "        <tr>\n",
       "            <td>27jan2020</td> <td>1001 </td> <td>0.237883</td> <td>0.0792943</td> <td>0.0759517</td> <td>0.00761374</td> <td>0.018013 </td> <td>0.0726091</td> <td>0.0245125 </td> <td>0.0185701</td> <td>0.0224698</td> <td>0.00111421</td> <td>0.00334262</td> <td>0.0103993 </td> <td>0.00148561 </td> <td>0.000928505</td> <td>0.00167131 </td> <td>0      </td> <td>0         </td> <td>0.00278552</td> <td>0.00334262</td> <td>0.00167131</td> <td>0.0135562 </td> <td>0.0178273 </td> <td>0         </td> <td>0.00148561 </td> <td>0         </td> <td>0          </td> <td>0      </td> <td>0          </td> <td>0      </td> <td>0.000557103</td> <td>0.00111421 </td> <td>0.0187558</td> <td>0.0499536</td> <td>0.0991643</td>\n",
       "        </tr>\n",
       "        <tr>\n",
       "            <td>31jan2020</td> <td>1001 </td> <td>0.425255</td> <td>0.0768802</td> <td>0.0713092</td> <td>0.00891365</td> <td>0.0311978</td> <td>0.102136 </td> <td>0.0207985 </td> <td>0.0293408</td> <td>0.03974  </td> <td>0.00464253</td> <td>0.00668524</td> <td>0.0135562 </td> <td>0.000742804</td> <td>0.000557103</td> <td>0.00334262 </td> <td>0      </td> <td>0         </td> <td>0.00649954</td> <td>0.00798514</td> <td>0.00259981</td> <td>0.0165274 </td> <td>0.0226555 </td> <td>0         </td> <td>0.00334262 </td> <td>0         </td> <td>0          </td> <td>0      </td> <td>0          </td> <td>0      </td> <td>0.000185701</td> <td>0.00222841 </td> <td>0.0202414</td> <td>0.0674095</td> <td>0.141504 </td>\n",
       "        </tr>\n",
       "        <tr>\n",
       "            <td>02feb2020</td> <td>1001 </td> <td>0.215227</td> <td>0.0245125</td> <td>0.0263695</td> <td>0.00259981</td> <td>0.0185701</td> <td>0.0653668</td> <td>0.0102136 </td> <td>0.0146704</td> <td>0.0237697</td> <td>0.00297122</td> <td>0.00297122</td> <td>0.00427112</td> <td>0.000371402</td> <td>0.00148561 </td> <td>0.000742804</td> <td>0      </td> <td>0         </td> <td>0.00129991</td> <td>0.00557103</td> <td>0.00167131</td> <td>0.00705664</td> <td>0.00928505</td> <td>0         </td> <td>0.000928505</td> <td>0         </td> <td>0          </td> <td>0      </td> <td>0          </td> <td>0      </td> <td>0          </td> <td>0.000742804</td> <td>0.0113278</td> <td>0.0766945</td> <td>0.146518 </td>\n",
       "        </tr>\n",
       "        <tr>\n",
       "            <td>28jan2020</td> <td>1001 </td> <td>0.251253</td> <td>0.0835655</td> <td>0.0696379</td> <td>0.00668524</td> <td>0.0181987</td> <td>0.0694522</td> <td>0.0224698 </td> <td>0.0206128</td> <td>0.0189415</td> <td>0.00185701</td> <td>0.00631383</td> <td>0.0102136 </td> <td>0.00259981 </td> <td>0.000371402</td> <td>0.00259981 </td> <td>0      </td> <td>0         </td> <td>0.00259981</td> <td>0.00334262</td> <td>0.00148561</td> <td>0.0100279 </td> <td>0.0196843 </td> <td>0         </td> <td>0.00148561 </td> <td>0         </td> <td>0          </td> <td>0      </td> <td>0          </td> <td>0      </td> <td>0          </td> <td>0.00185701 </td> <td>0.0181987</td> <td>0.0506964</td> <td>0.0948932</td>\n",
       "        </tr>\n",
       "        <tr>\n",
       "            <td>01feb2020</td> <td>1001 </td> <td>0.37883 </td> <td>0.105664 </td> <td>0.0488394</td> <td>0.00408542</td> <td>0.0451253</td> <td>0.0854225</td> <td>0.00464253</td> <td>0.0356546</td> <td>0.0529248</td> <td>0.00427112</td> <td>0.00742804</td> <td>0.0100279 </td> <td>0.000742804</td> <td>0.000185701</td> <td>0.00334262 </td> <td>0      </td> <td>0         </td> <td>0.00408542</td> <td>0.00984215</td> <td>0.00129991</td> <td>0.0100279 </td> <td>0.0146704 </td> <td>0         </td> <td>0.00129991 </td> <td>0         </td> <td>0          </td> <td>0      </td> <td>0          </td> <td>0      </td> <td>0          </td> <td>0.00111421 </td> <td>0.0139276</td> <td>0.0703807</td> <td>0.150046 </td>\n",
       "        </tr>\n",
       "        <tr>\n",
       "            <td>29jan2020</td> <td>1001 </td> <td>0.261096</td> <td>0.0662953</td> <td>0.0705664</td> <td>0.00501393</td> <td>0.0193129</td> <td>0.0670381</td> <td>0.0157846 </td> <td>0.01987  </td> <td>0.0213556</td> <td>0.00222841</td> <td>0.00557103</td> <td>0.00854225</td> <td>0.000185701</td> <td>0.000557103</td> <td>0.00129991 </td> <td>0      </td> <td>0         </td> <td>0.00278552</td> <td>0.00148561</td> <td>0.00278552</td> <td>0.0126277 </td> <td>0.0178273 </td> <td>0         </td> <td>0.00129991 </td> <td>0         </td> <td>0          </td> <td>0      </td> <td>0          </td> <td>0      </td> <td>0.000371402</td> <td>0.000928505</td> <td>0.0165274</td> <td>0.052182 </td> <td>0.0891365</td>\n",
       "        </tr>\n",
       "        <tr>\n",
       "            <td>27jan2020</td> <td>1003 </td> <td>0.340055</td> <td>0.129606 </td> <td>0.0494959</td> <td>0.00902841</td> <td>0.0603575</td> <td>0.124381 </td> <td>0.0767644 </td> <td>0.0261687</td> <td>0.0245188</td> <td>0.0208066 </td> <td>0.034418  </td> <td>0.0197067 </td> <td>0.0162695  </td> <td>0.00623281 </td> <td>0.00192484 </td> <td>0      </td> <td>0.0068286 </td> <td>0.00815765</td> <td>0.00384968</td> <td>0.00747021</td> <td>0.0259395 </td> <td>0.0206691 </td> <td>0.00164986</td> <td>0.00288726 </td> <td>0.00307058</td> <td>4.58295e-05</td> <td>0      </td> <td>0.000229148</td> <td>0      </td> <td>0.00187901 </td> <td>0.0104033  </td> <td>0.0372136</td> <td>0.0738772</td> <td>0.157745 </td>\n",
       "        </tr>\n",
       "        <tr>\n",
       "            <td>31jan2020</td> <td>1003 </td> <td>0.535793</td> <td>0.129239 </td> <td>0.0487168</td> <td>0.0112282 </td> <td>0.0803391</td> <td>0.154216 </td> <td>0.0703483 </td> <td>0.0385885</td> <td>0.0293767</td> <td>0.036297  </td> <td>0.0499083 </td> <td>0.0269478 </td> <td>0.0212649  </td> <td>0.00659945 </td> <td>0.00549954 </td> <td>0      </td> <td>0.0101742 </td> <td>0.00976169</td> <td>0.00875344</td> <td>0.00765353</td> <td>0.0288268 </td> <td>0.0231439 </td> <td>0.00109991</td> <td>0.00563703 </td> <td>0.00247479</td> <td>0.000137489</td> <td>0      </td> <td>0.000183318</td> <td>0      </td> <td>0.00229148 </td> <td>0.00756187 </td> <td>0.0368011</td> <td>0.0905591</td> <td>0.198579 </td>\n",
       "        </tr>\n",
       "        <tr>\n",
       "            <td>29jan2020</td> <td>1003 </td> <td>0.342301</td> <td>0.105133 </td> <td>0.0405591</td> <td>0.00692026</td> <td>0.051879 </td> <td>0.103346 </td> <td>0.0692026 </td> <td>0.0261228</td> <td>0.0218148</td> <td>0.0181943 </td> <td>0.0291476 </td> <td>0.016132  </td> <td>0.014528   </td> <td>0.00490376 </td> <td>0.00197067 </td> <td>0      </td> <td>0.00687443</td> <td>0.0068286 </td> <td>0.00426214</td> <td>0.00641613</td> <td>0.0197067 </td> <td>0.0181485 </td> <td>0.00100825</td> <td>0.00242896 </td> <td>0.00302475</td> <td>4.58295e-05</td> <td>0      </td> <td>4.58295e-05</td> <td>0      </td> <td>0.00151237 </td> <td>0.00632447 </td> <td>0.0296975</td> <td>0.0641613</td> <td>0.126489 </td>\n",
       "        </tr>\n",
       "    </tbody>\n",
       "</table>\n",
       "<p>... (382064 rows omitted)</p>"
      ],
      "text/plain": [
       "date      | geoid | dvc7225  | dvc7139   | dvc4461   | dvc4531    | dvc4511   | dvc4471   | dvc7121    | dvc4539   | dvc4533   | dvc4522    | dvc4481    | dvc4532    | dvc4421     | dvc4431     | dvc4483     | dvc7132 | dvc4512    | dvc4452    | dvc4482    | dvc4422    | dvc4411    | dvc4413    | dvc4237    | dvc7224     | dvc7131    | dvc4246     | dvc4244 | dvc4238     | dvc4242 | dvc4239     | dvc4453     | dvc4441   | dvc4451   | dvc4523\n",
       "30jan2020 | 1001  | 0.306592 | 0.0731662 | 0.0649954 | 0.00649954 | 0.0222841 | 0.0766945 | 0.0252553  | 0.0222841 | 0.0250696 | 0.00278552 | 0.00464253 | 0.014299   | 0.000742804 | 0.00222841  | 0.00259981  | 0       | 0          | 0.00315692 | 0.00352832 | 0.00204271 | 0.0122563  | 0.0159703  | 0          | 0.00148561  | 0          | 0           | 0       | 0           | 0       | 0.000742804 | 0.00129991  | 0.0209842 | 0.0471681 | 0.110492\n",
       "27jan2020 | 1001  | 0.237883 | 0.0792943 | 0.0759517 | 0.00761374 | 0.018013  | 0.0726091 | 0.0245125  | 0.0185701 | 0.0224698 | 0.00111421 | 0.00334262 | 0.0103993  | 0.00148561  | 0.000928505 | 0.00167131  | 0       | 0          | 0.00278552 | 0.00334262 | 0.00167131 | 0.0135562  | 0.0178273  | 0          | 0.00148561  | 0          | 0           | 0       | 0           | 0       | 0.000557103 | 0.00111421  | 0.0187558 | 0.0499536 | 0.0991643\n",
       "31jan2020 | 1001  | 0.425255 | 0.0768802 | 0.0713092 | 0.00891365 | 0.0311978 | 0.102136  | 0.0207985  | 0.0293408 | 0.03974   | 0.00464253 | 0.00668524 | 0.0135562  | 0.000742804 | 0.000557103 | 0.00334262  | 0       | 0          | 0.00649954 | 0.00798514 | 0.00259981 | 0.0165274  | 0.0226555  | 0          | 0.00334262  | 0          | 0           | 0       | 0           | 0       | 0.000185701 | 0.00222841  | 0.0202414 | 0.0674095 | 0.141504\n",
       "02feb2020 | 1001  | 0.215227 | 0.0245125 | 0.0263695 | 0.00259981 | 0.0185701 | 0.0653668 | 0.0102136  | 0.0146704 | 0.0237697 | 0.00297122 | 0.00297122 | 0.00427112 | 0.000371402 | 0.00148561  | 0.000742804 | 0       | 0          | 0.00129991 | 0.00557103 | 0.00167131 | 0.00705664 | 0.00928505 | 0          | 0.000928505 | 0          | 0           | 0       | 0           | 0       | 0           | 0.000742804 | 0.0113278 | 0.0766945 | 0.146518\n",
       "28jan2020 | 1001  | 0.251253 | 0.0835655 | 0.0696379 | 0.00668524 | 0.0181987 | 0.0694522 | 0.0224698  | 0.0206128 | 0.0189415 | 0.00185701 | 0.00631383 | 0.0102136  | 0.00259981  | 0.000371402 | 0.00259981  | 0       | 0          | 0.00259981 | 0.00334262 | 0.00148561 | 0.0100279  | 0.0196843  | 0          | 0.00148561  | 0          | 0           | 0       | 0           | 0       | 0           | 0.00185701  | 0.0181987 | 0.0506964 | 0.0948932\n",
       "01feb2020 | 1001  | 0.37883  | 0.105664  | 0.0488394 | 0.00408542 | 0.0451253 | 0.0854225 | 0.00464253 | 0.0356546 | 0.0529248 | 0.00427112 | 0.00742804 | 0.0100279  | 0.000742804 | 0.000185701 | 0.00334262  | 0       | 0          | 0.00408542 | 0.00984215 | 0.00129991 | 0.0100279  | 0.0146704  | 0          | 0.00129991  | 0          | 0           | 0       | 0           | 0       | 0           | 0.00111421  | 0.0139276 | 0.0703807 | 0.150046\n",
       "29jan2020 | 1001  | 0.261096 | 0.0662953 | 0.0705664 | 0.00501393 | 0.0193129 | 0.0670381 | 0.0157846  | 0.01987   | 0.0213556 | 0.00222841 | 0.00557103 | 0.00854225 | 0.000185701 | 0.000557103 | 0.00129991  | 0       | 0          | 0.00278552 | 0.00148561 | 0.00278552 | 0.0126277  | 0.0178273  | 0          | 0.00129991  | 0          | 0           | 0       | 0           | 0       | 0.000371402 | 0.000928505 | 0.0165274 | 0.052182  | 0.0891365\n",
       "27jan2020 | 1003  | 0.340055 | 0.129606  | 0.0494959 | 0.00902841 | 0.0603575 | 0.124381  | 0.0767644  | 0.0261687 | 0.0245188 | 0.0208066  | 0.034418   | 0.0197067  | 0.0162695   | 0.00623281  | 0.00192484  | 0       | 0.0068286  | 0.00815765 | 0.00384968 | 0.00747021 | 0.0259395  | 0.0206691  | 0.00164986 | 0.00288726  | 0.00307058 | 4.58295e-05 | 0       | 0.000229148 | 0       | 0.00187901  | 0.0104033   | 0.0372136 | 0.0738772 | 0.157745\n",
       "31jan2020 | 1003  | 0.535793 | 0.129239  | 0.0487168 | 0.0112282  | 0.0803391 | 0.154216  | 0.0703483  | 0.0385885 | 0.0293767 | 0.036297   | 0.0499083  | 0.0269478  | 0.0212649   | 0.00659945  | 0.00549954  | 0       | 0.0101742  | 0.00976169 | 0.00875344 | 0.00765353 | 0.0288268  | 0.0231439  | 0.00109991 | 0.00563703  | 0.00247479 | 0.000137489 | 0       | 0.000183318 | 0       | 0.00229148  | 0.00756187  | 0.0368011 | 0.0905591 | 0.198579\n",
       "29jan2020 | 1003  | 0.342301 | 0.105133  | 0.0405591 | 0.00692026 | 0.051879  | 0.103346  | 0.0692026  | 0.0261228 | 0.0218148 | 0.0181943  | 0.0291476  | 0.016132   | 0.014528    | 0.00490376  | 0.00197067  | 0       | 0.00687443 | 0.0068286  | 0.00426214 | 0.00641613 | 0.0197067  | 0.0181485  | 0.00100825 | 0.00242896  | 0.00302475 | 4.58295e-05 | 0       | 4.58295e-05 | 0       | 0.00151237  | 0.00632447  | 0.0296975 | 0.0641613 | 0.126489\n",
       "... (382064 rows omitted)"
      ]
     },
     "execution_count": 17,
     "metadata": {},
     "output_type": "execute_result"
    }
   ],
   "source": [
    "from datascience import *\n",
    "\n",
    "poidata = Table.read_table('YData_SDS177/poi_vpc.csv')\n",
    "poidata"
   ]
  },
  {
   "cell_type": "markdown",
   "metadata": {},
   "source": [
    "This is a really huge table with undeciphered variable names. We can tell what \"date\" and \"geoid\" are, what are those \"dvc####\" variables?\n",
    "\n",
    "$$\\text{dvc####} = \\frac{\\text{total visits to an industry ####}}{\\text{device count}} = \\text{average visits per device count to an industry #### for a county in a day}$$\n",
    "\n",
    "and the number #### is representing the first 4 digits of the industry's NAICS code. \n",
    "\n",
    "* If you may wonder what NAICS codes are: here is the [Wikipedia](https://en.wikipedia.org/wiki/North_American_Industry_Classification_System) link.\n",
    "\n",
    "Why do we take the ratio here? It is because we collect the data using the smartphone device, some counties may collect only several smartphone data, while some counties may have collect thousands of smartphone data. To reduce the bias in data collection, we processed the data this way to balance the observed behavior. "
   ]
  },
  {
   "cell_type": "markdown",
   "metadata": {},
   "source": [
    "**Question 1.1** Select the columns `date`, `geoid`, `dvc4451`, `dvc4461`, `dvc4471`, `dvc4522`, and `dvc7121`, and save the new dataset into `poi5` for the focused 5 industries.\n",
    "\n",
    "Here is a codebook for us to keep in mind what NAICS industries we are examining. \n",
    "\n",
    "| NAICS | Industry    |\n",
    "|------ |-------------|\n",
    "| 4451 | grocery stores |\n",
    "| 4461 | health & personal care stores |\n",
    "| 4471 | gasoline stations  |\n",
    "| 4522 | department stores |\n",
    "| 7121 | museums, historical sites, etc.|\n"
   ]
  },
  {
   "cell_type": "code",
   "execution_count": 18,
   "metadata": {},
   "outputs": [
    {
     "data": {
      "text/html": [
       "<table border=\"1\" class=\"dataframe\">\n",
       "    <thead>\n",
       "        <tr>\n",
       "            <th>date</th> <th>geoid</th> <th>dvc4451</th> <th>dvc4461</th> <th>dvc4471</th> <th>dvc4522</th> <th>dvc7121</th>\n",
       "        </tr>\n",
       "    </thead>\n",
       "    <tbody>\n",
       "        <tr>\n",
       "            <td>30jan2020</td> <td>1001 </td> <td>0.0471681</td> <td>0.0649954</td> <td>0.0766945</td> <td>0.00278552</td> <td>0.0252553 </td>\n",
       "        </tr>\n",
       "        <tr>\n",
       "            <td>27jan2020</td> <td>1001 </td> <td>0.0499536</td> <td>0.0759517</td> <td>0.0726091</td> <td>0.00111421</td> <td>0.0245125 </td>\n",
       "        </tr>\n",
       "        <tr>\n",
       "            <td>31jan2020</td> <td>1001 </td> <td>0.0674095</td> <td>0.0713092</td> <td>0.102136 </td> <td>0.00464253</td> <td>0.0207985 </td>\n",
       "        </tr>\n",
       "        <tr>\n",
       "            <td>02feb2020</td> <td>1001 </td> <td>0.0766945</td> <td>0.0263695</td> <td>0.0653668</td> <td>0.00297122</td> <td>0.0102136 </td>\n",
       "        </tr>\n",
       "        <tr>\n",
       "            <td>28jan2020</td> <td>1001 </td> <td>0.0506964</td> <td>0.0696379</td> <td>0.0694522</td> <td>0.00185701</td> <td>0.0224698 </td>\n",
       "        </tr>\n",
       "        <tr>\n",
       "            <td>01feb2020</td> <td>1001 </td> <td>0.0703807</td> <td>0.0488394</td> <td>0.0854225</td> <td>0.00427112</td> <td>0.00464253</td>\n",
       "        </tr>\n",
       "        <tr>\n",
       "            <td>29jan2020</td> <td>1001 </td> <td>0.052182 </td> <td>0.0705664</td> <td>0.0670381</td> <td>0.00222841</td> <td>0.0157846 </td>\n",
       "        </tr>\n",
       "        <tr>\n",
       "            <td>27jan2020</td> <td>1003 </td> <td>0.0738772</td> <td>0.0494959</td> <td>0.124381 </td> <td>0.0208066 </td> <td>0.0767644 </td>\n",
       "        </tr>\n",
       "        <tr>\n",
       "            <td>31jan2020</td> <td>1003 </td> <td>0.0905591</td> <td>0.0487168</td> <td>0.154216 </td> <td>0.036297  </td> <td>0.0703483 </td>\n",
       "        </tr>\n",
       "        <tr>\n",
       "            <td>29jan2020</td> <td>1003 </td> <td>0.0641613</td> <td>0.0405591</td> <td>0.103346 </td> <td>0.0181943 </td> <td>0.0692026 </td>\n",
       "        </tr>\n",
       "    </tbody>\n",
       "</table>\n",
       "<p>... (382064 rows omitted)</p>"
      ],
      "text/plain": [
       "date      | geoid | dvc4451   | dvc4461   | dvc4471   | dvc4522    | dvc7121\n",
       "30jan2020 | 1001  | 0.0471681 | 0.0649954 | 0.0766945 | 0.00278552 | 0.0252553\n",
       "27jan2020 | 1001  | 0.0499536 | 0.0759517 | 0.0726091 | 0.00111421 | 0.0245125\n",
       "31jan2020 | 1001  | 0.0674095 | 0.0713092 | 0.102136  | 0.00464253 | 0.0207985\n",
       "02feb2020 | 1001  | 0.0766945 | 0.0263695 | 0.0653668 | 0.00297122 | 0.0102136\n",
       "28jan2020 | 1001  | 0.0506964 | 0.0696379 | 0.0694522 | 0.00185701 | 0.0224698\n",
       "01feb2020 | 1001  | 0.0703807 | 0.0488394 | 0.0854225 | 0.00427112 | 0.00464253\n",
       "29jan2020 | 1001  | 0.052182  | 0.0705664 | 0.0670381 | 0.00222841 | 0.0157846\n",
       "27jan2020 | 1003  | 0.0738772 | 0.0494959 | 0.124381  | 0.0208066  | 0.0767644\n",
       "31jan2020 | 1003  | 0.0905591 | 0.0487168 | 0.154216  | 0.036297   | 0.0703483\n",
       "29jan2020 | 1003  | 0.0641613 | 0.0405591 | 0.103346  | 0.0181943  | 0.0692026\n",
       "... (382064 rows omitted)"
      ]
     },
     "execution_count": 18,
     "metadata": {},
     "output_type": "execute_result"
    }
   ],
   "source": [
    "poi5 = poidata.select(\"date\", \"geoid\", \"dvc4451\", \"dvc4461\", \"dvc4471\", \"dvc4522\", \"dvc7121\")\n",
    "poi5"
   ]
  },
  {
   "cell_type": "markdown",
   "metadata": {},
   "source": [
    "**Question 1.2** We learned finding group average. Now, create a new dataset named `poi5_groupdate` by getting the average visits per device count in each day for the whole country."
   ]
  },
  {
   "cell_type": "code",
   "execution_count": 19,
   "metadata": {},
   "outputs": [
    {
     "data": {
      "text/html": [
       "<table border=\"1\" class=\"dataframe\">\n",
       "    <thead>\n",
       "        <tr>\n",
       "            <th>date</th> <th>geoid mean</th> <th>dvc4451 mean</th> <th>dvc4461 mean</th> <th>dvc4471 mean</th> <th>dvc4522 mean</th> <th>dvc7121 mean</th>\n",
       "        </tr>\n",
       "    </thead>\n",
       "    <tbody>\n",
       "        <tr>\n",
       "            <td>01apr2020</td> <td>31370.5   </td> <td>0.0785179   </td> <td>0.0273459   </td> <td>0.106227    </td> <td>0.00488334  </td> <td>0.0263384   </td>\n",
       "        </tr>\n",
       "        <tr>\n",
       "            <td>01feb2020</td> <td>nan       </td> <td>nan         </td> <td>nan         </td> <td>nan         </td> <td>nan         </td> <td>nan         </td>\n",
       "        </tr>\n",
       "        <tr>\n",
       "            <td>01mar2020</td> <td>nan       </td> <td>nan         </td> <td>nan         </td> <td>nan         </td> <td>nan         </td> <td>nan         </td>\n",
       "        </tr>\n",
       "        <tr>\n",
       "            <td>01may2020</td> <td>31357.9   </td> <td>0.0954779   </td> <td>0.0315711   </td> <td>0.135273    </td> <td>0.00821984  </td> <td>0.0361422   </td>\n",
       "        </tr>\n",
       "        <tr>\n",
       "            <td>02apr2020</td> <td>31370.5   </td> <td>0.0796371   </td> <td>0.027268    </td> <td>0.104976    </td> <td>0.00490376  </td> <td>0.0264068   </td>\n",
       "        </tr>\n",
       "        <tr>\n",
       "            <td>02feb2020</td> <td>nan       </td> <td>nan         </td> <td>nan         </td> <td>nan         </td> <td>nan         </td> <td>nan         </td>\n",
       "        </tr>\n",
       "        <tr>\n",
       "            <td>02mar2020</td> <td>31370.5   </td> <td>0.0645475   </td> <td>0.0320247   </td> <td>0.0924476   </td> <td>0.00720405  </td> <td>0.0342037   </td>\n",
       "        </tr>\n",
       "        <tr>\n",
       "            <td>02may2020</td> <td>31357.9   </td> <td>0.0929384   </td> <td>0.0208546   </td> <td>0.125804    </td> <td>0.00871167  </td> <td>0.0357334   </td>\n",
       "        </tr>\n",
       "        <tr>\n",
       "            <td>03apr2020</td> <td>31370.5   </td> <td>0.089241    </td> <td>0.0294902   </td> <td>0.110709    </td> <td>0.00565046  </td> <td>0.0258621   </td>\n",
       "        </tr>\n",
       "        <tr>\n",
       "            <td>03feb2020</td> <td>nan       </td> <td>nan         </td> <td>nan         </td> <td>nan         </td> <td>nan         </td> <td>nan         </td>\n",
       "        </tr>\n",
       "    </tbody>\n",
       "</table>\n",
       "<p>... (109 rows omitted)</p>"
      ],
      "text/plain": [
       "date      | geoid mean | dvc4451 mean | dvc4461 mean | dvc4471 mean | dvc4522 mean | dvc7121 mean\n",
       "01apr2020 | 31370.5    | 0.0785179    | 0.0273459    | 0.106227     | 0.00488334   | 0.0263384\n",
       "01feb2020 | nan        | nan          | nan          | nan          | nan          | nan\n",
       "01mar2020 | nan        | nan          | nan          | nan          | nan          | nan\n",
       "01may2020 | 31357.9    | 0.0954779    | 0.0315711    | 0.135273     | 0.00821984   | 0.0361422\n",
       "02apr2020 | 31370.5    | 0.0796371    | 0.027268     | 0.104976     | 0.00490376   | 0.0264068\n",
       "02feb2020 | nan        | nan          | nan          | nan          | nan          | nan\n",
       "02mar2020 | 31370.5    | 0.0645475    | 0.0320247    | 0.0924476    | 0.00720405   | 0.0342037\n",
       "02may2020 | 31357.9    | 0.0929384    | 0.0208546    | 0.125804     | 0.00871167   | 0.0357334\n",
       "03apr2020 | 31370.5    | 0.089241     | 0.0294902    | 0.110709     | 0.00565046   | 0.0258621\n",
       "03feb2020 | nan        | nan          | nan          | nan          | nan          | nan\n",
       "... (109 rows omitted)"
      ]
     },
     "execution_count": 19,
     "metadata": {},
     "output_type": "execute_result"
    }
   ],
   "source": [
    "## Type your answer here\n",
    "import numpy as np\n",
    "poi5_groupdate = poi5.group('date', np.mean)\n",
    "poi5_groupdate"
   ]
  },
  {
   "cell_type": "markdown",
   "metadata": {},
   "source": [
    "Why do we have those `nan` in the dataset? It is possibly because we had missing values in the original dataset. To exclude the missing values to get the mean, we replace `np.mean` to `np.nanmean`"
   ]
  },
  {
   "cell_type": "code",
   "execution_count": 20,
   "metadata": {},
   "outputs": [
    {
     "data": {
      "text/html": [
       "<table border=\"1\" class=\"dataframe\">\n",
       "    <thead>\n",
       "        <tr>\n",
       "            <th>date</th> <th>geoid nanmean</th> <th>dvc4451 nanmean</th> <th>dvc4461 nanmean</th> <th>dvc4471 nanmean</th> <th>dvc4522 nanmean</th> <th>dvc7121 nanmean</th>\n",
       "        </tr>\n",
       "    </thead>\n",
       "    <tbody>\n",
       "        <tr>\n",
       "            <td>01apr2020</td> <td>31370.5      </td> <td>0.0785179      </td> <td>0.0273459      </td> <td>0.106227       </td> <td>0.00488334     </td> <td>0.0263384      </td>\n",
       "        </tr>\n",
       "        <tr>\n",
       "            <td>01feb2020</td> <td>31370.1      </td> <td>0.086301       </td> <td>0.0267664      </td> <td>0.10513        </td> <td>0.0140417      </td> <td>0.0362407      </td>\n",
       "        </tr>\n",
       "        <tr>\n",
       "            <td>01mar2020</td> <td>31370.1      </td> <td>0.0610177      </td> <td>0.016273       </td> <td>0.0872812      </td> <td>0.00943248     </td> <td>0.0288297      </td>\n",
       "        </tr>\n",
       "        <tr>\n",
       "            <td>01may2020</td> <td>31357.9      </td> <td>0.0954779      </td> <td>0.0315711      </td> <td>0.135273       </td> <td>0.00821984     </td> <td>0.0361422      </td>\n",
       "        </tr>\n",
       "        <tr>\n",
       "            <td>02apr2020</td> <td>31370.5      </td> <td>0.0796371      </td> <td>0.027268       </td> <td>0.104976       </td> <td>0.00490376     </td> <td>0.0264068      </td>\n",
       "        </tr>\n",
       "        <tr>\n",
       "            <td>02feb2020</td> <td>31370.1      </td> <td>0.0722812      </td> <td>0.0184312      </td> <td>0.0828914      </td> <td>0.00783158     </td> <td>0.0288546      </td>\n",
       "        </tr>\n",
       "        <tr>\n",
       "            <td>02mar2020</td> <td>31370.5      </td> <td>0.0645475      </td> <td>0.0320247      </td> <td>0.0924476      </td> <td>0.00720405     </td> <td>0.0342037      </td>\n",
       "        </tr>\n",
       "        <tr>\n",
       "            <td>02may2020</td> <td>31357.9      </td> <td>0.0929384      </td> <td>0.0208546      </td> <td>0.125804       </td> <td>0.00871167     </td> <td>0.0357334      </td>\n",
       "        </tr>\n",
       "        <tr>\n",
       "            <td>03apr2020</td> <td>31370.5      </td> <td>0.089241       </td> <td>0.0294902      </td> <td>0.110709       </td> <td>0.00565046     </td> <td>0.0258621      </td>\n",
       "        </tr>\n",
       "        <tr>\n",
       "            <td>03feb2020</td> <td>31370.1      </td> <td>0.0615497      </td> <td>0.0319561      </td> <td>0.0877446      </td> <td>0.00631759     </td> <td>0.0337046      </td>\n",
       "        </tr>\n",
       "    </tbody>\n",
       "</table>\n",
       "<p>... (109 rows omitted)</p>"
      ],
      "text/plain": [
       "date      | geoid nanmean | dvc4451 nanmean | dvc4461 nanmean | dvc4471 nanmean | dvc4522 nanmean | dvc7121 nanmean\n",
       "01apr2020 | 31370.5       | 0.0785179       | 0.0273459       | 0.106227        | 0.00488334      | 0.0263384\n",
       "01feb2020 | 31370.1       | 0.086301        | 0.0267664       | 0.10513         | 0.0140417       | 0.0362407\n",
       "01mar2020 | 31370.1       | 0.0610177       | 0.016273        | 0.0872812       | 0.00943248      | 0.0288297\n",
       "01may2020 | 31357.9       | 0.0954779       | 0.0315711       | 0.135273        | 0.00821984      | 0.0361422\n",
       "02apr2020 | 31370.5       | 0.0796371       | 0.027268        | 0.104976        | 0.00490376      | 0.0264068\n",
       "02feb2020 | 31370.1       | 0.0722812       | 0.0184312       | 0.0828914       | 0.00783158      | 0.0288546\n",
       "02mar2020 | 31370.5       | 0.0645475       | 0.0320247       | 0.0924476       | 0.00720405      | 0.0342037\n",
       "02may2020 | 31357.9       | 0.0929384       | 0.0208546       | 0.125804        | 0.00871167      | 0.0357334\n",
       "03apr2020 | 31370.5       | 0.089241        | 0.0294902       | 0.110709        | 0.00565046      | 0.0258621\n",
       "03feb2020 | 31370.1       | 0.0615497       | 0.0319561       | 0.0877446       | 0.00631759      | 0.0337046\n",
       "... (109 rows omitted)"
      ]
     },
     "execution_count": 20,
     "metadata": {},
     "output_type": "execute_result"
    }
   ],
   "source": [
    "poi5_groupdate = poi5.group('date', np.nanmean)\n",
    "poi5_groupdate"
   ]
  },
  {
   "cell_type": "markdown",
   "metadata": {},
   "source": [
    "Note that for those rows that had values using `np.mean`, the means are the same. And the rows with `nan` before have an average value now."
   ]
  },
  {
   "cell_type": "markdown",
   "metadata": {},
   "source": [
    "**Question 1.3** Sort the data by the average visits per device count to gasoline stations. Show the first 5 dates with the highest average visits."
   ]
  },
  {
   "cell_type": "code",
   "execution_count": null,
   "metadata": {},
   "outputs": [],
   "source": [
    "## Type your answer here\n"
   ]
  },
  {
   "cell_type": "markdown",
   "metadata": {},
   "source": [
    "Recall that we did some grouping by states. Unfortunately, this dataset does not contain any state information. Is there a way to find the state with the highest visits per device count to grocery stores during the whole study period?\n",
    "\n",
    "The short answer is YES!\n",
    "\n",
    "The \"geoid\", or FIPS code, is constructed in the following way. Knowing the first two digits of the geoid gives the state code, and we can find the state name from the FIPS codebook."
   ]
  },
  {
   "cell_type": "markdown",
   "metadata": {},
   "source": [
    "<img src=\"FIPSCode.png\"/>"
   ]
  },
  {
   "cell_type": "markdown",
   "metadata": {},
   "source": [
    "**Question 1.4** Add a new column to `poi5` named `state`, which is the first two digits of `geoid`. "
   ]
  },
  {
   "cell_type": "code",
   "execution_count": 21,
   "metadata": {},
   "outputs": [
    {
     "data": {
      "text/html": [
       "<table border=\"1\" class=\"dataframe\">\n",
       "    <thead>\n",
       "        <tr>\n",
       "            <th>date</th> <th>geoid</th> <th>dvc4451</th> <th>dvc4461</th> <th>dvc4471</th> <th>dvc4522</th> <th>dvc7121</th> <th>state</th>\n",
       "        </tr>\n",
       "    </thead>\n",
       "    <tbody>\n",
       "        <tr>\n",
       "            <td>30jan2020</td> <td>1001 </td> <td>0.0471681</td> <td>0.0649954</td> <td>0.0766945</td> <td>0.00278552</td> <td>0.0252553 </td> <td>1    </td>\n",
       "        </tr>\n",
       "        <tr>\n",
       "            <td>27jan2020</td> <td>1001 </td> <td>0.0499536</td> <td>0.0759517</td> <td>0.0726091</td> <td>0.00111421</td> <td>0.0245125 </td> <td>1    </td>\n",
       "        </tr>\n",
       "        <tr>\n",
       "            <td>31jan2020</td> <td>1001 </td> <td>0.0674095</td> <td>0.0713092</td> <td>0.102136 </td> <td>0.00464253</td> <td>0.0207985 </td> <td>1    </td>\n",
       "        </tr>\n",
       "        <tr>\n",
       "            <td>02feb2020</td> <td>1001 </td> <td>0.0766945</td> <td>0.0263695</td> <td>0.0653668</td> <td>0.00297122</td> <td>0.0102136 </td> <td>1    </td>\n",
       "        </tr>\n",
       "        <tr>\n",
       "            <td>28jan2020</td> <td>1001 </td> <td>0.0506964</td> <td>0.0696379</td> <td>0.0694522</td> <td>0.00185701</td> <td>0.0224698 </td> <td>1    </td>\n",
       "        </tr>\n",
       "        <tr>\n",
       "            <td>01feb2020</td> <td>1001 </td> <td>0.0703807</td> <td>0.0488394</td> <td>0.0854225</td> <td>0.00427112</td> <td>0.00464253</td> <td>1    </td>\n",
       "        </tr>\n",
       "        <tr>\n",
       "            <td>29jan2020</td> <td>1001 </td> <td>0.052182 </td> <td>0.0705664</td> <td>0.0670381</td> <td>0.00222841</td> <td>0.0157846 </td> <td>1    </td>\n",
       "        </tr>\n",
       "        <tr>\n",
       "            <td>27jan2020</td> <td>1003 </td> <td>0.0738772</td> <td>0.0494959</td> <td>0.124381 </td> <td>0.0208066 </td> <td>0.0767644 </td> <td>1    </td>\n",
       "        </tr>\n",
       "        <tr>\n",
       "            <td>31jan2020</td> <td>1003 </td> <td>0.0905591</td> <td>0.0487168</td> <td>0.154216 </td> <td>0.036297  </td> <td>0.0703483 </td> <td>1    </td>\n",
       "        </tr>\n",
       "        <tr>\n",
       "            <td>29jan2020</td> <td>1003 </td> <td>0.0641613</td> <td>0.0405591</td> <td>0.103346 </td> <td>0.0181943 </td> <td>0.0692026 </td> <td>1    </td>\n",
       "        </tr>\n",
       "    </tbody>\n",
       "</table>\n",
       "<p>... (382064 rows omitted)</p>"
      ],
      "text/plain": [
       "date      | geoid | dvc4451   | dvc4461   | dvc4471   | dvc4522    | dvc7121    | state\n",
       "30jan2020 | 1001  | 0.0471681 | 0.0649954 | 0.0766945 | 0.00278552 | 0.0252553  | 1\n",
       "27jan2020 | 1001  | 0.0499536 | 0.0759517 | 0.0726091 | 0.00111421 | 0.0245125  | 1\n",
       "31jan2020 | 1001  | 0.0674095 | 0.0713092 | 0.102136  | 0.00464253 | 0.0207985  | 1\n",
       "02feb2020 | 1001  | 0.0766945 | 0.0263695 | 0.0653668 | 0.00297122 | 0.0102136  | 1\n",
       "28jan2020 | 1001  | 0.0506964 | 0.0696379 | 0.0694522 | 0.00185701 | 0.0224698  | 1\n",
       "01feb2020 | 1001  | 0.0703807 | 0.0488394 | 0.0854225 | 0.00427112 | 0.00464253 | 1\n",
       "29jan2020 | 1001  | 0.052182  | 0.0705664 | 0.0670381 | 0.00222841 | 0.0157846  | 1\n",
       "27jan2020 | 1003  | 0.0738772 | 0.0494959 | 0.124381  | 0.0208066  | 0.0767644  | 1\n",
       "31jan2020 | 1003  | 0.0905591 | 0.0487168 | 0.154216  | 0.036297   | 0.0703483  | 1\n",
       "29jan2020 | 1003  | 0.0641613 | 0.0405591 | 0.103346  | 0.0181943  | 0.0692026  | 1\n",
       "... (382064 rows omitted)"
      ]
     },
     "execution_count": 21,
     "metadata": {},
     "output_type": "execute_result"
    }
   ],
   "source": [
    "poi5_state = poi5.with_columns('state',np.floor(poi5.column('geoid')/1000))\n",
    "poi5_state"
   ]
  },
  {
   "cell_type": "markdown",
   "metadata": {},
   "source": [
    "**Question 1.5** Now let's try to find the state with the highest visits per device count to grocery stores during the whole study. Name the new dataset as `poi5_groupstate`"
   ]
  },
  {
   "cell_type": "code",
   "execution_count": 51,
   "metadata": {},
   "outputs": [],
   "source": [
    "## Type your answer here\n",
    "poi5_groupstate = ..."
   ]
  },
  {
   "cell_type": "markdown",
   "metadata": {},
   "source": [
    "## 2. Panel Data\n",
    "\n",
    "You may have heard the name \"Panel Data\", and in fact, you have used several panel datasets so far in our class. \n",
    "\n",
    "What is the major difference between the dataset `poi5`, `poi5_groupdate`, and `poi5_groupstate`?\n",
    "\n",
    "In `poi5_groupdate`, because `date` value is grouped, every unique value appears only once. Also `geoid nanmean` is kinda meaningless, because each row contains the same value. Basically, it can be seen as a \"Time Series\" dataset.\n",
    "\n",
    "A **time series** is a series of data points indexed (or listed or graphed) in time order. \n",
    "\n",
    "In `poi5_groupstate`, because `state` value is grouped, every unique value also appears only once. It shows us a general understanding for each state with the same time span (or sometimes, the same time point). Basically, it can be seen as a \"Crow-sectional\" dataset.\n",
    "\n",
    "A **Cross-sectional** dataset, or a cross section of a study population, in statistics and econometrics is a type of data collected by observing many subjects (such as individuals, firms, countries, or regions) at the one point or period of time. \n",
    "\n",
    "Now, let's go back to see `poi5`, it has multiple date values and multiple county ids. Basically, it gives a full understanding of how the same subjects change over time. \n",
    "\n",
    "**Panel data**, sometimes referred to as longitudinal data, is data that contains observations about different cross sections across time. Examples of groups that may make up panel data series include countries, firms, individuals, or demographic groups. In `poi5`, it is the series of counties. \n",
    "\n",
    "Like time series data, panel data contains observations collected at a regular frequency, chronologically. Like cross-sectional data, panel data contains observations across a collection of individuals."
   ]
  },
  {
   "cell_type": "markdown",
   "metadata": {},
   "source": [
    "To better deal with panel data, we need [`pandas`](https://python.quantecon.org/pandas_panel.html). Pandas is a package of fast, efficient data analysis tools for Python. We have seen NumPy, which provides array operations, pandas defines the dataframe and allows us to work with panel data."
   ]
  },
  {
   "cell_type": "markdown",
   "metadata": {},
   "source": [
    "## 2.1 Import New York Times data using pandas\n",
    "\n",
    "Recall that the first dataset we encountered was the case and death reports from NYT. Importing the dataset using pandas is very similar:"
   ]
  },
  {
   "cell_type": "code",
   "execution_count": 22,
   "metadata": {},
   "outputs": [
    {
     "data": {
      "text/html": [
       "<div>\n",
       "<style scoped>\n",
       "    .dataframe tbody tr th:only-of-type {\n",
       "        vertical-align: middle;\n",
       "    }\n",
       "\n",
       "    .dataframe tbody tr th {\n",
       "        vertical-align: top;\n",
       "    }\n",
       "\n",
       "    .dataframe thead th {\n",
       "        text-align: right;\n",
       "    }\n",
       "</style>\n",
       "<table border=\"1\" class=\"dataframe\">\n",
       "  <thead>\n",
       "    <tr style=\"text-align: right;\">\n",
       "      <th></th>\n",
       "      <th>geoid</th>\n",
       "      <th>county</th>\n",
       "      <th>state</th>\n",
       "      <th>cases</th>\n",
       "      <th>deaths</th>\n",
       "      <th>date</th>\n",
       "      <th>dwell_time</th>\n",
       "    </tr>\n",
       "  </thead>\n",
       "  <tbody>\n",
       "    <tr>\n",
       "      <th>0</th>\n",
       "      <td>1001</td>\n",
       "      <td>Autauga</td>\n",
       "      <td>AL</td>\n",
       "      <td>0</td>\n",
       "      <td>0</td>\n",
       "      <td>01jan2020</td>\n",
       "      <td>929.95764</td>\n",
       "    </tr>\n",
       "    <tr>\n",
       "      <th>1</th>\n",
       "      <td>1003</td>\n",
       "      <td>Baldwin</td>\n",
       "      <td>AL</td>\n",
       "      <td>0</td>\n",
       "      <td>0</td>\n",
       "      <td>01jan2020</td>\n",
       "      <td>857.86395</td>\n",
       "    </tr>\n",
       "    <tr>\n",
       "      <th>2</th>\n",
       "      <td>1005</td>\n",
       "      <td>Barbour</td>\n",
       "      <td>AL</td>\n",
       "      <td>0</td>\n",
       "      <td>0</td>\n",
       "      <td>01jan2020</td>\n",
       "      <td>788.39636</td>\n",
       "    </tr>\n",
       "    <tr>\n",
       "      <th>3</th>\n",
       "      <td>1007</td>\n",
       "      <td>Bibb</td>\n",
       "      <td>AL</td>\n",
       "      <td>0</td>\n",
       "      <td>0</td>\n",
       "      <td>01jan2020</td>\n",
       "      <td>913.77106</td>\n",
       "    </tr>\n",
       "    <tr>\n",
       "      <th>4</th>\n",
       "      <td>1009</td>\n",
       "      <td>Blount</td>\n",
       "      <td>AL</td>\n",
       "      <td>0</td>\n",
       "      <td>0</td>\n",
       "      <td>01jan2020</td>\n",
       "      <td>956.05914</td>\n",
       "    </tr>\n",
       "    <tr>\n",
       "      <th>...</th>\n",
       "      <td>...</td>\n",
       "      <td>...</td>\n",
       "      <td>...</td>\n",
       "      <td>...</td>\n",
       "      <td>...</td>\n",
       "      <td>...</td>\n",
       "      <td>...</td>\n",
       "    </tr>\n",
       "    <tr>\n",
       "      <th>456283</th>\n",
       "      <td>56045</td>\n",
       "      <td>Weston</td>\n",
       "      <td>WY</td>\n",
       "      <td>0</td>\n",
       "      <td>0</td>\n",
       "      <td>22may2020</td>\n",
       "      <td>463.05606</td>\n",
       "    </tr>\n",
       "    <tr>\n",
       "      <th>456284</th>\n",
       "      <td>56045</td>\n",
       "      <td>Weston</td>\n",
       "      <td>WY</td>\n",
       "      <td>0</td>\n",
       "      <td>0</td>\n",
       "      <td>23may2020</td>\n",
       "      <td>335.37607</td>\n",
       "    </tr>\n",
       "    <tr>\n",
       "      <th>456285</th>\n",
       "      <td>56045</td>\n",
       "      <td>Weston</td>\n",
       "      <td>WY</td>\n",
       "      <td>0</td>\n",
       "      <td>0</td>\n",
       "      <td>24may2020</td>\n",
       "      <td>320.40112</td>\n",
       "    </tr>\n",
       "    <tr>\n",
       "      <th>456286</th>\n",
       "      <td>56045</td>\n",
       "      <td>Weston</td>\n",
       "      <td>WY</td>\n",
       "      <td>0</td>\n",
       "      <td>0</td>\n",
       "      <td>25may2020</td>\n",
       "      <td>402.71588</td>\n",
       "    </tr>\n",
       "    <tr>\n",
       "      <th>456287</th>\n",
       "      <td>56045</td>\n",
       "      <td>Weston</td>\n",
       "      <td>WY</td>\n",
       "      <td>0</td>\n",
       "      <td>0</td>\n",
       "      <td>26may2020</td>\n",
       "      <td>322.28851</td>\n",
       "    </tr>\n",
       "  </tbody>\n",
       "</table>\n",
       "<p>456288 rows × 7 columns</p>\n",
       "</div>"
      ],
      "text/plain": [
       "        geoid   county state  cases  deaths       date  dwell_time\n",
       "0        1001  Autauga    AL      0       0  01jan2020   929.95764\n",
       "1        1003  Baldwin    AL      0       0  01jan2020   857.86395\n",
       "2        1005  Barbour    AL      0       0  01jan2020   788.39636\n",
       "3        1007     Bibb    AL      0       0  01jan2020   913.77106\n",
       "4        1009   Blount    AL      0       0  01jan2020   956.05914\n",
       "...       ...      ...   ...    ...     ...        ...         ...\n",
       "456283  56045   Weston    WY      0       0  22may2020   463.05606\n",
       "456284  56045   Weston    WY      0       0  23may2020   335.37607\n",
       "456285  56045   Weston    WY      0       0  24may2020   320.40112\n",
       "456286  56045   Weston    WY      0       0  25may2020   402.71588\n",
       "456287  56045   Weston    WY      0       0  26may2020   322.28851\n",
       "\n",
       "[456288 rows x 7 columns]"
      ]
     },
     "execution_count": 22,
     "metadata": {},
     "output_type": "execute_result"
    }
   ],
   "source": [
    "from datascience import *\n",
    "import pandas as pd\n",
    "%matplotlib inline\n",
    "import matplotlib.pyplot as plt \n",
    "\n",
    "nytpd = pd.read_csv('YData_SDS177/nyt_cases_name.csv')\n",
    "nytpd"
   ]
  },
  {
   "cell_type": "markdown",
   "metadata": {},
   "source": [
    "**Pandas** is defined as an open-source library that provides high-performance data manipulation in Python. It is built on top of **NumPy**, which means Numpy is required for operating the Pandas. \n",
    "\n",
    "Before Pandas, Python was capable for data preparation, but it only provided limited support for data analysis. So, Pandas came into the picture and enhanced the capabilities of data analysis. It can perform five significant steps required for processing and analysis of data irrespective of the origin of the data, i.e., load, manipulate, prepare, model, and analyze.\n",
    "\n",
    "Here is a basic comparison between the two:\n",
    "\n",
    "\n",
    "| Comparison |\tPandas\t | NumPy | \n",
    "| --- | --- | --- |\n",
    "|Works with | tabular data | numerical data |\n",
    "| Tools | Series, DataFrame, etc. | Arrays |\n",
    "| Performance | 500K+ rows | 50K rows or less| \n",
    "| Memory | consume a lot | consume less |\n",
    "|Objects | 2d table object called DataFrame | amulti-dimensional array|"
   ]
  },
  {
   "cell_type": "markdown",
   "metadata": {},
   "source": [
    "The functions we learned under Numpy can be easily adopted here as well. You may find some of them need a little bit editing, but in a very similar way."
   ]
  },
  {
   "cell_type": "markdown",
   "metadata": {},
   "source": [
    "**Question 2.1.1** What columns do this dataset have?"
   ]
  },
  {
   "cell_type": "code",
   "execution_count": 23,
   "metadata": {
    "scrolled": true
   },
   "outputs": [
    {
     "data": {
      "text/plain": [
       "Index(['geoid', 'county', 'state', 'cases', 'deaths', 'date', 'dwell_time'], dtype='object')"
      ]
     },
     "execution_count": 23,
     "metadata": {},
     "output_type": "execute_result"
    }
   ],
   "source": [
    "nytpd.columns"
   ]
  },
  {
   "cell_type": "markdown",
   "metadata": {},
   "source": [
    "**Question 2.1.2** Let's change the \"dwell_time\" variable name to \"dwell time\". Which function did we use before? The function we need here is df.rename(columns={\"A\": \"a\"})"
   ]
  },
  {
   "cell_type": "code",
   "execution_count": 24,
   "metadata": {
    "scrolled": true
   },
   "outputs": [
    {
     "data": {
      "text/html": [
       "<div>\n",
       "<style scoped>\n",
       "    .dataframe tbody tr th:only-of-type {\n",
       "        vertical-align: middle;\n",
       "    }\n",
       "\n",
       "    .dataframe tbody tr th {\n",
       "        vertical-align: top;\n",
       "    }\n",
       "\n",
       "    .dataframe thead th {\n",
       "        text-align: right;\n",
       "    }\n",
       "</style>\n",
       "<table border=\"1\" class=\"dataframe\">\n",
       "  <thead>\n",
       "    <tr style=\"text-align: right;\">\n",
       "      <th></th>\n",
       "      <th>geoid</th>\n",
       "      <th>county</th>\n",
       "      <th>state</th>\n",
       "      <th>cases</th>\n",
       "      <th>deaths</th>\n",
       "      <th>date</th>\n",
       "      <th>dwell time</th>\n",
       "    </tr>\n",
       "  </thead>\n",
       "  <tbody>\n",
       "    <tr>\n",
       "      <th>0</th>\n",
       "      <td>1001</td>\n",
       "      <td>Autauga</td>\n",
       "      <td>AL</td>\n",
       "      <td>0</td>\n",
       "      <td>0</td>\n",
       "      <td>01jan2020</td>\n",
       "      <td>929.95764</td>\n",
       "    </tr>\n",
       "    <tr>\n",
       "      <th>1</th>\n",
       "      <td>1003</td>\n",
       "      <td>Baldwin</td>\n",
       "      <td>AL</td>\n",
       "      <td>0</td>\n",
       "      <td>0</td>\n",
       "      <td>01jan2020</td>\n",
       "      <td>857.86395</td>\n",
       "    </tr>\n",
       "    <tr>\n",
       "      <th>2</th>\n",
       "      <td>1005</td>\n",
       "      <td>Barbour</td>\n",
       "      <td>AL</td>\n",
       "      <td>0</td>\n",
       "      <td>0</td>\n",
       "      <td>01jan2020</td>\n",
       "      <td>788.39636</td>\n",
       "    </tr>\n",
       "    <tr>\n",
       "      <th>3</th>\n",
       "      <td>1007</td>\n",
       "      <td>Bibb</td>\n",
       "      <td>AL</td>\n",
       "      <td>0</td>\n",
       "      <td>0</td>\n",
       "      <td>01jan2020</td>\n",
       "      <td>913.77106</td>\n",
       "    </tr>\n",
       "    <tr>\n",
       "      <th>4</th>\n",
       "      <td>1009</td>\n",
       "      <td>Blount</td>\n",
       "      <td>AL</td>\n",
       "      <td>0</td>\n",
       "      <td>0</td>\n",
       "      <td>01jan2020</td>\n",
       "      <td>956.05914</td>\n",
       "    </tr>\n",
       "    <tr>\n",
       "      <th>...</th>\n",
       "      <td>...</td>\n",
       "      <td>...</td>\n",
       "      <td>...</td>\n",
       "      <td>...</td>\n",
       "      <td>...</td>\n",
       "      <td>...</td>\n",
       "      <td>...</td>\n",
       "    </tr>\n",
       "    <tr>\n",
       "      <th>456283</th>\n",
       "      <td>56045</td>\n",
       "      <td>Weston</td>\n",
       "      <td>WY</td>\n",
       "      <td>0</td>\n",
       "      <td>0</td>\n",
       "      <td>22may2020</td>\n",
       "      <td>463.05606</td>\n",
       "    </tr>\n",
       "    <tr>\n",
       "      <th>456284</th>\n",
       "      <td>56045</td>\n",
       "      <td>Weston</td>\n",
       "      <td>WY</td>\n",
       "      <td>0</td>\n",
       "      <td>0</td>\n",
       "      <td>23may2020</td>\n",
       "      <td>335.37607</td>\n",
       "    </tr>\n",
       "    <tr>\n",
       "      <th>456285</th>\n",
       "      <td>56045</td>\n",
       "      <td>Weston</td>\n",
       "      <td>WY</td>\n",
       "      <td>0</td>\n",
       "      <td>0</td>\n",
       "      <td>24may2020</td>\n",
       "      <td>320.40112</td>\n",
       "    </tr>\n",
       "    <tr>\n",
       "      <th>456286</th>\n",
       "      <td>56045</td>\n",
       "      <td>Weston</td>\n",
       "      <td>WY</td>\n",
       "      <td>0</td>\n",
       "      <td>0</td>\n",
       "      <td>25may2020</td>\n",
       "      <td>402.71588</td>\n",
       "    </tr>\n",
       "    <tr>\n",
       "      <th>456287</th>\n",
       "      <td>56045</td>\n",
       "      <td>Weston</td>\n",
       "      <td>WY</td>\n",
       "      <td>0</td>\n",
       "      <td>0</td>\n",
       "      <td>26may2020</td>\n",
       "      <td>322.28851</td>\n",
       "    </tr>\n",
       "  </tbody>\n",
       "</table>\n",
       "<p>456288 rows × 7 columns</p>\n",
       "</div>"
      ],
      "text/plain": [
       "        geoid   county state  cases  deaths       date  dwell time\n",
       "0        1001  Autauga    AL      0       0  01jan2020   929.95764\n",
       "1        1003  Baldwin    AL      0       0  01jan2020   857.86395\n",
       "2        1005  Barbour    AL      0       0  01jan2020   788.39636\n",
       "3        1007     Bibb    AL      0       0  01jan2020   913.77106\n",
       "4        1009   Blount    AL      0       0  01jan2020   956.05914\n",
       "...       ...      ...   ...    ...     ...        ...         ...\n",
       "456283  56045   Weston    WY      0       0  22may2020   463.05606\n",
       "456284  56045   Weston    WY      0       0  23may2020   335.37607\n",
       "456285  56045   Weston    WY      0       0  24may2020   320.40112\n",
       "456286  56045   Weston    WY      0       0  25may2020   402.71588\n",
       "456287  56045   Weston    WY      0       0  26may2020   322.28851\n",
       "\n",
       "[456288 rows x 7 columns]"
      ]
     },
     "execution_count": 24,
     "metadata": {},
     "output_type": "execute_result"
    }
   ],
   "source": [
    "nytpd=nytpd.rename(columns={\"dwell_time\":\"dwell time\"})\n",
    "nytpd"
   ]
  },
  {
   "cell_type": "markdown",
   "metadata": {},
   "source": [
    "What would happen if we simply type nytpd.rename(columns={\"dwell_time\":\"dwell time\"}) without \"nytpd=\" in front of it? You can try it below"
   ]
  },
  {
   "cell_type": "code",
   "execution_count": null,
   "metadata": {},
   "outputs": [],
   "source": [
    "# Type here\n"
   ]
  },
  {
   "cell_type": "markdown",
   "metadata": {},
   "source": [
    "## 2.2 Sorting & Grouping\n",
    "\n",
    "We use `table.sort('var')` function before to sort the array in Numpy. We need to change it to `dataframe.sort_values('var')` in pandas. \n",
    "\n",
    "**Question 2.2.1** Sort the dataset `nytpd` by `date`. What problem did you observe?"
   ]
  },
  {
   "cell_type": "code",
   "execution_count": 25,
   "metadata": {},
   "outputs": [
    {
     "data": {
      "text/html": [
       "<div>\n",
       "<style scoped>\n",
       "    .dataframe tbody tr th:only-of-type {\n",
       "        vertical-align: middle;\n",
       "    }\n",
       "\n",
       "    .dataframe tbody tr th {\n",
       "        vertical-align: top;\n",
       "    }\n",
       "\n",
       "    .dataframe thead th {\n",
       "        text-align: right;\n",
       "    }\n",
       "</style>\n",
       "<table border=\"1\" class=\"dataframe\">\n",
       "  <thead>\n",
       "    <tr style=\"text-align: right;\">\n",
       "      <th></th>\n",
       "      <th>geoid</th>\n",
       "      <th>county</th>\n",
       "      <th>state</th>\n",
       "      <th>cases</th>\n",
       "      <th>deaths</th>\n",
       "      <th>date</th>\n",
       "      <th>dwell time</th>\n",
       "    </tr>\n",
       "  </thead>\n",
       "  <tbody>\n",
       "    <tr>\n",
       "      <th>224530</th>\n",
       "      <td>29135</td>\n",
       "      <td>Moniteau</td>\n",
       "      <td>MO</td>\n",
       "      <td>2</td>\n",
       "      <td>0</td>\n",
       "      <td>01apr2020</td>\n",
       "      <td>825.66455</td>\n",
       "    </tr>\n",
       "    <tr>\n",
       "      <th>155618</th>\n",
       "      <td>21171</td>\n",
       "      <td>Monroe</td>\n",
       "      <td>KY</td>\n",
       "      <td>0</td>\n",
       "      <td>0</td>\n",
       "      <td>01apr2020</td>\n",
       "      <td>847.83801</td>\n",
       "    </tr>\n",
       "    <tr>\n",
       "      <th>220004</th>\n",
       "      <td>29073</td>\n",
       "      <td>Gasconade</td>\n",
       "      <td>MO</td>\n",
       "      <td>1</td>\n",
       "      <td>0</td>\n",
       "      <td>01apr2020</td>\n",
       "      <td>649.77307</td>\n",
       "    </tr>\n",
       "    <tr>\n",
       "      <th>415498</th>\n",
       "      <td>51079</td>\n",
       "      <td>Greene</td>\n",
       "      <td>VA</td>\n",
       "      <td>1</td>\n",
       "      <td>0</td>\n",
       "      <td>01apr2020</td>\n",
       "      <td>688.15088</td>\n",
       "    </tr>\n",
       "    <tr>\n",
       "      <th>155764</th>\n",
       "      <td>21173</td>\n",
       "      <td>Montgomery</td>\n",
       "      <td>KY</td>\n",
       "      <td>5</td>\n",
       "      <td>0</td>\n",
       "      <td>01apr2020</td>\n",
       "      <td>692.90381</td>\n",
       "    </tr>\n",
       "    <tr>\n",
       "      <th>...</th>\n",
       "      <td>...</td>\n",
       "      <td>...</td>\n",
       "      <td>...</td>\n",
       "      <td>...</td>\n",
       "      <td>...</td>\n",
       "      <td>...</td>\n",
       "      <td>...</td>\n",
       "    </tr>\n",
       "    <tr>\n",
       "      <th>446011</th>\n",
       "      <td>55049</td>\n",
       "      <td>Iowa</td>\n",
       "      <td>WI</td>\n",
       "      <td>3</td>\n",
       "      <td>0</td>\n",
       "      <td>31mar2020</td>\n",
       "      <td>743.46790</td>\n",
       "    </tr>\n",
       "    <tr>\n",
       "      <th>125541</th>\n",
       "      <td>19167</td>\n",
       "      <td>Sioux</td>\n",
       "      <td>IA</td>\n",
       "      <td>4</td>\n",
       "      <td>0</td>\n",
       "      <td>31mar2020</td>\n",
       "      <td>511.33047</td>\n",
       "    </tr>\n",
       "    <tr>\n",
       "      <th>431557</th>\n",
       "      <td>53039</td>\n",
       "      <td>Klickitat</td>\n",
       "      <td>WA</td>\n",
       "      <td>7</td>\n",
       "      <td>1</td>\n",
       "      <td>31mar2020</td>\n",
       "      <td>761.89075</td>\n",
       "    </tr>\n",
       "    <tr>\n",
       "      <th>207301</th>\n",
       "      <td>28063</td>\n",
       "      <td>Jefferson</td>\n",
       "      <td>MS</td>\n",
       "      <td>1</td>\n",
       "      <td>0</td>\n",
       "      <td>31mar2020</td>\n",
       "      <td>598.41479</td>\n",
       "    </tr>\n",
       "    <tr>\n",
       "      <th>181897</th>\n",
       "      <td>26055</td>\n",
       "      <td>Grand Traverse</td>\n",
       "      <td>MI</td>\n",
       "      <td>7</td>\n",
       "      <td>0</td>\n",
       "      <td>31mar2020</td>\n",
       "      <td>737.83319</td>\n",
       "    </tr>\n",
       "  </tbody>\n",
       "</table>\n",
       "<p>456288 rows × 7 columns</p>\n",
       "</div>"
      ],
      "text/plain": [
       "        geoid          county state  cases  deaths       date  dwell time\n",
       "224530  29135        Moniteau    MO      2       0  01apr2020   825.66455\n",
       "155618  21171          Monroe    KY      0       0  01apr2020   847.83801\n",
       "220004  29073       Gasconade    MO      1       0  01apr2020   649.77307\n",
       "415498  51079          Greene    VA      1       0  01apr2020   688.15088\n",
       "155764  21173      Montgomery    KY      5       0  01apr2020   692.90381\n",
       "...       ...             ...   ...    ...     ...        ...         ...\n",
       "446011  55049            Iowa    WI      3       0  31mar2020   743.46790\n",
       "125541  19167           Sioux    IA      4       0  31mar2020   511.33047\n",
       "431557  53039       Klickitat    WA      7       1  31mar2020   761.89075\n",
       "207301  28063       Jefferson    MS      1       0  31mar2020   598.41479\n",
       "181897  26055  Grand Traverse    MI      7       0  31mar2020   737.83319\n",
       "\n",
       "[456288 rows x 7 columns]"
      ]
     },
     "execution_count": 25,
     "metadata": {},
     "output_type": "execute_result"
    }
   ],
   "source": [
    "nytpd.sort_values('date')"
   ]
  },
  {
   "cell_type": "markdown",
   "metadata": {},
   "source": [
    "Yes, unfortunately, this dataset shares the same issue that we had before. It did not recognize `date` as a column of real dates, but treat them as strings. And it orders 01apr2020 before 01jan2020 because \"a\" is in front of \"j\".\n",
    "\n",
    "To modify the data format, there is an easy way to do it under pandas:"
   ]
  },
  {
   "cell_type": "code",
   "execution_count": 26,
   "metadata": {},
   "outputs": [],
   "source": [
    "nytpd.date = pd.to_datetime(nytpd.date)"
   ]
  },
  {
   "cell_type": "code",
   "execution_count": 27,
   "metadata": {},
   "outputs": [
    {
     "data": {
      "text/html": [
       "<div>\n",
       "<style scoped>\n",
       "    .dataframe tbody tr th:only-of-type {\n",
       "        vertical-align: middle;\n",
       "    }\n",
       "\n",
       "    .dataframe tbody tr th {\n",
       "        vertical-align: top;\n",
       "    }\n",
       "\n",
       "    .dataframe thead th {\n",
       "        text-align: right;\n",
       "    }\n",
       "</style>\n",
       "<table border=\"1\" class=\"dataframe\">\n",
       "  <thead>\n",
       "    <tr style=\"text-align: right;\">\n",
       "      <th></th>\n",
       "      <th>geoid</th>\n",
       "      <th>county</th>\n",
       "      <th>state</th>\n",
       "      <th>cases</th>\n",
       "      <th>deaths</th>\n",
       "      <th>date</th>\n",
       "      <th>dwell time</th>\n",
       "    </tr>\n",
       "  </thead>\n",
       "  <tbody>\n",
       "    <tr>\n",
       "      <th>0</th>\n",
       "      <td>1001</td>\n",
       "      <td>Autauga</td>\n",
       "      <td>AL</td>\n",
       "      <td>0</td>\n",
       "      <td>0</td>\n",
       "      <td>2020-01-01</td>\n",
       "      <td>929.95764</td>\n",
       "    </tr>\n",
       "    <tr>\n",
       "      <th>2063</th>\n",
       "      <td>39109</td>\n",
       "      <td>Miami</td>\n",
       "      <td>OH</td>\n",
       "      <td>0</td>\n",
       "      <td>0</td>\n",
       "      <td>2020-01-01</td>\n",
       "      <td>812.92145</td>\n",
       "    </tr>\n",
       "    <tr>\n",
       "      <th>2064</th>\n",
       "      <td>39111</td>\n",
       "      <td>Monroe</td>\n",
       "      <td>OH</td>\n",
       "      <td>0</td>\n",
       "      <td>0</td>\n",
       "      <td>2020-01-01</td>\n",
       "      <td>676.85876</td>\n",
       "    </tr>\n",
       "    <tr>\n",
       "      <th>2065</th>\n",
       "      <td>39113</td>\n",
       "      <td>Montgomery</td>\n",
       "      <td>OH</td>\n",
       "      <td>0</td>\n",
       "      <td>0</td>\n",
       "      <td>2020-01-01</td>\n",
       "      <td>775.34802</td>\n",
       "    </tr>\n",
       "    <tr>\n",
       "      <th>2066</th>\n",
       "      <td>39115</td>\n",
       "      <td>Morgan</td>\n",
       "      <td>OH</td>\n",
       "      <td>0</td>\n",
       "      <td>0</td>\n",
       "      <td>2020-01-01</td>\n",
       "      <td>630.37836</td>\n",
       "    </tr>\n",
       "    <tr>\n",
       "      <th>...</th>\n",
       "      <td>...</td>\n",
       "      <td>...</td>\n",
       "      <td>...</td>\n",
       "      <td>...</td>\n",
       "      <td>...</td>\n",
       "      <td>...</td>\n",
       "      <td>...</td>\n",
       "    </tr>\n",
       "    <tr>\n",
       "      <th>392485</th>\n",
       "      <td>48355</td>\n",
       "      <td>Nueces</td>\n",
       "      <td>TX</td>\n",
       "      <td>266</td>\n",
       "      <td>3</td>\n",
       "      <td>2020-05-26</td>\n",
       "      <td>585.16980</td>\n",
       "    </tr>\n",
       "    <tr>\n",
       "      <th>102091</th>\n",
       "      <td>18029</td>\n",
       "      <td>Dearborn</td>\n",
       "      <td>IN</td>\n",
       "      <td>164</td>\n",
       "      <td>21</td>\n",
       "      <td>2020-05-26</td>\n",
       "      <td>670.97052</td>\n",
       "    </tr>\n",
       "    <tr>\n",
       "      <th>285759</th>\n",
       "      <td>37159</td>\n",
       "      <td>Rowan</td>\n",
       "      <td>NC</td>\n",
       "      <td>612</td>\n",
       "      <td>32</td>\n",
       "      <td>2020-05-26</td>\n",
       "      <td>617.17706</td>\n",
       "    </tr>\n",
       "    <tr>\n",
       "      <th>286343</th>\n",
       "      <td>37167</td>\n",
       "      <td>Stanly</td>\n",
       "      <td>NC</td>\n",
       "      <td>53</td>\n",
       "      <td>4</td>\n",
       "      <td>2020-05-26</td>\n",
       "      <td>669.62256</td>\n",
       "    </tr>\n",
       "    <tr>\n",
       "      <th>456287</th>\n",
       "      <td>56045</td>\n",
       "      <td>Weston</td>\n",
       "      <td>WY</td>\n",
       "      <td>0</td>\n",
       "      <td>0</td>\n",
       "      <td>2020-05-26</td>\n",
       "      <td>322.28851</td>\n",
       "    </tr>\n",
       "  </tbody>\n",
       "</table>\n",
       "<p>456288 rows × 7 columns</p>\n",
       "</div>"
      ],
      "text/plain": [
       "        geoid      county state  cases  deaths       date  dwell time\n",
       "0        1001     Autauga    AL      0       0 2020-01-01   929.95764\n",
       "2063    39109       Miami    OH      0       0 2020-01-01   812.92145\n",
       "2064    39111      Monroe    OH      0       0 2020-01-01   676.85876\n",
       "2065    39113  Montgomery    OH      0       0 2020-01-01   775.34802\n",
       "2066    39115      Morgan    OH      0       0 2020-01-01   630.37836\n",
       "...       ...         ...   ...    ...     ...        ...         ...\n",
       "392485  48355      Nueces    TX    266       3 2020-05-26   585.16980\n",
       "102091  18029    Dearborn    IN    164      21 2020-05-26   670.97052\n",
       "285759  37159       Rowan    NC    612      32 2020-05-26   617.17706\n",
       "286343  37167      Stanly    NC     53       4 2020-05-26   669.62256\n",
       "456287  56045      Weston    WY      0       0 2020-05-26   322.28851\n",
       "\n",
       "[456288 rows x 7 columns]"
      ]
     },
     "execution_count": 27,
     "metadata": {},
     "output_type": "execute_result"
    }
   ],
   "source": [
    "nytpd.sort_values('date')"
   ]
  },
  {
   "cell_type": "markdown",
   "metadata": {},
   "source": [
    "Now, apparently, the date has a new format. But is it also recognized as date values rather than a new form of string? Let's try sorting.\n",
    "\n",
    "**Question 2.2.2** Sort the dataset again, with the latest date the first."
   ]
  },
  {
   "cell_type": "code",
   "execution_count": 28,
   "metadata": {
    "scrolled": true
   },
   "outputs": [
    {
     "data": {
      "text/html": [
       "<div>\n",
       "<style scoped>\n",
       "    .dataframe tbody tr th:only-of-type {\n",
       "        vertical-align: middle;\n",
       "    }\n",
       "\n",
       "    .dataframe tbody tr th {\n",
       "        vertical-align: top;\n",
       "    }\n",
       "\n",
       "    .dataframe thead th {\n",
       "        text-align: right;\n",
       "    }\n",
       "</style>\n",
       "<table border=\"1\" class=\"dataframe\">\n",
       "  <thead>\n",
       "    <tr style=\"text-align: right;\">\n",
       "      <th></th>\n",
       "      <th>geoid</th>\n",
       "      <th>county</th>\n",
       "      <th>state</th>\n",
       "      <th>cases</th>\n",
       "      <th>deaths</th>\n",
       "      <th>date</th>\n",
       "      <th>dwell time</th>\n",
       "    </tr>\n",
       "  </thead>\n",
       "  <tbody>\n",
       "    <tr>\n",
       "      <th>456287</th>\n",
       "      <td>56045</td>\n",
       "      <td>Weston</td>\n",
       "      <td>WY</td>\n",
       "      <td>0</td>\n",
       "      <td>0</td>\n",
       "      <td>2020-05-26</td>\n",
       "      <td>322.28851</td>\n",
       "    </tr>\n",
       "    <tr>\n",
       "      <th>381097</th>\n",
       "      <td>48199</td>\n",
       "      <td>Hardin</td>\n",
       "      <td>TX</td>\n",
       "      <td>136</td>\n",
       "      <td>5</td>\n",
       "      <td>2020-05-26</td>\n",
       "      <td>668.38464</td>\n",
       "    </tr>\n",
       "    <tr>\n",
       "      <th>295249</th>\n",
       "      <td>38089</td>\n",
       "      <td>Stark</td>\n",
       "      <td>ND</td>\n",
       "      <td>61</td>\n",
       "      <td>2</td>\n",
       "      <td>2020-05-26</td>\n",
       "      <td>495.86942</td>\n",
       "    </tr>\n",
       "    <tr>\n",
       "      <th>414531</th>\n",
       "      <td>51065</td>\n",
       "      <td>Fluvanna</td>\n",
       "      <td>VA</td>\n",
       "      <td>87</td>\n",
       "      <td>6</td>\n",
       "      <td>2020-05-26</td>\n",
       "      <td>660.36237</td>\n",
       "    </tr>\n",
       "    <tr>\n",
       "      <th>264151</th>\n",
       "      <td>35049</td>\n",
       "      <td>Santa Fe</td>\n",
       "      <td>NM</td>\n",
       "      <td>133</td>\n",
       "      <td>3</td>\n",
       "      <td>2020-05-26</td>\n",
       "      <td>550.67377</td>\n",
       "    </tr>\n",
       "    <tr>\n",
       "      <th>...</th>\n",
       "      <td>...</td>\n",
       "      <td>...</td>\n",
       "      <td>...</td>\n",
       "      <td>...</td>\n",
       "      <td>...</td>\n",
       "      <td>...</td>\n",
       "      <td>...</td>\n",
       "    </tr>\n",
       "    <tr>\n",
       "      <th>1833</th>\n",
       "      <td>36079</td>\n",
       "      <td>Putnam</td>\n",
       "      <td>NY</td>\n",
       "      <td>0</td>\n",
       "      <td>0</td>\n",
       "      <td>2020-01-01</td>\n",
       "      <td>775.17078</td>\n",
       "    </tr>\n",
       "    <tr>\n",
       "      <th>1832</th>\n",
       "      <td>36077</td>\n",
       "      <td>Otsego</td>\n",
       "      <td>NY</td>\n",
       "      <td>0</td>\n",
       "      <td>0</td>\n",
       "      <td>2020-01-01</td>\n",
       "      <td>499.69385</td>\n",
       "    </tr>\n",
       "    <tr>\n",
       "      <th>1831</th>\n",
       "      <td>36075</td>\n",
       "      <td>Oswego</td>\n",
       "      <td>NY</td>\n",
       "      <td>0</td>\n",
       "      <td>0</td>\n",
       "      <td>2020-01-01</td>\n",
       "      <td>694.85931</td>\n",
       "    </tr>\n",
       "    <tr>\n",
       "      <th>1830</th>\n",
       "      <td>36073</td>\n",
       "      <td>Orleans</td>\n",
       "      <td>NY</td>\n",
       "      <td>0</td>\n",
       "      <td>0</td>\n",
       "      <td>2020-01-01</td>\n",
       "      <td>792.41022</td>\n",
       "    </tr>\n",
       "    <tr>\n",
       "      <th>0</th>\n",
       "      <td>1001</td>\n",
       "      <td>Autauga</td>\n",
       "      <td>AL</td>\n",
       "      <td>0</td>\n",
       "      <td>0</td>\n",
       "      <td>2020-01-01</td>\n",
       "      <td>929.95764</td>\n",
       "    </tr>\n",
       "  </tbody>\n",
       "</table>\n",
       "<p>456288 rows × 7 columns</p>\n",
       "</div>"
      ],
      "text/plain": [
       "        geoid    county state  cases  deaths       date  dwell time\n",
       "456287  56045    Weston    WY      0       0 2020-05-26   322.28851\n",
       "381097  48199    Hardin    TX    136       5 2020-05-26   668.38464\n",
       "295249  38089     Stark    ND     61       2 2020-05-26   495.86942\n",
       "414531  51065  Fluvanna    VA     87       6 2020-05-26   660.36237\n",
       "264151  35049  Santa Fe    NM    133       3 2020-05-26   550.67377\n",
       "...       ...       ...   ...    ...     ...        ...         ...\n",
       "1833    36079    Putnam    NY      0       0 2020-01-01   775.17078\n",
       "1832    36077    Otsego    NY      0       0 2020-01-01   499.69385\n",
       "1831    36075    Oswego    NY      0       0 2020-01-01   694.85931\n",
       "1830    36073   Orleans    NY      0       0 2020-01-01   792.41022\n",
       "0        1001   Autauga    AL      0       0 2020-01-01   929.95764\n",
       "\n",
       "[456288 rows x 7 columns]"
      ]
     },
     "execution_count": 28,
     "metadata": {},
     "output_type": "execute_result"
    }
   ],
   "source": [
    "nytpd.sort_values('date', ascending=False)"
   ]
  },
  {
   "cell_type": "markdown",
   "metadata": {},
   "source": [
    "Note that we use `ascending = False` rather than `decending = True` in pandas. That is another different part for sorting under Numpy an pandas."
   ]
  },
  {
   "cell_type": "code",
   "execution_count": 29,
   "metadata": {},
   "outputs": [
    {
     "data": {
      "text/html": [
       "<div>\n",
       "<style scoped>\n",
       "    .dataframe tbody tr th:only-of-type {\n",
       "        vertical-align: middle;\n",
       "    }\n",
       "\n",
       "    .dataframe tbody tr th {\n",
       "        vertical-align: top;\n",
       "    }\n",
       "\n",
       "    .dataframe thead th {\n",
       "        text-align: right;\n",
       "    }\n",
       "</style>\n",
       "<table border=\"1\" class=\"dataframe\">\n",
       "  <thead>\n",
       "    <tr style=\"text-align: right;\">\n",
       "      <th></th>\n",
       "      <th>cases</th>\n",
       "      <th>deaths</th>\n",
       "      <th>dwell time</th>\n",
       "    </tr>\n",
       "    <tr>\n",
       "      <th>date</th>\n",
       "      <th></th>\n",
       "      <th></th>\n",
       "      <th></th>\n",
       "    </tr>\n",
       "  </thead>\n",
       "  <tbody>\n",
       "    <tr>\n",
       "      <th>2020-01-01</th>\n",
       "      <td>0.000000</td>\n",
       "      <td>0.000000</td>\n",
       "      <td>750.762864</td>\n",
       "    </tr>\n",
       "    <tr>\n",
       "      <th>2020-01-02</th>\n",
       "      <td>0.000000</td>\n",
       "      <td>0.000000</td>\n",
       "      <td>670.982100</td>\n",
       "    </tr>\n",
       "    <tr>\n",
       "      <th>2020-01-03</th>\n",
       "      <td>0.000000</td>\n",
       "      <td>0.000000</td>\n",
       "      <td>637.445628</td>\n",
       "    </tr>\n",
       "    <tr>\n",
       "      <th>2020-01-04</th>\n",
       "      <td>0.000000</td>\n",
       "      <td>0.000000</td>\n",
       "      <td>724.092234</td>\n",
       "    </tr>\n",
       "    <tr>\n",
       "      <th>2020-01-05</th>\n",
       "      <td>0.000000</td>\n",
       "      <td>0.000000</td>\n",
       "      <td>802.027125</td>\n",
       "    </tr>\n",
       "    <tr>\n",
       "      <th>...</th>\n",
       "      <td>...</td>\n",
       "      <td>...</td>\n",
       "      <td>...</td>\n",
       "    </tr>\n",
       "    <tr>\n",
       "      <th>2020-05-22</th>\n",
       "      <td>514.164626</td>\n",
       "      <td>30.749356</td>\n",
       "      <td>561.345162</td>\n",
       "    </tr>\n",
       "    <tr>\n",
       "      <th>2020-05-23</th>\n",
       "      <td>521.078608</td>\n",
       "      <td>31.082796</td>\n",
       "      <td>571.579801</td>\n",
       "    </tr>\n",
       "    <tr>\n",
       "      <th>2020-05-24</th>\n",
       "      <td>527.665915</td>\n",
       "      <td>31.276418</td>\n",
       "      <td>600.000597</td>\n",
       "    </tr>\n",
       "    <tr>\n",
       "      <th>2020-05-25</th>\n",
       "      <td>533.966495</td>\n",
       "      <td>31.442332</td>\n",
       "      <td>649.812901</td>\n",
       "    </tr>\n",
       "    <tr>\n",
       "      <th>2020-05-26</th>\n",
       "      <td>540.138209</td>\n",
       "      <td>31.682345</td>\n",
       "      <td>589.842752</td>\n",
       "    </tr>\n",
       "  </tbody>\n",
       "</table>\n",
       "<p>147 rows × 3 columns</p>\n",
       "</div>"
      ],
      "text/plain": [
       "                 cases     deaths  dwell time\n",
       "date                                         \n",
       "2020-01-01    0.000000   0.000000  750.762864\n",
       "2020-01-02    0.000000   0.000000  670.982100\n",
       "2020-01-03    0.000000   0.000000  637.445628\n",
       "2020-01-04    0.000000   0.000000  724.092234\n",
       "2020-01-05    0.000000   0.000000  802.027125\n",
       "...                ...        ...         ...\n",
       "2020-05-22  514.164626  30.749356  561.345162\n",
       "2020-05-23  521.078608  31.082796  571.579801\n",
       "2020-05-24  527.665915  31.276418  600.000597\n",
       "2020-05-25  533.966495  31.442332  649.812901\n",
       "2020-05-26  540.138209  31.682345  589.842752\n",
       "\n",
       "[147 rows x 3 columns]"
      ]
     },
     "execution_count": 29,
     "metadata": {},
     "output_type": "execute_result"
    }
   ],
   "source": [
    "## We group the data by date to find the case/death and the dwell time mean.\n",
    "\n",
    "## We use drop(columns = 'var') to drop a column. Here, mean of geoid is meaningless after grouping.\n",
    "\n",
    "nytpd_dategroup = nytpd.groupby(['date']).mean().drop(columns='geoid')\n",
    "nytpd_dategroup"
   ]
  },
  {
   "cell_type": "markdown",
   "metadata": {},
   "source": [
    "## 2.3 Data Ploting\n",
    "\n",
    "### 2.3.1 line plot\n",
    "\n",
    "We have seen line plotting last class (recall that we had huge numbers on the axis of date). We use the same plot function for plotting the dataframe here. \n",
    "\n",
    "We want to have \"date\" as the x-axis. However, look at the dataframe above, the date column is bold and has its variable lower than the rest variable names.\n",
    "\n",
    "This is because this dataframe is taking this column as its **index**. "
   ]
  },
  {
   "cell_type": "markdown",
   "metadata": {},
   "source": [
    "This specially column makes it a little bit more difficult to call the x-axis = date directly. Instead of using \"x=date\", we put `use_index = True` in the following plot function, which means using `index` as ticks for x axis."
   ]
  },
  {
   "cell_type": "code",
   "execution_count": 35,
   "metadata": {},
   "outputs": [
    {
     "data": {
      "text/plain": [
       "<matplotlib.axes._subplots.AxesSubplot at 0x7fa9894b8ac0>"
      ]
     },
     "execution_count": 35,
     "metadata": {},
     "output_type": "execute_result"
    },
    {
     "data": {
      "image/png": "[encoded data removed]",
      "text/plain": [
       "<Figure size 432x288 with 1 Axes>"
      ]
     },
     "metadata": {
      "needs_background": "light"
     },
     "output_type": "display_data"
    }
   ],
   "source": [
    "nytpd_dategroup.plot(y=[\"cases\",\"deaths\",\"dwell time\"],use_index = True)"
   ]
  },
  {
   "cell_type": "code",
   "execution_count": 36,
   "metadata": {},
   "outputs": [
    {
     "data": {
      "text/plain": [
       "<matplotlib.axes._subplots.AxesSubplot at 0x7fa98155e070>"
      ]
     },
     "execution_count": 36,
     "metadata": {},
     "output_type": "execute_result"
    },
    {
     "data": {
      "image/png": "[encoded data removed]",
      "text/plain": [
       "<Figure size 432x288 with 1 Axes>"
      ]
     },
     "metadata": {
      "needs_background": "light"
     },
     "output_type": "display_data"
    }
   ],
   "source": [
    "## We add the title of the figure\n",
    "\n",
    "nytpd_dategroup.plot(y=[\"cases\",\"deaths\",\"dwell time\"],\n",
    "                     use_index = True,\n",
    "                    title = \"Case and Death Report V.S. Home Dwelling Time\")"
   ]
  },
  {
   "cell_type": "markdown",
   "metadata": {},
   "source": [
    "### 2.3.2  box plot\n",
    "\n",
    "In descriptive statistics, a box plot or boxplot is a method for graphically depicting groups of numerical data through their quartiles. Box plots may also have lines extending from the boxes (whiskers) indicating variability outside the upper and lower quartiles, hence the terms box-and-whisker plot and box-and-whisker diagram. Outliers may be plotted as individual points. Box plots are non-parametric: they display variation in samples of a statistical population without making any assumptions of the underlying statistical distribution (though Tukey's boxplot assumes symmetry for the whiskers and normality for their length). "
   ]
  },
  {
   "cell_type": "code",
   "execution_count": 39,
   "metadata": {},
   "outputs": [
    {
     "data": {
      "text/plain": [
       "<matplotlib.axes._subplots.AxesSubplot at 0x7fa97f0d9f40>"
      ]
     },
     "execution_count": 39,
     "metadata": {},
     "output_type": "execute_result"
    },
    {
     "data": {
      "image/png": "[encoded data removed]",
      "text/plain": [
       "<Figure size 432x288 with 1 Axes>"
      ]
     },
     "metadata": {
      "needs_background": "light"
     },
     "output_type": "display_data"
    }
   ],
   "source": [
    "nytpd_dategroup.boxplot(column=[\"cases\",\"deaths\",\"dwell time\"])"
   ]
  },
  {
   "cell_type": "markdown",
   "metadata": {},
   "source": [
    "# 3. Correlation and Causality\n",
    "\n",
    "Correlation tests for a relationship between two variables,say case numbers in a day and the average home dwelling time. However, seeing two variables moving together or oppositely does not necessarily mean we know whether one variable causes the other to occur. This is why we commonly say “correlation does not imply causation.”\n",
    "\n",
    "A strong correlation might indicate causality, but there could easily be other explanations:\n",
    "\n",
    "* It may be the result of random chance, where the variables appear to be related, but there is no true underlying relationship.\n",
    "* There may be a third variable that that makes the relationship appear stronger (or weaker) than it actually is.\n",
    "\n",
    "**Question 3.1** Give three examples that may influence a county's average home dwelling time that are not case numbers or death numbers."
   ]
  },
  {
   "cell_type": "markdown",
   "metadata": {},
   "source": [
    "In pandas, we can easily type `df.corr()` to find all the correlation across numerical variables. What are the numerical variables? Are they all meaningful?"
   ]
  },
  {
   "cell_type": "code",
   "execution_count": 41,
   "metadata": {},
   "outputs": [
    {
     "data": {
      "text/html": [
       "<div>\n",
       "<style scoped>\n",
       "    .dataframe tbody tr th:only-of-type {\n",
       "        vertical-align: middle;\n",
       "    }\n",
       "\n",
       "    .dataframe tbody tr th {\n",
       "        vertical-align: top;\n",
       "    }\n",
       "\n",
       "    .dataframe thead th {\n",
       "        text-align: right;\n",
       "    }\n",
       "</style>\n",
       "<table border=\"1\" class=\"dataframe\">\n",
       "  <thead>\n",
       "    <tr style=\"text-align: right;\">\n",
       "      <th></th>\n",
       "      <th>geoid</th>\n",
       "      <th>cases</th>\n",
       "      <th>deaths</th>\n",
       "      <th>dwell time</th>\n",
       "    </tr>\n",
       "  </thead>\n",
       "  <tbody>\n",
       "    <tr>\n",
       "      <th>geoid</th>\n",
       "      <td>1.000000</td>\n",
       "      <td>-0.005185</td>\n",
       "      <td>-0.002083</td>\n",
       "      <td>-0.092622</td>\n",
       "    </tr>\n",
       "    <tr>\n",
       "      <th>cases</th>\n",
       "      <td>-0.005185</td>\n",
       "      <td>1.000000</td>\n",
       "      <td>0.962844</td>\n",
       "      <td>0.069333</td>\n",
       "    </tr>\n",
       "    <tr>\n",
       "      <th>deaths</th>\n",
       "      <td>-0.002083</td>\n",
       "      <td>0.962844</td>\n",
       "      <td>1.000000</td>\n",
       "      <td>0.038436</td>\n",
       "    </tr>\n",
       "    <tr>\n",
       "      <th>dwell time</th>\n",
       "      <td>-0.092622</td>\n",
       "      <td>0.069333</td>\n",
       "      <td>0.038436</td>\n",
       "      <td>1.000000</td>\n",
       "    </tr>\n",
       "  </tbody>\n",
       "</table>\n",
       "</div>"
      ],
      "text/plain": [
       "               geoid     cases    deaths  dwell time\n",
       "geoid       1.000000 -0.005185 -0.002083   -0.092622\n",
       "cases      -0.005185  1.000000  0.962844    0.069333\n",
       "deaths     -0.002083  0.962844  1.000000    0.038436\n",
       "dwell time -0.092622  0.069333  0.038436    1.000000"
      ]
     },
     "execution_count": 41,
     "metadata": {},
     "output_type": "execute_result"
    }
   ],
   "source": [
    "nytpd.corr()"
   ]
  },
  {
   "cell_type": "markdown",
   "metadata": {},
   "source": [
    "Apparently, geoid is recognized as numbers, but its correlation to other variables are meaningless. \n",
    "\n",
    "What can we say about a positive correlation between cases and dwell time?\n",
    "\n",
    "* higher cases lead to more stay-in time?\n",
    "* higher stay-in time leads to higher cases?\n",
    "* Other factors influencing both?\n",
    "* What else?"
   ]
  },
  {
   "cell_type": "markdown",
   "metadata": {},
   "source": [
    "**Question 3.2** Find the correlation between variables in `nytpd_dategroup` dataset. Do you observe a higher or a lower correlation? Why do you think that you may observe a higher or lower correlation here?"
   ]
  },
  {
   "cell_type": "code",
   "execution_count": 43,
   "metadata": {},
   "outputs": [
    {
     "data": {
      "text/html": [
       "<div>\n",
       "<style scoped>\n",
       "    .dataframe tbody tr th:only-of-type {\n",
       "        vertical-align: middle;\n",
       "    }\n",
       "\n",
       "    .dataframe tbody tr th {\n",
       "        vertical-align: top;\n",
       "    }\n",
       "\n",
       "    .dataframe thead th {\n",
       "        text-align: right;\n",
       "    }\n",
       "</style>\n",
       "<table border=\"1\" class=\"dataframe\">\n",
       "  <thead>\n",
       "    <tr style=\"text-align: right;\">\n",
       "      <th></th>\n",
       "      <th>cases</th>\n",
       "      <th>deaths</th>\n",
       "      <th>dwell time</th>\n",
       "    </tr>\n",
       "  </thead>\n",
       "  <tbody>\n",
       "    <tr>\n",
       "      <th>cases</th>\n",
       "      <td>1.000000</td>\n",
       "      <td>0.996325</td>\n",
       "      <td>0.320942</td>\n",
       "    </tr>\n",
       "    <tr>\n",
       "      <th>deaths</th>\n",
       "      <td>0.996325</td>\n",
       "      <td>1.000000</td>\n",
       "      <td>0.271765</td>\n",
       "    </tr>\n",
       "    <tr>\n",
       "      <th>dwell time</th>\n",
       "      <td>0.320942</td>\n",
       "      <td>0.271765</td>\n",
       "      <td>1.000000</td>\n",
       "    </tr>\n",
       "  </tbody>\n",
       "</table>\n",
       "</div>"
      ],
      "text/plain": [
       "               cases    deaths  dwell time\n",
       "cases       1.000000  0.996325    0.320942\n",
       "deaths      0.996325  1.000000    0.271765\n",
       "dwell time  0.320942  0.271765    1.000000"
      ]
     },
     "execution_count": 43,
     "metadata": {},
     "output_type": "execute_result"
    }
   ],
   "source": [
    "nytpd_dategroup.corr()"
   ]
  }
 ],
 "metadata": {
  "kernelspec": {
   "display_name": "Python 3",
   "language": "python",
   "name": "python3"
  },
  "language_info": {
   "codemirror_mode": {
    "name": "ipython",
    "version": 3
   },
   "file_extension": ".py",
   "mimetype": "text/x-python",
   "name": "python",
   "nbconvert_exporter": "python",
   "pygments_lexer": "ipython3",
   "version": "3.8.3"
  }
 },
 "nbformat": 4,
 "nbformat_minor": 4
}
