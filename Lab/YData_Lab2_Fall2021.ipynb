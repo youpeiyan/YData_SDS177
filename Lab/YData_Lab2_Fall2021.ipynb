{
 "cells": [
  {
   "cell_type": "markdown",
   "metadata": {},
   "source": [
    "# Behavioral Lab 2\n",
    "\n",
    "Welcome to our second lab! \n",
    "\n",
    "Last week, we discussed some background related to the COVID-19 pandemic and saw some datasets. \n",
    "\n",
    "### Today's lab (Please go through the Lecture Notes first)\n",
    "\n",
    "* Differential Equations\n",
    "* S-I-R Model"
   ]
  },
  {
   "cell_type": "markdown",
   "metadata": {},
   "source": [
    "# 1 Recall SIR Model\n",
    "\n",
    "Remember, Python code in one moduel gains access to the code in another module by the process of importing it.\n",
    "\n",
    "```python\n",
    "import numpy as np\n",
    "import pandas as pd\n",
    "```"
   ]
  },
  {
   "cell_type": "code",
   "execution_count": 1,
   "metadata": {},
   "outputs": [],
   "source": [
    "import numpy as np\n",
    "import pandas as pd\n",
    "\n",
    "from scipy.integrate import odeint\n",
    "import matplotlib.pyplot as plt"
   ]
  },
  {
   "cell_type": "markdown",
   "metadata": {},
   "source": [
    "Recall in the SIR model, we have the effective contact rate and the recovery rate:\n",
    "\n",
    "$effective\\_contact\\_rate = risk\\_of\\_infection \\cdot contact\\_rate$\n",
    "\n",
    "$recovery\\_rate = 1/days$\n",
    "\n",
    "If an infected person meet 2 people per day, 100% rate of infection, what's the effective contact rate? And if the person takes 6 days to recover, the recovery rate is 1/6.\n",
    "\n",
    "R0: the basic reproductive rate. R0 = effective contact rate/recover rate = 12.\n",
    "\n",
    "Note: R0 > 1, the disease will spread. R0 < 1, the disease will die out.\n",
    "\n",
    "Recall the differential equations.  In python, we usually put our introduced models (SIR model) into a function, and later we call it."
   ]
  },
  {
   "cell_type": "markdown",
   "metadata": {},
   "source": [
    "# 2. Function\n",
    "\n",
    "A function is a block of code which only runs when it is called. In Python a function is defined using the `def` keyword."
   ]
  },
  {
   "cell_type": "code",
   "execution_count": 2,
   "metadata": {},
   "outputs": [],
   "source": [
    "def my_function():\n",
    "    print(\"Hello from a function\")"
   ]
  },
  {
   "cell_type": "markdown",
   "metadata": {},
   "source": [
    "When we call it, just type:"
   ]
  },
  {
   "cell_type": "code",
   "execution_count": 3,
   "metadata": {
    "scrolled": true
   },
   "outputs": [
    {
     "name": "stdout",
     "output_type": "stream",
     "text": [
      "Hello from a function\n"
     ]
    }
   ],
   "source": [
    "my_function()"
   ]
  },
  {
   "cell_type": "markdown",
   "metadata": {},
   "source": [
    "We can also add argument in the function. Arguments are specified after the function name, inside the parentheses. You can add as many arguments as you want, just separate them with a comma."
   ]
  },
  {
   "cell_type": "code",
   "execution_count": 4,
   "metadata": {},
   "outputs": [],
   "source": [
    "def my_function(x):\n",
    "    return 5*x"
   ]
  },
  {
   "cell_type": "markdown",
   "metadata": {},
   "source": [
    "When we call it, we can put certain value for `x` in the above function:"
   ]
  },
  {
   "cell_type": "code",
   "execution_count": 5,
   "metadata": {},
   "outputs": [
    {
     "name": "stdout",
     "output_type": "stream",
     "text": [
      "15\n"
     ]
    }
   ],
   "source": [
    "print(my_function(3))"
   ]
  },
  {
   "cell_type": "markdown",
   "metadata": {},
   "source": [
    "x is the argument of the function. Arguments are specified after the function's name, inside the parentheses. You can add more than 1 argument, just separate them with a comma.\n",
    "\n",
    "To let a function return a value, use the `return` statement."
   ]
  },
  {
   "cell_type": "code",
   "execution_count": 6,
   "metadata": {},
   "outputs": [],
   "source": [
    "def model(y,t):\n",
    "    k = 0.3\n",
    "    dydt = -y * k\n",
    "    return dydt"
   ]
  },
  {
   "cell_type": "code",
   "execution_count": 7,
   "metadata": {},
   "outputs": [],
   "source": [
    "y0 = 5\n",
    "t = np.linspace(0,20)"
   ]
  },
  {
   "cell_type": "markdown",
   "metadata": {},
   "source": [
    "## 2.1. `odeint`\n",
    "\n",
    "Recall the `odeint` function we reviewed in class, it contains three arguments, model, initial stages, time:"
   ]
  },
  {
   "cell_type": "code",
   "execution_count": 8,
   "metadata": {},
   "outputs": [],
   "source": [
    "y = odeint(model, y0, t)"
   ]
  },
  {
   "cell_type": "code",
   "execution_count": 11,
   "metadata": {},
   "outputs": [],
   "source": [
    "# y"
   ]
  },
  {
   "cell_type": "code",
   "execution_count": 12,
   "metadata": {},
   "outputs": [
    {
     "data": {
      "image/png": "[encoded data removed]",
      "text/plain": [
       "<Figure size 432x288 with 1 Axes>"
      ]
     },
     "metadata": {
      "needs_background": "light"
     },
     "output_type": "display_data"
    }
   ],
   "source": [
    "# plot results\n",
    "\n",
    "plt.plot(t,y)\n",
    "plt.xlabel('time')\n",
    "plt.ylabel('y(t)')\n",
    "plt.show()"
   ]
  },
  {
   "cell_type": "markdown",
   "metadata": {},
   "source": [
    "We can complicate the model with additional arguments:"
   ]
  },
  {
   "cell_type": "code",
   "execution_count": 13,
   "metadata": {},
   "outputs": [
    {
     "data": {
      "image/png": "[encoded data removed]",
      "text/plain": [
       "<Figure size 432x288 with 1 Axes>"
      ]
     },
     "metadata": {
      "needs_background": "light"
     },
     "output_type": "display_data"
    }
   ],
   "source": [
    "def model(y,t,k):\n",
    "    dydt = -k * y\n",
    "    return dydt\n",
    "\n",
    "y0 = 5\n",
    "t = np.linspace(0,20)\n",
    "\n",
    "k= 0.1\n",
    "y1 = odeint(model,y0,t,args=(k,))\n",
    "k= 0.2\n",
    "y2 = odeint(model,y0,t,args=(k,))\n",
    "k= 0.5\n",
    "y3 = odeint(model,y0,t,args=(k,))\n",
    "\n",
    "plt.plot(t, y1, 'r-', linewidth= 2, label = 'k = 0.1')\n",
    "plt.plot(t, y2, 'b--', linewidth= 2, label = 'k = 0.2')\n",
    "plt.plot(t, y3, 'g:', linewidth= 2, label = 'k = 0.5')\n",
    "plt.xlabel('time')\n",
    "plt.ylabel('y(t)')\n",
    "plt.legend()\n",
    "plt.show()"
   ]
  },
  {
   "cell_type": "markdown",
   "metadata": {},
   "source": [
    "args is the optional inputs in `odeint`. It allows additional information to be passed into the model function, but is a tuple sequence of value. \n",
    "Tuples are used to store multiple items, so we must have to add a comma after the item if we only have one in it. `args=(k,)`.\n",
    "\n",
    "# 3 SIR Model"
   ]
  },
  {
   "cell_type": "code",
   "execution_count": 14,
   "metadata": {},
   "outputs": [],
   "source": [
    "def deriv(y,t,N,beta,gamma):\n",
    "    S,I,R = y\n",
    "    dSdt = -beta * S * I / N\n",
    "    dIdt = beta * S * I / N - gamma * I\n",
    "    dRdt = gamma * I\n",
    "    return dSdt, dIdt, dRdt"
   ]
  },
  {
   "cell_type": "code",
   "execution_count": 15,
   "metadata": {},
   "outputs": [],
   "source": [
    "effective_contact_rate = 0.2 # from 0.5\n",
    "recovery_rate = 0.1\n",
    "pop = 2000\n",
    "\n",
    "recovered = 0\n",
    "infected = 1\n",
    "susceptible = pop - recovered - infected \n",
    "\n",
    "t= range(0,200)"
   ]
  },
  {
   "cell_type": "code",
   "execution_count": 16,
   "metadata": {},
   "outputs": [],
   "source": [
    "covid_model = odeint(deriv,\n",
    "                    [susceptible, infected, recovered],\n",
    "                    t,\n",
    "                    args=(pop, effective_contact_rate, recovery_rate))"
   ]
  },
  {
   "cell_type": "code",
   "execution_count": 17,
   "metadata": {},
   "outputs": [],
   "source": [
    "S,I,R =covid_model.T"
   ]
  },
  {
   "cell_type": "markdown",
   "metadata": {},
   "source": [
    "Note that `T` here is for transposing. "
   ]
  },
  {
   "cell_type": "code",
   "execution_count": 18,
   "metadata": {},
   "outputs": [
    {
     "data": {
      "text/plain": [
       "array([1.999e+03, 1.000e+00, 0.000e+00])"
      ]
     },
     "execution_count": 18,
     "metadata": {},
     "output_type": "execute_result"
    }
   ],
   "source": [
    "covid_model[0,:] # Check the first row of covid_model"
   ]
  },
  {
   "cell_type": "code",
   "execution_count": 19,
   "metadata": {},
   "outputs": [
    {
     "data": {
      "text/plain": [
       "array([[1.99900000e+03, 1.99878979e+03, 1.99855752e+03, 1.99830089e+03,\n",
       "        1.99801736e+03, 1.99770412e+03, 1.99735807e+03, 1.99697580e+03,\n",
       "        1.99655353e+03, 1.99608713e+03, 1.99557199e+03, 1.99500309e+03,\n",
       "        1.99437486e+03, 1.99368118e+03, 1.99291532e+03, 1.99206984e+03,\n",
       "        1.99113661e+03, 1.99010665e+03, 1.98897011e+03, 1.98771619e+03,\n",
       "        1.98633301e+03, 1.98480756e+03, 1.98312561e+03, 1.98127157e+03,\n",
       "        1.97922838e+03, 1.97697744e+03, 1.97449846e+03, 1.97176937e+03,\n",
       "        1.96876613e+03, 1.96546271e+03, 1.96183088e+03, 1.95784017e+03,\n",
       "        1.95345771e+03, 1.94864821e+03, 1.94337381e+03, 1.93759413e+03,\n",
       "        1.93126620e+03, 1.92434451e+03, 1.91678113e+03, 1.90852581e+03,\n",
       "        1.89952624e+03, 1.88972835e+03, 1.87907672e+03, 1.86751507e+03,\n",
       "        1.85498694e+03, 1.84143640e+03, 1.82680897e+03, 1.81105266e+03,\n",
       "        1.79411909e+03, 1.77596481e+03, 1.75655264e+03, 1.73585311e+03,\n",
       "        1.71384598e+03, 1.69052166e+03, 1.66588260e+03, 1.63994458e+03,\n",
       "        1.61273768e+03, 1.58430715e+03, 1.55471376e+03, 1.52403385e+03,\n",
       "        1.49235895e+03, 1.45979488e+03, 1.42646045e+03, 1.39248566e+03,\n",
       "        1.35800957e+03, 1.32317785e+03, 1.28814007e+03, 1.25304697e+03,\n",
       "        1.21804763e+03, 1.18328684e+03, 1.14890265e+03, 1.11502422e+03,\n",
       "        1.08177008e+03, 1.04924671e+03, 1.01754762e+03, 9.86752814e+02,\n",
       "        9.56928664e+02, 9.28128080e+02, 9.00391041e+02, 8.73745338e+02,\n",
       "        8.48207490e+02, 8.23783806e+02, 8.00471509e+02, 7.78259879e+02,\n",
       "        7.57131407e+02, 7.37062885e+02, 7.18026447e+02, 6.99990523e+02,\n",
       "        6.82920710e+02, 6.66780537e+02, 6.51532151e+02, 6.37136897e+02,\n",
       "        6.23555818e+02, 6.10750071e+02, 5.98681274e+02, 5.87311778e+02,\n",
       "        5.76604891e+02, 5.66525043e+02, 5.57037914e+02, 5.48110518e+02,\n",
       "        5.39711263e+02, 5.31809979e+02, 5.24377931e+02, 5.17387808e+02,\n",
       "        5.10813701e+02, 5.04631077e+02, 4.98816734e+02, 4.93348759e+02,\n",
       "        4.88206473e+02, 4.83370386e+02, 4.78822137e+02, 4.74544441e+02,\n",
       "        4.70521038e+02, 4.66736633e+02, 4.63176850e+02, 4.59828176e+02,\n",
       "        4.56677917e+02, 4.53714146e+02, 4.50925661e+02, 4.48301940e+02,\n",
       "        4.45833104e+02, 4.43509872e+02, 4.41323533e+02, 4.39265901e+02,\n",
       "        4.37329293e+02, 4.35506490e+02, 4.33790715e+02, 4.32175598e+02,\n",
       "        4.30655159e+02, 4.29223780e+02, 4.27876179e+02, 4.26607397e+02,\n",
       "        4.25412772e+02, 4.24287922e+02, 4.23228732e+02, 4.22231329e+02,\n",
       "        4.21292075e+02, 4.20407550e+02, 4.19574536e+02, 4.18790009e+02,\n",
       "        4.18051124e+02, 4.17355206e+02, 4.16699738e+02, 4.16082353e+02,\n",
       "        4.15500824e+02, 4.14953056e+02, 4.14437077e+02, 4.13951031e+02,\n",
       "        4.13493174e+02, 4.13061862e+02, 4.12655549e+02, 4.12272778e+02,\n",
       "        4.11912182e+02, 4.11572468e+02, 4.11252424e+02, 4.10950907e+02,\n",
       "        4.10666840e+02, 4.10399209e+02, 4.10147062e+02, 4.09909500e+02,\n",
       "        4.09685676e+02, 4.09474794e+02, 4.09276104e+02, 4.09088899e+02,\n",
       "        4.08912515e+02, 4.08746324e+02, 4.08589735e+02, 4.08442195e+02,\n",
       "        4.08303177e+02, 4.08172190e+02, 4.08048768e+02, 4.07932475e+02,\n",
       "        4.07822897e+02, 4.07719647e+02, 4.07622359e+02, 4.07530687e+02,\n",
       "        4.07444308e+02, 4.07362916e+02, 4.07286222e+02, 4.07213954e+02,\n",
       "        4.07145858e+02, 4.07081692e+02, 4.07021229e+02, 4.06964256e+02,\n",
       "        4.06910570e+02, 4.06859982e+02, 4.06812313e+02, 4.06767395e+02,\n",
       "        4.06725069e+02, 4.06685184e+02, 4.06647601e+02, 4.06612186e+02,\n",
       "        4.06578814e+02, 4.06547368e+02, 4.06517736e+02, 4.06489813e+02,\n",
       "        4.06463501e+02, 4.06438706e+02, 4.06415342e+02, 4.06393326e+02],\n",
       "       [1.00000000e+00, 1.10504898e+00, 1.22110626e+00, 1.34931945e+00,\n",
       "        1.49095447e+00, 1.64740749e+00, 1.82021793e+00, 2.01108277e+00,\n",
       "        2.22187197e+00, 2.45464584e+00, 2.71167324e+00, 2.99545188e+00,\n",
       "        3.30873029e+00, 3.65453146e+00, 4.03617858e+00, 4.45732274e+00,\n",
       "        4.92197265e+00, 5.43452654e+00, 5.99980622e+00, 6.62309321e+00,\n",
       "        7.31016687e+00, 8.06734450e+00, 8.90152308e+00, 9.82022223e+00,\n",
       "        1.08316283e+01, 1.19446383e+01, 1.31689038e+01, 1.45148730e+01,\n",
       "        1.59938297e+01, 1.76179286e+01, 1.94002235e+01, 2.13546872e+01,\n",
       "        2.34962198e+01, 2.58406426e+01, 2.84046732e+01, 3.12058773e+01,\n",
       "        3.42625943e+01, 3.75938278e+01, 4.12190987e+01, 4.51582519e+01,\n",
       "        4.94312120e+01, 5.40576814e+01, 5.90567737e+01, 6.44465793e+01,\n",
       "        7.02436590e+01, 7.64624643e+01, 8.31146871e+01, 9.02085425e+01,\n",
       "        9.77479987e+01, 1.05731966e+02, 1.14153469e+02, 1.22998835e+02,\n",
       "        1.32246923e+02, 1.41868444e+02, 1.51825420e+02, 1.62070819e+02,\n",
       "        1.72548425e+02, 1.83192980e+02, 1.93930641e+02, 2.04679766e+02,\n",
       "        2.15352053e+02, 2.25853998e+02, 2.36088662e+02, 2.45957681e+02,\n",
       "        2.55363451e+02, 2.64211401e+02, 2.72412245e+02, 2.79884135e+02,\n",
       "        2.86554588e+02, 2.92362130e+02, 2.97257566e+02, 3.01204854e+02,\n",
       "        3.04181531e+02, 3.06178727e+02, 3.07200769e+02, 3.07264424e+02,\n",
       "        3.06397854e+02, 3.04639329e+02, 3.02035785e+02, 2.98641285e+02,\n",
       "        2.94515462e+02, 2.89721983e+02, 2.84327095e+02, 2.78398288e+02,\n",
       "        2.72003085e+02, 2.65207993e+02, 2.58077620e+02, 2.50673938e+02,\n",
       "        2.43055717e+02, 2.35278091e+02, 2.27392260e+02, 2.19445311e+02,\n",
       "        2.11480134e+02, 2.03535423e+02, 1.95645754e+02, 1.87841707e+02,\n",
       "        1.80150045e+02, 1.72593912e+02, 1.65193060e+02, 1.57964092e+02,\n",
       "        1.50920704e+02, 1.44073933e+02, 1.37432405e+02, 1.31002566e+02,\n",
       "        1.24788914e+02, 1.18794213e+02, 1.13019696e+02, 1.07465255e+02,\n",
       "        1.02129612e+02, 9.70104868e+01, 9.21047379e+01, 8.74084996e+01,\n",
       "        8.29173018e+01, 7.86261782e+01, 7.45297638e+01, 7.06223810e+01,\n",
       "        6.68981160e+01, 6.33508866e+01, 5.99745003e+01, 5.67627060e+01,\n",
       "        5.37092385e+01, 5.08078565e+01, 4.80523750e+01, 4.54366930e+01,\n",
       "        4.29548161e+01, 4.06008761e+01, 3.83691458e+01, 3.62540516e+01,\n",
       "        3.42501833e+01, 3.23523009e+01, 3.05553400e+01, 2.88544148e+01,\n",
       "        2.72448201e+01, 2.57220316e+01, 2.42817051e+01, 2.29196746e+01,\n",
       "        2.16319501e+01, 2.04147144e+01, 1.92643189e+01, 1.81772799e+01,\n",
       "        1.71502739e+01, 1.61801327e+01, 1.52638385e+01, 1.43985187e+01,\n",
       "        1.35814406e+01, 1.28100065e+01, 1.20817479e+01, 1.13943206e+01,\n",
       "        1.07454995e+01, 1.01331736e+01, 9.55534061e+00, 9.01010252e+00,\n",
       "        8.49566063e+00, 8.01031098e+00, 7.55243986e+00, 7.12051951e+00,\n",
       "        6.71310399e+00, 6.32882506e+00, 5.96638845e+00, 5.62457002e+00,\n",
       "        5.30221232e+00, 4.99822112e+00, 4.71156215e+00, 4.44125803e+00,\n",
       "        4.18638528e+00, 3.94607147e+00, 3.71949254e+00, 3.50587022e+00,\n",
       "        3.30446958e+00, 3.11459670e+00, 2.93559647e+00, 2.76685049e+00,\n",
       "        2.60777503e+00, 2.45781921e+00, 2.31646313e+00, 2.18321621e+00,\n",
       "        2.05761557e+00, 1.93922449e+00, 1.82763095e+00, 1.72244629e+00,\n",
       "        1.62330388e+00, 1.52985789e+00, 1.44178217e+00, 1.35876910e+00,\n",
       "        1.28052856e+00, 1.20678698e+00, 1.13728635e+00, 1.07178340e+00,\n",
       "        1.01004875e+00, 9.51866102e-01, 8.97031516e-01, 8.45352729e-01,\n",
       "        7.96648466e-01, 7.50747821e-01, 7.07489683e-01, 6.66722166e-01,\n",
       "        6.28302080e-01, 5.92094453e-01, 5.57972048e-01, 5.25814922e-01],\n",
       "       [0.00000000e+00, 1.05165196e-01, 2.21376613e-01, 3.49791517e-01,\n",
       "        4.91687755e-01, 6.48476187e-01, 8.21714335e-01, 1.01312145e+00,\n",
       "        1.22459484e+00, 1.45822841e+00, 1.71633221e+00, 2.00145449e+00,\n",
       "        2.31640562e+00, 2.66428432e+00, 3.04850641e+00, 3.47283622e+00,\n",
       "        3.94142075e+00, 4.45882710e+00, 5.03008310e+00, 5.66072140e+00,\n",
       "        6.35682739e+00, 7.12509095e+00, 7.97286232e+00, 8.90821220e+00,\n",
       "        9.93999623e+00, 1.10779238e+01, 1.23326315e+01, 1.37157604e+01,\n",
       "        1.52400380e+01, 1.69193634e+01, 1.87688959e+01, 2.08051460e+01,\n",
       "        2.30460678e+01, 2.55111518e+01, 2.82215155e+01, 3.11999911e+01,\n",
       "        3.44712070e+01, 3.80616596e+01, 4.19997730e+01, 4.63159415e+01,\n",
       "        5.10425499e+01, 5.62139674e+01, 6.18665074e+01, 6.80383470e+01,\n",
       "        7.47694005e+01, 8.21011383e+01, 9.00763435e+01, 9.87388007e+01,\n",
       "        1.08132910e+02, 1.18303223e+02, 1.29293895e+02, 1.41148054e+02,\n",
       "        1.53907096e+02, 1.67609897e+02, 1.82291977e+02, 1.97984606e+02,\n",
       "        2.14713892e+02, 2.32499866e+02, 2.51355601e+02, 2.71286384e+02,\n",
       "        2.92288998e+02, 3.14351120e+02, 3.37450889e+02, 3.61556663e+02,\n",
       "        3.86626980e+02, 4.12610753e+02, 4.39447681e+02, 4.67068892e+02,\n",
       "        4.95397780e+02, 5.24351031e+02, 5.53839788e+02, 5.83770924e+02,\n",
       "        6.14048389e+02, 6.44574566e+02, 6.75251616e+02, 7.05982762e+02,\n",
       "        7.36673483e+02, 7.67232591e+02, 7.97573173e+02, 8.27613377e+02,\n",
       "        8.57277048e+02, 8.86494211e+02, 9.15201396e+02, 9.43341832e+02,\n",
       "        9.70865508e+02, 9.97729122e+02, 1.02389593e+03, 1.04933554e+03,\n",
       "        1.07402357e+03, 1.09794137e+03, 1.12107559e+03, 1.14341779e+03,\n",
       "        1.16496405e+03, 1.18571451e+03, 1.20567297e+03, 1.22484651e+03,\n",
       "        1.24324506e+03, 1.26088105e+03, 1.27776903e+03, 1.29392539e+03,\n",
       "        1.30936803e+03, 1.32411609e+03, 1.33818966e+03, 1.35160963e+03,\n",
       "        1.36439739e+03, 1.37657471e+03, 1.38816357e+03, 1.39918599e+03,\n",
       "        1.40966391e+03, 1.41961913e+03, 1.42907313e+03, 1.43804706e+03,\n",
       "        1.44656166e+03, 1.45463719e+03, 1.46229339e+03, 1.46954944e+03,\n",
       "        1.47642397e+03, 1.48293497e+03, 1.48909984e+03, 1.49493535e+03,\n",
       "        1.50045766e+03, 1.50568227e+03, 1.51062409e+03, 1.51529741e+03,\n",
       "        1.51971589e+03, 1.52389263e+03, 1.52784014e+03, 1.53157035e+03,\n",
       "        1.53509466e+03, 1.53842392e+03, 1.54156848e+03, 1.54453819e+03,\n",
       "        1.54734241e+03, 1.54999005e+03, 1.55248956e+03, 1.55484900e+03,\n",
       "        1.55707597e+03, 1.55917774e+03, 1.56116115e+03, 1.56303271e+03,\n",
       "        1.56479860e+03, 1.56646466e+03, 1.56803642e+03, 1.56951913e+03,\n",
       "        1.57091774e+03, 1.57223694e+03, 1.57348118e+03, 1.57465465e+03,\n",
       "        1.57576133e+03, 1.57680496e+03, 1.57778911e+03, 1.57871712e+03,\n",
       "        1.57959216e+03, 1.58041722e+03, 1.58119514e+03, 1.58192857e+03,\n",
       "        1.58262006e+03, 1.58327197e+03, 1.58388655e+03, 1.58446593e+03,\n",
       "        1.58501211e+03, 1.58552699e+03, 1.58601233e+03, 1.58646984e+03,\n",
       "        1.58690110e+03, 1.58730760e+03, 1.58769077e+03, 1.58805194e+03,\n",
       "        1.58839235e+03, 1.58871321e+03, 1.58901564e+03, 1.58930067e+03,\n",
       "        1.58956933e+03, 1.58982253e+03, 1.59006118e+03, 1.59028610e+03,\n",
       "        1.59049808e+03, 1.59069786e+03, 1.59088615e+03, 1.59106360e+03,\n",
       "        1.59123084e+03, 1.59138845e+03, 1.59153699e+03, 1.59167698e+03,\n",
       "        1.59180890e+03, 1.59193323e+03, 1.59205040e+03, 1.59216082e+03,\n",
       "        1.59226488e+03, 1.59236295e+03, 1.59245537e+03, 1.59254246e+03,\n",
       "        1.59262454e+03, 1.59270188e+03, 1.59277477e+03, 1.59284347e+03,\n",
       "        1.59290820e+03, 1.59296920e+03, 1.59302669e+03, 1.59308086e+03]])"
      ]
     },
     "execution_count": 19,
     "metadata": {},
     "output_type": "execute_result"
    }
   ],
   "source": [
    "covid_model.T # Check the first row of the transposed covid_model matrix"
   ]
  },
  {
   "cell_type": "code",
   "execution_count": 20,
   "metadata": {},
   "outputs": [],
   "source": [
    "# Put them in a dataset for better view\n",
    "sir_data = pd.DataFrame({\n",
    "    'susceptible': S,\n",
    "    'infected': I,\n",
    "    'recovered': R,\n",
    "    'days': t\n",
    "})"
   ]
  },
  {
   "cell_type": "code",
   "execution_count": 21,
   "metadata": {},
   "outputs": [
    {
     "data": {
      "text/html": [
       "<div>\n",
       "<style scoped>\n",
       "    .dataframe tbody tr th:only-of-type {\n",
       "        vertical-align: middle;\n",
       "    }\n",
       "\n",
       "    .dataframe tbody tr th {\n",
       "        vertical-align: top;\n",
       "    }\n",
       "\n",
       "    .dataframe thead th {\n",
       "        text-align: right;\n",
       "    }\n",
       "</style>\n",
       "<table border=\"1\" class=\"dataframe\">\n",
       "  <thead>\n",
       "    <tr style=\"text-align: right;\">\n",
       "      <th></th>\n",
       "      <th>susceptible</th>\n",
       "      <th>infected</th>\n",
       "      <th>recovered</th>\n",
       "      <th>days</th>\n",
       "    </tr>\n",
       "  </thead>\n",
       "  <tbody>\n",
       "    <tr>\n",
       "      <th>0</th>\n",
       "      <td>1999.000000</td>\n",
       "      <td>1.000000</td>\n",
       "      <td>0.000000</td>\n",
       "      <td>0</td>\n",
       "    </tr>\n",
       "    <tr>\n",
       "      <th>1</th>\n",
       "      <td>1998.789786</td>\n",
       "      <td>1.105049</td>\n",
       "      <td>0.105165</td>\n",
       "      <td>1</td>\n",
       "    </tr>\n",
       "    <tr>\n",
       "      <th>2</th>\n",
       "      <td>1998.557517</td>\n",
       "      <td>1.221106</td>\n",
       "      <td>0.221377</td>\n",
       "      <td>2</td>\n",
       "    </tr>\n",
       "    <tr>\n",
       "      <th>3</th>\n",
       "      <td>1998.300889</td>\n",
       "      <td>1.349319</td>\n",
       "      <td>0.349792</td>\n",
       "      <td>3</td>\n",
       "    </tr>\n",
       "    <tr>\n",
       "      <th>4</th>\n",
       "      <td>1998.017358</td>\n",
       "      <td>1.490954</td>\n",
       "      <td>0.491688</td>\n",
       "      <td>4</td>\n",
       "    </tr>\n",
       "    <tr>\n",
       "      <th>...</th>\n",
       "      <td>...</td>\n",
       "      <td>...</td>\n",
       "      <td>...</td>\n",
       "      <td>...</td>\n",
       "    </tr>\n",
       "    <tr>\n",
       "      <th>195</th>\n",
       "      <td>406.489813</td>\n",
       "      <td>0.666722</td>\n",
       "      <td>1592.843465</td>\n",
       "      <td>195</td>\n",
       "    </tr>\n",
       "    <tr>\n",
       "      <th>196</th>\n",
       "      <td>406.463501</td>\n",
       "      <td>0.628302</td>\n",
       "      <td>1592.908197</td>\n",
       "      <td>196</td>\n",
       "    </tr>\n",
       "    <tr>\n",
       "      <th>197</th>\n",
       "      <td>406.438706</td>\n",
       "      <td>0.592094</td>\n",
       "      <td>1592.969199</td>\n",
       "      <td>197</td>\n",
       "    </tr>\n",
       "    <tr>\n",
       "      <th>198</th>\n",
       "      <td>406.415342</td>\n",
       "      <td>0.557972</td>\n",
       "      <td>1593.026686</td>\n",
       "      <td>198</td>\n",
       "    </tr>\n",
       "    <tr>\n",
       "      <th>199</th>\n",
       "      <td>406.393326</td>\n",
       "      <td>0.525815</td>\n",
       "      <td>1593.080859</td>\n",
       "      <td>199</td>\n",
       "    </tr>\n",
       "  </tbody>\n",
       "</table>\n",
       "<p>200 rows × 4 columns</p>\n",
       "</div>"
      ],
      "text/plain": [
       "     susceptible  infected    recovered  days\n",
       "0    1999.000000  1.000000     0.000000     0\n",
       "1    1998.789786  1.105049     0.105165     1\n",
       "2    1998.557517  1.221106     0.221377     2\n",
       "3    1998.300889  1.349319     0.349792     3\n",
       "4    1998.017358  1.490954     0.491688     4\n",
       "..           ...       ...          ...   ...\n",
       "195   406.489813  0.666722  1592.843465   195\n",
       "196   406.463501  0.628302  1592.908197   196\n",
       "197   406.438706  0.592094  1592.969199   197\n",
       "198   406.415342  0.557972  1593.026686   198\n",
       "199   406.393326  0.525815  1593.080859   199\n",
       "\n",
       "[200 rows x 4 columns]"
      ]
     },
     "execution_count": 21,
     "metadata": {},
     "output_type": "execute_result"
    }
   ],
   "source": [
    "sir_data # Now the above generated variables are in the following tables"
   ]
  },
  {
   "cell_type": "code",
   "execution_count": 22,
   "metadata": {},
   "outputs": [
    {
     "data": {
      "text/plain": [
       "<matplotlib.axes._subplots.AxesSubplot at 0x7f9f20f2c730>"
      ]
     },
     "execution_count": 22,
     "metadata": {},
     "output_type": "execute_result"
    },
    {
     "data": {
      "image/png": "[encoded data removed]",
      "text/plain": [
       "<Figure size 432x288 with 1 Axes>"
      ]
     },
     "metadata": {},
     "output_type": "display_data"
    }
   ],
   "source": [
    "plt.style.use('ggplot')\n",
    "sir_data.plot(x='days',\n",
    "             y=['susceptible','infected','recovered'],\n",
    "             kind ='area',\n",
    "             stacked = False)"
   ]
  },
  {
   "cell_type": "markdown",
   "metadata": {},
   "source": [
    "If we change $\\beta$ to a smaller level (try it by yourself!), we can see the infected curve is getting flattened. This is the idea of having the governmental orders like shelter-in-place, because it reduced the effective contact rate."
   ]
  },
  {
   "cell_type": "markdown",
   "metadata": {},
   "source": [
    "## 3.1 Expectation of the homework question\n",
    "\n",
    "* select a state, assume that there's no spillover (indicate your assumption) of case infection outside the state, and there're relatively stable people-contact rates. \n",
    "* Use the total population (2019) of the state as N, use infected = 1 as the intial stage. Set recovered_0 = 0. Susceptible = N - infected - recovered. \n",
    "\n",
    "* Find R0 for the state you selected. Recall: R0 = beta/gamma. Gamma = 1/days = 1/14 (find your own number with a citation). beta_CT = R0_CT/gamma. \n",
    "\n",
    "* Change beta to a lower rate after shelter-in-place or stay-at-home order. \n",
    "\n",
    "* Compare with the infected curve in real life (plot of cases by date for the specific state). And think why?\n",
    "- spillover across the state\n",
    "- different contact rate\n",
    "- etc. \n",
    "\n",
    "Why SIR might be not the perfect model under covid."
   ]
  }
 ],
 "metadata": {
  "kernelspec": {
   "display_name": "Python 3",
   "language": "python",
   "name": "python3"
  },
  "language_info": {
   "codemirror_mode": {
    "name": "ipython",
    "version": 3
   },
   "file_extension": ".py",
   "mimetype": "text/x-python",
   "name": "python",
   "nbconvert_exporter": "python",
   "pygments_lexer": "ipython3",
   "version": "3.8.3"
  }
 },
 "nbformat": 4,
 "nbformat_minor": 4
}
